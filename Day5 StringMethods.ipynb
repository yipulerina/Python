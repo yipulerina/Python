{
 "cells": [
  {
   "cell_type": "code",
   "execution_count": 2,
   "id": "8d317935",
   "metadata": {},
   "outputs": [
    {
     "name": "stdout",
     "output_type": "stream",
     "text": [
      "Type in a name: here\n",
      "you have entered here\n"
     ]
    }
   ],
   "source": [
    "name = input(\"Type in a name: \")\n",
    "print(f\"you have entered {name}\")"
   ]
  },
  {
   "cell_type": "code",
   "execution_count": 4,
   "id": "f83d006d",
   "metadata": {},
   "outputs": [
    {
     "name": "stdout",
     "output_type": "stream",
     "text": [
      "Name: Here\n",
      "Place: nowhere\n",
      "year_of_birth: 1980\n",
      "\n",
      "My name is: Here\n",
      "I live in: nowhere\n",
      "Here is of age: 42\n",
      "\n"
     ]
    }
   ],
   "source": [
    "name = input(\"Name: \")\n",
    "place = input(\"Place: \")\n",
    "year_of_birth = input(\"year_of_birth: \")\n",
    "\n",
    "age= 2022 - int(year_of_birth)\n",
    "\n",
    "print(f\"\"\"\n",
    "My name is: {name}\n",
    "I live in: {place}\n",
    "{name} is of age: {age}\n",
    "\"\"\")"
   ]
  },
  {
   "cell_type": "code",
   "execution_count": 6,
   "id": "9b913401",
   "metadata": {},
   "outputs": [
    {
     "name": "stdout",
     "output_type": "stream",
     "text": [
      "data type before: <class 'str'>, value of: \n",
      "data type after: <class 'bool'>, value of: False\n"
     ]
    }
   ],
   "source": [
    "A= \"\"\n",
    "print(f\"data type before: {type(A)}, value of: {A}\")\n",
    "A= bool(A)\n",
    "print(f\"data type after: {type(A)}, value of: {A}\")"
   ]
  },
  {
   "cell_type": "code",
   "execution_count": 7,
   "id": "082e4fba",
   "metadata": {},
   "outputs": [
    {
     "name": "stdout",
     "output_type": "stream",
     "text": [
      "data type before: <class 'str'>, value of:  \n",
      "data type after: <class 'bool'>, value of: True\n"
     ]
    }
   ],
   "source": [
    "A= \" \"\n",
    "print(f\"data type before: {type(A)}, value of: {A}\")\n",
    "A= bool(A)\n",
    "print(f\"data type after: {type(A)}, value of: {A}\")"
   ]
  },
  {
   "cell_type": "code",
   "execution_count": 1,
   "id": "3b9b0c1e",
   "metadata": {},
   "outputs": [
    {
     "data": {
      "text/plain": [
       "False"
      ]
     },
     "execution_count": 1,
     "metadata": {},
     "output_type": "execute_result"
    }
   ],
   "source": [
    "A = [\"Sunny\", \"Rishav\"]  # list data structure # array in other language\n",
    "B = [\"Sunny\", \"Rishav\"]  # list data structure\n",
    "A is B"
   ]
  },
  {
   "cell_type": "code",
   "execution_count": 2,
   "id": "6ffff711",
   "metadata": {},
   "outputs": [
    {
     "name": "stdout",
     "output_type": "stream",
     "text": [
      "55 is not divisible by 2\n"
     ]
    }
   ],
   "source": [
    "A = 55\n",
    "B= 2\n",
    "\n",
    "if A % B == 0:\n",
    "    print(f\"{A} is divisible by {B}\")\n",
    "else:\n",
    "    print(f\"{A} is not divisible by {B}\")"
   ]
  },
  {
   "cell_type": "code",
   "execution_count": 5,
   "id": "e3a82687",
   "metadata": {},
   "outputs": [
    {
     "data": {
      "text/plain": [
       "3.0"
      ]
     },
     "execution_count": 5,
     "metadata": {},
     "output_type": "execute_result"
    }
   ],
   "source": [
    "A = 9\n",
    "A**(1/2)"
   ]
  },
  {
   "cell_type": "code",
   "execution_count": 14,
   "id": "ba52ed5e",
   "metadata": {},
   "outputs": [
    {
     "name": "stdout",
     "output_type": "stream",
     "text": [
      "The Nobody was born in the month of 10 in the year: 2022 on date: 07/10/2022\n"
     ]
    }
   ],
   "source": [
    "date = \"07/10/2022\"\n",
    "user = \"Nobody\"\n",
    "\n",
    "today_s_date = date[0:2]\n",
    "month = date[3:5]\n",
    "year = date[6:]\n",
    "\n",
    "print(f\"The {user} was born in the month of {month} in the year: {year} on date: {date}\")\n"
   ]
  },
  {
   "cell_type": "code",
   "execution_count": 19,
   "id": "c4f578a4",
   "metadata": {},
   "outputs": [
    {
     "name": "stdout",
     "output_type": "stream",
     "text": [
      "enter date of birth in the format dd/mmm/yyyy02/Mar/1980\n",
      "Nobody was born in the month of Mar in the year: 1980 on date: 02\n"
     ]
    }
   ],
   "source": [
    "data = input(\"enter date of birth in the format dd/mmm/yyyy\")\n",
    "\n",
    "date = data[0:2]\n",
    "month = data[3:6]\n",
    "year = data[7:]\n",
    "\n",
    "print(f\"{user} was born in the month of {month} in the year: {year} on date: {date}\")"
   ]
  },
  {
   "cell_type": "code",
   "execution_count": 22,
   "id": "06cb82f1",
   "metadata": {},
   "outputs": [
    {
     "name": "stdout",
     "output_type": "stream",
     "text": [
      "input a string: radar\n",
      "input string: radar is a palindrome\n"
     ]
    }
   ],
   "source": [
    "data = input(\"input a string: \")\n",
    "reverse = data[::-1]\n",
    "\n",
    "if data == reverse:\n",
    "    print(f\"input string: {data} is a palindrome\")\n",
    "else:\n",
    "    print(f\"input string: {data} is not a palindrome\")"
   ]
  },
  {
   "cell_type": "code",
   "execution_count": 23,
   "id": "04286a72",
   "metadata": {},
   "outputs": [
    {
     "name": "stdout",
     "output_type": "stream",
     "text": [
      "input a string: nobody\n",
      "input string: nobody is not a palindrome\n"
     ]
    }
   ],
   "source": [
    "data = input(\"input a string: \")\n",
    "reverse = data[::-1]\n",
    "\n",
    "if data == reverse:\n",
    "    print(f\"input string: {data} is a palindrome\")\n",
    "else:\n",
    "    print(f\"input string: {data} is not a palindrome\")"
   ]
  },
  {
   "cell_type": "code",
   "execution_count": 1,
   "id": "5866121f",
   "metadata": {},
   "outputs": [
    {
     "name": "stdout",
     "output_type": "stream",
     "text": [
      "Enter your phone no: 9455668124\n",
      "user input is correct\n"
     ]
    }
   ],
   "source": [
    "phone_number = input(\"Enter your phone no: \")\n",
    "\n",
    "if phone_number.isdigit() and len(phone_number) == 10:\n",
    "    print(f\"user input is correct\")\n",
    "else:\n",
    "    print(\"invalid input\")"
   ]
  },
  {
   "cell_type": "code",
   "execution_count": 2,
   "id": "a3eda75f",
   "metadata": {},
   "outputs": [
    {
     "name": "stdout",
     "output_type": "stream",
     "text": [
      "Enter your phone no: 0000000000\n",
      "invalid input\n"
     ]
    }
   ],
   "source": [
    "phone_number = input(\"Enter your phone no: \")\n",
    "\n",
    "if phone_number.isdigit() and len(phone_number) == 10 and phone_number != \"0000000000\":\n",
    "  print(f\"user input is correct\")\n",
    "else:\n",
    "  print(\"invalid input\")"
   ]
  },
  {
   "cell_type": "code",
   "execution_count": 3,
   "id": "2dc72e54",
   "metadata": {},
   "outputs": [
    {
     "data": {
      "text/plain": [
       "True"
      ]
     },
     "execution_count": 3,
     "metadata": {},
     "output_type": "execute_result"
    }
   ],
   "source": [
    "phone_number.startswith(\"0\")"
   ]
  },
  {
   "cell_type": "code",
   "execution_count": 4,
   "id": "8fd32018",
   "metadata": {},
   "outputs": [
    {
     "data": {
      "text/plain": [
       "True"
      ]
     },
     "execution_count": 4,
     "metadata": {},
     "output_type": "execute_result"
    }
   ],
   "source": [
    "phone_number.endswith(\"0\")"
   ]
  },
  {
   "cell_type": "code",
   "execution_count": 5,
   "id": "0144fe3e",
   "metadata": {},
   "outputs": [
    {
     "data": {
      "text/plain": [
       "True"
      ]
     },
     "execution_count": 5,
     "metadata": {},
     "output_type": "execute_result"
    }
   ],
   "source": [
    "phone_number = \"+917000561230\"\n",
    "\n",
    "phone_number.startswith(\"+91\")"
   ]
  },
  {
   "cell_type": "code",
   "execution_count": 6,
   "id": "698d8342",
   "metadata": {},
   "outputs": [
    {
     "data": {
      "text/plain": [
       "'917000561230'"
      ]
     },
     "execution_count": 6,
     "metadata": {},
     "output_type": "execute_result"
    }
   ],
   "source": [
    "phone_number[1:]"
   ]
  },
  {
   "cell_type": "code",
   "execution_count": 7,
   "id": "d7e1aab3",
   "metadata": {},
   "outputs": [
    {
     "data": {
      "text/plain": [
       "True"
      ]
     },
     "execution_count": 7,
     "metadata": {},
     "output_type": "execute_result"
    }
   ],
   "source": [
    "phone_number[1:].isdigit()"
   ]
  },
  {
   "cell_type": "code",
   "execution_count": 8,
   "id": "94a2ce1d",
   "metadata": {},
   "outputs": [
    {
     "data": {
      "text/plain": [
       "True"
      ]
     },
     "execution_count": 8,
     "metadata": {},
     "output_type": "execute_result"
    }
   ],
   "source": [
    "len(phone_number)==13"
   ]
  },
  {
   "cell_type": "code",
   "execution_count": 11,
   "id": "163d4a7e",
   "metadata": {},
   "outputs": [
    {
     "data": {
      "text/plain": [
       "10"
      ]
     },
     "execution_count": 11,
     "metadata": {},
     "output_type": "execute_result"
    }
   ],
   "source": [
    "phone_number = \"+910000000000\"\n",
    "\n",
    "phone_number.count(\"0\")"
   ]
  },
  {
   "cell_type": "code",
   "execution_count": 13,
   "id": "090fa07f",
   "metadata": {},
   "outputs": [
    {
     "name": "stdout",
     "output_type": "stream",
     "text": [
      "Enter your Indian phone no: +914567891581\n",
      "user input is correct\n"
     ]
    }
   ],
   "source": [
    "phone_number = input(\"Enter your Indian phone no: \")\n",
    "if phone_number.startswith(\"+91\") and phone_number[1:].isdigit() and len(phone_number)==13:\n",
    "    print(f\"user input is correct\")\n",
    "else:\n",
    "    print(\"invalid input\")"
   ]
  },
  {
   "cell_type": "code",
   "execution_count": 14,
   "id": "8b9162ee",
   "metadata": {},
   "outputs": [
    {
     "name": "stdout",
     "output_type": "stream",
     "text": [
      "Enter your Indian phone no: +92564854684\n",
      "invalid input\n"
     ]
    }
   ],
   "source": [
    "phone_number = input(\"Enter your Indian phone no: \")\n",
    "if phone_number.startswith(\"+91\") and phone_number[1:].isdigit() and len(phone_number)==13:\n",
    "    print(f\"user input is correct\")\n",
    "else:\n",
    "    print(\"invalid input\")"
   ]
  },
  {
   "cell_type": "code",
   "execution_count": 15,
   "id": "c90cd569",
   "metadata": {},
   "outputs": [
    {
     "data": {
      "text/plain": [
       "True"
      ]
     },
     "execution_count": 15,
     "metadata": {},
     "output_type": "execute_result"
    }
   ],
   "source": [
    "PAN_NUMBERS = \"AYECC5656X\"\n",
    "PAN_NUMBERS.isalnum() # Check for alpha numeric case"
   ]
  },
  {
   "cell_type": "code",
   "execution_count": 16,
   "id": "0f46baaf",
   "metadata": {},
   "outputs": [
    {
     "data": {
      "text/plain": [
       "True"
      ]
     },
     "execution_count": 16,
     "metadata": {},
     "output_type": "execute_result"
    }
   ],
   "source": [
    "PAN_NUMBERS = \"789789789\"\n",
    "PAN_NUMBERS.isalnum() # Check for alphabets or numeric case"
   ]
  },
  {
   "cell_type": "code",
   "execution_count": 17,
   "id": "f8ba6a1f",
   "metadata": {},
   "outputs": [
    {
     "data": {
      "text/plain": [
       "True"
      ]
     },
     "execution_count": 17,
     "metadata": {},
     "output_type": "execute_result"
    }
   ],
   "source": [
    "PAN_NUMBERS = \"Nobody\"\n",
    "PAN_NUMBERS.isalnum() # Check for alphabets or numeric case"
   ]
  },
  {
   "cell_type": "code",
   "execution_count": 18,
   "id": "cdb88057",
   "metadata": {},
   "outputs": [
    {
     "data": {
      "text/plain": [
       "False"
      ]
     },
     "execution_count": 18,
     "metadata": {},
     "output_type": "execute_result"
    }
   ],
   "source": [
    "PAN_NUMBERS = \"Nobody someobody\" #contains space\n",
    "PAN_NUMBERS.isalnum()"
   ]
  },
  {
   "cell_type": "code",
   "execution_count": 19,
   "id": "f5f0b6ad",
   "metadata": {},
   "outputs": [
    {
     "data": {
      "text/plain": [
       "False"
      ]
     },
     "execution_count": 19,
     "metadata": {},
     "output_type": "execute_result"
    }
   ],
   "source": [
    "PAN_NUMBERS = \"Nobody**someobody\" \n",
    "PAN_NUMBERS.isalnum()"
   ]
  },
  {
   "cell_type": "code",
   "execution_count": null,
   "id": "a73b9d41",
   "metadata": {},
   "outputs": [],
   "source": []
  },
  {
   "cell_type": "code",
   "execution_count": null,
   "id": "d0b69977",
   "metadata": {},
   "outputs": [],
   "source": []
  },
  {
   "cell_type": "code",
   "execution_count": null,
   "id": "931f838a",
   "metadata": {},
   "outputs": [],
   "source": []
  },
  {
   "cell_type": "code",
   "execution_count": null,
   "id": "c79eb35d",
   "metadata": {},
   "outputs": [],
   "source": []
  },
  {
   "cell_type": "code",
   "execution_count": null,
   "id": "91e3d746",
   "metadata": {},
   "outputs": [],
   "source": []
  },
  {
   "cell_type": "code",
   "execution_count": null,
   "id": "814216fd",
   "metadata": {},
   "outputs": [],
   "source": []
  }
 ],
 "metadata": {
  "kernelspec": {
   "display_name": "Python 3 (ipykernel)",
   "language": "python",
   "name": "python3"
  },
  "language_info": {
   "codemirror_mode": {
    "name": "ipython",
    "version": 3
   },
   "file_extension": ".py",
   "mimetype": "text/x-python",
   "name": "python",
   "nbconvert_exporter": "python",
   "pygments_lexer": "ipython3",
   "version": "3.9.12"
  }
 },
 "nbformat": 4,
 "nbformat_minor": 5
}
