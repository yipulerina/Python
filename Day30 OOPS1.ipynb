{
 "cells": [
  {
   "cell_type": "code",
   "execution_count": 26,
   "id": "c6e0db71",
   "metadata": {},
   "outputs": [],
   "source": [
    "class car:\n",
    "    def __init__(self, body_type, engine, fuel_type) :\n",
    "        self.body_type = body_type\n",
    "        self.engine = engine\n",
    "        self.fuel_type = fuel_type\n",
    "    \n",
    "    def test(self):\n",
    "        print(\"this is my first method in my car class\")"
   ]
  },
  {
   "cell_type": "code",
   "execution_count": 6,
   "id": "a189cff2",
   "metadata": {},
   "outputs": [],
   "source": [
    "fortuner = car(\"SUV\", \"v12\", \"petrol\")"
   ]
  },
  {
   "cell_type": "code",
   "execution_count": 9,
   "id": "01efdeae",
   "metadata": {},
   "outputs": [
    {
     "data": {
      "text/plain": [
       "'SUV'"
      ]
     },
     "execution_count": 9,
     "metadata": {},
     "output_type": "execute_result"
    }
   ],
   "source": [
    "fortuner.body_type"
   ]
  },
  {
   "cell_type": "code",
   "execution_count": 10,
   "id": "66ac359a",
   "metadata": {},
   "outputs": [],
   "source": [
    "nexon = car(\"Suv\", \"abc\", \"petrol\")"
   ]
  },
  {
   "cell_type": "code",
   "execution_count": 22,
   "id": "d2102c45",
   "metadata": {},
   "outputs": [],
   "source": [
    "class car:\n",
    "    def __init__(hey, body_type, engine, fuel_type) :\n",
    "        hey.a = body_type\n",
    "        hey.b = engine\n",
    "        hey.c = fuel_type\n",
    "    "
   ]
  },
  {
   "cell_type": "code",
   "execution_count": 23,
   "id": "235eed32",
   "metadata": {},
   "outputs": [],
   "source": [
    "fortuner = car(\"SUV\", \"v12\", \"petrol\")"
   ]
  },
  {
   "cell_type": "code",
   "execution_count": 25,
   "id": "87b36c3d",
   "metadata": {},
   "outputs": [
    {
     "data": {
      "text/plain": [
       "'SUV'"
      ]
     },
     "execution_count": 25,
     "metadata": {},
     "output_type": "execute_result"
    }
   ],
   "source": [
    "fortuner.a"
   ]
  },
  {
   "cell_type": "code",
   "execution_count": 21,
   "id": "28aad304",
   "metadata": {},
   "outputs": [
    {
     "name": "stdout",
     "output_type": "stream",
     "text": [
      "this is my first method in my car class\n"
     ]
    }
   ],
   "source": [
    "fortuner.test()"
   ]
  },
  {
   "cell_type": "code",
   "execution_count": 27,
   "id": "06931f79",
   "metadata": {},
   "outputs": [],
   "source": [
    "class car:\n",
    "    \n",
    "    def test(here):\n",
    "        print(\"this is my car class\")"
   ]
  },
  {
   "cell_type": "code",
   "execution_count": 28,
   "id": "f5208205",
   "metadata": {},
   "outputs": [],
   "source": [
    "x = car()"
   ]
  },
  {
   "cell_type": "code",
   "execution_count": 31,
   "id": "ed429155",
   "metadata": {},
   "outputs": [
    {
     "name": "stdout",
     "output_type": "stream",
     "text": [
      "this is my car class\n"
     ]
    }
   ],
   "source": [
    "x.test()"
   ]
  },
  {
   "cell_type": "code",
   "execution_count": 32,
   "id": "c21ad05c",
   "metadata": {},
   "outputs": [
    {
     "name": "stdout",
     "output_type": "stream",
     "text": [
      "this is my car class\n"
     ]
    }
   ],
   "source": [
    "car().test()"
   ]
  },
  {
   "cell_type": "code",
   "execution_count": 36,
   "id": "b526892d",
   "metadata": {},
   "outputs": [],
   "source": [
    "class list_parser:\n",
    "    \n",
    "    def parcer(self,a):\n",
    "        if type(a)== list:\n",
    "            for i in a:\n",
    "                print(i)\n",
    "    \n",
    "    def reverse_list(self,z):\n",
    "        if type(z) == list:\n",
    "            return z[::-1]"
   ]
  },
  {
   "cell_type": "code",
   "execution_count": 37,
   "id": "1397d277",
   "metadata": {},
   "outputs": [
    {
     "name": "stdout",
     "output_type": "stream",
     "text": [
      "1\n",
      "2\n",
      "3\n",
      "4\n",
      "5\n"
     ]
    }
   ],
   "source": [
    "c = list_parser()\n",
    "c.parcer([1,2,3,4,5])"
   ]
  },
  {
   "cell_type": "code",
   "execution_count": 38,
   "id": "1da95fe9",
   "metadata": {},
   "outputs": [
    {
     "data": {
      "text/plain": [
       "[5, 4, 3, 2, 1]"
      ]
     },
     "execution_count": 38,
     "metadata": {},
     "output_type": "execute_result"
    }
   ],
   "source": [
    "c.reverse_list([1,2,3,4,5])"
   ]
  },
  {
   "cell_type": "code",
   "execution_count": 50,
   "id": "8cc802f3",
   "metadata": {},
   "outputs": [],
   "source": [
    "class list_parcer:\n",
    "    def __init__(self, l):\n",
    "        self.l = l\n",
    "        \n",
    "    def parcer(self):\n",
    "        if type(self.l)== list:\n",
    "            for i in self.l:\n",
    "                print(i)\n",
    "                \n",
    "    def reverse_list(self):\n",
    "        if type(self.l) == list:\n",
    "             return self.l[::-1]\n",
    "            "
   ]
  },
  {
   "cell_type": "code",
   "execution_count": 51,
   "id": "363b27da",
   "metadata": {},
   "outputs": [],
   "source": [
    "x = list_parcer([1,2,3,4,5,6])"
   ]
  },
  {
   "cell_type": "code",
   "execution_count": 52,
   "id": "23ffa624",
   "metadata": {},
   "outputs": [
    {
     "name": "stdout",
     "output_type": "stream",
     "text": [
      "1\n",
      "2\n",
      "3\n",
      "4\n",
      "5\n",
      "6\n"
     ]
    }
   ],
   "source": [
    "x.parcer()"
   ]
  },
  {
   "cell_type": "code",
   "execution_count": 53,
   "id": "4293d095",
   "metadata": {},
   "outputs": [
    {
     "data": {
      "text/plain": [
       "[6, 5, 4, 3, 2, 1]"
      ]
     },
     "execution_count": 53,
     "metadata": {},
     "output_type": "execute_result"
    }
   ],
   "source": [
    "x.reverse_list()"
   ]
  },
  {
   "cell_type": "code",
   "execution_count": null,
   "id": "f1261f2f",
   "metadata": {},
   "outputs": [],
   "source": [
    "Create a class for dictionary parsing \n",
    "\n",
    "1.  write a func to give all the keys\n",
    "2.  write a func to give all the values\n",
    "3.  write a func to throw an exception in case of input is not dictionary\n",
    "4. write a func for taking user input and then parse a key and value out of a dictionary.\n",
    "5. write a func to insert new key value pair into dictionary."
   ]
  },
  {
   "cell_type": "code",
   "execution_count": 115,
   "id": "57525a67",
   "metadata": {},
   "outputs": [],
   "source": [
    "class dict_parser:\n",
    "    \n",
    "    def __init__(self, a):\n",
    "        self.a = a\n",
    "        \n",
    "    def get_keys(self):\n",
    "        if self.check_dict():\n",
    "            return list(self.a.keys())\n",
    "    \n",
    "    def get_values(self):\n",
    "        if self.check_dict():\n",
    "            return list(self.a.values())\n",
    "        \n",
    "    def check_dict(self):\n",
    "        if type(self.a)!= dict:\n",
    "            raise Exception(self.a,\"Not a dictionary\")\n",
    "        return 1\n",
    "    \n",
    "    def user_input(self):\n",
    "        self.a = eval(input())\n",
    "        print(self.a, type(self.a))\n",
    "        print(self.get_keys())\n",
    "        print(self.get_values())\n",
    "        \n",
    "    def insertion(self, k, v):\n",
    "        self.a[k]=v\n",
    "        \n",
    "\n",
    "    "
   ]
  },
  {
   "cell_type": "code",
   "execution_count": 127,
   "id": "901feb84",
   "metadata": {},
   "outputs": [],
   "source": [
    "d = dict_parser({\"k\":\"here\", \"v\":[1,2,3,4,5,6]})"
   ]
  },
  {
   "cell_type": "code",
   "execution_count": 128,
   "id": "5244b098",
   "metadata": {},
   "outputs": [
    {
     "data": {
      "text/plain": [
       "['k', 'v']"
      ]
     },
     "execution_count": 128,
     "metadata": {},
     "output_type": "execute_result"
    }
   ],
   "source": [
    "d.get_keys()"
   ]
  },
  {
   "cell_type": "code",
   "execution_count": 129,
   "id": "78ac9273",
   "metadata": {},
   "outputs": [
    {
     "data": {
      "text/plain": [
       "['here', [1, 2, 3, 4, 5, 6]]"
      ]
     },
     "execution_count": 129,
     "metadata": {},
     "output_type": "execute_result"
    }
   ],
   "source": [
    "d.get_values()"
   ]
  },
  {
   "cell_type": "code",
   "execution_count": 130,
   "id": "d48f2127",
   "metadata": {},
   "outputs": [
    {
     "data": {
      "text/plain": [
       "1"
      ]
     },
     "execution_count": 130,
     "metadata": {},
     "output_type": "execute_result"
    }
   ],
   "source": [
    "d.check_dict()"
   ]
  },
  {
   "cell_type": "code",
   "execution_count": 131,
   "id": "cdec98c4",
   "metadata": {},
   "outputs": [
    {
     "name": "stdout",
     "output_type": "stream",
     "text": [
      "{\"d\":[1,2,3,4],\"v\":\"sfg\"}\n",
      "{'d': [1, 2, 3, 4], 'v': 'sfg'} <class 'dict'>\n",
      "['d', 'v']\n",
      "[[1, 2, 3, 4], 'sfg']\n"
     ]
    }
   ],
   "source": [
    "d.user_input()"
   ]
  },
  {
   "cell_type": "code",
   "execution_count": 132,
   "id": "fd2a71f0",
   "metadata": {},
   "outputs": [],
   "source": [
    "d.insertion(2,3)"
   ]
  },
  {
   "cell_type": "code",
   "execution_count": 133,
   "id": "23939000",
   "metadata": {},
   "outputs": [
    {
     "data": {
      "text/plain": [
       "[[1, 2, 3, 4], 'sfg', 3]"
      ]
     },
     "execution_count": 133,
     "metadata": {},
     "output_type": "execute_result"
    }
   ],
   "source": [
    "d.get_values()"
   ]
  },
  {
   "cell_type": "code",
   "execution_count": 134,
   "id": "1da9be87",
   "metadata": {},
   "outputs": [
    {
     "data": {
      "text/plain": [
       "['d', 'v', 2]"
      ]
     },
     "execution_count": 134,
     "metadata": {},
     "output_type": "execute_result"
    }
   ],
   "source": [
    "d.get_keys()"
   ]
  },
  {
   "cell_type": "code",
   "execution_count": 135,
   "id": "0dae54bc",
   "metadata": {},
   "outputs": [
    {
     "data": {
      "text/plain": [
       "<_io.TextIOWrapper name='mydict.py' mode='w' encoding='cp1252'>"
      ]
     },
     "execution_count": 135,
     "metadata": {},
     "output_type": "execute_result"
    }
   ],
   "source": [
    "open(\"mydict.py\", \"w\")"
   ]
  },
  {
   "cell_type": "code",
   "execution_count": 137,
   "id": "219d5343",
   "metadata": {},
   "outputs": [],
   "source": [
    "import mydict\n"
   ]
  },
  {
   "cell_type": "code",
   "execution_count": 138,
   "id": "e2e9bdf4",
   "metadata": {},
   "outputs": [
    {
     "data": {
      "text/plain": [
       "mydict.dict_parser"
      ]
     },
     "execution_count": 138,
     "metadata": {},
     "output_type": "execute_result"
    }
   ],
   "source": [
    "mydict.dict_parser"
   ]
  },
  {
   "cell_type": "code",
   "execution_count": 143,
   "id": "e15c51ca",
   "metadata": {},
   "outputs": [],
   "source": [
    "d = mydict.dict_parser({\"k\":\"here\",\"s\": \"nope\"})"
   ]
  },
  {
   "cell_type": "code",
   "execution_count": 144,
   "id": "dd583618",
   "metadata": {},
   "outputs": [
    {
     "data": {
      "text/plain": [
       "['k', 's']"
      ]
     },
     "execution_count": 144,
     "metadata": {},
     "output_type": "execute_result"
    }
   ],
   "source": [
    "d.get_keys()"
   ]
  },
  {
   "cell_type": "code",
   "execution_count": 145,
   "id": "511658e8",
   "metadata": {},
   "outputs": [
    {
     "data": {
      "text/plain": [
       "['here', 'nope']"
      ]
     },
     "execution_count": 145,
     "metadata": {},
     "output_type": "execute_result"
    }
   ],
   "source": [
    "d.get_values()"
   ]
  },
  {
   "cell_type": "code",
   "execution_count": 146,
   "id": "8ebc5421",
   "metadata": {},
   "outputs": [],
   "source": [
    "from mydict import dict_parser"
   ]
  },
  {
   "cell_type": "code",
   "execution_count": 147,
   "id": "171517b4",
   "metadata": {},
   "outputs": [],
   "source": [
    "d1 = dict_parser({\"k\":\"here\",\"s\": \"nope\"})"
   ]
  },
  {
   "cell_type": "code",
   "execution_count": 148,
   "id": "cbc8b7e2",
   "metadata": {},
   "outputs": [
    {
     "data": {
      "text/plain": [
       "['k', 's']"
      ]
     },
     "execution_count": 148,
     "metadata": {},
     "output_type": "execute_result"
    }
   ],
   "source": [
    "d1.get_keys()"
   ]
  },
  {
   "cell_type": "code",
   "execution_count": null,
   "id": "77c8cc2f",
   "metadata": {},
   "outputs": [],
   "source": []
  }
 ],
 "metadata": {
  "kernelspec": {
   "display_name": "Python 3 (ipykernel)",
   "language": "python",
   "name": "python3"
  },
  "language_info": {
   "codemirror_mode": {
    "name": "ipython",
    "version": 3
   },
   "file_extension": ".py",
   "mimetype": "text/x-python",
   "name": "python",
   "nbconvert_exporter": "python",
   "pygments_lexer": "ipython3",
   "version": "3.9.12"
  }
 },
 "nbformat": 4,
 "nbformat_minor": 5
}
