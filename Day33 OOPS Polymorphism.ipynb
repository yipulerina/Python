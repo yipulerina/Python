{
 "cells": [
  {
   "cell_type": "code",
   "execution_count": 1,
   "id": "e2194875",
   "metadata": {},
   "outputs": [],
   "source": [
    "class insta:\n",
    "    def share_stories(self):\n",
    "        print(\"this will share my insta story\")\n",
    "        \n",
    "class facebook :\n",
    "    def share_stories(self):\n",
    "        print(\"this will share my facebook stories\")\n",
    "        \n",
    "        "
   ]
  },
  {
   "cell_type": "code",
   "execution_count": 2,
   "id": "6e5bb5af",
   "metadata": {},
   "outputs": [],
   "source": [
    "def sharestories(app):\n",
    "    app.share_stories()"
   ]
  },
  {
   "cell_type": "code",
   "execution_count": 3,
   "id": "d16c75cb",
   "metadata": {},
   "outputs": [],
   "source": [
    "i = insta()\n",
    "f = facebook()"
   ]
  },
  {
   "cell_type": "code",
   "execution_count": 6,
   "id": "7cb35c2e",
   "metadata": {},
   "outputs": [
    {
     "name": "stdout",
     "output_type": "stream",
     "text": [
      "this will share my insta story\n"
     ]
    }
   ],
   "source": [
    "#behaviour changes\n",
    "sharestories(i)"
   ]
  },
  {
   "cell_type": "code",
   "execution_count": 7,
   "id": "9d4e4b4e",
   "metadata": {},
   "outputs": [
    {
     "name": "stdout",
     "output_type": "stream",
     "text": [
      "this will share my facebook stories\n"
     ]
    }
   ],
   "source": [
    "sharestories(f)"
   ]
  },
  {
   "cell_type": "code",
   "execution_count": 11,
   "id": "91c40b94",
   "metadata": {},
   "outputs": [],
   "source": [
    "class social_media :\n",
    "    def share_stories(self):\n",
    "        print(\"share a story\")\n",
    "    \n",
    "    def upload_pic(self):\n",
    "        print(\"this will help you to upload pic on social media\")\n",
    "        \n",
    "\n",
    "class facebook(social_media):\n",
    "    def share_stories(self):\n",
    "        print(\"This will share story in facebook\")\n",
    "        \n",
    "class insta(social_media):\n",
    "    def share_stories(self):\n",
    "        print(\"This will print a story in insta\")"
   ]
  },
  {
   "cell_type": "code",
   "execution_count": 12,
   "id": "712e72aa",
   "metadata": {},
   "outputs": [],
   "source": [
    "f = facebook()\n",
    "i = insta()"
   ]
  },
  {
   "cell_type": "code",
   "execution_count": 13,
   "id": "18c03fef",
   "metadata": {},
   "outputs": [
    {
     "name": "stdout",
     "output_type": "stream",
     "text": [
      "This will share story in facebook\n"
     ]
    }
   ],
   "source": [
    "f.share_stories()"
   ]
  },
  {
   "cell_type": "code",
   "execution_count": 14,
   "id": "b1c125e1",
   "metadata": {},
   "outputs": [
    {
     "name": "stdout",
     "output_type": "stream",
     "text": [
      "This will print a story in insta\n"
     ]
    }
   ],
   "source": [
    "i.share_stories() "
   ]
  },
  {
   "cell_type": "code",
   "execution_count": 15,
   "id": "1b2db4c0",
   "metadata": {},
   "outputs": [
    {
     "name": "stdout",
     "output_type": "stream",
     "text": [
      "this will help you to upload pic on social media\n"
     ]
    }
   ],
   "source": [
    "f.upload_pic()"
   ]
  },
  {
   "cell_type": "code",
   "execution_count": 16,
   "id": "4bbcbace",
   "metadata": {},
   "outputs": [
    {
     "name": "stdout",
     "output_type": "stream",
     "text": [
      "this will help you to upload pic on social media\n"
     ]
    }
   ],
   "source": [
    "i.upload_pic()"
   ]
  },
  {
   "cell_type": "code",
   "execution_count": 17,
   "id": "62f4b51d",
   "metadata": {},
   "outputs": [],
   "source": [
    "class test(Exception):\n",
    "    def __init__(self, msg):\n",
    "        self.msg = msg"
   ]
  },
  {
   "cell_type": "code",
   "execution_count": 18,
   "id": "3844cef2",
   "metadata": {},
   "outputs": [
    {
     "name": "stdout",
     "output_type": "stream",
     "text": [
      "This is my custom exception class\n"
     ]
    }
   ],
   "source": [
    "try :\n",
    "    raise(test(\"This is my custom exception class\"))\n",
    "except test as t:\n",
    "    print(t)"
   ]
  },
  {
   "cell_type": "code",
   "execution_count": 20,
   "id": "8422619e",
   "metadata": {},
   "outputs": [
    {
     "ename": "ZeroDivisionError",
     "evalue": "division by zero",
     "output_type": "error",
     "traceback": [
      "\u001b[1;31m---------------------------------------------------------------------------\u001b[0m",
      "\u001b[1;31mZeroDivisionError\u001b[0m                         Traceback (most recent call last)",
      "Cell \u001b[1;32mIn[20], line 2\u001b[0m\n\u001b[0;32m      1\u001b[0m \u001b[38;5;28;01mtry\u001b[39;00m :\n\u001b[1;32m----> 2\u001b[0m     \u001b[38;5;241;43m5\u001b[39;49m\u001b[38;5;241;43m/\u001b[39;49m\u001b[38;5;241;43m0\u001b[39;49m\n\u001b[0;32m      3\u001b[0m     \u001b[38;5;28;01mraise\u001b[39;00m(test(\u001b[38;5;124m\"\u001b[39m\u001b[38;5;124mThis is my custom exception class\u001b[39m\u001b[38;5;124m\"\u001b[39m))\n\u001b[0;32m      4\u001b[0m \u001b[38;5;28;01mexcept\u001b[39;00m test \u001b[38;5;28;01mas\u001b[39;00m t:\n",
      "\u001b[1;31mZeroDivisionError\u001b[0m: division by zero"
     ]
    }
   ],
   "source": [
    "try :\n",
    "    5/0\n",
    "    raise(test(\"This is my custom exception class\"))\n",
    "except test as t:\n",
    "    print(t)"
   ]
  },
  {
   "cell_type": "code",
   "execution_count": 21,
   "id": "db89f01c",
   "metadata": {},
   "outputs": [
    {
     "name": "stdout",
     "output_type": "stream",
     "text": [
      "This is my custom exception class\n"
     ]
    }
   ],
   "source": [
    "try :\n",
    "    raise(test(\"This is my custom exception class\"))\n",
    "    5/0\n",
    "except test as t:\n",
    "    print(t)"
   ]
  },
  {
   "cell_type": "code",
   "execution_count": 22,
   "id": "e1ced923",
   "metadata": {},
   "outputs": [],
   "source": [
    "class test(Exception):\n",
    "    def __init__(self, msg, val):\n",
    "        self.msg = msg\n",
    "        self.val = val"
   ]
  },
  {
   "cell_type": "code",
   "execution_count": 23,
   "id": "f9dc71a1",
   "metadata": {},
   "outputs": [
    {
     "name": "stdout",
     "output_type": "stream",
     "text": [
      "('This is my custom exception class', 5)\n"
     ]
    }
   ],
   "source": [
    "try :\n",
    "    raise(test(\"This is my custom exception class\",5))\n",
    "    5/0\n",
    "except test as t:\n",
    "    print(t)"
   ]
  },
  {
   "cell_type": "code",
   "execution_count": 24,
   "id": "7354f865",
   "metadata": {},
   "outputs": [
    {
     "name": "stdout",
     "output_type": "stream",
     "text": [
      "('This is my custom exception class', 'test')\n"
     ]
    }
   ],
   "source": [
    "try :\n",
    "    raise(test(\"This is my custom exception class\",\"test\"))\n",
    "    5/0\n",
    "except test as t:\n",
    "    print(t)"
   ]
  },
  {
   "cell_type": "markdown",
   "id": "e5b3c242",
   "metadata": {},
   "source": [
    "1. Create your own class to achieve multiple, mulitlevel inheritance\n",
    "\n",
    "2. Create your own class to represent polymorphism\n",
    "\n",
    "3. Create your own class for custom exception\n",
    "\n",
    "4. Create your own class for achieving encapsulation\n",
    "\n",
    "5. Create your own class to achieve method overloading and overriding."
   ]
  },
  {
   "cell_type": "code",
   "execution_count": null,
   "id": "dc27aaf0",
   "metadata": {},
   "outputs": [],
   "source": [
    "\n",
    "# grandpa class\n",
    "class grandpa()\n",
    "    def grandpa_share(self):\n",
    "        print(\"multiple inheritance\")\n",
    "#dad class\n",
    "class dad():\n",
    "    def dad_share(self):\n",
    "        print(\"mulitple inheritance 1\")\n",
    "\n",
    "#child class\n",
    "class child(grandpa, dad):\n",
    "    def child_share(self)\n",
    "    "
   ]
  },
  {
   "cell_type": "code",
   "execution_count": null,
   "id": "6e3cf601",
   "metadata": {},
   "outputs": [],
   "source": []
  },
  {
   "cell_type": "code",
   "execution_count": 30,
   "id": "363e27e4",
   "metadata": {},
   "outputs": [],
   "source": [
    "class Batch_number:\n",
    "    #static variable is constant\n",
    "    # can acess without creating an object\n",
    "    #everyone inside this class(Batch_number) can acces it\n",
    "    \n",
    "    batchnumber =''\n",
    "    #instant variable\n",
    "    #unless you create and object of a class you cannot accept it\n",
    "    def __init__(self,a,b,c):\n",
    "        self.a = a\n",
    "        self.b = b\n",
    "        self.c = c\n",
    "    \n",
    "    @staticmethod\n",
    "    def batch():\n",
    "        print(\"This is a static method\")\n",
    "    \n",
    "    def batch1(self):\n",
    "        print(\"this is a static method batch 1\")\n",
    "        \n",
    "\n",
    "    \n",
    "    \n",
    "    \n",
    "    "
   ]
  },
  {
   "cell_type": "code",
   "execution_count": 28,
   "id": "747ec9f6",
   "metadata": {},
   "outputs": [
    {
     "data": {
      "text/plain": [
       "''"
      ]
     },
     "execution_count": 28,
     "metadata": {},
     "output_type": "execute_result"
    }
   ],
   "source": [
    "# can access without object\n",
    "Batch_number.batchnumber"
   ]
  },
  {
   "cell_type": "code",
   "execution_count": 29,
   "id": "f790c060",
   "metadata": {},
   "outputs": [
    {
     "data": {
      "text/plain": [
       "4"
      ]
     },
     "execution_count": 29,
     "metadata": {},
     "output_type": "execute_result"
    }
   ],
   "source": [
    "# Need to create an object first\n",
    "b = Batch_number(4,5,6)\n",
    "b.a"
   ]
  },
  {
   "cell_type": "code",
   "execution_count": 33,
   "id": "92d3296b",
   "metadata": {},
   "outputs": [
    {
     "name": "stdout",
     "output_type": "stream",
     "text": [
      "This is a static method\n"
     ]
    }
   ],
   "source": [
    "# can access without positional arguement error\n",
    "Batch_number.batch()"
   ]
  },
  {
   "cell_type": "code",
   "execution_count": 37,
   "id": "3495e6d7",
   "metadata": {},
   "outputs": [
    {
     "name": "stdout",
     "output_type": "stream",
     "text": [
      "this is a static method batch 1\n"
     ]
    }
   ],
   "source": [
    "# Create an object first\n",
    "# Then you can access the instant variable\n",
    "batch_1 = Batch_number(1,2,3)\n",
    "batch_1.batch1()"
   ]
  },
  {
   "cell_type": "code",
   "execution_count": 38,
   "id": "ee6d3562",
   "metadata": {},
   "outputs": [],
   "source": [
    "# no dependency with object\n",
    "# variable whose value will be same for all the functions and operations we can create static variable"
   ]
  },
  {
   "cell_type": "code",
   "execution_count": 46,
   "id": "6a54190f",
   "metadata": {},
   "outputs": [],
   "source": [
    "class accountdetail():\n",
    "    account_no =\"123456678914\"\n",
    "    \n",
    "    def __init__(self,amount):\n",
    "        self.amount = amount\n",
    "        \n",
    "    def show_balance(self, deduction):\n",
    "        self.amount = self.amount - deduction\n",
    "        return self.amount, accountdetail.account_no"
   ]
  },
  {
   "cell_type": "code",
   "execution_count": 47,
   "id": "a9d7af6a",
   "metadata": {},
   "outputs": [],
   "source": [
    "bank = accountdetail(1000000)"
   ]
  },
  {
   "cell_type": "code",
   "execution_count": 48,
   "id": "07481bde",
   "metadata": {},
   "outputs": [
    {
     "data": {
      "text/plain": [
       "(990000, '123456678914')"
      ]
     },
     "execution_count": 48,
     "metadata": {},
     "output_type": "execute_result"
    }
   ],
   "source": [
    "bank.show_balance(10000)"
   ]
  },
  {
   "cell_type": "code",
   "execution_count": 56,
   "id": "2072e60d",
   "metadata": {},
   "outputs": [
    {
     "name": "stdout",
     "output_type": "stream",
     "text": [
      "Enter a number here: 1\n",
      "Enter a number here: 0\n",
      "division by zero\n"
     ]
    }
   ],
   "source": [
    "class div_by_5(Exception):\n",
    "    def __init__(self,msg):\n",
    "        self.msg = msg\n",
    "        \n",
    "try:\n",
    "    a = int(input(\"Enter a number here: \"))\n",
    "    b = int(input(\"Enter a number here: \"))\n",
    "    a/b\n",
    "    if b == 1:\n",
    "        raise div_by_5(\"Division by 1 error\")\n",
    "except ValueError as msg:\n",
    "    print(msg)\n",
    "except ZeroDivisionError as msg:\n",
    "    print(msg)\n",
    "except div_by_5 as msg:\n",
    "    print(msg)\n",
    "\n",
    "else:\n",
    "    result = a/b\n",
    "    print(result)\n",
    "  \n"
   ]
  },
  {
   "cell_type": "code",
   "execution_count": 66,
   "id": "9596993c",
   "metadata": {},
   "outputs": [],
   "source": [
    "class Phones:\n",
    "    def __init__(self, brand , model, price) ->None:\n",
    "        self.brand = brand\n",
    "        self.model = model\n",
    "        self.price = price \n",
    "    \n",
    "    def specs(self):\n",
    "        return f\"\\n The brand of the phone is {self.brand} and the price is {self.price} \\n\"\n",
    "    \n",
    "    def typeofphone(self):\n",
    "        if self.price <20000:\n",
    "            return 'This is a budget phone'\n",
    "        else:\n",
    "            return 'This is high budget phone'\n",
    "    \n",
    "class Smartphone(Phones):\n",
    "    def __init__(self,brand, model, price, ram, storage):\n",
    "        super().__init__(brand,model,price)\n",
    "        self.ram = ram\n",
    "        self.storage = storage\n",
    "\n",
    "class FlagshipPhones(Smartphone):\n",
    "    def __init__(self,brand, model, price, ram, storage, frontcamera, backcamera, display):\n",
    "        super().__init__(brand,model,price,ram ,storage)\n",
    "        self.frontcamera  = frontcamera\n",
    "        self.backcamera = backcamera\n",
    "        self.display = display"
   ]
  },
  {
   "cell_type": "markdown",
   "id": "b25935c4",
   "metadata": {},
   "source": [
    "# Abstraction\n",
    "\n",
    "How to start modular coding in new projects\n",
    "\n",
    "-> Creating abstract classes for assigning task to team members also known as creating blue print\n",
    "\n"
   ]
  },
  {
   "cell_type": "code",
   "execution_count": 70,
   "id": "6e8251a7",
   "metadata": {},
   "outputs": [],
   "source": [
    "# High Level design for starting a project\n",
    "class data_project:\n",
    "    def read_file(self):\n",
    "        pass\n",
    "    \n",
    "    def validate_filename(self):\n",
    "        pass\n",
    "    \n",
    "    def validate_datatype(self):\n",
    "        pass\n",
    "    \n",
    "    def validate_db_conn(self):\n",
    "        pass\n",
    "    \n",
    "    def create_conn(self):\n",
    "        pass\n",
    "    \n",
    "    def insert_data(self):\n",
    "        pass\n",
    "    \n",
    "    def delete_data(self):\n",
    "        pass\n",
    "        \n",
    "    def update_data(self):\n",
    "        pass\n",
    "    \n",
    "    def perform_stats(self):\n",
    "        pass\n",
    "    \n",
    "    def perform_eda(self):\n",
    "        pass\n",
    "\n",
    "class db_ops(data_project):\n",
    "    pass"
   ]
  },
  {
   "cell_type": "markdown",
   "id": "86b6b77c",
   "metadata": {},
   "source": [
    "# Overload"
   ]
  },
  {
   "cell_type": "code",
   "execution_count": 77,
   "id": "b50fcc51",
   "metadata": {},
   "outputs": [],
   "source": [
    "class test:\n",
    "    def fun(self):\n",
    "        print(\"this is my sample class\")\n",
    "    \n",
    "    #overload the actual definition of the object\n",
    "    def __str__(self):\n",
    "        return str(\"this a function called at a time of object print\")\n",
    "\n"
   ]
  },
  {
   "cell_type": "code",
   "execution_count": 79,
   "id": "429db9f0",
   "metadata": {},
   "outputs": [],
   "source": [
    "a = test()"
   ]
  },
  {
   "cell_type": "code",
   "execution_count": 74,
   "id": "2d935c19",
   "metadata": {},
   "outputs": [
    {
     "name": "stdout",
     "output_type": "stream",
     "text": [
      "<__main__.test object at 0x00000210ADC03AF0>\n"
     ]
    }
   ],
   "source": [
    "print(a)"
   ]
  },
  {
   "cell_type": "code",
   "execution_count": 80,
   "id": "e01fc20b",
   "metadata": {},
   "outputs": [
    {
     "name": "stdout",
     "output_type": "stream",
     "text": [
      "this a function called at a time of object print\n"
     ]
    }
   ],
   "source": [
    "#Now it has been overloaded with __str__ func\n",
    "print(a)"
   ]
  },
  {
   "cell_type": "code",
   "execution_count": null,
   "id": "55542d8a",
   "metadata": {},
   "outputs": [],
   "source": []
  }
 ],
 "metadata": {
  "kernelspec": {
   "display_name": "Python 3 (ipykernel)",
   "language": "python",
   "name": "python3"
  },
  "language_info": {
   "codemirror_mode": {
    "name": "ipython",
    "version": 3
   },
   "file_extension": ".py",
   "mimetype": "text/x-python",
   "name": "python",
   "nbconvert_exporter": "python",
   "pygments_lexer": "ipython3",
   "version": "3.9.12"
  }
 },
 "nbformat": 4,
 "nbformat_minor": 5
}
