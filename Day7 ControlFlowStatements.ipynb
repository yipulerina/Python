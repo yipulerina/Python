{
 "cells": [
  {
   "cell_type": "markdown",
   "id": "fe43a0aa",
   "metadata": {},
   "source": [
    "## If elif"
   ]
  },
  {
   "cell_type": "markdown",
   "id": "b49b5558",
   "metadata": {},
   "source": [
    "Online Food orders - Zomato App, Swiggy, Uber Eats\n",
    "\n",
    "if you order more than Rs.499\n",
    "discount = 20%\n",
    "\n",
    "if you order more than Rs.999\n",
    "discount = 30%\n",
    "\n",
    "if you order more than 1499\n",
    "discount = 40%"
   ]
  },
  {
   "cell_type": "code",
   "execution_count": 4,
   "id": "25efe77f",
   "metadata": {},
   "outputs": [
    {
     "name": "stdout",
     "output_type": "stream",
     "text": [
      "Cart Total: 1310\n",
      "Pay amount: 916.9999999999999\n"
     ]
    }
   ],
   "source": [
    "total_amount= 90+100+120+1000\n",
    "print(f\"Cart Total: {total_amount}\")\n",
    "\n",
    "if total_amount>999:\n",
    "    price_after_discount= total_amount * 0.7\n",
    "    print(f\"Pay amount: {price_after_discount}\")\n",
    "elif total_amount < 999 and total_amount>499:\n",
    "    price_after_discount = total_amount*0.8\n",
    "    print(f\"Pay amount: {price_after_discount}\")\n",
    "else:\n",
    "    print(f\"Pay amount: {total_amount}\")"
   ]
  },
  {
   "cell_type": "code",
   "execution_count": 5,
   "id": "ddd04806",
   "metadata": {},
   "outputs": [
    {
     "name": "stdout",
     "output_type": "stream",
     "text": [
      "Cart Total: 310\n",
      "Pay amount: 310\n"
     ]
    }
   ],
   "source": [
    "total_amount= 90+100+120\n",
    "print(f\"Cart Total: {total_amount}\")\n",
    "\n",
    "if total_amount>999:\n",
    "    price_after_discount= total_amount * 0.7\n",
    "    print(f\"Pay amount: {price_after_discount}\")\n",
    "elif total_amount < 999 and total_amount>499:\n",
    "    price_after_discount = total_amount*0.8\n",
    "    print(f\"Pay amount: {price_after_discount}\")\n",
    "else:\n",
    "    print(f\"Pay amount: {total_amount}\")"
   ]
  },
  {
   "cell_type": "code",
   "execution_count": 11,
   "id": "75b5856a",
   "metadata": {},
   "outputs": [
    {
     "name": "stdout",
     "output_type": "stream",
     "text": [
      "Cart Total: 510\n",
      "Pay amount: 408.0\n"
     ]
    }
   ],
   "source": [
    "total_amount= 90+100+120+200\n",
    "print(f\"Cart Total: {total_amount}\")\n",
    "\n",
    "if total_amount>999:\n",
    "    price_after_discount= total_amount * 0.7\n",
    "    print(f\"Pay amount: {price_after_discount}\")\n",
    "elif 499 < total_amount <=999:\n",
    "    price_after_discount = total_amount*0.8\n",
    "    print(f\"Pay amount: {price_after_discount}\")\n",
    "else:\n",
    "    print(f\"Pay amount: {total_amount}\")"
   ]
  },
  {
   "cell_type": "code",
   "execution_count": 12,
   "id": "7a1b7a7b",
   "metadata": {},
   "outputs": [
    {
     "name": "stdout",
     "output_type": "stream",
     "text": [
      "Cart Total: 1510\n",
      "Pay amount: 1057.0\n"
     ]
    }
   ],
   "source": [
    "total_amount= 90+100+120+200+1000\n",
    "print(f\"Cart Total: {total_amount}\")\n",
    "\n",
    "if total_amount>999:\n",
    "    price_after_discount= total_amount * 0.7\n",
    "    print(f\"Pay amount: {price_after_discount}\")\n",
    "elif 499 < total_amount <=999:\n",
    "    price_after_discount = total_amount*0.8\n",
    "    print(f\"Pay amount: {price_after_discount}\")\n",
    "elif total_amount>=1499:\n",
    "    price_after_discount= total_amount *0.6\n",
    "    print(f\"Pay amount: {price_after_discount}\")\n",
    "else:\n",
    "    print(f\"Pay amount: {total_amount}\")"
   ]
  },
  {
   "cell_type": "markdown",
   "id": "06448f06",
   "metadata": {},
   "source": [
    "### Nested if else"
   ]
  },
  {
   "cell_type": "code",
   "execution_count": 15,
   "id": "820d4934",
   "metadata": {},
   "outputs": [
    {
     "name": "stdout",
     "output_type": "stream",
     "text": [
      "Enter a number: -1\n",
      "Number is negative\n"
     ]
    }
   ],
   "source": [
    "val = float(input(\"Enter a number: \"))\n",
    "if val>=0:\n",
    "    if val==0:\n",
    "        print(\"Number is Zero\")\n",
    "    else:\n",
    "        print(\"Number is greater than Zero\")\n",
    "else:\n",
    "    print(\"Number is negative\")"
   ]
  },
  {
   "cell_type": "code",
   "execution_count": 17,
   "id": "f80ffce1",
   "metadata": {},
   "outputs": [
    {
     "name": "stdout",
     "output_type": "stream",
     "text": [
      "Enter a number: 1\n",
      "No\n"
     ]
    }
   ],
   "source": [
    "val = float(input(\"Enter a number: \")) # For competitive programming\n",
    "print(\"Yes\" if val>99 else \"No\")"
   ]
  },
  {
   "cell_type": "markdown",
   "id": "dcfe9458",
   "metadata": {},
   "source": [
    "### Loops\n"
   ]
  },
  {
   "cell_type": "markdown",
   "id": "9188ea8c",
   "metadata": {},
   "source": [
    "Situation: I will keep attempting till I cross the cutoff"
   ]
  },
  {
   "cell_type": "code",
   "execution_count": 3,
   "id": "8034fc01",
   "metadata": {},
   "outputs": [
    {
     "name": "stdout",
     "output_type": "stream",
     "text": [
      "Your score is: 100, cutoff is: 400\n",
      "I will attempt next year\n",
      "Your score is: 200, cutoff is: 400\n",
      "I will attempt next year\n",
      "Your score is: 300, cutoff is: 400\n",
      "I will attempt next year\n"
     ]
    }
   ],
   "source": [
    "total_marks = 1000\n",
    "cut_off = 400\n",
    "scores = [100, 200, 300, 400, 500]\n",
    "\n",
    "year = 0\n",
    "\n",
    "while scores[year] < cut_off:\n",
    "    print(f\"Your score is: {scores[year]}, cutoff is: {cut_off}\")\n",
    "    print(\"I will attempt next year\")\n",
    "    year = year + 1\n"
   ]
  },
  {
   "cell_type": "markdown",
   "id": "388e29f9",
   "metadata": {},
   "source": [
    "Situation: Child is learning to count "
   ]
  },
  {
   "cell_type": "code",
   "execution_count": 6,
   "id": "6c7f5b95",
   "metadata": {},
   "outputs": [
    {
     "name": "stdout",
     "output_type": "stream",
     "text": [
      "Current sum: 1\n",
      "Current sum: 2\n",
      "Current sum: 3\n",
      "Current sum: 4\n",
      "Current sum: 5\n",
      "Current sum: 6\n",
      "Current sum: 7\n",
      "Current sum: 8\n",
      "Current sum: 9\n",
      "Current sum: 10\n"
     ]
    }
   ],
   "source": [
    "notes = 10\n",
    "i = 1\n",
    "\n",
    "while i <=notes:\n",
    "    print(f\"Current sum: {i}\")\n",
    "    i = i +1"
   ]
  },
  {
   "cell_type": "code",
   "execution_count": 15,
   "id": "5ff74fc7",
   "metadata": {},
   "outputs": [
    {
     "name": "stdout",
     "output_type": "stream",
     "text": [
      "Current sum: 10\n",
      "Current sum: 20\n",
      "Current sum: 30\n",
      "Current sum: 40\n",
      "Current sum: 50\n",
      "No more notes left\n"
     ]
    }
   ],
   "source": [
    "notes = 5\n",
    "i = 1\n",
    "\n",
    "while i <=notes:\n",
    "    print(f\"Current sum: {i*10}\")\n",
    "    i = i +1\n",
    "else:\n",
    "    print(\"No more notes left\")"
   ]
  },
  {
   "cell_type": "code",
   "execution_count": 17,
   "id": "eaa11d09",
   "metadata": {},
   "outputs": [
    {
     "name": "stdout",
     "output_type": "stream",
     "text": [
      "Condition: True\n",
      "Current sum: 10\n",
      "----------------\n",
      "Condition: True\n",
      "Current sum: 20\n",
      "----------------\n",
      "Condition: True\n",
      "Current sum: 30\n",
      "----------------\n",
      "Condition: True\n",
      "Current sum: 40\n",
      "----------------\n",
      "Condition: True\n",
      "Current sum: 50\n",
      "----------------\n",
      "Condition: False\n",
      "No more notes left\n"
     ]
    }
   ],
   "source": [
    "notes = 5\n",
    "i = 1\n",
    "\n",
    "while i <=notes:\n",
    "    print(f\"Condition: {i <=notes}\")\n",
    "    print(f\"Current sum: {i*10}\")\n",
    "    i = i +1\n",
    "    print(\"----------------\")\n",
    "else:\n",
    "    print(f\"Condition: {i <=notes}\")\n",
    "    print(\"No more notes left\")"
   ]
  },
  {
   "cell_type": "markdown",
   "id": "25c77a21",
   "metadata": {},
   "source": [
    "Situation: Train Journey"
   ]
  },
  {
   "cell_type": "code",
   "execution_count": 10,
   "id": "676dbeab",
   "metadata": {},
   "outputs": [
    {
     "name": "stdout",
     "output_type": "stream",
     "text": [
      "Your current station is: station 01 \n",
      "Your destination is: station 04 \n",
      "Continue the journey\n",
      "Your next station is: station 02 \n",
      "----------------------\n",
      "Your current station is: station 02 \n",
      "Your destination is: station 04 \n",
      "Continue the journey\n",
      "Your next station is: station 03 \n",
      "----------------------\n",
      "Your current station is: station 03 \n",
      "Your destination is: station 04 \n",
      "Continue the journey\n",
      "Your next station is: station 04 \n",
      "----------------------\n"
     ]
    }
   ],
   "source": [
    "stations = [\"station 01\", \"station 02\", \"station 03\", \"station 04\"]\n",
    "\n",
    "current_station = 0\n",
    "destination = \"station 04\"\n",
    "\n",
    "while stations[current_station] != destination:\n",
    "    print(f\"Your current station is: {stations[current_station]} \")\n",
    "    print(f\"Your destination is: {destination} \")\n",
    "    print(f\"Continue the journey\")\n",
    "    current_station = current_station + 1\n",
    "    print(f\"Your next station is: {stations[current_station]} \")\n",
    "    print(\"----------------------\")\n",
    "\n",
    "\n",
    "\n"
   ]
  },
  {
   "cell_type": "code",
   "execution_count": 12,
   "id": "af81757a",
   "metadata": {},
   "outputs": [
    {
     "name": "stdout",
     "output_type": "stream",
     "text": [
      "Your current station is: station 01 \n",
      "Your destination is: station 04 \n",
      "Continue the journey\n",
      "Your next station is: station 02 \n",
      "----------------------\n",
      "Your current station is: station 02 \n",
      "Your destination is: station 04 \n",
      "Continue the journey\n",
      "Your next station is: station 03 \n",
      "----------------------\n",
      "Your current station is: station 03 \n",
      "Your destination is: station 04 \n",
      "Continue the journey\n",
      "Your next station is: station 04 \n",
      "----------------------\n",
      "I have reached arrived at: station 04\n",
      " Awesome Journey!\n"
     ]
    }
   ],
   "source": [
    "stations = [\"station 01\", \"station 02\", \"station 03\", \"station 04\"]\n",
    "\n",
    "current_station = 0\n",
    "destination = \"station 04\"\n",
    "\n",
    "while stations[current_station] != destination:\n",
    "    print(f\"Your current station is: {stations[current_station]} \")\n",
    "    print(f\"Your destination is: {destination} \")\n",
    "    print(f\"Continue the journey\")\n",
    "    current_station = current_station + 1\n",
    "    print(f\"Your next station is: {stations[current_station]} \")\n",
    "    print(\"----------------------\")\n",
    "else:\n",
    "    print(f\"I have reached arrived at: {destination}\")\n",
    "    print(\" Awesome Journey!\")"
   ]
  },
  {
   "cell_type": "code",
   "execution_count": 18,
   "id": "3141cbfd",
   "metadata": {},
   "outputs": [
    {
     "name": "stdout",
     "output_type": "stream",
     "text": [
      "10 X 1: 10\n",
      "10 X 2: 20\n",
      "10 X 3: 30\n",
      "10 X 4: 40\n",
      "10 X 5: 50\n",
      "10 X 6: 60\n",
      "10 X 7: 70\n",
      "10 X 8: 80\n",
      "10 X 9: 90\n",
      "10 X 10: 100\n"
     ]
    }
   ],
   "source": [
    "for i in range(1,11):\n",
    "    print(f\"10 X {i}: {10*i}\")"
   ]
  },
  {
   "cell_type": "code",
   "execution_count": 19,
   "id": "894aee44",
   "metadata": {},
   "outputs": [
    {
     "name": "stdout",
     "output_type": "stream",
     "text": [
      "10 X 1: 10\n",
      "10 X 2: 20\n",
      "10 X 3: 30\n",
      "10 X 4: 40\n",
      "10 X 5: 50\n",
      "10 X 6: 60\n",
      "10 X 7: 70\n",
      "10 X 8: 80\n",
      "10 X 9: 90\n",
      "10 X 10: 100\n"
     ]
    }
   ],
   "source": [
    "for i in range(0,10):\n",
    "    print(f\"10 X {i + 1 }: {10*(i+1)}\")"
   ]
  },
  {
   "cell_type": "code",
   "execution_count": 22,
   "id": "44436918",
   "metadata": {},
   "outputs": [
    {
     "name": "stdout",
     "output_type": "stream",
     "text": [
      "\n",
      "*\n",
      "**\n",
      "***\n",
      "****\n",
      "*****\n",
      "******\n",
      "*******\n",
      "********\n",
      "*********\n"
     ]
    }
   ],
   "source": [
    "for i in range(0,10):\n",
    "    print(\"*\"*i)"
   ]
  },
  {
   "cell_type": "code",
   "execution_count": 23,
   "id": "95bad635",
   "metadata": {},
   "outputs": [
    {
     "name": "stdout",
     "output_type": "stream",
     "text": [
      "Amount to be paid: 100\n",
      "Amount to be paid: 399\n",
      "Amount to be paid: 898\n",
      "Amount to be paid: 1103\n"
     ]
    }
   ],
   "source": [
    "cost_of_items = [100, 299, 499, 205]\n",
    "\n",
    "total_sum= 0\n",
    "\n",
    "for i in range(0,4):\n",
    "    total_sum = total_sum + cost_of_items[i]\n",
    "    print(f\"Amount to be paid: {total_sum}\")"
   ]
  },
  {
   "cell_type": "code",
   "execution_count": 27,
   "id": "f65c77c9",
   "metadata": {},
   "outputs": [
    {
     "name": "stdout",
     "output_type": "stream",
     "text": [
      "0 = 0+ 100\n",
      "after adding total_sum = 100\n",
      "------------------\n",
      "Amount to be paid: 100\n",
      "100 = 100+ 299\n",
      "after adding total_sum = 399\n",
      "------------------\n",
      "Amount to be paid: 399\n",
      "399 = 399+ 499\n",
      "after adding total_sum = 898\n",
      "------------------\n",
      "Amount to be paid: 898\n",
      "898 = 898+ 205\n",
      "after adding total_sum = 1103\n",
      "------------------\n",
      "Amount to be paid: 1103\n",
      "Total amount to be paid: 1103\n"
     ]
    }
   ],
   "source": [
    "cost_of_items = [100, 299, 499, 205]\n",
    "\n",
    "total_sum= 0\n",
    "\n",
    "for i in range(0,4):\n",
    "    print(f\"{total_sum} = {total_sum }+ {cost_of_items[i]}\")\n",
    "    total_sum = total_sum + cost_of_items[i]\n",
    "    print(f\"after adding total_sum = {total_sum}\")\n",
    "    print(\"------------------\")\n",
    "    print(f\"Amount to be paid: {total_sum}\")\n",
    "print(f\"Total amount to be paid: {total_sum}\")"
   ]
  },
  {
   "cell_type": "code",
   "execution_count": 1,
   "id": "a8228886",
   "metadata": {},
   "outputs": [
    {
     "name": "stdout",
     "output_type": "stream",
     "text": [
      "100\n",
      "299\n",
      "499\n",
      "205\n"
     ]
    }
   ],
   "source": [
    "cost_of_items = [100, 299, 499, 205]\n",
    "for cost in cost_of_items:\n",
    "    print(cost)"
   ]
  },
  {
   "cell_type": "code",
   "execution_count": 2,
   "id": "a1cdf855",
   "metadata": {},
   "outputs": [
    {
     "name": "stdout",
     "output_type": "stream",
     "text": [
      "current total: 100\n",
      "current total: 399\n",
      "current total: 898\n",
      "current total: 1103\n",
      "current total: 1503\n",
      "current total: 2003\n",
      "current total is more than my budget: 2000\n",
      "Kindly remove the last item\n",
      "total amount to be paid: 1503\n"
     ]
    }
   ],
   "source": [
    "cost_of_items = [100, 299, 499, 205, 400, 500]\n",
    "\n",
    "total_sum = 0\n",
    "budget = 2000\n",
    "\n",
    "for cost in cost_of_items:\n",
    "    total_sum = total_sum + cost\n",
    "    print(f'current total: {total_sum}')\n",
    "    if total_sum > budget:\n",
    "        print(f\"current total is more than my budget: {budget}\")\n",
    "        print(f\"Kindly remove the last item\")\n",
    "        total_sum = total_sum - cost\n",
    "        break\n",
    "print(f\"total amount to be paid: {total_sum}\")\n"
   ]
  },
  {
   "cell_type": "code",
   "execution_count": 3,
   "id": "4725f340",
   "metadata": {},
   "outputs": [
    {
     "name": "stdout",
     "output_type": "stream",
     "text": [
      "1\n",
      "2\n",
      "3\n",
      "4\n",
      "5\n",
      "6\n",
      "7\n",
      "8\n",
      "9\n",
      "10\n",
      "11\n",
      "12\n",
      "13\n",
      "14\n",
      "15\n",
      "16\n",
      "17\n",
      "18\n",
      "19\n",
      "20\n"
     ]
    }
   ],
   "source": [
    "for i in range(1,100):\n",
    "    print(i)\n",
    "    if i >= 20:\n",
    "        break"
   ]
  },
  {
   "cell_type": "code",
   "execution_count": 6,
   "id": "127130d8",
   "metadata": {},
   "outputs": [
    {
     "name": "stdout",
     "output_type": "stream",
     "text": [
      "1\n",
      "3\n",
      "5\n",
      "7\n",
      "9\n",
      "11\n",
      "13\n",
      "15\n",
      "17\n",
      "19\n"
     ]
    }
   ],
   "source": [
    "for i in range(1,20):\n",
    "    if i%2== 0:\n",
    "        continue\n",
    "    print(i)"
   ]
  },
  {
   "cell_type": "code",
   "execution_count": 7,
   "id": "fe18a56c",
   "metadata": {},
   "outputs": [
    {
     "name": "stdout",
     "output_type": "stream",
     "text": [
      "2\n",
      "4\n",
      "6\n",
      "8\n",
      "10\n",
      "12\n",
      "14\n",
      "16\n",
      "18\n"
     ]
    }
   ],
   "source": [
    "for i in range(1,20):\n",
    "    if i%2!= 0:\n",
    "        continue\n",
    "    print(i)"
   ]
  },
  {
   "cell_type": "code",
   "execution_count": 16,
   "id": "7a4cdebf",
   "metadata": {},
   "outputs": [
    {
     "name": "stdout",
     "output_type": "stream",
     "text": [
      "Current station is: Station 01\n",
      "Current station is: Station 02\n",
      "Current station is: Station 03\n",
      "Current station is: Station 04\n"
     ]
    }
   ],
   "source": [
    "stations = [\"Station 01\", \"Station 02\", \"Station 03\", \"Station 04\"]\n",
    "\n",
    "for current_station in stations:\n",
    "  if current_station == \"Station 02\":\n",
    "    pass\n",
    "  print(f\"Current station is: {current_station}\")"
   ]
  }
 ],
 "metadata": {
  "kernelspec": {
   "display_name": "Python 3 (ipykernel)",
   "language": "python",
   "name": "python3"
  },
  "language_info": {
   "codemirror_mode": {
    "name": "ipython",
    "version": 3
   },
   "file_extension": ".py",
   "mimetype": "text/x-python",
   "name": "python",
   "nbconvert_exporter": "python",
   "pygments_lexer": "ipython3",
   "version": "3.9.12"
  }
 },
 "nbformat": 4,
 "nbformat_minor": 5
}
