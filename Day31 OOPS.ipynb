{
 "cells": [
  {
   "cell_type": "code",
   "execution_count": 2,
   "id": "70be03d7",
   "metadata": {},
   "outputs": [],
   "source": [
    "class car:\n",
    "    pass"
   ]
  },
  {
   "cell_type": "code",
   "execution_count": 8,
   "id": "0e967ef9",
   "metadata": {},
   "outputs": [],
   "source": [
    "class car:\n",
    "    def __init__(self , brand_name, fueltype , body_type):\n",
    "        self.brand_name = brand_name\n",
    "        self.fueltype = fueltype\n",
    "        self.body_type = body_type\n",
    "        \n",
    "    def desc_car(self):\n",
    "        print(self.brand_name, self.fueltype, self.body_type)\n",
    "        \n",
    "        \n",
    "    "
   ]
  },
  {
   "cell_type": "code",
   "execution_count": 11,
   "id": "4c7c3374",
   "metadata": {},
   "outputs": [],
   "source": [
    "innova = car(\"toyota\", \"petrol\",\"suv\")\n",
    "nexon = car(\"tata\", \"petrol\",\"min_suv\")\n",
    "fortuner = car(\"toyota\", \"diesel\",\"suv\")"
   ]
  },
  {
   "cell_type": "code",
   "execution_count": 12,
   "id": "96c6a873",
   "metadata": {},
   "outputs": [
    {
     "name": "stdout",
     "output_type": "stream",
     "text": [
      "toyota petrol suv\n"
     ]
    }
   ],
   "source": [
    "innova.desc_car()"
   ]
  },
  {
   "cell_type": "code",
   "execution_count": 13,
   "id": "79b5cea0",
   "metadata": {},
   "outputs": [
    {
     "data": {
      "text/plain": [
       "'toyota'"
      ]
     },
     "execution_count": 13,
     "metadata": {},
     "output_type": "execute_result"
    }
   ],
   "source": [
    "fortuner.brand_name"
   ]
  },
  {
   "cell_type": "code",
   "execution_count": 14,
   "id": "a99c096a",
   "metadata": {},
   "outputs": [
    {
     "name": "stdout",
     "output_type": "stream",
     "text": [
      "tata petrol min_suv\n"
     ]
    }
   ],
   "source": [
    "nexon.desc_car()"
   ]
  },
  {
   "cell_type": "code",
   "execution_count": 15,
   "id": "534cc9e4",
   "metadata": {},
   "outputs": [],
   "source": [
    "a = 10"
   ]
  },
  {
   "cell_type": "code",
   "execution_count": 21,
   "id": "9d616464",
   "metadata": {},
   "outputs": [],
   "source": [
    "class car:\n",
    "    def __init__(self , brand_name, fueltype , body_type):\n",
    "        self.brand_name = brand_name\n",
    "        self.fueltype = fueltype\n",
    "        self.body_type = body_type\n",
    "    \n",
    "    def test(self):\n",
    "        print(\"This is my first method in class car\")\n",
    "        \n",
    "    def desc_car(self):\n",
    "        print(self.brand_name, self.fueltype, self.body_type)\n",
    "        \n",
    "        "
   ]
  },
  {
   "cell_type": "code",
   "execution_count": 22,
   "id": "390d92d0",
   "metadata": {},
   "outputs": [],
   "source": [
    "innova = car(\"toyota\", \"petrol\",\"suv\")\n",
    "nexon = car(\"tata\", \"petrol\",\"min_suv\")\n",
    "fortuner = car(\"toyota\", \"diesel\",\"suv\")"
   ]
  },
  {
   "cell_type": "code",
   "execution_count": 23,
   "id": "d781496d",
   "metadata": {},
   "outputs": [
    {
     "name": "stdout",
     "output_type": "stream",
     "text": [
      "This is my first method in class car\n"
     ]
    }
   ],
   "source": [
    "innova.test()"
   ]
  },
  {
   "cell_type": "code",
   "execution_count": 24,
   "id": "bd5a6d09",
   "metadata": {},
   "outputs": [
    {
     "data": {
      "text/plain": [
       "'suv'"
      ]
     },
     "execution_count": 24,
     "metadata": {},
     "output_type": "execute_result"
    }
   ],
   "source": [
    "fortuner.body_type"
   ]
  },
  {
   "cell_type": "code",
   "execution_count": 30,
   "id": "038606ab",
   "metadata": {},
   "outputs": [],
   "source": [
    "class car:\n",
    "    def __init__(self , brand_name, fueltype , body_type):\n",
    "        self.a = brand_name\n",
    "        self.b = fueltype\n",
    "        self.c = body_type\n",
    "    \n",
    "    def test(self):\n",
    "        print(\"This is my first method in class car\")\n",
    "        \n",
    "    def desc_car(self):\n",
    "        print(self.a, self.b, self.c)\n",
    "        \n",
    "        "
   ]
  },
  {
   "cell_type": "code",
   "execution_count": 31,
   "id": "9c0a9d1d",
   "metadata": {},
   "outputs": [],
   "source": [
    "fortuner = car(\"toyota\", \"diesel\",\"suv\")"
   ]
  },
  {
   "cell_type": "code",
   "execution_count": 32,
   "id": "fe64f94c",
   "metadata": {},
   "outputs": [
    {
     "data": {
      "text/plain": [
       "'toyota'"
      ]
     },
     "execution_count": 32,
     "metadata": {},
     "output_type": "execute_result"
    }
   ],
   "source": [
    "fortuner.a"
   ]
  },
  {
   "cell_type": "code",
   "execution_count": 33,
   "id": "e2c097a3",
   "metadata": {},
   "outputs": [
    {
     "name": "stdout",
     "output_type": "stream",
     "text": [
      "toyota diesel suv\n"
     ]
    }
   ],
   "source": [
    "fortuner.desc_car()"
   ]
  },
  {
   "cell_type": "code",
   "execution_count": 34,
   "id": "131747c3",
   "metadata": {},
   "outputs": [],
   "source": [
    "class car:\n",
    "    def test(self):\n",
    "        print(\"This is my first method in my car class\")"
   ]
  },
  {
   "cell_type": "code",
   "execution_count": 35,
   "id": "08c23373",
   "metadata": {},
   "outputs": [],
   "source": [
    "x = car()"
   ]
  },
  {
   "cell_type": "code",
   "execution_count": 36,
   "id": "6e5edcde",
   "metadata": {},
   "outputs": [
    {
     "name": "stdout",
     "output_type": "stream",
     "text": [
      "This is my first method in my car class\n"
     ]
    }
   ],
   "source": [
    "x.test()"
   ]
  },
  {
   "cell_type": "code",
   "execution_count": 40,
   "id": "62c9d978",
   "metadata": {},
   "outputs": [],
   "source": [
    "class car:\n",
    "    def test(self, a, b):\n",
    "        # The first variable is considered as a pointer\n",
    "        print(\"This is my first method in my car class\")"
   ]
  },
  {
   "cell_type": "markdown",
   "id": "d1311045",
   "metadata": {},
   "source": []
  },
  {
   "cell_type": "code",
   "execution_count": 41,
   "id": "c70d5d15",
   "metadata": {},
   "outputs": [],
   "source": [
    "x = car()"
   ]
  },
  {
   "cell_type": "code",
   "execution_count": 42,
   "id": "3d44eb46",
   "metadata": {},
   "outputs": [
    {
     "name": "stdout",
     "output_type": "stream",
     "text": [
      "This is my first method in my car class\n"
     ]
    }
   ],
   "source": [
    "x.test(3,\"abc\")"
   ]
  },
  {
   "cell_type": "code",
   "execution_count": 43,
   "id": "9e0fd982",
   "metadata": {},
   "outputs": [
    {
     "name": "stdout",
     "output_type": "stream",
     "text": [
      "<class '__main__.car'>\n"
     ]
    }
   ],
   "source": [
    "print(type(x))"
   ]
  },
  {
   "cell_type": "code",
   "execution_count": 44,
   "id": "52e03782",
   "metadata": {},
   "outputs": [],
   "source": [
    "class list_parser:\n",
    "    \n",
    "    def parser(self,a):\n",
    "        if type(a) == list:\n",
    "            for i in a:\n",
    "                print(i)"
   ]
  },
  {
   "cell_type": "code",
   "execution_count": 46,
   "id": "b066b34f",
   "metadata": {},
   "outputs": [
    {
     "name": "stdout",
     "output_type": "stream",
     "text": [
      "2\n",
      "3\n",
      "4\n",
      "5\n",
      "5\n"
     ]
    }
   ],
   "source": [
    "x = list_parser()\n",
    "x.parser([2,3,4,5,5])"
   ]
  },
  {
   "cell_type": "markdown",
   "id": "fb3646de",
   "metadata": {},
   "source": [
    "Create 10 methods for handling list "
   ]
  },
  {
   "cell_type": "code",
   "execution_count": 47,
   "id": "3180f2fb",
   "metadata": {},
   "outputs": [],
   "source": [
    "class list_parser:\n",
    "    \n",
    "    def parser(self,a):\n",
    "        if type(a) == list:\n",
    "            for i in a:\n",
    "                print(i)\n",
    "                \n",
    "    def reverser_list(self,z):\n",
    "        if type(z) == list:\n",
    "            return z[::-1]\n",
    "    \n"
   ]
  },
  {
   "cell_type": "code",
   "execution_count": 49,
   "id": "52475155",
   "metadata": {},
   "outputs": [
    {
     "data": {
      "text/plain": [
       "[3, 56, 5, 4, 3]"
      ]
     },
     "execution_count": 49,
     "metadata": {},
     "output_type": "execute_result"
    }
   ],
   "source": [
    "x = list_parser()\n",
    "x.reverser_list([3,4,5,56,3])"
   ]
  },
  {
   "cell_type": "code",
   "execution_count": 51,
   "id": "5feef4a8",
   "metadata": {},
   "outputs": [],
   "source": [
    "class list_parser:\n",
    "    \n",
    "    def __init__(self,l):\n",
    "        self.l = l\n",
    "    \n",
    "    def parser(self):\n",
    "        if type(self.l) == list:\n",
    "            for i in self.l:\n",
    "                print(i)\n",
    "                \n",
    "    def reverser_list(self):\n",
    "        if type(self.l) == list:\n",
    "            return self.l[::-1]\n",
    "    "
   ]
  },
  {
   "cell_type": "code",
   "execution_count": 52,
   "id": "6794daaf",
   "metadata": {},
   "outputs": [],
   "source": [
    "x = list_parser([3,4,4,5,6,24,])"
   ]
  },
  {
   "cell_type": "code",
   "execution_count": 53,
   "id": "749a3f9f",
   "metadata": {},
   "outputs": [
    {
     "name": "stdout",
     "output_type": "stream",
     "text": [
      "3\n",
      "4\n",
      "4\n",
      "5\n",
      "6\n",
      "24\n"
     ]
    }
   ],
   "source": [
    "x.parser()"
   ]
  },
  {
   "cell_type": "code",
   "execution_count": 54,
   "id": "9243594e",
   "metadata": {},
   "outputs": [
    {
     "data": {
      "text/plain": [
       "[24, 6, 5, 4, 4, 3]"
      ]
     },
     "execution_count": 54,
     "metadata": {},
     "output_type": "execute_result"
    }
   ],
   "source": [
    "x.reverser_list()"
   ]
  },
  {
   "cell_type": "markdown",
   "id": "dabdbaa4",
   "metadata": {},
   "source": [
    "Create a class for dictionary parsing \n",
    "1. write a function to give all the keys\n",
    "\n",
    "2. write a function to give all the values\n",
    "\n",
    "3. write a function to throw an exception in case of input is not dictionary\n",
    "\n",
    "4. write a function for take user input and then parse a key and value out of a dictionary\n",
    "\n",
    "5. write a function to insert new key value pair into dictionary"
   ]
  },
  {
   "cell_type": "code",
   "execution_count": 94,
   "id": "96b21d15",
   "metadata": {},
   "outputs": [],
   "source": [
    "class dict_parser():\n",
    "    def __init__(self,d):\n",
    "        self.d = d\n",
    "    \n",
    "    def get_keys(self):\n",
    "        if self.not_dict():\n",
    "            return list(self.d.keys())\n",
    "    \n",
    "    def get_values(self):\n",
    "        if self.not_dict():\n",
    "            return list(self.d.values())\n",
    "    \n",
    "    def not_dict(self):\n",
    "        if type(self.d) != dict:\n",
    "            raise Exception(self.d, \"Not a dictionary\")\n",
    "        return 1\n",
    "    \n",
    "    def userinput(self):\n",
    "        self.d = eval(input())\n",
    "        print(self.d,type(self.d))\n",
    "        print(self.get_keys())\n",
    "        print(self.get_values())\n",
    "        \n",
    "    def insert_keypair(self,key,value):\n",
    "        self.d[key] = value\n",
    "    "
   ]
  },
  {
   "cell_type": "code",
   "execution_count": 73,
   "id": "82fb30c1",
   "metadata": {},
   "outputs": [],
   "source": [
    "x =dict_parser({\"a\":\"here\", \"b\":\"Now\", \"c\":\"oops\"})"
   ]
  },
  {
   "cell_type": "code",
   "execution_count": 74,
   "id": "1938402c",
   "metadata": {},
   "outputs": [
    {
     "data": {
      "text/plain": [
       "['a', 'b', 'c']"
      ]
     },
     "execution_count": 74,
     "metadata": {},
     "output_type": "execute_result"
    }
   ],
   "source": [
    "x.get_keys()"
   ]
  },
  {
   "cell_type": "code",
   "execution_count": 75,
   "id": "3ce1a215",
   "metadata": {},
   "outputs": [
    {
     "data": {
      "text/plain": [
       "['here', 'Now', 'oops']"
      ]
     },
     "execution_count": 75,
     "metadata": {},
     "output_type": "execute_result"
    }
   ],
   "source": [
    "x.get_values()"
   ]
  },
  {
   "cell_type": "code",
   "execution_count": 76,
   "id": "b9001764",
   "metadata": {},
   "outputs": [
    {
     "data": {
      "text/plain": [
       "1"
      ]
     },
     "execution_count": 76,
     "metadata": {},
     "output_type": "execute_result"
    }
   ],
   "source": [
    "x.not_dict()"
   ]
  },
  {
   "cell_type": "code",
   "execution_count": 77,
   "id": "aa1d6e3e",
   "metadata": {},
   "outputs": [
    {
     "name": "stdout",
     "output_type": "stream",
     "text": [
      "{\"a\":\"here\", \"b\":\"ok\"}\n",
      "{'a': 'here', 'b': 'ok'} <class 'dict'>\n",
      "['a', 'b']\n",
      "['here', 'ok']\n"
     ]
    }
   ],
   "source": [
    "x.userinput()"
   ]
  },
  {
   "cell_type": "code",
   "execution_count": 93,
   "id": "5d60431e",
   "metadata": {},
   "outputs": [],
   "source": [
    "x.insert_keypair(\"k1\",\"ok\")"
   ]
  },
  {
   "cell_type": "code",
   "execution_count": 95,
   "id": "a9c3937d",
   "metadata": {},
   "outputs": [
    {
     "data": {
      "text/plain": [
       "['a', 'b', 'k1']"
      ]
     },
     "execution_count": 95,
     "metadata": {},
     "output_type": "execute_result"
    }
   ],
   "source": [
    "x.get_keys()"
   ]
  },
  {
   "cell_type": "code",
   "execution_count": 122,
   "id": "a3480a51",
   "metadata": {},
   "outputs": [],
   "source": [
    "class dict_parser:\n",
    "    \n",
    "    def __init__(self,d):\n",
    "        if type(d) != dict:\n",
    "            raise Exception(\"Not a dictionary\")\n",
    "        self.d = d\n",
    "        \n",
    "    def get_keys(self):\n",
    "        return list(self.d.keys())\n",
    "    \n",
    "    def get_values(self):\n",
    "        return list(self.d.values())\n",
    "    \n",
    "    def user_input(self):\n",
    "        self.d = eval(input())\n",
    "        print(self.d, type(self.d))\n",
    "        print(self.get_keys())\n",
    "        print(self.get_values())\n",
    "        \n",
    "    def insert_keypair(self,key,value):\n",
    "            self.d[key] =value\n",
    "            print(\"Values has been inserted\")\n",
    "        \n",
    "        \n",
    "\n"
   ]
  },
  {
   "cell_type": "code",
   "execution_count": 123,
   "id": "fadd0b85",
   "metadata": {},
   "outputs": [],
   "source": [
    "x = dict_parser({\"k1\":\"oops\", \"k2\":\"oho\"})"
   ]
  },
  {
   "cell_type": "code",
   "execution_count": 124,
   "id": "d26e7805",
   "metadata": {},
   "outputs": [
    {
     "name": "stdout",
     "output_type": "stream",
     "text": [
      "{\"ok\":\"oho\"}\n",
      "{'ok': 'oho'} <class 'dict'>\n",
      "['ok']\n",
      "['oho']\n"
     ]
    }
   ],
   "source": [
    "x.user_input()"
   ]
  },
  {
   "cell_type": "code",
   "execution_count": 125,
   "id": "9e91100e",
   "metadata": {},
   "outputs": [
    {
     "name": "stdout",
     "output_type": "stream",
     "text": [
      "Values has been inserted\n"
     ]
    }
   ],
   "source": [
    "x.insert_keypair(\"k1\",\"oho\")"
   ]
  },
  {
   "cell_type": "code",
   "execution_count": 126,
   "id": "4d1467d7",
   "metadata": {},
   "outputs": [],
   "source": [
    "d = {\"k\":\"sfad\",\"k1\":[1,3,4,5]}"
   ]
  },
  {
   "cell_type": "code",
   "execution_count": 128,
   "id": "7fa9abb3",
   "metadata": {},
   "outputs": [
    {
     "data": {
      "text/plain": [
       "dict_items([('k', 'sfad'), ('k1', [1, 3, 4, 5])])"
      ]
     },
     "execution_count": 128,
     "metadata": {},
     "output_type": "execute_result"
    }
   ],
   "source": [
    "d.items()"
   ]
  },
  {
   "cell_type": "code",
   "execution_count": 131,
   "id": "958b807a",
   "metadata": {},
   "outputs": [
    {
     "data": {
      "text/plain": [
       "dict_values(['sfad', [1, 3, 4, 5]])"
      ]
     },
     "execution_count": 131,
     "metadata": {},
     "output_type": "execute_result"
    }
   ],
   "source": [
    "d.values()"
   ]
  },
  {
   "cell_type": "code",
   "execution_count": 132,
   "id": "928ef43a",
   "metadata": {},
   "outputs": [
    {
     "data": {
      "text/plain": [
       "<_io.TextIOWrapper name='mydict.py' mode='w' encoding='cp1252'>"
      ]
     },
     "execution_count": 132,
     "metadata": {},
     "output_type": "execute_result"
    }
   ],
   "source": [
    "open(\"mydict.py\",\"w\")"
   ]
  },
  {
   "cell_type": "code",
   "execution_count": 133,
   "id": "dfc46430",
   "metadata": {},
   "outputs": [
    {
     "name": "stdout",
     "output_type": "stream",
     "text": [
      " Volume in drive D is Data\n",
      " Volume Serial Number is 7EB7-DC23\n",
      "\n",
      " Directory of D:\\Python_Developer\\OOPS\n",
      "\n",
      "29-08-2023  16:51    <DIR>          .\n",
      "27-08-2023  20:38    <DIR>          ..\n",
      "29-08-2023  11:53    <DIR>          .ipynb_checkpoints\n",
      "27-08-2023  22:45    <DIR>          __pycache__\n",
      "27-08-2023  22:46             5,783 Modules.ipynb\n",
      "27-08-2023  22:44               228 my_module.py\n",
      "29-08-2023  16:51                 0 mydict.py\n",
      "29-08-2023  16:51            17,267 OOPS.ipynb\n",
      "27-08-2023  22:53    <DIR>          package_project\n",
      "27-08-2023  22:24                 1 test1.py\n",
      "27-08-2023  22:32               380 test2.py\n",
      "               6 File(s)         23,659 bytes\n",
      "               5 Dir(s)  545,278,488,576 bytes free\n"
     ]
    }
   ],
   "source": [
    "ls"
   ]
  },
  {
   "cell_type": "code",
   "execution_count": 134,
   "id": "dcd9fa16",
   "metadata": {},
   "outputs": [],
   "source": [
    "import mydict"
   ]
  },
  {
   "cell_type": "code",
   "execution_count": 136,
   "id": "21546926",
   "metadata": {},
   "outputs": [],
   "source": [
    "d =mydict.dict_parser({\"k\":\"hero\",\"k1\":[2,4,4,5]})"
   ]
  },
  {
   "cell_type": "code",
   "execution_count": 137,
   "id": "6a5d0d10",
   "metadata": {},
   "outputs": [
    {
     "data": {
      "text/plain": [
       "['k', 'k1']"
      ]
     },
     "execution_count": 137,
     "metadata": {},
     "output_type": "execute_result"
    }
   ],
   "source": [
    "d.get_keys()"
   ]
  },
  {
   "cell_type": "code",
   "execution_count": 138,
   "id": "c84f97f6",
   "metadata": {},
   "outputs": [
    {
     "data": {
      "text/plain": [
       "['hero', [2, 4, 4, 5]]"
      ]
     },
     "execution_count": 138,
     "metadata": {},
     "output_type": "execute_result"
    }
   ],
   "source": [
    "d.get_values()"
   ]
  },
  {
   "cell_type": "code",
   "execution_count": null,
   "id": "bc88d0b5",
   "metadata": {},
   "outputs": [],
   "source": []
  },
  {
   "cell_type": "code",
   "execution_count": null,
   "id": "4b683c76",
   "metadata": {},
   "outputs": [],
   "source": []
  },
  {
   "cell_type": "code",
   "execution_count": null,
   "id": "735b0786",
   "metadata": {},
   "outputs": [],
   "source": []
  },
  {
   "cell_type": "code",
   "execution_count": null,
   "id": "afc98f41",
   "metadata": {},
   "outputs": [],
   "source": []
  }
 ],
 "metadata": {
  "kernelspec": {
   "display_name": "Python 3 (ipykernel)",
   "language": "python",
   "name": "python3"
  },
  "language_info": {
   "codemirror_mode": {
    "name": "ipython",
    "version": 3
   },
   "file_extension": ".py",
   "mimetype": "text/x-python",
   "name": "python",
   "nbconvert_exporter": "python",
   "pygments_lexer": "ipython3",
   "version": "3.9.12"
  }
 },
 "nbformat": 4,
 "nbformat_minor": 5
}
