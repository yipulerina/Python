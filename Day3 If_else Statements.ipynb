{
 "cells": [
  {
   "cell_type": "markdown",
   "id": "67551d8d",
   "metadata": {},
   "source": [
    "### IF Statements\n"
   ]
  },
  {
   "cell_type": "code",
   "execution_count": 1,
   "id": "dc38effc",
   "metadata": {},
   "outputs": [],
   "source": [
    "a = 10"
   ]
  },
  {
   "cell_type": "code",
   "execution_count": 2,
   "id": "b5ddd350",
   "metadata": {},
   "outputs": [],
   "source": [
    "if a <15:\n",
    "    pass"
   ]
  },
  {
   "cell_type": "code",
   "execution_count": 3,
   "id": "bb5d138c",
   "metadata": {},
   "outputs": [
    {
     "data": {
      "text/plain": [
       "True"
      ]
     },
     "execution_count": 3,
     "metadata": {},
     "output_type": "execute_result"
    }
   ],
   "source": [
    "a <15"
   ]
  },
  {
   "cell_type": "code",
   "execution_count": 4,
   "id": "0f90d655",
   "metadata": {},
   "outputs": [
    {
     "name": "stdout",
     "output_type": "stream",
     "text": [
      "My name is Nobody\n"
     ]
    }
   ],
   "source": [
    "if  a <15:\n",
    "    print(\"My name is Nobody\")"
   ]
  },
  {
   "cell_type": "code",
   "execution_count": 5,
   "id": "74fd5b7d",
   "metadata": {},
   "outputs": [],
   "source": [
    "if  24 <15:\n",
    "    print(\"My name is Nobody\")"
   ]
  },
  {
   "cell_type": "code",
   "execution_count": 6,
   "id": "e7610dd4",
   "metadata": {},
   "outputs": [
    {
     "data": {
      "text/plain": [
       "False"
      ]
     },
     "execution_count": 6,
     "metadata": {},
     "output_type": "execute_result"
    }
   ],
   "source": [
    "24 <15"
   ]
  },
  {
   "cell_type": "code",
   "execution_count": 7,
   "id": "0e008702",
   "metadata": {},
   "outputs": [
    {
     "name": "stdout",
     "output_type": "stream",
     "text": [
      "If statement is wrong\n"
     ]
    }
   ],
   "source": [
    "if 10<3 :\n",
    "     print(\"10 is lesser than 3\")\n",
    "else:\n",
    "    print(\"If statement is wrong\")"
   ]
  },
  {
   "cell_type": "code",
   "execution_count": 8,
   "id": "ee82686b",
   "metadata": {},
   "outputs": [
    {
     "name": "stdout",
     "output_type": "stream",
     "text": [
      "5 is lesser than 10\n"
     ]
    }
   ],
   "source": [
    "if 5<10 :\n",
    "     print(\"5 is lesser than 10\")\n",
    "else:\n",
    "    print(\"If statement is wrong\")"
   ]
  },
  {
   "cell_type": "code",
   "execution_count": 9,
   "id": "57accdc3",
   "metadata": {},
   "outputs": [
    {
     "name": "stdout",
     "output_type": "stream",
     "text": [
      "50\n",
      "I will be able to buy a car\n"
     ]
    }
   ],
   "source": [
    "income = int(input())\n",
    "\n",
    "if income <50:\n",
    "    print(\"I will be able to buy iphone\")\n",
    "elif income <70:\n",
    "    print(\"I will be able to buy a car\")\n",
    "elif income <90:\n",
    "    print(\"I will be able to buy a house\")\n",
    "else:\n",
    "    print(\"I'll be able to buy everything\")"
   ]
  },
  {
   "cell_type": "code",
   "execution_count": 10,
   "id": "8c57f150",
   "metadata": {},
   "outputs": [
    {
     "name": "stdout",
     "output_type": "stream",
     "text": [
      "20000\n",
      "Won't be able to give any discount\n"
     ]
    }
   ],
   "source": [
    "Total_price = int(input())\n",
    "if Total_price > 20000 :\n",
    "    discount = Total_price*.20\n",
    "    print(\"Discount will be \", discount)\n",
    "elif Total_price <= 7000:\n",
    "    discount = Total_price *.05\n",
    "    print(\"Discount will be \",discount)\n",
    "else:\n",
    "    print(\"Won't be able to give any discount\")\n",
    "    \n"
   ]
  },
  {
   "cell_type": "code",
   "execution_count": 11,
   "id": "24d40910",
   "metadata": {},
   "outputs": [
    {
     "name": "stdout",
     "output_type": "stream",
     "text": [
      "hjhkjh\n",
      "Kidly use a valid coupon code\n"
     ]
    }
   ],
   "source": [
    "coupon = input()\n",
    "\n",
    "if coupon == \"hero\":\n",
    "    print(\"you will be able to get a discount of 5 %\")\n",
    "    paid_amount = 7080 - 7080 *.05\n",
    "    print(\"you will be able to get one neuron with this amount\", paid_amount)\n",
    "else:\n",
    "    print(\"Kidly use a valid coupon code\")"
   ]
  },
  {
   "cell_type": "code",
   "execution_count": 12,
   "id": "a1a67859",
   "metadata": {},
   "outputs": [
    {
     "name": "stdout",
     "output_type": "stream",
     "text": [
      "7\n",
      "it will be difficult\n"
     ]
    }
   ],
   "source": [
    "study_hour = int(input())\n",
    "if study_hour <1:\n",
    "    print(\"it may take 8-9 month to make a transition\")\n",
    "elif study_hour <4 and study_hour > 1:\n",
    "    print(\"it may take 6 month to make a transition\")\n",
    "elif study_hour >10:\n",
    "    print(\" it will take 3 month to make a transition\")\n",
    "else:\n",
    "    print(\"it will be difficult\")\n",
    "    "
   ]
  },
  {
   "cell_type": "code",
   "execution_count": 16,
   "id": "06540259",
   "metadata": {},
   "outputs": [
    {
     "name": "stdout",
     "output_type": "stream",
     "text": [
      "enter a string to startagja;\n",
      "enter a course nameadgage\n",
      "enter a service nameagdgwe\n",
      "kindly connect with our team\n"
     ]
    }
   ],
   "source": [
    "s = input(\"enter a string to start\")\n",
    "course = input(\"enter a course name\")\n",
    "service = input(\"enter a service name\")\n",
    "if s == \"oneneuron\":\n",
    "    if course == \"DSA\":\n",
    "        print(\"yes it's availabel under oneneuron \")\n",
    "    elif course == \"Blockchain\":\n",
    "        print(\"this is not available right now.\")\n",
    "    elif course == \"FSDS\":\n",
    "        print(\"yes its available\")\n",
    "    else:\n",
    "        print(\"this course is not available\")\n",
    "elif s == \"oneneuronservice\":\n",
    "    if service == \"courserequest\":\n",
    "        print(\"You can raise demand related to any course, we will reply back in 30 days\")\n",
    "    elif service== \"module\":\n",
    "        print(\"You can raise demand related to any module,we will reply back in 30 days\")\n",
    "    elif service == \"doubtclearing\":\n",
    "        print(\"You can raise demand related to any doubtclearing, we will reply in 24 hours\")\n",
    "    else:\n",
    "        print(\"Kindly provide us your feedback\")\n",
    "else:\n",
    "    print(\"kindly connect with our team\")"
   ]
  },
  {
   "cell_type": "code",
   "execution_count": 17,
   "id": "dcd55334",
   "metadata": {},
   "outputs": [
    {
     "name": "stdout",
     "output_type": "stream",
     "text": [
      "1\n",
      "2\n",
      "3\n",
      "4\n",
      "5\n",
      "6\n",
      "7\n"
     ]
    }
   ],
   "source": [
    "l=[1,2,3,4,5,6,7]\n",
    "for i in l: \n",
    "    print(i)"
   ]
  },
  {
   "cell_type": "code",
   "execution_count": 19,
   "id": "8ec035ec",
   "metadata": {},
   "outputs": [
    {
     "name": "stdout",
     "output_type": "stream",
     "text": [
      "a\n",
      "b\n",
      "c\n",
      "d\n"
     ]
    }
   ],
   "source": [
    "s = \"abcd\"\n",
    "for i in s:\n",
    "    print(i)"
   ]
  },
  {
   "cell_type": "code",
   "execution_count": 22,
   "id": "440f43e8",
   "metadata": {},
   "outputs": [
    {
     "name": "stdout",
     "output_type": "stream",
     "text": [
      "a\n",
      "b\n",
      "c\n",
      "d\n"
     ]
    }
   ],
   "source": [
    "for i in \"abcd\":\n",
    "    print(i)"
   ]
  },
  {
   "cell_type": "code",
   "execution_count": 23,
   "id": "5c947802",
   "metadata": {},
   "outputs": [
    {
     "name": "stdout",
     "output_type": "stream",
     "text": [
      "1\n",
      "2\n",
      "3\n",
      "4\n",
      "5\n",
      "6\n",
      "7\n"
     ]
    }
   ],
   "source": [
    "t = (1,2,3,4,5,6,7)\n",
    "for i in t:\n",
    "    print(i)"
   ]
  },
  {
   "cell_type": "code",
   "execution_count": 24,
   "id": "f0a06140",
   "metadata": {},
   "outputs": [
    {
     "name": "stdout",
     "output_type": "stream",
     "text": [
      "1\n",
      "2\n",
      "3\n",
      "4\n",
      "(4+3j)\n",
      "afd\n",
      "4.5j\n"
     ]
    }
   ],
   "source": [
    "l = [1,2,3,4,4+3j, \"afd\", 4.5j]\n",
    "for i in l:\n",
    "    print(i)"
   ]
  },
  {
   "cell_type": "code",
   "execution_count": 27,
   "id": "b60ee9c6",
   "metadata": {},
   "outputs": [
    {
     "name": "stdout",
     "output_type": "stream",
     "text": [
      "<class 'int'>  type of  1\n",
      "<class 'int'>  type of  2\n",
      "<class 'int'>  type of  3\n",
      "<class 'int'>  type of  4\n",
      "<class 'complex'>  type of  (4+3j)\n",
      "<class 'str'>  type of  afd\n",
      "<class 'complex'>  type of  4.5j\n"
     ]
    }
   ],
   "source": [
    "for i in l:\n",
    "    print(type(i),\" type of \", i)"
   ]
  },
  {
   "cell_type": "code",
   "execution_count": 29,
   "id": "02301089",
   "metadata": {},
   "outputs": [
    {
     "name": "stdout",
     "output_type": "stream",
     "text": [
      "3\n",
      "6\n",
      "7\n",
      "8\n"
     ]
    }
   ],
   "source": [
    "l = [1,4,5,6]\n",
    "for i in l:\n",
    "    print(i+2)"
   ]
  },
  {
   "cell_type": "code",
   "execution_count": 30,
   "id": "50e3c1a7",
   "metadata": {},
   "outputs": [
    {
     "name": "stdout",
     "output_type": "stream",
     "text": [
      "3\n",
      "6\n",
      "7\n",
      "8\n"
     ]
    }
   ],
   "source": [
    "l = [1,4,5,6]\n",
    "l1= []\n",
    "for i in l:\n",
    "    print(i+2)\n",
    "    l1.append(i+2)"
   ]
  },
  {
   "cell_type": "code",
   "execution_count": 31,
   "id": "9184ad0b",
   "metadata": {},
   "outputs": [
    {
     "data": {
      "text/plain": [
       "[3, 6, 7, 8]"
      ]
     },
     "execution_count": 31,
     "metadata": {},
     "output_type": "execute_result"
    }
   ],
   "source": [
    "l1"
   ]
  },
  {
   "cell_type": "code",
   "execution_count": 34,
   "id": "6333450b",
   "metadata": {},
   "outputs": [
    {
     "name": "stdout",
     "output_type": "stream",
     "text": [
      "2\n",
      "45\n",
      "2\n",
      "245\n",
      "[1, 2, 3]\n"
     ]
    }
   ],
   "source": [
    "l = [2,45,2,245,26.5, \"here\",6+3j, [1,2,3]]\n",
    "\n",
    "for i in l:\n",
    "    if type(i) == int:\n",
    "        print(i)\n",
    "    elif type(i) == list:\n",
    "        print(i)"
   ]
  },
  {
   "cell_type": "code",
   "execution_count": 35,
   "id": "46e2ecd7",
   "metadata": {},
   "outputs": [
    {
     "name": "stdout",
     "output_type": "stream",
     "text": [
      "2\n",
      "45\n",
      "2\n",
      "245\n",
      "1\n",
      "2\n",
      "3\n"
     ]
    }
   ],
   "source": [
    "l = [2,45,2,245,26.5, \"here\",6+3j, [1,2,3, 34j,55.5]]\n",
    "\n",
    "for i in l:\n",
    "    if type(i) == int:\n",
    "        print(i)\n",
    "    elif type(i) == list:\n",
    "        for j in i:\n",
    "            if type(j)== int:\n",
    "                print(j)\n",
    "        "
   ]
  },
  {
   "cell_type": "code",
   "execution_count": 44,
   "id": "7e5d9fd8",
   "metadata": {},
   "outputs": [],
   "source": [
    "l = [2,45,78,12,\"here\", 6+7j,[23,4.5,34,\"dfsf\"]]\n",
    "\n"
   ]
  },
  {
   "cell_type": "code",
   "execution_count": 39,
   "id": "75e5510c",
   "metadata": {},
   "outputs": [
    {
     "name": "stdout",
     "output_type": "stream",
     "text": [
      "index 0 for an element 2\n",
      "index 1 for an element 45\n",
      "index 2 for an element 78\n",
      "index 3 for an element 12\n",
      "index 4 for an element here\n",
      "index 5 for an element (6+7j)\n",
      "index 6 for an element [23, 4.5, 34, 'dfsf']\n"
     ]
    }
   ],
   "source": [
    "for i in range(len(l)):\n",
    "    print(\"index\", i , \"for an element\", l[i])"
   ]
  },
  {
   "cell_type": "code",
   "execution_count": 41,
   "id": "f8c15744",
   "metadata": {},
   "outputs": [
    {
     "name": "stdout",
     "output_type": "stream",
     "text": [
      "(0, 2)\n",
      "(1, 45)\n",
      "(2, 78)\n",
      "(3, 12)\n",
      "(4, 'here')\n",
      "(5, (6+7j))\n",
      "(6, [23, 4.5, 34, 'dfsf'])\n"
     ]
    }
   ],
   "source": [
    "for i in enumerate(l):\n",
    "    print(i)"
   ]
  },
  {
   "cell_type": "code",
   "execution_count": 42,
   "id": "a5f917cd",
   "metadata": {},
   "outputs": [
    {
     "name": "stdout",
     "output_type": "stream",
     "text": [
      "0 2\n",
      "1 45\n",
      "2 78\n",
      "3 12\n",
      "4 here\n",
      "5 (6+7j)\n",
      "6 [23, 4.5, 34, 'dfsf']\n"
     ]
    }
   ],
   "source": [
    "for i,j in enumerate(l):\n",
    "    print(i, j)"
   ]
  },
  {
   "cell_type": "code",
   "execution_count": 43,
   "id": "49ae38b1",
   "metadata": {},
   "outputs": [
    {
     "name": "stdout",
     "output_type": "stream",
     "text": [
      "['h', 'e', 'r', 'e']\n"
     ]
    }
   ],
   "source": [
    "for i in l:\n",
    "    if type(i)== str:\n",
    "        l1=[]\n",
    "        for j in i :\n",
    "            l1.append(j)\n",
    "        print(l1)"
   ]
  },
  {
   "cell_type": "code",
   "execution_count": 46,
   "id": "2afd1ddb",
   "metadata": {},
   "outputs": [
    {
     "name": "stdout",
     "output_type": "stream",
     "text": [
      "4\n",
      "2025\n",
      "6084\n",
      "144\n"
     ]
    }
   ],
   "source": [
    "for i in l:\n",
    "    if type(i)== int:\n",
    "        print(i**2)"
   ]
  },
  {
   "cell_type": "code",
   "execution_count": 49,
   "id": "afd58c3e",
   "metadata": {},
   "outputs": [
    {
     "name": "stdout",
     "output_type": "stream",
     "text": [
      "[4]\n",
      "[4, 2025]\n",
      "[4, 2025, 6084]\n",
      "[4, 2025, 6084, 144]\n"
     ]
    }
   ],
   "source": [
    "l2=[]\n",
    "for i in l:\n",
    "    if type(i)== int:\n",
    "        l2.append(i**2)\n",
    "        print(l2)"
   ]
  },
  {
   "cell_type": "code",
   "execution_count": 50,
   "id": "e5ba9a55",
   "metadata": {},
   "outputs": [
    {
     "data": {
      "text/plain": [
       "[4, 2025, 6084, 144]"
      ]
     },
     "execution_count": 50,
     "metadata": {},
     "output_type": "execute_result"
    }
   ],
   "source": [
    "l2"
   ]
  },
  {
   "cell_type": "code",
   "execution_count": 65,
   "id": "b07be17c",
   "metadata": {},
   "outputs": [
    {
     "data": {
      "text/plain": [
       "7"
      ]
     },
     "execution_count": 65,
     "metadata": {},
     "output_type": "execute_result"
    }
   ],
   "source": [
    "l = [2,45,78,12,\"here\", 6+7j,[23,4.5,34,\"dfsf\"]]\n",
    "len(l)"
   ]
  },
  {
   "cell_type": "code",
   "execution_count": 66,
   "id": "c5cc7b3c",
   "metadata": {},
   "outputs": [
    {
     "data": {
      "text/plain": [
       "range(0, 7)"
      ]
     },
     "execution_count": 66,
     "metadata": {},
     "output_type": "execute_result"
    }
   ],
   "source": [
    "range(len(l))"
   ]
  },
  {
   "cell_type": "code",
   "execution_count": 67,
   "id": "b46948ac",
   "metadata": {},
   "outputs": [
    {
     "name": "stdout",
     "output_type": "stream",
     "text": [
      "2\n",
      "45\n",
      "78\n",
      "12\n",
      "here\n",
      "(6+7j)\n",
      "[23, 4.5, 34, 'dfsf']\n"
     ]
    }
   ],
   "source": [
    "for i in range(len(l)):\n",
    "    print(l[i])\n",
    "        "
   ]
  },
  {
   "cell_type": "code",
   "execution_count": null,
   "id": "6de4990a",
   "metadata": {},
   "outputs": [],
   "source": []
  }
 ],
 "metadata": {
  "kernelspec": {
   "display_name": "Python 3 (ipykernel)",
   "language": "python",
   "name": "python3"
  },
  "language_info": {
   "codemirror_mode": {
    "name": "ipython",
    "version": 3
   },
   "file_extension": ".py",
   "mimetype": "text/x-python",
   "name": "python",
   "nbconvert_exporter": "python",
   "pygments_lexer": "ipython3",
   "version": "3.9.12"
  }
 },
 "nbformat": 4,
 "nbformat_minor": 5
}
