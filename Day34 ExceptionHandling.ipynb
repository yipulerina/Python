{
 "cells": [
  {
   "cell_type": "markdown",
   "id": "9cf6003e",
   "metadata": {},
   "source": [
    "# Syntax error or Parsing error"
   ]
  },
  {
   "cell_type": "code",
   "execution_count": 5,
   "id": "80550581",
   "metadata": {},
   "outputs": [
    {
     "ename": "IndentationError",
     "evalue": "unexpected indent (284568136.py, line 3)",
     "output_type": "error",
     "traceback": [
      "\u001b[1;36m  Cell \u001b[1;32mIn[5], line 3\u001b[1;36m\u001b[0m\n\u001b[1;33m    print(\"mistake on purpose\")\u001b[0m\n\u001b[1;37m    ^\u001b[0m\n\u001b[1;31mIndentationError\u001b[0m\u001b[1;31m:\u001b[0m unexpected indent\n"
     ]
    }
   ],
   "source": [
    "# Syntax error or parsing error\n",
    "print(\" I write code\")\n",
    "    print(\"mistake on purpose\")"
   ]
  },
  {
   "cell_type": "code",
   "execution_count": 6,
   "id": "9f74fd1e",
   "metadata": {},
   "outputs": [
    {
     "ename": "NameError",
     "evalue": "name 'a' is not defined",
     "output_type": "error",
     "traceback": [
      "\u001b[1;31m---------------------------------------------------------------------------\u001b[0m",
      "\u001b[1;31mNameError\u001b[0m                                 Traceback (most recent call last)",
      "Cell \u001b[1;32mIn[6], line 2\u001b[0m\n\u001b[0;32m      1\u001b[0m \u001b[38;5;66;03m# Syntax error or parsing error\u001b[39;00m\n\u001b[1;32m----> 2\u001b[0m \u001b[43ma\u001b[49m\u001b[38;5;241m-\u001b[39m\u001b[38;5;241m10\u001b[39m\n",
      "\u001b[1;31mNameError\u001b[0m: name 'a' is not defined"
     ]
    }
   ],
   "source": [
    "# Syntax error or parsing error\n",
    "a-10"
   ]
  },
  {
   "cell_type": "code",
   "execution_count": 4,
   "id": "c9f26583",
   "metadata": {},
   "outputs": [
    {
     "ename": "SyntaxError",
     "evalue": "invalid syntax (2836500736.py, line 2)",
     "output_type": "error",
     "traceback": [
      "\u001b[1;36m  Cell \u001b[1;32mIn[4], line 2\u001b[1;36m\u001b[0m\n\u001b[1;33m    if (a<10)\u001b[0m\n\u001b[1;37m             ^\u001b[0m\n\u001b[1;31mSyntaxError\u001b[0m\u001b[1;31m:\u001b[0m invalid syntax\n"
     ]
    }
   ],
   "source": [
    "# Syntax error or parsing error\n",
    "if (a<10)\n",
    "    print(\"making a mistake\")"
   ]
  },
  {
   "cell_type": "markdown",
   "id": "9073c549",
   "metadata": {},
   "source": [
    "# Logical error\n",
    "\n",
    "Occurs during runtime:\n",
    "1. file not found error\n",
    "2. zero division error\n",
    "3. Import error"
   ]
  },
  {
   "cell_type": "code",
   "execution_count": 7,
   "id": "bea784d1",
   "metadata": {},
   "outputs": [
    {
     "data": {
      "text/plain": [
       "0.5"
      ]
     },
     "execution_count": 7,
     "metadata": {},
     "output_type": "execute_result"
    }
   ],
   "source": [
    "1/2"
   ]
  },
  {
   "cell_type": "code",
   "execution_count": 9,
   "id": "b540d5bb",
   "metadata": {},
   "outputs": [
    {
     "ename": "ZeroDivisionError",
     "evalue": "division by zero",
     "output_type": "error",
     "traceback": [
      "\u001b[1;31m---------------------------------------------------------------------------\u001b[0m",
      "\u001b[1;31mZeroDivisionError\u001b[0m                         Traceback (most recent call last)",
      "Cell \u001b[1;32mIn[9], line 2\u001b[0m\n\u001b[0;32m      1\u001b[0m \u001b[38;5;66;03m#logical error\u001b[39;00m\n\u001b[1;32m----> 2\u001b[0m \u001b[38;5;241;43m1\u001b[39;49m\u001b[38;5;241;43m/\u001b[39;49m\u001b[38;5;241;43m0\u001b[39;49m\n",
      "\u001b[1;31mZeroDivisionError\u001b[0m: division by zero"
     ]
    }
   ],
   "source": [
    "#logical error\n",
    "1/0"
   ]
  },
  {
   "cell_type": "code",
   "execution_count": 14,
   "id": "44a9c2ff",
   "metadata": {},
   "outputs": [
    {
     "ename": "FileNotFoundError",
     "evalue": "[Errno 2] No such file or directory: 'tett.txt'",
     "output_type": "error",
     "traceback": [
      "\u001b[1;31m---------------------------------------------------------------------------\u001b[0m",
      "\u001b[1;31mFileNotFoundError\u001b[0m                         Traceback (most recent call last)",
      "Cell \u001b[1;32mIn[14], line 2\u001b[0m\n\u001b[0;32m      1\u001b[0m \u001b[38;5;66;03m# logical error\u001b[39;00m\n\u001b[1;32m----> 2\u001b[0m \u001b[38;5;28;43mopen\u001b[39;49m\u001b[43m(\u001b[49m\u001b[38;5;124;43m'\u001b[39;49m\u001b[38;5;124;43mtett.txt\u001b[39;49m\u001b[38;5;124;43m'\u001b[39;49m\u001b[43m)\u001b[49m\n",
      "File \u001b[1;32m~\\anaconda3\\lib\\site-packages\\IPython\\core\\interactiveshell.py:282\u001b[0m, in \u001b[0;36m_modified_open\u001b[1;34m(file, *args, **kwargs)\u001b[0m\n\u001b[0;32m    275\u001b[0m \u001b[38;5;28;01mif\u001b[39;00m file \u001b[38;5;129;01min\u001b[39;00m {\u001b[38;5;241m0\u001b[39m, \u001b[38;5;241m1\u001b[39m, \u001b[38;5;241m2\u001b[39m}:\n\u001b[0;32m    276\u001b[0m     \u001b[38;5;28;01mraise\u001b[39;00m \u001b[38;5;167;01mValueError\u001b[39;00m(\n\u001b[0;32m    277\u001b[0m         \u001b[38;5;124mf\u001b[39m\u001b[38;5;124m\"\u001b[39m\u001b[38;5;124mIPython won\u001b[39m\u001b[38;5;124m'\u001b[39m\u001b[38;5;124mt let you open fd=\u001b[39m\u001b[38;5;132;01m{\u001b[39;00mfile\u001b[38;5;132;01m}\u001b[39;00m\u001b[38;5;124m by default \u001b[39m\u001b[38;5;124m\"\u001b[39m\n\u001b[0;32m    278\u001b[0m         \u001b[38;5;124m\"\u001b[39m\u001b[38;5;124mas it is likely to crash IPython. If you know what you are doing, \u001b[39m\u001b[38;5;124m\"\u001b[39m\n\u001b[0;32m    279\u001b[0m         \u001b[38;5;124m\"\u001b[39m\u001b[38;5;124myou can use builtins\u001b[39m\u001b[38;5;124m'\u001b[39m\u001b[38;5;124m open.\u001b[39m\u001b[38;5;124m\"\u001b[39m\n\u001b[0;32m    280\u001b[0m     )\n\u001b[1;32m--> 282\u001b[0m \u001b[38;5;28;01mreturn\u001b[39;00m io_open(file, \u001b[38;5;241m*\u001b[39margs, \u001b[38;5;241m*\u001b[39m\u001b[38;5;241m*\u001b[39mkwargs)\n",
      "\u001b[1;31mFileNotFoundError\u001b[0m: [Errno 2] No such file or directory: 'tett.txt'"
     ]
    }
   ],
   "source": [
    "# logical error\n",
    "open('tett.txt')"
   ]
  },
  {
   "cell_type": "code",
   "execution_count": 15,
   "id": "879b6435",
   "metadata": {},
   "outputs": [
    {
     "ename": "NameError",
     "evalue": "name 'c' is not defined",
     "output_type": "error",
     "traceback": [
      "\u001b[1;31m---------------------------------------------------------------------------\u001b[0m",
      "\u001b[1;31mNameError\u001b[0m                                 Traceback (most recent call last)",
      "Cell \u001b[1;32mIn[15], line 3\u001b[0m\n\u001b[0;32m      1\u001b[0m a\u001b[38;5;241m=\u001b[39m\u001b[38;5;241m10\u001b[39m\n\u001b[0;32m      2\u001b[0m b \u001b[38;5;241m=\u001b[39m \u001b[38;5;241m20\u001b[39m\n\u001b[1;32m----> 3\u001b[0m \u001b[38;5;28mprint\u001b[39m(\u001b[38;5;124m\"\u001b[39m\u001b[38;5;124mAddition\u001b[39m\u001b[38;5;124m\"\u001b[39m, a\u001b[38;5;241m+\u001b[39m\u001b[43mc\u001b[49m)\n",
      "\u001b[1;31mNameError\u001b[0m: name 'c' is not defined"
     ]
    }
   ],
   "source": [
    "a=10\n",
    "b = 20\n",
    "print(\"Addition\", a+c)"
   ]
  },
  {
   "cell_type": "code",
   "execution_count": 16,
   "id": "57dd7544",
   "metadata": {},
   "outputs": [
    {
     "name": "stdout",
     "output_type": "stream",
     "text": [
      "['ArithmeticError', 'AssertionError', 'AttributeError', 'BaseException', 'BlockingIOError', 'BrokenPipeError', 'BufferError', 'BytesWarning', 'ChildProcessError', 'ConnectionAbortedError', 'ConnectionError', 'ConnectionRefusedError', 'ConnectionResetError', 'DeprecationWarning', 'EOFError', 'Ellipsis', 'EnvironmentError', 'Exception', 'False', 'FileExistsError', 'FileNotFoundError', 'FloatingPointError', 'FutureWarning', 'GeneratorExit', 'IOError', 'ImportError', 'ImportWarning', 'IndentationError', 'IndexError', 'InterruptedError', 'IsADirectoryError', 'KeyError', 'KeyboardInterrupt', 'LookupError', 'MemoryError', 'ModuleNotFoundError', 'NameError', 'None', 'NotADirectoryError', 'NotImplemented', 'NotImplementedError', 'OSError', 'OverflowError', 'PendingDeprecationWarning', 'PermissionError', 'ProcessLookupError', 'RecursionError', 'ReferenceError', 'ResourceWarning', 'RuntimeError', 'RuntimeWarning', 'StopAsyncIteration', 'StopIteration', 'SyntaxError', 'SyntaxWarning', 'SystemError', 'SystemExit', 'TabError', 'TimeoutError', 'True', 'TypeError', 'UnboundLocalError', 'UnicodeDecodeError', 'UnicodeEncodeError', 'UnicodeError', 'UnicodeTranslateError', 'UnicodeWarning', 'UserWarning', 'ValueError', 'Warning', 'WindowsError', 'ZeroDivisionError', '__IPYTHON__', '__build_class__', '__debug__', '__doc__', '__import__', '__loader__', '__name__', '__package__', '__spec__', 'abs', 'all', 'any', 'ascii', 'bin', 'bool', 'breakpoint', 'bytearray', 'bytes', 'callable', 'chr', 'classmethod', 'compile', 'complex', 'copyright', 'credits', 'delattr', 'dict', 'dir', 'display', 'divmod', 'enumerate', 'eval', 'exec', 'execfile', 'filter', 'float', 'format', 'frozenset', 'get_ipython', 'getattr', 'globals', 'hasattr', 'hash', 'help', 'hex', 'id', 'input', 'int', 'isinstance', 'issubclass', 'iter', 'len', 'license', 'list', 'locals', 'map', 'max', 'memoryview', 'min', 'next', 'object', 'oct', 'open', 'ord', 'pow', 'print', 'property', 'range', 'repr', 'reversed', 'round', 'runfile', 'set', 'setattr', 'slice', 'sorted', 'staticmethod', 'str', 'sum', 'super', 'tuple', 'type', 'vars', 'zip']\n"
     ]
    }
   ],
   "source": [
    "print(dir(locals()['__builtins__']))"
   ]
  },
  {
   "cell_type": "markdown",
   "id": "6b885452",
   "metadata": {},
   "source": [
    "# Assertion Error\n",
    "\n",
    "Assert is used as keyword while debugging code.\n",
    "It will test if a condition in your code return error, if false returns an error"
   ]
  },
  {
   "cell_type": "code",
   "execution_count": 17,
   "id": "b74893a9",
   "metadata": {},
   "outputs": [
    {
     "ename": "AssertionError",
     "evalue": "Invalid Operation",
     "output_type": "error",
     "traceback": [
      "\u001b[1;31m---------------------------------------------------------------------------\u001b[0m",
      "\u001b[1;31mAssertionError\u001b[0m                            Traceback (most recent call last)",
      "Cell \u001b[1;32mIn[17], line 4\u001b[0m\n\u001b[0;32m      1\u001b[0m x \u001b[38;5;241m=\u001b[39m \u001b[38;5;241m1\u001b[39m\n\u001b[0;32m      2\u001b[0m y \u001b[38;5;241m=\u001b[39m \u001b[38;5;241m0\u001b[39m\n\u001b[1;32m----> 4\u001b[0m \u001b[38;5;28;01massert\u001b[39;00m y \u001b[38;5;241m!=\u001b[39m\u001b[38;5;241m0\u001b[39m,\u001b[38;5;124m\"\u001b[39m\u001b[38;5;124mInvalid Operation\u001b[39m\u001b[38;5;124m\"\u001b[39m\n\u001b[0;32m      5\u001b[0m \u001b[38;5;28mprint\u001b[39m(x\u001b[38;5;241m/\u001b[39my)\n",
      "\u001b[1;31mAssertionError\u001b[0m: Invalid Operation"
     ]
    }
   ],
   "source": [
    "x = 1\n",
    "y = 0\n",
    "\n",
    "assert y !=0,\"Invalid Operation\"\n",
    "print(x/y)"
   ]
  },
  {
   "cell_type": "code",
   "execution_count": 18,
   "id": "fe9310fa",
   "metadata": {},
   "outputs": [
    {
     "name": "stdout",
     "output_type": "stream",
     "text": [
      "0.3333333333333333\n"
     ]
    }
   ],
   "source": [
    "x = 1\n",
    "y = 3\n",
    "\n",
    "assert y ==3,\"Invalid Operation\"\n",
    "print(x/y)"
   ]
  },
  {
   "cell_type": "markdown",
   "id": "db92b937",
   "metadata": {},
   "source": [
    "# Attribute error\n",
    "\n",
    "when Assignment fails, it throws an attribute error"
   ]
  },
  {
   "cell_type": "code",
   "execution_count": 19,
   "id": "16e39b89",
   "metadata": {},
   "outputs": [],
   "source": [
    "y = 10"
   ]
  },
  {
   "cell_type": "code",
   "execution_count": 20,
   "id": "fc444890",
   "metadata": {},
   "outputs": [
    {
     "ename": "AttributeError",
     "evalue": "'int' object has no attribute 'append'",
     "output_type": "error",
     "traceback": [
      "\u001b[1;31m---------------------------------------------------------------------------\u001b[0m",
      "\u001b[1;31mAttributeError\u001b[0m                            Traceback (most recent call last)",
      "Cell \u001b[1;32mIn[20], line 1\u001b[0m\n\u001b[1;32m----> 1\u001b[0m \u001b[43my\u001b[49m\u001b[38;5;241;43m.\u001b[39;49m\u001b[43mappend\u001b[49m(\u001b[38;5;241m6\u001b[39m)\n",
      "\u001b[1;31mAttributeError\u001b[0m: 'int' object has no attribute 'append'"
     ]
    }
   ],
   "source": [
    "y.append(6)"
   ]
  },
  {
   "cell_type": "markdown",
   "id": "50f0b8bb",
   "metadata": {},
   "source": [
    "# Import error"
   ]
  },
  {
   "cell_type": "code",
   "execution_count": 21,
   "id": "97fd7fdc",
   "metadata": {},
   "outputs": [
    {
     "ename": "SyntaxError",
     "evalue": "EOL while scanning string literal (1656084434.py, line 1)",
     "output_type": "error",
     "traceback": [
      "\u001b[1;36m  Cell \u001b[1;32mIn[21], line 1\u001b[1;36m\u001b[0m\n\u001b[1;33m    open(tett.txt\")\u001b[0m\n\u001b[1;37m                   ^\u001b[0m\n\u001b[1;31mSyntaxError\u001b[0m\u001b[1;31m:\u001b[0m EOL while scanning string literal\n"
     ]
    }
   ],
   "source": [
    "open(tett.txt\")"
   ]
  },
  {
   "cell_type": "markdown",
   "id": "52f6379d",
   "metadata": {},
   "source": [
    "# Index Error"
   ]
  },
  {
   "cell_type": "code",
   "execution_count": 23,
   "id": "dc699e09",
   "metadata": {},
   "outputs": [],
   "source": [
    "mylist = [1,2,3,4,5,6,7]"
   ]
  },
  {
   "cell_type": "code",
   "execution_count": 24,
   "id": "82c41e1a",
   "metadata": {},
   "outputs": [
    {
     "ename": "IndexError",
     "evalue": "list index out of range",
     "output_type": "error",
     "traceback": [
      "\u001b[1;31m---------------------------------------------------------------------------\u001b[0m",
      "\u001b[1;31mIndexError\u001b[0m                                Traceback (most recent call last)",
      "Cell \u001b[1;32mIn[24], line 1\u001b[0m\n\u001b[1;32m----> 1\u001b[0m \u001b[43mmylist\u001b[49m\u001b[43m[\u001b[49m\u001b[38;5;241;43m10\u001b[39;49m\u001b[43m]\u001b[49m\n",
      "\u001b[1;31mIndexError\u001b[0m: list index out of range"
     ]
    }
   ],
   "source": [
    "mylist[10]"
   ]
  },
  {
   "cell_type": "markdown",
   "id": "d9868e8d",
   "metadata": {},
   "source": [
    "# Key error"
   ]
  },
  {
   "cell_type": "code",
   "execution_count": 26,
   "id": "c52a78b9",
   "metadata": {},
   "outputs": [],
   "source": [
    "mydict = {\n",
    "    \"name\":\"ok\",\n",
    "    \"course\": \"fsds\"\n",
    "}"
   ]
  },
  {
   "cell_type": "code",
   "execution_count": 27,
   "id": "b786c430",
   "metadata": {},
   "outputs": [
    {
     "ename": "KeyError",
     "evalue": "'age'",
     "output_type": "error",
     "traceback": [
      "\u001b[1;31m---------------------------------------------------------------------------\u001b[0m",
      "\u001b[1;31mKeyError\u001b[0m                                  Traceback (most recent call last)",
      "Cell \u001b[1;32mIn[27], line 1\u001b[0m\n\u001b[1;32m----> 1\u001b[0m \u001b[43mmydict\u001b[49m\u001b[43m[\u001b[49m\u001b[38;5;124;43m\"\u001b[39;49m\u001b[38;5;124;43mage\u001b[39;49m\u001b[38;5;124;43m\"\u001b[39;49m\u001b[43m]\u001b[49m\n",
      "\u001b[1;31mKeyError\u001b[0m: 'age'"
     ]
    }
   ],
   "source": [
    "mydict[\"age\"]"
   ]
  },
  {
   "cell_type": "markdown",
   "id": "0588a857",
   "metadata": {},
   "source": [
    "# Name Error"
   ]
  },
  {
   "cell_type": "code",
   "execution_count": 28,
   "id": "fc7dbcf3",
   "metadata": {},
   "outputs": [
    {
     "ename": "NameError",
     "evalue": "name 'm' is not defined",
     "output_type": "error",
     "traceback": [
      "\u001b[1;31m---------------------------------------------------------------------------\u001b[0m",
      "\u001b[1;31mNameError\u001b[0m                                 Traceback (most recent call last)",
      "Cell \u001b[1;32mIn[28], line 1\u001b[0m\n\u001b[1;32m----> 1\u001b[0m \u001b[38;5;28mprint\u001b[39m(\u001b[43mm\u001b[49m)\n",
      "\u001b[1;31mNameError\u001b[0m: name 'm' is not defined"
     ]
    }
   ],
   "source": [
    "print(m)"
   ]
  },
  {
   "cell_type": "markdown",
   "id": "73474f62",
   "metadata": {},
   "source": [
    "# Runtime Error\n",
    "\n",
    "When it does not belong to any category of errors it returns Runtime Error"
   ]
  },
  {
   "cell_type": "code",
   "execution_count": 29,
   "id": "f81e5dd0",
   "metadata": {},
   "outputs": [],
   "source": [
    "import math"
   ]
  },
  {
   "cell_type": "code",
   "execution_count": 30,
   "id": "3dc0eca2",
   "metadata": {},
   "outputs": [
    {
     "ename": "ValueError",
     "evalue": "math domain error",
     "output_type": "error",
     "traceback": [
      "\u001b[1;31m---------------------------------------------------------------------------\u001b[0m",
      "\u001b[1;31mValueError\u001b[0m                                Traceback (most recent call last)",
      "Cell \u001b[1;32mIn[30], line 1\u001b[0m\n\u001b[1;32m----> 1\u001b[0m \u001b[43mmath\u001b[49m\u001b[38;5;241;43m.\u001b[39;49m\u001b[43msqrt\u001b[49m\u001b[43m(\u001b[49m\u001b[38;5;241;43m-\u001b[39;49m\u001b[38;5;241;43m200\u001b[39;49m\u001b[43m)\u001b[49m\n",
      "\u001b[1;31mValueError\u001b[0m: math domain error"
     ]
    }
   ],
   "source": [
    "math.sqrt(-200)"
   ]
  },
  {
   "cell_type": "markdown",
   "id": "abef1f07",
   "metadata": {},
   "source": [
    "# How to handle errors\n",
    "\n",
    "errors can be handled by using:\n",
    "1. try\n",
    "2. except\n",
    "3. finally\n",
    "4. else"
   ]
  },
  {
   "cell_type": "code",
   "execution_count": 32,
   "id": "20611221",
   "metadata": {},
   "outputs": [
    {
     "name": "stdout",
     "output_type": "stream",
     "text": [
      "0\n"
     ]
    },
    {
     "ename": "ZeroDivisionError",
     "evalue": "division by zero",
     "output_type": "error",
     "traceback": [
      "\u001b[1;31m---------------------------------------------------------------------------\u001b[0m",
      "\u001b[1;31mZeroDivisionError\u001b[0m                         Traceback (most recent call last)",
      "Cell \u001b[1;32mIn[32], line 3\u001b[0m\n\u001b[0;32m      1\u001b[0m a\u001b[38;5;241m=\u001b[39m \u001b[38;5;241m5\u001b[39m\n\u001b[0;32m      2\u001b[0m b \u001b[38;5;241m=\u001b[39m \u001b[38;5;28mint\u001b[39m(\u001b[38;5;28minput\u001b[39m())\n\u001b[1;32m----> 3\u001b[0m \u001b[43ma\u001b[49m\u001b[38;5;241;43m/\u001b[39;49m\u001b[43mb\u001b[49m\n",
      "\u001b[1;31mZeroDivisionError\u001b[0m: division by zero"
     ]
    }
   ],
   "source": [
    "a= 5\n",
    "b = int(input())\n",
    "a/b"
   ]
  },
  {
   "cell_type": "code",
   "execution_count": 34,
   "id": "1a31689e",
   "metadata": {},
   "outputs": [
    {
     "name": "stdout",
     "output_type": "stream",
     "text": [
      "cannot divide with zero, provide different number\n"
     ]
    }
   ],
   "source": [
    "# To make sure our entire program does not crash\n",
    "try:\n",
    "    a= 5\n",
    "    b = 0\n",
    "    c =a/b\n",
    "    print(c)\n",
    "except:\n",
    "    print(\"cannot divide with zero, provide different number\")\n",
    "    "
   ]
  },
  {
   "cell_type": "code",
   "execution_count": 35,
   "id": "5accfb70",
   "metadata": {},
   "outputs": [
    {
     "name": "stdout",
     "output_type": "stream",
     "text": [
      "2.5\n"
     ]
    }
   ],
   "source": [
    "try:\n",
    "    a= 5\n",
    "    b = 2\n",
    "    c =a/b\n",
    "    print(c)\n",
    "except:\n",
    "    print(\"cannot divide with zero, provide different number\")\n",
    "    "
   ]
  },
  {
   "cell_type": "code",
   "execution_count": 37,
   "id": "621d4011",
   "metadata": {},
   "outputs": [
    {
     "name": "stdout",
     "output_type": "stream",
     "text": [
      "there was a mistake, no file tett\n",
      "this is outer block\n"
     ]
    }
   ],
   "source": [
    "try:\n",
    "    f.open(\"tett.txt\",\"r\")\n",
    "    f.write(\"ineuron\")\n",
    "except:\n",
    "    print(\"there was a mistake, no file tett\")\n",
    "\n",
    "print(\"this is outer block\")"
   ]
  },
  {
   "cell_type": "code",
   "execution_count": 38,
   "id": "c31a7697",
   "metadata": {},
   "outputs": [
    {
     "name": "stdout",
     "output_type": "stream",
     "text": [
      "[4, 2, 4, 5, 6, 73, 32]\n",
      "[4, 2, 4, 5, 6, 73, 32]\n",
      "[4, 2, 4, 5, 6, 73, 32]\n",
      "[4, 2, 4, 5, 6, 73, 32]\n",
      "[4, 2, 4, 5, 6, 73, 32]\n",
      "[4, 2, 4, 5, 6, 73, 32]\n",
      "[4, 2, 4, 5, 6, 73, 32]\n"
     ]
    }
   ],
   "source": [
    "l = [4,2,4,5,6,73,32,]\n",
    "\n",
    "try:\n",
    "    for i in range(len(l)):\n",
    "        print(l)\n",
    "except:\n",
    "    print(\"this is not working\")"
   ]
  },
  {
   "cell_type": "code",
   "execution_count": 42,
   "id": "66f2f18f",
   "metadata": {},
   "outputs": [
    {
     "name": "stdout",
     "output_type": "stream",
     "text": [
      "4\n",
      "2\n",
      "4\n",
      "5\n",
      "6\n",
      "73\n",
      "32\n",
      "this is not working\n"
     ]
    }
   ],
   "source": [
    "l = [4,2,4,5,6,73,32,]\n",
    "\n",
    "try:\n",
    "    for i in range(len(l)+1):\n",
    "        print(l[i])\n",
    "except:\n",
    "    print(\"this is not working\")"
   ]
  },
  {
   "cell_type": "code",
   "execution_count": 43,
   "id": "e46bfecb",
   "metadata": {},
   "outputs": [
    {
     "name": "stdout",
     "output_type": "stream",
     "text": [
      "4\n",
      "2\n",
      "4\n",
      "5\n",
      "6\n",
      "73\n",
      "32\n"
     ]
    },
    {
     "ename": "IndexError",
     "evalue": "list index out of range",
     "output_type": "error",
     "traceback": [
      "\u001b[1;31m---------------------------------------------------------------------------\u001b[0m",
      "\u001b[1;31mIndexError\u001b[0m                                Traceback (most recent call last)",
      "Cell \u001b[1;32mIn[43], line 2\u001b[0m\n\u001b[0;32m      1\u001b[0m \u001b[38;5;28;01mfor\u001b[39;00m i \u001b[38;5;129;01min\u001b[39;00m \u001b[38;5;28mrange\u001b[39m(\u001b[38;5;28mlen\u001b[39m(l)\u001b[38;5;241m+\u001b[39m\u001b[38;5;241m1\u001b[39m):\n\u001b[1;32m----> 2\u001b[0m         \u001b[38;5;28mprint\u001b[39m(\u001b[43ml\u001b[49m\u001b[43m[\u001b[49m\u001b[43mi\u001b[49m\u001b[43m]\u001b[49m)\n",
      "\u001b[1;31mIndexError\u001b[0m: list index out of range"
     ]
    }
   ],
   "source": [
    "for i in range(len(l)+1):\n",
    "        print(l[i])"
   ]
  },
  {
   "cell_type": "markdown",
   "id": "63d87a3a",
   "metadata": {},
   "source": [
    "# Exception - Superclass for handling all errors"
   ]
  },
  {
   "cell_type": "code",
   "execution_count": 44,
   "id": "1ff042b7",
   "metadata": {},
   "outputs": [
    {
     "name": "stdout",
     "output_type": "stream",
     "text": [
      "4\n",
      "2\n",
      "4\n",
      "5\n",
      "6\n",
      "73\n",
      "32\n",
      "list index out of range\n",
      "this is not working\n"
     ]
    }
   ],
   "source": [
    "l = [4,2,4,5,6,73,32,]\n",
    "\n",
    "try:\n",
    "    for i in range(len(l)+1):\n",
    "        print(l[i])\n",
    "# Exception is a superclass that has all the exception for handling errors\n",
    "except Exception as e:\n",
    "    print(e)\n",
    "    print(\"this is not working\")"
   ]
  },
  {
   "cell_type": "code",
   "execution_count": 45,
   "id": "587e5b40",
   "metadata": {},
   "outputs": [
    {
     "name": "stdout",
     "output_type": "stream",
     "text": [
      "a\n",
      "invalid literal for int() with base 10: 'a'\n",
      "ineuron\n"
     ]
    }
   ],
   "source": [
    "try: \n",
    "    a = int(input())\n",
    "    b = int(input())\n",
    "    \n",
    "except Exception as e:\n",
    "    print(e)\n",
    "print(\"ineuron\")"
   ]
  },
  {
   "cell_type": "code",
   "execution_count": 47,
   "id": "ca5a8289",
   "metadata": {},
   "outputs": [
    {
     "name": "stdout",
     "output_type": "stream",
     "text": [
      "a\n"
     ]
    },
    {
     "ename": "ValueError",
     "evalue": "invalid literal for int() with base 10: 'a'",
     "output_type": "error",
     "traceback": [
      "\u001b[1;31m---------------------------------------------------------------------------\u001b[0m",
      "\u001b[1;31mValueError\u001b[0m                                Traceback (most recent call last)",
      "Cell \u001b[1;32mIn[47], line 2\u001b[0m\n\u001b[0;32m      1\u001b[0m \u001b[38;5;66;03m# Value error -> when you enter wrong value\u001b[39;00m\n\u001b[1;32m----> 2\u001b[0m a \u001b[38;5;241m=\u001b[39m \u001b[38;5;28;43mint\u001b[39;49m\u001b[43m(\u001b[49m\u001b[38;5;28;43minput\u001b[39;49m\u001b[43m(\u001b[49m\u001b[43m)\u001b[49m\u001b[43m)\u001b[49m\n",
      "\u001b[1;31mValueError\u001b[0m: invalid literal for int() with base 10: 'a'"
     ]
    }
   ],
   "source": [
    "# Value error -> when you enter wrong value\n",
    "a = int(input())"
   ]
  },
  {
   "cell_type": "code",
   "execution_count": 48,
   "id": "6d23fc87",
   "metadata": {},
   "outputs": [
    {
     "name": "stdout",
     "output_type": "stream",
     "text": [
      "Enter a value of a:1\n",
      "Enter value of b: a\n",
      "Entered wrong value\n"
     ]
    }
   ],
   "source": [
    "try:\n",
    "    a =int(input(\"Enter a value of a:\"))\n",
    "    b =int(input(\"Enter value of b: \"))\n",
    "    c = a/b\n",
    "    print(\"answer\",c)\n",
    "except ValueError:\n",
    "    print(\"Entered wrong value\")\n",
    "except ZeroDivisionError:\n",
    "    pritn(\"zero not allowed for division\")"
   ]
  },
  {
   "cell_type": "code",
   "execution_count": 50,
   "id": "ecf2ade2",
   "metadata": {},
   "outputs": [
    {
     "name": "stdout",
     "output_type": "stream",
     "text": [
      "Enter a value of a:1\n",
      "Enter value of b: 0\n",
      "zero not allowed for division\n"
     ]
    }
   ],
   "source": [
    "try:\n",
    "    a =int(input(\"Enter a value of a:\"))\n",
    "    b =int(input(\"Enter value of b: \"))\n",
    "    c = a/b\n",
    "    print(\"answer\",c)\n",
    "except ValueError:\n",
    "    print(\"Entered wrong value\")\n",
    "except ZeroDivisionError:\n",
    "    print(\"zero not allowed for division\")"
   ]
  },
  {
   "cell_type": "code",
   "execution_count": 54,
   "id": "8884633b",
   "metadata": {},
   "outputs": [
    {
     "name": "stdout",
     "output_type": "stream",
     "text": [
      "the entry is a\n",
      "oops <class 'ValueError'> occured\n",
      "next entry \n",
      "the entry is 0\n",
      "oops <class 'ZeroDivisionError'> occured\n",
      "next entry \n",
      "the entry is 2\n",
      "the reciprocal of  2 is 0.5\n"
     ]
    }
   ],
   "source": [
    "import sys\n",
    "\n",
    "randomList = ['a',0,2]\n",
    "\n",
    "for entry in randomList:\n",
    "    try:\n",
    "        print(\"the entry is\",entry)\n",
    "        r = 1/int(entry)\n",
    "        break\n",
    "    except:\n",
    "        print(\"oops\",sys.exc_info()[0],\"occured\")\n",
    "        print(\"next entry \")\n",
    "print(\"the reciprocal of \",entry,\"is\",r )"
   ]
  },
  {
   "cell_type": "code",
   "execution_count": null,
   "id": "cdfb9ede",
   "metadata": {},
   "outputs": [],
   "source": [
    "try:\n",
    "    pass\n",
    "except Exception as e:\n",
    "    print(e)\n",
    "else:\n",
    "    #this code executes when exception not occured"
   ]
  },
  {
   "cell_type": "code",
   "execution_count": 56,
   "id": "32dc6ef8",
   "metadata": {},
   "outputs": [
    {
     "name": "stdout",
     "output_type": "stream",
     "text": [
      "Enter a number: 8\n",
      "0.125\n"
     ]
    }
   ],
   "source": [
    "try:\n",
    "    num= int(input(\"Enter a number: \"))\n",
    "    assert num %2 ==0\n",
    "except:\n",
    "    print(\"not an even number\")\n",
    "else:\n",
    "    reciprocal =1/num\n",
    "    print(reciprocal)"
   ]
  },
  {
   "cell_type": "code",
   "execution_count": 59,
   "id": "8a9277ec",
   "metadata": {},
   "outputs": [
    {
     "name": "stdout",
     "output_type": "stream",
     "text": [
      "Enter a value of a:4\n",
      "Enter value of b: 4\n",
      "answer 1.0\n",
      "else block\n"
     ]
    }
   ],
   "source": [
    "try:\n",
    "    a =int(input(\"Enter a value of a:\"))\n",
    "    b =int(input(\"Enter value of b: \"))\n",
    "    c = a/b\n",
    "    print(\"answer\",c)\n",
    "except ZeroDivisionError:\n",
    "    print(\"zero not allowed for division\")\n",
    "else:\n",
    "    print(\"else block\")"
   ]
  },
  {
   "cell_type": "code",
   "execution_count": 61,
   "id": "efe6c40b",
   "metadata": {},
   "outputs": [
    {
     "name": "stdout",
     "output_type": "stream",
     "text": [
      "Enter a value of a:5\n",
      "Enter value of b: 0\n",
      "zero not allowed for division\n",
      "finally block always get executed\n"
     ]
    }
   ],
   "source": [
    "try:\n",
    "    a =int(input(\"Enter a value of a:\"))\n",
    "    b =int(input(\"Enter value of b: \"))\n",
    "    c = a/b\n",
    "    print(\"answer\",c)\n",
    "except ZeroDivisionError:\n",
    "    print(\"zero not allowed for division\")\n",
    "finally:\n",
    "    print(\"finally block always get executed\")"
   ]
  },
  {
   "cell_type": "code",
   "execution_count": 62,
   "id": "67ea0579",
   "metadata": {},
   "outputs": [],
   "source": [
    "def divide(x,y):\n",
    "    print(x/y)"
   ]
  },
  {
   "cell_type": "code",
   "execution_count": 64,
   "id": "bef0a099",
   "metadata": {},
   "outputs": [
    {
     "name": "stdout",
     "output_type": "stream",
     "text": [
      "5.0\n"
     ]
    },
    {
     "ename": "ZeroDivisionError",
     "evalue": "division by zero",
     "output_type": "error",
     "traceback": [
      "\u001b[1;31m---------------------------------------------------------------------------\u001b[0m",
      "\u001b[1;31mZeroDivisionError\u001b[0m                         Traceback (most recent call last)",
      "Cell \u001b[1;32mIn[64], line 2\u001b[0m\n\u001b[0;32m      1\u001b[0m divide(\u001b[38;5;241m10\u001b[39m,\u001b[38;5;241m2\u001b[39m)\n\u001b[1;32m----> 2\u001b[0m \u001b[43mdivide\u001b[49m\u001b[43m(\u001b[49m\u001b[38;5;241;43m10\u001b[39;49m\u001b[43m,\u001b[49m\u001b[38;5;241;43m0\u001b[39;49m\u001b[43m)\u001b[49m\n\u001b[0;32m      3\u001b[0m divide(\u001b[38;5;241m10\u001b[39m,\u001b[38;5;241m4\u001b[39m)\n",
      "Cell \u001b[1;32mIn[62], line 2\u001b[0m, in \u001b[0;36mdivide\u001b[1;34m(x, y)\u001b[0m\n\u001b[0;32m      1\u001b[0m \u001b[38;5;28;01mdef\u001b[39;00m \u001b[38;5;21mdivide\u001b[39m(x,y):\n\u001b[1;32m----> 2\u001b[0m     \u001b[38;5;28mprint\u001b[39m(\u001b[43mx\u001b[49m\u001b[38;5;241;43m/\u001b[39;49m\u001b[43my\u001b[49m)\n",
      "\u001b[1;31mZeroDivisionError\u001b[0m: division by zero"
     ]
    }
   ],
   "source": [
    "divide(10,2)\n",
    "divide(10,0)\n",
    "divide(10,4)"
   ]
  },
  {
   "cell_type": "code",
   "execution_count": 65,
   "id": "0dad25fb",
   "metadata": {},
   "outputs": [],
   "source": [
    "def divide(x,y):\n",
    "    try:\n",
    "        print(x/y)\n",
    "    except ZeroDivisionError as e:\n",
    "            print(e)"
   ]
  },
  {
   "cell_type": "code",
   "execution_count": 66,
   "id": "b97149fb",
   "metadata": {},
   "outputs": [
    {
     "name": "stdout",
     "output_type": "stream",
     "text": [
      "5.0\n",
      "division by zero\n",
      "2.5\n"
     ]
    }
   ],
   "source": [
    "divide(10,2)\n",
    "divide(10,0)\n",
    "divide(10,4)"
   ]
  },
  {
   "cell_type": "code",
   "execution_count": 70,
   "id": "e8ed123b",
   "metadata": {},
   "outputs": [],
   "source": [
    "def divide(x,y):\n",
    "    try:\n",
    "        print(x/y)\n",
    "    except ZeroDivisionError as e:\n",
    "            print(e)\n",
    "    else:\n",
    "        print(\"from else block\")\n",
    "    finally:\n",
    "        print(\"from finally\")"
   ]
  },
  {
   "cell_type": "code",
   "execution_count": 71,
   "id": "b278e467",
   "metadata": {},
   "outputs": [
    {
     "name": "stdout",
     "output_type": "stream",
     "text": [
      "5.0\n",
      "from else block\n",
      "from finally\n",
      "division by zero\n",
      "from finally\n",
      "2.5\n",
      "from else block\n",
      "from finally\n"
     ]
    }
   ],
   "source": [
    "divide(10,2)\n",
    "divide(10,0)\n",
    "divide(10,4)"
   ]
  },
  {
   "cell_type": "code",
   "execution_count": 72,
   "id": "d3c729f8",
   "metadata": {},
   "outputs": [
    {
     "name": "stdout",
     "output_type": "stream",
     "text": [
      "outer try block\n",
      "nested try block\n",
      "outer except blocl\n",
      "division by zero\n"
     ]
    }
   ],
   "source": [
    "x=10\n",
    "y=0\n",
    "\n",
    "try:\n",
    "    print(\"outer try block\")\n",
    "    try:\n",
    "        print(\"nested try block\")\n",
    "        print(x/y)\n",
    "    except TypeError as te:\n",
    "        print(\"nested except block\")\n",
    "        print(te)\n",
    "except ZeroDivisionError as ze:\n",
    "    print(\"outer except blocl\")\n",
    "    print(ze)"
   ]
  },
  {
   "cell_type": "code",
   "execution_count": 73,
   "id": "e668d92c",
   "metadata": {},
   "outputs": [],
   "source": [
    "def func():\n",
    "    flag = True\n",
    "    while flag:\n",
    "        try:\n",
    "            a = int(input(\"enter the integer: \"))\n",
    "            if type(a)==int:\n",
    "                return \"yes, you have entered an integer\"\n",
    "            flag =False\n",
    "        except Exception as e:\n",
    "            print(\"You did not enter an integer\", e)"
   ]
  },
  {
   "cell_type": "code",
   "execution_count": 74,
   "id": "d911dc7f",
   "metadata": {},
   "outputs": [
    {
     "name": "stdout",
     "output_type": "stream",
     "text": [
      "enter the integer: a\n",
      "You did not enter an integer invalid literal for int() with base 10: 'a'\n",
      "enter the integer: 7\n"
     ]
    },
    {
     "data": {
      "text/plain": [
       "'yes, you have entered an integer'"
      ]
     },
     "execution_count": 74,
     "metadata": {},
     "output_type": "execute_result"
    }
   ],
   "source": [
    "func()"
   ]
  },
  {
   "cell_type": "code",
   "execution_count": 75,
   "id": "c2ac109e",
   "metadata": {},
   "outputs": [
    {
     "name": "stdout",
     "output_type": "stream",
     "text": [
      "there is issue with my code\n",
      "(4, 5, 6, 7, 8, 9)\n",
      "hi\n",
      "[4, 5, 6, 7, 8, 9]\n"
     ]
    }
   ],
   "source": [
    "try:\n",
    "    l=[4,5,6,7,8,9]\n",
    "    l[100]\n",
    "except:\n",
    "    print(\"there is issue with my code\")\n",
    "    t=(4,5,6,7,8,9)\n",
    "    print(t)\n",
    "    try:\n",
    "        print(\"hi\")\n",
    "        #t[0]=\"imran\"\n",
    "        try:\n",
    "            k=list(t)\n",
    "            print(k)\n",
    "        except:\n",
    "            pass\n",
    "    except:\n",
    "        pass\n",
    "else:\n",
    "    print(\"there is no issue with code\")"
   ]
  },
  {
   "cell_type": "code",
   "execution_count": 78,
   "id": "61d65e40",
   "metadata": {},
   "outputs": [
    {
     "name": "stdout",
     "output_type": "stream",
     "text": [
      "there is no issue\n"
     ]
    }
   ],
   "source": [
    "try:\n",
    "    l=[4,5,6,7,8,9]\n",
    "    l[1]\n",
    "except:\n",
    "    print(\"there is no issue with my code\")\n",
    "    t=(3,4,5,6)\n",
    "    print(t)\n",
    "    try:\n",
    "        print(\"hi\")\n",
    "        #t[0]=\"ineuron\"\n",
    "        try:\n",
    "            k=list(t)\n",
    "            print(k)\n",
    "        except:\n",
    "            print(\"error in the inner code\")\n",
    "    except:\n",
    "        print(\"stuck with these issue\")\n",
    "else:\n",
    "    print(\"there is no issue\")"
   ]
  },
  {
   "cell_type": "code",
   "execution_count": null,
   "id": "eef3da78",
   "metadata": {},
   "outputs": [],
   "source": []
  }
 ],
 "metadata": {
  "kernelspec": {
   "display_name": "Python 3 (ipykernel)",
   "language": "python",
   "name": "python3"
  },
  "language_info": {
   "codemirror_mode": {
    "name": "ipython",
    "version": 3
   },
   "file_extension": ".py",
   "mimetype": "text/x-python",
   "name": "python",
   "nbconvert_exporter": "python",
   "pygments_lexer": "ipython3",
   "version": "3.9.12"
  }
 },
 "nbformat": 4,
 "nbformat_minor": 5
}
