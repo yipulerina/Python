{
 "cells": [
  {
   "cell_type": "code",
   "execution_count": 2,
   "metadata": {},
   "outputs": [],
   "source": [
    "import pandas as pd\n",
    "import re "
   ]
  },
  {
   "attachments": {},
   "cell_type": "markdown",
   "metadata": {},
   "source": [
    ".       - Any Character Except New Line\n",
    "\n",
    "\\d      - Digit (0-9) \n",
    "\\D      - Not a Digit (0-9)\n",
    "\n",
    "\\w      - Word Character (a-z, A-Z, 0-9, _)\n",
    "\n",
    "\\W      - Not a Word Character\n",
    "\n",
    "\\s      - Whitespace (space, tab, newline)\n",
    "\n",
    "\\S      - Not Whitespace (space, tab, newline)\n",
    "\n",
    "\n",
    "\\b      - Word Boundary\n",
    "\n",
    "\\B      - Not a Word Boundary\n",
    "\n",
    "^       - Beginning of a String\n",
    "\n",
    "$       - End of a String\n",
    "\n",
    "\n",
    "[]      - Matches Characters in brackets\n",
    "\n",
    "[^ ]    - Matches Characters NOT in brackets\n",
    "\n",
    "|       - Either Or\n",
    "\n",
    "( )     - Group\n",
    "\n",
    "\n",
    "Quantifiers:\n",
    "\n",
    "*       - 0 or More\n",
    "\n",
    "+       - 1 or More\n",
    "\n",
    "?       - 0 or One\n",
    "\n",
    "{3}     - Exact Number\n",
    "\n",
    "{3,4}   - Range of Numbers (Minimum, Maximum)\n"
   ]
  },
  {
   "cell_type": "code",
   "execution_count": 3,
   "metadata": {},
   "outputs": [],
   "source": [
    "emails = '''\n",
    "HeroNobody@gmail.com\n",
    "hero.nobody@university.edu\n",
    "hero-121-nobody@my-work.net\n",
    "'''"
   ]
  },
  {
   "cell_type": "code",
   "execution_count": 5,
   "metadata": {},
   "outputs": [
    {
     "name": "stdout",
     "output_type": "stream",
     "text": [
      "<re.Match object; span=(1, 21), match='HeroNobody@gmail.com'>\n",
      "<re.Match object; span=(22, 48), match='hero.nobody@university.edu'>\n",
      "<re.Match object; span=(49, 76), match='hero-121-nobody@my-work.net'>\n"
     ]
    }
   ],
   "source": [
    "pattern = re.compile(r'[a-zA-Z0-9.-]+@[a-zA-Z-]+\\.[a-z]+')\n",
    "\n",
    "matches = pattern.finditer(emails)\n",
    "\n",
    "for match in matches:\n",
    "    print(match)"
   ]
  },
  {
   "cell_type": "code",
   "execution_count": 6,
   "metadata": {},
   "outputs": [],
   "source": [
    "urls = '''\n",
    "https://www.google.com\n",
    "http://herome.com\n",
    "https://youtube.com\n",
    "https://www.hello.gov\n",
    "'''"
   ]
  },
  {
   "cell_type": "code",
   "execution_count": 8,
   "metadata": {},
   "outputs": [
    {
     "name": "stdout",
     "output_type": "stream",
     "text": [
      "https://www.google.com\n",
      "http://herome.com\n",
      "https://youtube.com\n",
      "https://www.hello.gov\n"
     ]
    }
   ],
   "source": [
    "pattern = re.compile(r'https?://(www\\.)?(\\w+)(\\.\\w+)')\n",
    "\n",
    "matches = pattern.finditer(urls)\n",
    "\n",
    "for match in matches:\n",
    "    print(match.group())"
   ]
  },
  {
   "cell_type": "code",
   "execution_count": 24,
   "metadata": {},
   "outputs": [
    {
     "name": "stdout",
     "output_type": "stream",
     "text": [
      "google\n",
      "herome\n",
      "youtube\n",
      "hello\n"
     ]
    }
   ],
   "source": [
    "pattern = re.compile(r'https?://(www\\.)?(\\w+)(\\.\\w+)')\n",
    "\n",
    "matches = pattern.finditer(urls)\n",
    "\n",
    "for match in matches:\n",
    "    print(match.group(2))"
   ]
  },
  {
   "cell_type": "code",
   "execution_count": 25,
   "metadata": {},
   "outputs": [
    {
     "name": "stdout",
     "output_type": "stream",
     "text": [
      "\n",
      "google.com\n",
      "herome.com\n",
      "youtube.com\n",
      "hello.gov\n",
      "\n"
     ]
    }
   ],
   "source": [
    "pattern = re.compile(r'https?://(www\\.)?(\\w+)(\\.\\w+)')\n",
    "\n",
    "subbed_urls = pattern.sub(r'\\2\\3',urls)\n",
    "\n",
    "print(subbed_urls)"
   ]
  },
  {
   "cell_type": "code",
   "execution_count": 26,
   "metadata": {},
   "outputs": [
    {
     "name": "stdout",
     "output_type": "stream",
     "text": [
      "<re.Match object; span=(0, 5), match='Start'>\n"
     ]
    }
   ],
   "source": [
    "sentence = 'Start a sentence and then bring it to an end'\n",
    "\n",
    "pattern = re.compile(r'start', re.I)\n",
    "\n",
    "matches = pattern.search(sentence)\n",
    "\n",
    "print(matches)"
   ]
  },
  {
   "cell_type": "code",
   "execution_count": null,
   "metadata": {},
   "outputs": [],
   "source": []
  }
 ],
 "metadata": {
  "kernelspec": {
   "display_name": "base",
   "language": "python",
   "name": "python3"
  },
  "language_info": {
   "codemirror_mode": {
    "name": "ipython",
    "version": 3
   },
   "file_extension": ".py",
   "mimetype": "text/x-python",
   "name": "python",
   "nbconvert_exporter": "python",
   "pygments_lexer": "ipython3",
   "version": "3.9.12"
  },
  "orig_nbformat": 4,
  "vscode": {
   "interpreter": {
    "hash": "db5ec057a6124006849df36cd0afa83f3f828f828d2603775e62dbf168f15c5c"
   }
  }
 },
 "nbformat": 4,
 "nbformat_minor": 2
}
