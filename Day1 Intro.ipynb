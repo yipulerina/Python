{
 "cells": [
  {
   "cell_type": "code",
   "execution_count": 1,
   "id": "c4207120",
   "metadata": {},
   "outputs": [],
   "source": [
    "import pandas as pd\n",
    "import numpy as np"
   ]
  },
  {
   "cell_type": "markdown",
   "id": "15d872a8",
   "metadata": {},
   "source": [
    "#### Playing with Strings"
   ]
  },
  {
   "cell_type": "code",
   "execution_count": 2,
   "id": "a5030441",
   "metadata": {},
   "outputs": [],
   "source": [
    "a='234345'\n",
    "b=35"
   ]
  },
  {
   "cell_type": "code",
   "execution_count": 4,
   "id": "3cdf8273",
   "metadata": {},
   "outputs": [
    {
     "data": {
      "text/plain": [
       "234380"
      ]
     },
     "execution_count": 4,
     "metadata": {},
     "output_type": "execute_result"
    }
   ],
   "source": [
    "int(a)+b\n"
   ]
  },
  {
   "cell_type": "markdown",
   "id": "32bef367",
   "metadata": {},
   "source": [
    "Playing with strings"
   ]
  },
  {
   "cell_type": "code",
   "execution_count": 5,
   "id": "661adecb",
   "metadata": {},
   "outputs": [],
   "source": [
    "s = 'hero'"
   ]
  },
  {
   "cell_type": "code",
   "execution_count": 8,
   "id": "ec434ab5",
   "metadata": {},
   "outputs": [
    {
     "data": {
      "text/plain": [
       "'h'"
      ]
     },
     "execution_count": 8,
     "metadata": {},
     "output_type": "execute_result"
    }
   ],
   "source": [
    "s[0]"
   ]
  },
  {
   "cell_type": "code",
   "execution_count": 9,
   "id": "88913440",
   "metadata": {},
   "outputs": [
    {
     "data": {
      "text/plain": [
       "'e'"
      ]
     },
     "execution_count": 9,
     "metadata": {},
     "output_type": "execute_result"
    }
   ],
   "source": [
    "s[1]"
   ]
  },
  {
   "cell_type": "code",
   "execution_count": 10,
   "id": "3880e06a",
   "metadata": {},
   "outputs": [
    {
     "data": {
      "text/plain": [
       "'r'"
      ]
     },
     "execution_count": 10,
     "metadata": {},
     "output_type": "execute_result"
    }
   ],
   "source": [
    "s[2]"
   ]
  },
  {
   "cell_type": "code",
   "execution_count": 11,
   "id": "a9d6d443",
   "metadata": {},
   "outputs": [
    {
     "data": {
      "text/plain": [
       "'o'"
      ]
     },
     "execution_count": 11,
     "metadata": {},
     "output_type": "execute_result"
    }
   ],
   "source": [
    "s[-1]"
   ]
  },
  {
   "cell_type": "code",
   "execution_count": 12,
   "id": "683eb1fe",
   "metadata": {},
   "outputs": [
    {
     "data": {
      "text/plain": [
       "'r'"
      ]
     },
     "execution_count": 12,
     "metadata": {},
     "output_type": "execute_result"
    }
   ],
   "source": [
    "s[-2]"
   ]
  },
  {
   "cell_type": "code",
   "execution_count": 13,
   "id": "6d594ae8",
   "metadata": {},
   "outputs": [],
   "source": [
    "a = 'my name is hero'\n"
   ]
  },
  {
   "cell_type": "code",
   "execution_count": 15,
   "id": "79b0cb6d",
   "metadata": {},
   "outputs": [
    {
     "data": {
      "text/plain": [
       "'my name'"
      ]
     },
     "execution_count": 15,
     "metadata": {},
     "output_type": "execute_result"
    }
   ],
   "source": [
    "a[0:7]"
   ]
  },
  {
   "cell_type": "code",
   "execution_count": 16,
   "id": "a2eee349",
   "metadata": {},
   "outputs": [
    {
     "data": {
      "text/plain": [
       "'my name'"
      ]
     },
     "execution_count": 16,
     "metadata": {},
     "output_type": "execute_result"
    }
   ],
   "source": [
    "a[:7]"
   ]
  },
  {
   "cell_type": "code",
   "execution_count": 17,
   "id": "67c50bad",
   "metadata": {},
   "outputs": [],
   "source": [
    "b='human'"
   ]
  },
  {
   "cell_type": "code",
   "execution_count": 18,
   "id": "ef4e5b0f",
   "metadata": {},
   "outputs": [
    {
     "data": {
      "text/plain": [
       "'hum'"
      ]
     },
     "execution_count": 18,
     "metadata": {},
     "output_type": "execute_result"
    }
   ],
   "source": [
    "b[0:3]"
   ]
  },
  {
   "cell_type": "code",
   "execution_count": 19,
   "id": "710112ca",
   "metadata": {},
   "outputs": [
    {
     "data": {
      "text/plain": [
       "'huma'"
      ]
     },
     "execution_count": 19,
     "metadata": {},
     "output_type": "execute_result"
    }
   ],
   "source": [
    "b[0:4]"
   ]
  },
  {
   "cell_type": "code",
   "execution_count": 20,
   "id": "b7c8eefa",
   "metadata": {},
   "outputs": [
    {
     "data": {
      "text/plain": [
       "'m'"
      ]
     },
     "execution_count": 20,
     "metadata": {},
     "output_type": "execute_result"
    }
   ],
   "source": [
    "b[-3]"
   ]
  },
  {
   "cell_type": "code",
   "execution_count": 21,
   "id": "519e5f23",
   "metadata": {},
   "outputs": [
    {
     "data": {
      "text/plain": [
       "''"
      ]
     },
     "execution_count": 21,
     "metadata": {},
     "output_type": "execute_result"
    }
   ],
   "source": [
    "b[-1:-3]"
   ]
  },
  {
   "cell_type": "code",
   "execution_count": 22,
   "id": "e06773c3",
   "metadata": {},
   "outputs": [
    {
     "data": {
      "text/plain": [
       "'human'"
      ]
     },
     "execution_count": 22,
     "metadata": {},
     "output_type": "execute_result"
    }
   ],
   "source": [
    "b[0:100:1]"
   ]
  },
  {
   "cell_type": "code",
   "execution_count": 23,
   "id": "81ee227d",
   "metadata": {},
   "outputs": [
    {
     "data": {
      "text/plain": [
       "'hmn'"
      ]
     },
     "execution_count": 23,
     "metadata": {},
     "output_type": "execute_result"
    }
   ],
   "source": [
    "b[0:300:2]"
   ]
  },
  {
   "cell_type": "code",
   "execution_count": 24,
   "id": "56495fbd",
   "metadata": {},
   "outputs": [
    {
     "data": {
      "text/plain": [
       "''"
      ]
     },
     "execution_count": 24,
     "metadata": {},
     "output_type": "execute_result"
    }
   ],
   "source": [
    "b[0:100:-1]"
   ]
  },
  {
   "cell_type": "code",
   "execution_count": 26,
   "id": "b01a7b23",
   "metadata": {},
   "outputs": [
    {
     "data": {
      "text/plain": [
       "''"
      ]
     },
     "execution_count": 26,
     "metadata": {},
     "output_type": "execute_result"
    }
   ],
   "source": [
    "b[-1:-4]"
   ]
  },
  {
   "cell_type": "code",
   "execution_count": 27,
   "id": "0122c30c",
   "metadata": {},
   "outputs": [
    {
     "data": {
      "text/plain": [
       "'nam'"
      ]
     },
     "execution_count": 27,
     "metadata": {},
     "output_type": "execute_result"
    }
   ],
   "source": [
    "b[-1:-4:-1]"
   ]
  },
  {
   "cell_type": "code",
   "execution_count": 28,
   "id": "eca42d01",
   "metadata": {},
   "outputs": [
    {
     "data": {
      "text/plain": [
       "'h'"
      ]
     },
     "execution_count": 28,
     "metadata": {},
     "output_type": "execute_result"
    }
   ],
   "source": [
    "b[0:-10:-1]"
   ]
  },
  {
   "cell_type": "code",
   "execution_count": 30,
   "id": "1391b88a",
   "metadata": {},
   "outputs": [
    {
     "data": {
      "text/plain": [
       "'my name is hero'"
      ]
     },
     "execution_count": 30,
     "metadata": {},
     "output_type": "execute_result"
    }
   ],
   "source": [
    "a[::]"
   ]
  },
  {
   "cell_type": "code",
   "execution_count": 31,
   "id": "86150fa5",
   "metadata": {},
   "outputs": [
    {
     "data": {
      "text/plain": [
       "'human'"
      ]
     },
     "execution_count": 31,
     "metadata": {},
     "output_type": "execute_result"
    }
   ],
   "source": [
    "b[::]"
   ]
  },
  {
   "cell_type": "code",
   "execution_count": 32,
   "id": "93559bc1",
   "metadata": {},
   "outputs": [
    {
     "data": {
      "text/plain": [
       "'an'"
      ]
     },
     "execution_count": 32,
     "metadata": {},
     "output_type": "execute_result"
    }
   ],
   "source": [
    "b[-2:]"
   ]
  },
  {
   "cell_type": "code",
   "execution_count": 33,
   "id": "907973ad",
   "metadata": {},
   "outputs": [
    {
     "data": {
      "text/plain": [
       "'a'"
      ]
     },
     "execution_count": 33,
     "metadata": {},
     "output_type": "execute_result"
    }
   ],
   "source": [
    "b[-2:-1]"
   ]
  },
  {
   "cell_type": "code",
   "execution_count": 34,
   "id": "c1356b86",
   "metadata": {},
   "outputs": [
    {
     "data": {
      "text/plain": [
       "'amuh'"
      ]
     },
     "execution_count": 34,
     "metadata": {},
     "output_type": "execute_result"
    }
   ],
   "source": [
    "b[-2::-1]"
   ]
  },
  {
   "cell_type": "code",
   "execution_count": 35,
   "id": "c8f2bd26",
   "metadata": {},
   "outputs": [
    {
     "data": {
      "text/plain": [
       "'namuh'"
      ]
     },
     "execution_count": 35,
     "metadata": {},
     "output_type": "execute_result"
    }
   ],
   "source": [
    "b[::-1]"
   ]
  },
  {
   "cell_type": "code",
   "execution_count": 36,
   "id": "2b4fe464",
   "metadata": {},
   "outputs": [
    {
     "data": {
      "text/plain": [
       "'namuh'"
      ]
     },
     "execution_count": 36,
     "metadata": {},
     "output_type": "execute_result"
    }
   ],
   "source": [
    "b[-1::-1]"
   ]
  },
  {
   "cell_type": "code",
   "execution_count": 37,
   "id": "6037bacf",
   "metadata": {},
   "outputs": [],
   "source": [
    "a = \"I am nobody\""
   ]
  },
  {
   "cell_type": "code",
   "execution_count": 38,
   "id": "9d2fdf5e",
   "metadata": {},
   "outputs": [
    {
     "data": {
      "text/plain": [
       "'ydobon ma I'"
      ]
     },
     "execution_count": 38,
     "metadata": {},
     "output_type": "execute_result"
    }
   ],
   "source": [
    "a[::-1]"
   ]
  },
  {
   "cell_type": "code",
   "execution_count": 39,
   "id": "447d781e",
   "metadata": {},
   "outputs": [
    {
     "data": {
      "text/plain": [
       "''"
      ]
     },
     "execution_count": 39,
     "metadata": {},
     "output_type": "execute_result"
    }
   ],
   "source": [
    "a[-5:5]"
   ]
  },
  {
   "cell_type": "code",
   "execution_count": 40,
   "id": "ffcda967",
   "metadata": {},
   "outputs": [
    {
     "data": {
      "text/plain": [
       "'o'"
      ]
     },
     "execution_count": 40,
     "metadata": {},
     "output_type": "execute_result"
    }
   ],
   "source": [
    "a[-5:5:-1]"
   ]
  },
  {
   "cell_type": "code",
   "execution_count": 42,
   "id": "5e8ef7bf",
   "metadata": {},
   "outputs": [
    {
     "data": {
      "text/plain": [
       "'humanhumanhuman'"
      ]
     },
     "execution_count": 42,
     "metadata": {},
     "output_type": "execute_result"
    }
   ],
   "source": [
    "\"human\"*3"
   ]
  },
  {
   "cell_type": "code",
   "execution_count": 43,
   "id": "7846db74",
   "metadata": {},
   "outputs": [
    {
     "data": {
      "text/plain": [
       "'humanhuman'"
      ]
     },
     "execution_count": 43,
     "metadata": {},
     "output_type": "execute_result"
    }
   ],
   "source": [
    "\"human\"+\"human\""
   ]
  },
  {
   "cell_type": "code",
   "execution_count": 44,
   "id": "a2dd9eca",
   "metadata": {},
   "outputs": [
    {
     "data": {
      "text/plain": [
       "11"
      ]
     },
     "execution_count": 44,
     "metadata": {},
     "output_type": "execute_result"
    }
   ],
   "source": [
    "len(a)"
   ]
  },
  {
   "cell_type": "code",
   "execution_count": 45,
   "id": "3d9592bd",
   "metadata": {},
   "outputs": [
    {
     "data": {
      "text/plain": [
       "2"
      ]
     },
     "execution_count": 45,
     "metadata": {},
     "output_type": "execute_result"
    }
   ],
   "source": [
    "a.find('a')"
   ]
  },
  {
   "cell_type": "code",
   "execution_count": 47,
   "id": "9d615e40",
   "metadata": {},
   "outputs": [
    {
     "data": {
      "text/plain": [
       "-1"
      ]
     },
     "execution_count": 47,
     "metadata": {},
     "output_type": "execute_result"
    }
   ],
   "source": [
    "a.find('e')"
   ]
  },
  {
   "cell_type": "code",
   "execution_count": 48,
   "id": "7569d1a3",
   "metadata": {},
   "outputs": [
    {
     "data": {
      "text/plain": [
       "'I am nobody'"
      ]
     },
     "execution_count": 48,
     "metadata": {},
     "output_type": "execute_result"
    }
   ],
   "source": [
    "a"
   ]
  },
  {
   "cell_type": "code",
   "execution_count": 49,
   "id": "577cee08",
   "metadata": {},
   "outputs": [
    {
     "data": {
      "text/plain": [
       "6"
      ]
     },
     "execution_count": 49,
     "metadata": {},
     "output_type": "execute_result"
    }
   ],
   "source": [
    "a.find('o')"
   ]
  },
  {
   "cell_type": "code",
   "execution_count": 50,
   "id": "c0bc80d3",
   "metadata": {},
   "outputs": [
    {
     "data": {
      "text/plain": [
       "8"
      ]
     },
     "execution_count": 50,
     "metadata": {},
     "output_type": "execute_result"
    }
   ],
   "source": [
    "a.find('od')"
   ]
  },
  {
   "cell_type": "code",
   "execution_count": 51,
   "id": "cbea8f52",
   "metadata": {},
   "outputs": [
    {
     "data": {
      "text/plain": [
       "2"
      ]
     },
     "execution_count": 51,
     "metadata": {},
     "output_type": "execute_result"
    }
   ],
   "source": [
    "a.count('o')"
   ]
  },
  {
   "cell_type": "code",
   "execution_count": 53,
   "id": "4ec24331",
   "metadata": {},
   "outputs": [
    {
     "data": {
      "text/plain": [
       "0"
      ]
     },
     "execution_count": 53,
     "metadata": {},
     "output_type": "execute_result"
    }
   ],
   "source": [
    "a.count('e')"
   ]
  },
  {
   "cell_type": "code",
   "execution_count": 54,
   "id": "52c26287",
   "metadata": {},
   "outputs": [
    {
     "data": {
      "text/plain": [
       "['I', 'am', 'nobody']"
      ]
     },
     "execution_count": 54,
     "metadata": {},
     "output_type": "execute_result"
    }
   ],
   "source": [
    "a.split()"
   ]
  },
  {
   "cell_type": "code",
   "execution_count": 55,
   "id": "6ba740ef",
   "metadata": {},
   "outputs": [
    {
     "data": {
      "text/plain": [
       "list"
      ]
     },
     "execution_count": 55,
     "metadata": {},
     "output_type": "execute_result"
    }
   ],
   "source": [
    "type(a.split())"
   ]
  },
  {
   "cell_type": "code",
   "execution_count": 56,
   "id": "d6927598",
   "metadata": {},
   "outputs": [],
   "source": [
    "l=a.split()"
   ]
  },
  {
   "cell_type": "code",
   "execution_count": 57,
   "id": "f4c2184e",
   "metadata": {},
   "outputs": [
    {
     "data": {
      "text/plain": [
       "['I', 'am', 'nobody']"
      ]
     },
     "execution_count": 57,
     "metadata": {},
     "output_type": "execute_result"
    }
   ],
   "source": [
    "l"
   ]
  },
  {
   "cell_type": "code",
   "execution_count": 58,
   "id": "6550430b",
   "metadata": {},
   "outputs": [
    {
     "data": {
      "text/plain": [
       "'nobody'"
      ]
     },
     "execution_count": 58,
     "metadata": {},
     "output_type": "execute_result"
    }
   ],
   "source": [
    "l[2]"
   ]
  },
  {
   "cell_type": "code",
   "execution_count": 59,
   "id": "05152340",
   "metadata": {},
   "outputs": [
    {
     "data": {
      "text/plain": [
       "'am'"
      ]
     },
     "execution_count": 59,
     "metadata": {},
     "output_type": "execute_result"
    }
   ],
   "source": [
    "l[1]"
   ]
  },
  {
   "cell_type": "code",
   "execution_count": 61,
   "id": "f032e118",
   "metadata": {},
   "outputs": [
    {
     "data": {
      "text/plain": [
       "['I am ', 'obody']"
      ]
     },
     "execution_count": 61,
     "metadata": {},
     "output_type": "execute_result"
    }
   ],
   "source": [
    "a.split('n')"
   ]
  },
  {
   "cell_type": "code",
   "execution_count": 62,
   "id": "fc57f87c",
   "metadata": {},
   "outputs": [
    {
     "data": {
      "text/plain": [
       "'I am nobody'"
      ]
     },
     "execution_count": 62,
     "metadata": {},
     "output_type": "execute_result"
    }
   ],
   "source": [
    "a"
   ]
  },
  {
   "cell_type": "code",
   "execution_count": 63,
   "id": "39b53680",
   "metadata": {},
   "outputs": [
    {
     "data": {
      "text/plain": [
       "'I AM NOBODY'"
      ]
     },
     "execution_count": 63,
     "metadata": {},
     "output_type": "execute_result"
    }
   ],
   "source": [
    "a.upper()"
   ]
  },
  {
   "cell_type": "code",
   "execution_count": 64,
   "id": "f61732e5",
   "metadata": {},
   "outputs": [],
   "source": [
    "v='noBoDy'"
   ]
  },
  {
   "cell_type": "code",
   "execution_count": 65,
   "id": "9983adfe",
   "metadata": {},
   "outputs": [
    {
     "data": {
      "text/plain": [
       "'NObOdY'"
      ]
     },
     "execution_count": 65,
     "metadata": {},
     "output_type": "execute_result"
    }
   ],
   "source": [
    "v.swapcase()"
   ]
  },
  {
   "cell_type": "code",
   "execution_count": 66,
   "id": "7bbaae55",
   "metadata": {},
   "outputs": [
    {
     "data": {
      "text/plain": [
       "'Nobody'"
      ]
     },
     "execution_count": 66,
     "metadata": {},
     "output_type": "execute_result"
    }
   ],
   "source": [
    "v.title()"
   ]
  },
  {
   "cell_type": "code",
   "execution_count": 67,
   "id": "9543d1e3",
   "metadata": {},
   "outputs": [
    {
     "data": {
      "text/plain": [
       "'Nobody'"
      ]
     },
     "execution_count": 67,
     "metadata": {},
     "output_type": "execute_result"
    }
   ],
   "source": [
    "v.capitalize()"
   ]
  },
  {
   "cell_type": "code",
   "execution_count": 68,
   "id": "85718b9c",
   "metadata": {},
   "outputs": [],
   "source": [
    "b='nobody'\n",
    "c='somebody'"
   ]
  },
  {
   "cell_type": "code",
   "execution_count": 69,
   "id": "4f5b7c94",
   "metadata": {},
   "outputs": [
    {
     "data": {
      "text/plain": [
       "'sI am nobodyoI am nobodymI am nobodyeI am nobodybI am nobodyoI am nobodydI am nobodyy'"
      ]
     },
     "execution_count": 69,
     "metadata": {},
     "output_type": "execute_result"
    }
   ],
   "source": [
    "a.join(c)"
   ]
  },
  {
   "cell_type": "code",
   "execution_count": 72,
   "id": "8745c609",
   "metadata": {},
   "outputs": [
    {
     "data": {
      "text/plain": [
       "'h u m a n'"
      ]
     },
     "execution_count": 72,
     "metadata": {},
     "output_type": "execute_result"
    }
   ],
   "source": [
    "' '.join('human')"
   ]
  },
  {
   "cell_type": "code",
   "execution_count": 73,
   "id": "3150efb7",
   "metadata": {},
   "outputs": [
    {
     "data": {
      "text/plain": [
       "<reversed at 0x1b16bcbee50>"
      ]
     },
     "execution_count": 73,
     "metadata": {},
     "output_type": "execute_result"
    }
   ],
   "source": [
    "reversed('nobody')"
   ]
  },
  {
   "cell_type": "code",
   "execution_count": 74,
   "id": "b7895647",
   "metadata": {},
   "outputs": [
    {
     "name": "stdout",
     "output_type": "stream",
     "text": [
      "y\n",
      "d\n",
      "o\n",
      "b\n",
      "o\n",
      "n\n"
     ]
    }
   ],
   "source": [
    "for i in reversed('nobody'):\n",
    "    print(i)"
   ]
  },
  {
   "cell_type": "code",
   "execution_count": 77,
   "id": "1f16f7a4",
   "metadata": {},
   "outputs": [
    {
     "data": {
      "text/plain": [
       "'ydobon'"
      ]
     },
     "execution_count": 77,
     "metadata": {},
     "output_type": "execute_result"
    }
   ],
   "source": [
    "b[::-1]"
   ]
  },
  {
   "cell_type": "code",
   "execution_count": 78,
   "id": "778fcf2a",
   "metadata": {},
   "outputs": [],
   "source": [
    "b= \" nobody \""
   ]
  },
  {
   "cell_type": "code",
   "execution_count": 79,
   "id": "421479d2",
   "metadata": {},
   "outputs": [
    {
     "data": {
      "text/plain": [
       "' nobody'"
      ]
     },
     "execution_count": 79,
     "metadata": {},
     "output_type": "execute_result"
    }
   ],
   "source": [
    "b.rstrip()"
   ]
  },
  {
   "cell_type": "code",
   "execution_count": 80,
   "id": "26cbd707",
   "metadata": {},
   "outputs": [
    {
     "data": {
      "text/plain": [
       "'nobody '"
      ]
     },
     "execution_count": 80,
     "metadata": {},
     "output_type": "execute_result"
    }
   ],
   "source": [
    "b.lstrip()"
   ]
  },
  {
   "cell_type": "code",
   "execution_count": 81,
   "id": "9d2b3bc2",
   "metadata": {},
   "outputs": [
    {
     "data": {
      "text/plain": [
       "'nobody'"
      ]
     },
     "execution_count": 81,
     "metadata": {},
     "output_type": "execute_result"
    }
   ],
   "source": [
    "b.strip()"
   ]
  },
  {
   "cell_type": "code",
   "execution_count": 82,
   "id": "4c641148",
   "metadata": {},
   "outputs": [
    {
     "data": {
      "text/plain": [
       "' nobodies '"
      ]
     },
     "execution_count": 82,
     "metadata": {},
     "output_type": "execute_result"
    }
   ],
   "source": [
    "b.replace('y', 'ies')"
   ]
  },
  {
   "cell_type": "code",
   "execution_count": 86,
   "id": "a2a414fe",
   "metadata": {},
   "outputs": [
    {
     "data": {
      "text/plain": [
       "'nobody  somebody'"
      ]
     },
     "execution_count": 86,
     "metadata": {},
     "output_type": "execute_result"
    }
   ],
   "source": [
    "\"nobody\\tsomebody\".expandtabs()"
   ]
  },
  {
   "cell_type": "code",
   "execution_count": 88,
   "id": "7ca2edae",
   "metadata": {},
   "outputs": [
    {
     "data": {
      "text/plain": [
       "'**************** nobody ****************'"
      ]
     },
     "execution_count": 88,
     "metadata": {},
     "output_type": "execute_result"
    }
   ],
   "source": [
    "b.center(40,'*')"
   ]
  },
  {
   "cell_type": "code",
   "execution_count": 89,
   "id": "51dadf65",
   "metadata": {},
   "outputs": [
    {
     "data": {
      "text/plain": [
       "False"
      ]
     },
     "execution_count": 89,
     "metadata": {},
     "output_type": "execute_result"
    }
   ],
   "source": [
    "b.isupper()"
   ]
  },
  {
   "cell_type": "code",
   "execution_count": 90,
   "id": "3978eb6a",
   "metadata": {},
   "outputs": [],
   "source": [
    "b='NOBODY'"
   ]
  },
  {
   "cell_type": "code",
   "execution_count": 91,
   "id": "d0fe2420",
   "metadata": {},
   "outputs": [
    {
     "data": {
      "text/plain": [
       "True"
      ]
     },
     "execution_count": 91,
     "metadata": {},
     "output_type": "execute_result"
    }
   ],
   "source": [
    "b.isupper()"
   ]
  },
  {
   "cell_type": "code",
   "execution_count": 93,
   "id": "5eff3095",
   "metadata": {},
   "outputs": [
    {
     "data": {
      "text/plain": [
       "False"
      ]
     },
     "execution_count": 93,
     "metadata": {},
     "output_type": "execute_result"
    }
   ],
   "source": [
    "b.islower()"
   ]
  },
  {
   "cell_type": "code",
   "execution_count": 94,
   "id": "75ddff24",
   "metadata": {},
   "outputs": [
    {
     "data": {
      "text/plain": [
       "False"
      ]
     },
     "execution_count": 94,
     "metadata": {},
     "output_type": "execute_result"
    }
   ],
   "source": [
    "b.isspace()"
   ]
  },
  {
   "cell_type": "code",
   "execution_count": 95,
   "id": "d0338073",
   "metadata": {},
   "outputs": [],
   "source": [
    "c='12345'"
   ]
  },
  {
   "cell_type": "code",
   "execution_count": 96,
   "id": "efb0c62f",
   "metadata": {},
   "outputs": [
    {
     "data": {
      "text/plain": [
       "True"
      ]
     },
     "execution_count": 96,
     "metadata": {},
     "output_type": "execute_result"
    }
   ],
   "source": [
    "c.isdigit()"
   ]
  },
  {
   "cell_type": "code",
   "execution_count": 97,
   "id": "5100d9fa",
   "metadata": {},
   "outputs": [
    {
     "data": {
      "text/plain": [
       "False"
      ]
     },
     "execution_count": 97,
     "metadata": {},
     "output_type": "execute_result"
    }
   ],
   "source": [
    "b.endswith('h')"
   ]
  },
  {
   "cell_type": "code",
   "execution_count": 99,
   "id": "7fe3f797",
   "metadata": {},
   "outputs": [
    {
     "data": {
      "text/plain": [
       "True"
      ]
     },
     "execution_count": 99,
     "metadata": {},
     "output_type": "execute_result"
    }
   ],
   "source": [
    "b.endswith('Y')"
   ]
  },
  {
   "cell_type": "code",
   "execution_count": 104,
   "id": "1238cbb3",
   "metadata": {},
   "outputs": [
    {
     "data": {
      "text/plain": [
       "True"
      ]
     },
     "execution_count": 104,
     "metadata": {},
     "output_type": "execute_result"
    }
   ],
   "source": [
    "b.startswith('N')"
   ]
  },
  {
   "cell_type": "code",
   "execution_count": 105,
   "id": "6fc9df8d",
   "metadata": {},
   "outputs": [
    {
     "data": {
      "text/plain": [
       "False"
      ]
     },
     "execution_count": 105,
     "metadata": {},
     "output_type": "execute_result"
    }
   ],
   "source": [
    "b.istitle()"
   ]
  },
  {
   "cell_type": "code",
   "execution_count": 106,
   "id": "0c7820ab",
   "metadata": {},
   "outputs": [
    {
     "data": {
      "text/plain": [
       "b'NOBODY'"
      ]
     },
     "execution_count": 106,
     "metadata": {},
     "output_type": "execute_result"
    }
   ],
   "source": [
    "b.encode('utf-8')"
   ]
  },
  {
   "cell_type": "markdown",
   "id": "ae979f71",
   "metadata": {},
   "source": [
    "#### Playing with list"
   ]
  },
  {
   "cell_type": "code",
   "execution_count": 107,
   "id": "239d3d4b",
   "metadata": {},
   "outputs": [],
   "source": [
    "a =\"asdfasdf asdf adf asdf asdf adsf asdf asdf asdf\""
   ]
  },
  {
   "cell_type": "code",
   "execution_count": 108,
   "id": "9a424d99",
   "metadata": {},
   "outputs": [],
   "source": [
    "b=[\"hero\",\"nobody\", 4567, 4+6j, True, 345.6]"
   ]
  },
  {
   "cell_type": "code",
   "execution_count": 109,
   "id": "97efc9a9",
   "metadata": {},
   "outputs": [
    {
     "data": {
      "text/plain": [
       "list"
      ]
     },
     "execution_count": 109,
     "metadata": {},
     "output_type": "execute_result"
    }
   ],
   "source": [
    "type(b)"
   ]
  },
  {
   "cell_type": "code",
   "execution_count": 110,
   "id": "9ca1d14b",
   "metadata": {},
   "outputs": [
    {
     "data": {
      "text/plain": [
       "'hero'"
      ]
     },
     "execution_count": 110,
     "metadata": {},
     "output_type": "execute_result"
    }
   ],
   "source": [
    "b[0]"
   ]
  },
  {
   "cell_type": "code",
   "execution_count": 111,
   "id": "28b27f8d",
   "metadata": {},
   "outputs": [
    {
     "data": {
      "text/plain": [
       "345.6"
      ]
     },
     "execution_count": 111,
     "metadata": {},
     "output_type": "execute_result"
    }
   ],
   "source": [
    "b[-1]"
   ]
  },
  {
   "cell_type": "code",
   "execution_count": 112,
   "id": "24a58e0c",
   "metadata": {},
   "outputs": [
    {
     "data": {
      "text/plain": [
       "(4+6j)"
      ]
     },
     "execution_count": 112,
     "metadata": {},
     "output_type": "execute_result"
    }
   ],
   "source": [
    "b[-3]"
   ]
  },
  {
   "cell_type": "code",
   "execution_count": 115,
   "id": "8c853a5b",
   "metadata": {},
   "outputs": [
    {
     "data": {
      "text/plain": [
       "['hero', 'nobody', 4567, (4+6j), True, 345.6]"
      ]
     },
     "execution_count": 115,
     "metadata": {},
     "output_type": "execute_result"
    }
   ],
   "source": [
    "b[0:6]"
   ]
  },
  {
   "cell_type": "code",
   "execution_count": 116,
   "id": "1e6b9a6f",
   "metadata": {},
   "outputs": [
    {
     "data": {
      "text/plain": [
       "[345.6, True, (4+6j), 4567, 'nobody', 'hero']"
      ]
     },
     "execution_count": 116,
     "metadata": {},
     "output_type": "execute_result"
    }
   ],
   "source": [
    "b[::-1]"
   ]
  },
  {
   "cell_type": "code",
   "execution_count": 117,
   "id": "14bc0bab",
   "metadata": {},
   "outputs": [
    {
     "data": {
      "text/plain": [
       "[345.6]"
      ]
     },
     "execution_count": 117,
     "metadata": {},
     "output_type": "execute_result"
    }
   ],
   "source": [
    "b[-1:6]"
   ]
  },
  {
   "cell_type": "code",
   "execution_count": 119,
   "id": "ca5c5fff",
   "metadata": {},
   "outputs": [
    {
     "data": {
      "text/plain": [
       "str"
      ]
     },
     "execution_count": 119,
     "metadata": {},
     "output_type": "execute_result"
    }
   ],
   "source": [
    "type(b[0])"
   ]
  },
  {
   "cell_type": "code",
   "execution_count": 120,
   "id": "4c2612ca",
   "metadata": {},
   "outputs": [
    {
     "data": {
      "text/plain": [
       "bool"
      ]
     },
     "execution_count": 120,
     "metadata": {},
     "output_type": "execute_result"
    }
   ],
   "source": [
    "type(b[4])"
   ]
  },
  {
   "cell_type": "code",
   "execution_count": 121,
   "id": "6421b228",
   "metadata": {},
   "outputs": [
    {
     "data": {
      "text/plain": [
       "'e'"
      ]
     },
     "execution_count": 121,
     "metadata": {},
     "output_type": "execute_result"
    }
   ],
   "source": [
    "b[0][1]"
   ]
  },
  {
   "cell_type": "code",
   "execution_count": 124,
   "id": "5a76b4b6",
   "metadata": {},
   "outputs": [
    {
     "data": {
      "text/plain": [
       "4.0"
      ]
     },
     "execution_count": 124,
     "metadata": {},
     "output_type": "execute_result"
    }
   ],
   "source": [
    "b[3].real"
   ]
  },
  {
   "cell_type": "code",
   "execution_count": 125,
   "id": "9e2f03f1",
   "metadata": {},
   "outputs": [
    {
     "data": {
      "text/plain": [
       "6.0"
      ]
     },
     "execution_count": 125,
     "metadata": {},
     "output_type": "execute_result"
    }
   ],
   "source": [
    "b[3].imag"
   ]
  },
  {
   "cell_type": "code",
   "execution_count": 126,
   "id": "4183b701",
   "metadata": {},
   "outputs": [],
   "source": [
    "b1 = [\"you\", \"me\", 12345]\n",
    "b2= [\"xyz\", \"qwe\", 123.456]\n"
   ]
  },
  {
   "cell_type": "code",
   "execution_count": 127,
   "id": "bc48b85a",
   "metadata": {},
   "outputs": [
    {
     "data": {
      "text/plain": [
       "['you', 'me', 12345, 'xyz', 'qwe', 123.456]"
      ]
     },
     "execution_count": 127,
     "metadata": {},
     "output_type": "execute_result"
    }
   ],
   "source": [
    "b1+b2"
   ]
  },
  {
   "cell_type": "code",
   "execution_count": 129,
   "id": "0d6ff0b7",
   "metadata": {},
   "outputs": [
    {
     "data": {
      "text/plain": [
       "['you', 'me', 12345, 'human']"
      ]
     },
     "execution_count": 129,
     "metadata": {},
     "output_type": "execute_result"
    }
   ],
   "source": [
    "b1+ [\"human\"]"
   ]
  },
  {
   "cell_type": "code",
   "execution_count": 131,
   "id": "b196ef50",
   "metadata": {},
   "outputs": [
    {
     "data": {
      "text/plain": [
       "['you', 'me', 12345, 'you', 'me', 12345]"
      ]
     },
     "execution_count": 131,
     "metadata": {},
     "output_type": "execute_result"
    }
   ],
   "source": [
    "b1*2"
   ]
  },
  {
   "cell_type": "code",
   "execution_count": 134,
   "id": "2ac5384f",
   "metadata": {},
   "outputs": [],
   "source": [
    "b1[1] =\"notme\""
   ]
  },
  {
   "cell_type": "code",
   "execution_count": 135,
   "id": "4d033ec8",
   "metadata": {},
   "outputs": [
    {
     "data": {
      "text/plain": [
       "['you', 'notme', 12345]"
      ]
     },
     "execution_count": 135,
     "metadata": {},
     "output_type": "execute_result"
    }
   ],
   "source": [
    "b1"
   ]
  },
  {
   "cell_type": "code",
   "execution_count": 138,
   "id": "c868eecd",
   "metadata": {},
   "outputs": [
    {
     "data": {
      "text/plain": [
       "['you', 'notme', 12345]"
      ]
     },
     "execution_count": 138,
     "metadata": {},
     "output_type": "execute_result"
    }
   ],
   "source": [
    "b1"
   ]
  },
  {
   "cell_type": "code",
   "execution_count": 139,
   "id": "cdc0f18e",
   "metadata": {},
   "outputs": [],
   "source": [
    "b1[0] = \"notyou\""
   ]
  },
  {
   "cell_type": "code",
   "execution_count": 140,
   "id": "71dfa6e7",
   "metadata": {},
   "outputs": [
    {
     "data": {
      "text/plain": [
       "['notyou', 'notme', 12345]"
      ]
     },
     "execution_count": 140,
     "metadata": {},
     "output_type": "execute_result"
    }
   ],
   "source": [
    "b1"
   ]
  },
  {
   "cell_type": "code",
   "execution_count": 141,
   "id": "ad094174",
   "metadata": {},
   "outputs": [
    {
     "data": {
      "text/plain": [
       "3"
      ]
     },
     "execution_count": 141,
     "metadata": {},
     "output_type": "execute_result"
    }
   ],
   "source": [
    "len(b1)"
   ]
  },
  {
   "cell_type": "code",
   "execution_count": 142,
   "id": "64ff21fb",
   "metadata": {},
   "outputs": [
    {
     "data": {
      "text/plain": [
       "False"
      ]
     },
     "execution_count": 142,
     "metadata": {},
     "output_type": "execute_result"
    }
   ],
   "source": [
    "30 in b1"
   ]
  },
  {
   "cell_type": "code",
   "execution_count": 143,
   "id": "fc782d8e",
   "metadata": {},
   "outputs": [
    {
     "data": {
      "text/plain": [
       "['xyz', 'qwe', 123.456]"
      ]
     },
     "execution_count": 143,
     "metadata": {},
     "output_type": "execute_result"
    }
   ],
   "source": [
    "b2"
   ]
  },
  {
   "cell_type": "code",
   "execution_count": 145,
   "id": "52f795c7",
   "metadata": {},
   "outputs": [
    {
     "data": {
      "text/plain": [
       "['xyz', 'qwe', 123.456, 'here', 'here']"
      ]
     },
     "execution_count": 145,
     "metadata": {},
     "output_type": "execute_result"
    }
   ],
   "source": [
    "b2.append(\"here\")\n",
    "b2"
   ]
  },
  {
   "cell_type": "code",
   "execution_count": 146,
   "id": "240c4f23",
   "metadata": {},
   "outputs": [
    {
     "data": {
      "text/plain": [
       "'here'"
      ]
     },
     "execution_count": 146,
     "metadata": {},
     "output_type": "execute_result"
    }
   ],
   "source": [
    "b2.pop()"
   ]
  },
  {
   "cell_type": "code",
   "execution_count": 147,
   "id": "78c9952c",
   "metadata": {},
   "outputs": [
    {
     "data": {
      "text/plain": [
       "'here'"
      ]
     },
     "execution_count": 147,
     "metadata": {},
     "output_type": "execute_result"
    }
   ],
   "source": [
    "b2.pop(3)"
   ]
  },
  {
   "cell_type": "code",
   "execution_count": 148,
   "id": "cb706fce",
   "metadata": {},
   "outputs": [
    {
     "data": {
      "text/plain": [
       "['xyz', 'qwe', 123.456]"
      ]
     },
     "execution_count": 148,
     "metadata": {},
     "output_type": "execute_result"
    }
   ],
   "source": [
    "b2"
   ]
  },
  {
   "cell_type": "code",
   "execution_count": 149,
   "id": "8153a2b3",
   "metadata": {},
   "outputs": [
    {
     "data": {
      "text/plain": [
       "123.456"
      ]
     },
     "execution_count": 149,
     "metadata": {},
     "output_type": "execute_result"
    }
   ],
   "source": [
    "b2.pop(2)"
   ]
  },
  {
   "cell_type": "code",
   "execution_count": 150,
   "id": "f67aac75",
   "metadata": {},
   "outputs": [
    {
     "data": {
      "text/plain": [
       "['xyz', 'qwe']"
      ]
     },
     "execution_count": 150,
     "metadata": {},
     "output_type": "execute_result"
    }
   ],
   "source": [
    "b2"
   ]
  },
  {
   "cell_type": "code",
   "execution_count": 151,
   "id": "eef6e24e",
   "metadata": {},
   "outputs": [
    {
     "data": {
      "text/plain": [
       "['xyz', 'qwe', 'here']"
      ]
     },
     "execution_count": 151,
     "metadata": {},
     "output_type": "execute_result"
    }
   ],
   "source": [
    "b2 + [\"here\"]"
   ]
  },
  {
   "cell_type": "code",
   "execution_count": 152,
   "id": "a9b2f246",
   "metadata": {},
   "outputs": [],
   "source": [
    "b2.append(\"some\")"
   ]
  },
  {
   "cell_type": "code",
   "execution_count": 153,
   "id": "9e6504a2",
   "metadata": {},
   "outputs": [
    {
     "data": {
      "text/plain": [
       "['xyz', 'qwe', 'some']"
      ]
     },
     "execution_count": 153,
     "metadata": {},
     "output_type": "execute_result"
    }
   ],
   "source": [
    "b2"
   ]
  },
  {
   "cell_type": "code",
   "execution_count": 154,
   "id": "eb8c28bc",
   "metadata": {},
   "outputs": [],
   "source": [
    "b2.insert(1,\"here\")"
   ]
  },
  {
   "cell_type": "code",
   "execution_count": 155,
   "id": "4d0d6612",
   "metadata": {},
   "outputs": [
    {
     "data": {
      "text/plain": [
       "['xyz', 'here', 'qwe', 'some']"
      ]
     },
     "execution_count": 155,
     "metadata": {},
     "output_type": "execute_result"
    }
   ],
   "source": [
    "b2"
   ]
  },
  {
   "cell_type": "code",
   "execution_count": 156,
   "id": "e63ef585",
   "metadata": {},
   "outputs": [],
   "source": [
    "b2.insert(3, 12345)"
   ]
  },
  {
   "cell_type": "code",
   "execution_count": 157,
   "id": "1bb0f33b",
   "metadata": {},
   "outputs": [
    {
     "data": {
      "text/plain": [
       "['xyz', 'here', 'qwe', 12345, 'some']"
      ]
     },
     "execution_count": 157,
     "metadata": {},
     "output_type": "execute_result"
    }
   ],
   "source": [
    "b2"
   ]
  },
  {
   "cell_type": "code",
   "execution_count": 158,
   "id": "c1a290a8",
   "metadata": {},
   "outputs": [
    {
     "data": {
      "text/plain": [
       "['some', 12345, 'qwe', 'here', 'xyz']"
      ]
     },
     "execution_count": 158,
     "metadata": {},
     "output_type": "execute_result"
    }
   ],
   "source": [
    "b2[::-1]"
   ]
  },
  {
   "cell_type": "code",
   "execution_count": 159,
   "id": "f137bb89",
   "metadata": {},
   "outputs": [],
   "source": [
    "b2.reverse()"
   ]
  },
  {
   "cell_type": "code",
   "execution_count": 160,
   "id": "373fa874",
   "metadata": {},
   "outputs": [
    {
     "data": {
      "text/plain": [
       "['some', 12345, 'qwe', 'here', 'xyz']"
      ]
     },
     "execution_count": 160,
     "metadata": {},
     "output_type": "execute_result"
    }
   ],
   "source": [
    "b2"
   ]
  },
  {
   "cell_type": "code",
   "execution_count": 162,
   "id": "ef637383",
   "metadata": {},
   "outputs": [],
   "source": [
    "b2.insert(3,[1,2,3,4])"
   ]
  },
  {
   "cell_type": "code",
   "execution_count": 163,
   "id": "40c4f93c",
   "metadata": {},
   "outputs": [
    {
     "data": {
      "text/plain": [
       "['some', 12345, 'qwe', [1, 2, 3, 4], 'here', 'xyz']"
      ]
     },
     "execution_count": 163,
     "metadata": {},
     "output_type": "execute_result"
    }
   ],
   "source": [
    "b2"
   ]
  },
  {
   "cell_type": "code",
   "execution_count": 164,
   "id": "5baf2035",
   "metadata": {},
   "outputs": [
    {
     "data": {
      "text/plain": [
       "3"
      ]
     },
     "execution_count": 164,
     "metadata": {},
     "output_type": "execute_result"
    }
   ],
   "source": [
    "b2[3][2]"
   ]
  },
  {
   "cell_type": "code",
   "execution_count": 166,
   "id": "c02215bf",
   "metadata": {},
   "outputs": [
    {
     "data": {
      "text/plain": [
       "1"
      ]
     },
     "execution_count": 166,
     "metadata": {},
     "output_type": "execute_result"
    }
   ],
   "source": [
    "b2.count('xyz')"
   ]
  },
  {
   "cell_type": "code",
   "execution_count": 167,
   "id": "5d252f4d",
   "metadata": {},
   "outputs": [
    {
     "data": {
      "text/plain": [
       "0"
      ]
     },
     "execution_count": 167,
     "metadata": {},
     "output_type": "execute_result"
    }
   ],
   "source": [
    "b2.count('haldjfh')"
   ]
  },
  {
   "cell_type": "code",
   "execution_count": 168,
   "id": "3c14fc19",
   "metadata": {},
   "outputs": [],
   "source": [
    "b2.append([1,2,3,4,5,6])"
   ]
  },
  {
   "cell_type": "code",
   "execution_count": 169,
   "id": "91ca2808",
   "metadata": {},
   "outputs": [
    {
     "data": {
      "text/plain": [
       "['some', 12345, 'qwe', [1, 2, 3, 4], 'here', 'xyz', [1, 2, 3, 4, 5, 6]]"
      ]
     },
     "execution_count": 169,
     "metadata": {},
     "output_type": "execute_result"
    }
   ],
   "source": [
    "b2"
   ]
  },
  {
   "cell_type": "code",
   "execution_count": 170,
   "id": "257d298f",
   "metadata": {},
   "outputs": [
    {
     "data": {
      "text/plain": [
       "['notyou', 'notme', 12345]"
      ]
     },
     "execution_count": 170,
     "metadata": {},
     "output_type": "execute_result"
    }
   ],
   "source": [
    "b1"
   ]
  },
  {
   "cell_type": "code",
   "execution_count": 171,
   "id": "9532cc22",
   "metadata": {},
   "outputs": [],
   "source": [
    "b1.extend([2,34,54,55])"
   ]
  },
  {
   "cell_type": "code",
   "execution_count": 172,
   "id": "ca223ad0",
   "metadata": {},
   "outputs": [
    {
     "data": {
      "text/plain": [
       "['notyou', 'notme', 12345, 2, 34, 54, 55]"
      ]
     },
     "execution_count": 172,
     "metadata": {},
     "output_type": "execute_result"
    }
   ],
   "source": [
    "b1"
   ]
  },
  {
   "cell_type": "code",
   "execution_count": 173,
   "id": "df9c4a34",
   "metadata": {},
   "outputs": [
    {
     "name": "stdout",
     "output_type": "stream",
     "text": [
      "None\n"
     ]
    }
   ],
   "source": [
    "print(b2.reverse())"
   ]
  },
  {
   "cell_type": "code",
   "execution_count": 174,
   "id": "d8873f69",
   "metadata": {},
   "outputs": [
    {
     "data": {
      "text/plain": [
       "['h', 'u', 'm', 'a', 'n']"
      ]
     },
     "execution_count": 174,
     "metadata": {},
     "output_type": "execute_result"
    }
   ],
   "source": [
    "list(\"human\")"
   ]
  },
  {
   "cell_type": "code",
   "execution_count": null,
   "id": "addc7c4e",
   "metadata": {},
   "outputs": [],
   "source": []
  }
 ],
 "metadata": {
  "kernelspec": {
   "display_name": "Python 3 (ipykernel)",
   "language": "python",
   "name": "python3"
  },
  "language_info": {
   "codemirror_mode": {
    "name": "ipython",
    "version": 3
   },
   "file_extension": ".py",
   "mimetype": "text/x-python",
   "name": "python",
   "nbconvert_exporter": "python",
   "pygments_lexer": "ipython3",
   "version": "3.9.12"
  }
 },
 "nbformat": 4,
 "nbformat_minor": 5
}
