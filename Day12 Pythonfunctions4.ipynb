{
 "cells": [
  {
   "cell_type": "code",
   "execution_count": 1,
   "id": "c4a10b07",
   "metadata": {},
   "outputs": [],
   "source": [
    "def test1(func):\n",
    "    def test2():\n",
    "        print(\"I am inside test2\")\n",
    "        func()\n",
    "        print(\"function executed\")\n",
    "    return test2"
   ]
  },
  {
   "cell_type": "code",
   "execution_count": 2,
   "id": "e735d8c4",
   "metadata": {},
   "outputs": [],
   "source": [
    "def test3():\n",
    "    return 1+2"
   ]
  },
  {
   "cell_type": "code",
   "execution_count": 3,
   "id": "50102dec",
   "metadata": {},
   "outputs": [
    {
     "data": {
      "text/plain": [
       "3"
      ]
     },
     "execution_count": 3,
     "metadata": {},
     "output_type": "execute_result"
    }
   ],
   "source": [
    "test3()"
   ]
  },
  {
   "cell_type": "code",
   "execution_count": 4,
   "id": "91a0d3ca",
   "metadata": {},
   "outputs": [],
   "source": [
    "@test1\n",
    "def test3():\n",
    "    return 1+2"
   ]
  },
  {
   "cell_type": "code",
   "execution_count": 5,
   "id": "2a02a7ff",
   "metadata": {},
   "outputs": [
    {
     "name": "stdout",
     "output_type": "stream",
     "text": [
      "I am inside test2\n",
      "function executed\n"
     ]
    }
   ],
   "source": [
    "test3()"
   ]
  },
  {
   "cell_type": "code",
   "execution_count": 6,
   "id": "bd310109",
   "metadata": {},
   "outputs": [],
   "source": [
    "@test1\n",
    "def test3():\n",
    "    print(\" this is my test3\")"
   ]
  },
  {
   "cell_type": "code",
   "execution_count": 7,
   "id": "7010e1b5",
   "metadata": {},
   "outputs": [
    {
     "name": "stdout",
     "output_type": "stream",
     "text": [
      "I am inside test2\n",
      " this is my test3\n",
      "function executed\n"
     ]
    }
   ],
   "source": [
    "test3()"
   ]
  },
  {
   "cell_type": "code",
   "execution_count": 8,
   "id": "ad9f815d",
   "metadata": {},
   "outputs": [],
   "source": [
    "def test1(func):\n",
    "    def test2():\n",
    "        print(\"I am inside test2\")\n",
    "        func()\n",
    "        print(func())\n",
    "        print(\"function executed\")\n",
    "        return func()\n",
    "    return test2"
   ]
  },
  {
   "cell_type": "code",
   "execution_count": 9,
   "id": "82751b9d",
   "metadata": {},
   "outputs": [],
   "source": [
    "@test1\n",
    "def test4():\n",
    "    return 3+2"
   ]
  },
  {
   "cell_type": "code",
   "execution_count": 10,
   "id": "02c24c68",
   "metadata": {},
   "outputs": [
    {
     "name": "stdout",
     "output_type": "stream",
     "text": [
      "I am inside test2\n",
      "5\n",
      "function executed\n"
     ]
    },
    {
     "data": {
      "text/plain": [
       "5"
      ]
     },
     "execution_count": 10,
     "metadata": {},
     "output_type": "execute_result"
    }
   ],
   "source": [
    "test4()"
   ]
  },
  {
   "cell_type": "code",
   "execution_count": 11,
   "id": "5ac0bbd7",
   "metadata": {},
   "outputs": [
    {
     "name": "stdout",
     "output_type": "stream",
     "text": [
      "I am inside test2\n",
      "5\n",
      "function executed\n"
     ]
    }
   ],
   "source": [
    "a = test4()"
   ]
  },
  {
   "cell_type": "code",
   "execution_count": 12,
   "id": "15bca250",
   "metadata": {},
   "outputs": [
    {
     "name": "stdout",
     "output_type": "stream",
     "text": [
      "5\n"
     ]
    }
   ],
   "source": [
    "print(a)"
   ]
  },
  {
   "cell_type": "code",
   "execution_count": 13,
   "id": "4ae67b7b",
   "metadata": {},
   "outputs": [
    {
     "name": "stdout",
     "output_type": "stream",
     "text": [
      "I am inside test2\n",
      "5\n",
      "function executed\n"
     ]
    },
    {
     "data": {
      "text/plain": [
       "17"
      ]
     },
     "execution_count": 13,
     "metadata": {},
     "output_type": "execute_result"
    }
   ],
   "source": [
    "test4() + 12"
   ]
  },
  {
   "cell_type": "code",
   "execution_count": 14,
   "id": "a096d0ba",
   "metadata": {},
   "outputs": [],
   "source": [
    "def test5():\n",
    "    return 4+5"
   ]
  },
  {
   "cell_type": "code",
   "execution_count": 15,
   "id": "f25bad79",
   "metadata": {},
   "outputs": [
    {
     "data": {
      "text/plain": [
       "int"
      ]
     },
     "execution_count": 15,
     "metadata": {},
     "output_type": "execute_result"
    }
   ],
   "source": [
    "type(test5())"
   ]
  },
  {
   "cell_type": "code",
   "execution_count": 16,
   "id": "4cd9ca63",
   "metadata": {},
   "outputs": [
    {
     "data": {
      "text/plain": [
       "14"
      ]
     },
     "execution_count": 16,
     "metadata": {},
     "output_type": "execute_result"
    }
   ],
   "source": [
    "test5()+5"
   ]
  },
  {
   "cell_type": "code",
   "execution_count": 60,
   "id": "17ba85ae",
   "metadata": {},
   "outputs": [],
   "source": [
    "def test6(func):\n",
    "    def test7():\n",
    "        func()\n",
    "        print(func())\n",
    "        print(\"this is my decorator function\")\n",
    "        return func()\n",
    "    return test7"
   ]
  },
  {
   "cell_type": "code",
   "execution_count": 61,
   "id": "4571a015",
   "metadata": {},
   "outputs": [],
   "source": [
    "def test8():\n",
    "    return 5+7"
   ]
  },
  {
   "cell_type": "code",
   "execution_count": 62,
   "id": "5bccd582",
   "metadata": {},
   "outputs": [
    {
     "data": {
      "text/plain": [
       "24"
      ]
     },
     "execution_count": 62,
     "metadata": {},
     "output_type": "execute_result"
    }
   ],
   "source": [
    "test8() +12"
   ]
  },
  {
   "cell_type": "code",
   "execution_count": 63,
   "id": "30e319fd",
   "metadata": {},
   "outputs": [],
   "source": [
    "@test6\n",
    "def test8():\n",
    "    return 5+7"
   ]
  },
  {
   "cell_type": "code",
   "execution_count": 64,
   "id": "1d55db95",
   "metadata": {},
   "outputs": [
    {
     "name": "stdout",
     "output_type": "stream",
     "text": [
      "12\n",
      "this is my decorator function\n"
     ]
    },
    {
     "data": {
      "text/plain": [
       "12"
      ]
     },
     "execution_count": 64,
     "metadata": {},
     "output_type": "execute_result"
    }
   ],
   "source": [
    "test8() "
   ]
  },
  {
   "cell_type": "code",
   "execution_count": 22,
   "id": "10e368bd",
   "metadata": {},
   "outputs": [],
   "source": [
    "def test6(func):\n",
    "    def test7(a,b):\n",
    "        func(a,b)\n",
    "        print(func(a,b))\n",
    "        print(\"this is my decorator function\")\n",
    "        return func(a,b)\n",
    "    return test7"
   ]
  },
  {
   "cell_type": "code",
   "execution_count": 23,
   "id": "a37b696e",
   "metadata": {},
   "outputs": [],
   "source": [
    "def test8(a,b):\n",
    "    return a+b"
   ]
  },
  {
   "cell_type": "code",
   "execution_count": 24,
   "id": "6f23801a",
   "metadata": {},
   "outputs": [
    {
     "data": {
      "text/plain": [
       "5"
      ]
     },
     "execution_count": 24,
     "metadata": {},
     "output_type": "execute_result"
    }
   ],
   "source": [
    "test8(1,4)"
   ]
  },
  {
   "cell_type": "code",
   "execution_count": 25,
   "id": "b04ca91b",
   "metadata": {},
   "outputs": [],
   "source": [
    "@test6\n",
    "def test8(a,b):\n",
    "    return a+b"
   ]
  },
  {
   "cell_type": "code",
   "execution_count": 26,
   "id": "e90325a3",
   "metadata": {},
   "outputs": [
    {
     "name": "stdout",
     "output_type": "stream",
     "text": [
      "5\n",
      "this is my decorator function\n"
     ]
    },
    {
     "data": {
      "text/plain": [
       "5"
      ]
     },
     "execution_count": 26,
     "metadata": {},
     "output_type": "execute_result"
    }
   ],
   "source": [
    "test8(1,4)"
   ]
  },
  {
   "cell_type": "code",
   "execution_count": 27,
   "id": "fd3fd0bc",
   "metadata": {},
   "outputs": [],
   "source": [
    "def test6(func):\n",
    "    def test7(*args,**kwargs):\n",
    "        func(*args,**kwargs)\n",
    "        print(func(*args,**kwargs))\n",
    "        print(\"this is my decorator function\")\n",
    "        return func(*args,**kwargs)\n",
    "    return test7"
   ]
  },
  {
   "cell_type": "code",
   "execution_count": 28,
   "id": "0f129de9",
   "metadata": {},
   "outputs": [],
   "source": [
    "@test6\n",
    "def test8(a,b,c):\n",
    "    return a+b+c"
   ]
  },
  {
   "cell_type": "code",
   "execution_count": 29,
   "id": "f242bc42",
   "metadata": {},
   "outputs": [
    {
     "name": "stdout",
     "output_type": "stream",
     "text": [
      "herenowhy\n",
      "this is my decorator function\n"
     ]
    },
    {
     "data": {
      "text/plain": [
       "'herenowhy'"
      ]
     },
     "execution_count": 29,
     "metadata": {},
     "output_type": "execute_result"
    }
   ],
   "source": [
    "test8(\"here\",\"no\",\"why\")"
   ]
  },
  {
   "cell_type": "code",
   "execution_count": 30,
   "id": "3999b36b",
   "metadata": {},
   "outputs": [],
   "source": [
    "@test6\n",
    "def test8(a,b):\n",
    "    return a+b"
   ]
  },
  {
   "cell_type": "code",
   "execution_count": 31,
   "id": "0028d070",
   "metadata": {},
   "outputs": [
    {
     "name": "stdout",
     "output_type": "stream",
     "text": [
      "hereno\n",
      "this is my decorator function\n"
     ]
    },
    {
     "data": {
      "text/plain": [
       "'hereno'"
      ]
     },
     "execution_count": 31,
     "metadata": {},
     "output_type": "execute_result"
    }
   ],
   "source": [
    "test8(\"here\",\"no\")"
   ]
  },
  {
   "cell_type": "code",
   "execution_count": 32,
   "id": "eca046db",
   "metadata": {},
   "outputs": [],
   "source": [
    "@test6\n",
    "def test9(**kwargs):\n",
    "    return kwargs"
   ]
  },
  {
   "cell_type": "code",
   "execution_count": 33,
   "id": "650d1ed6",
   "metadata": {},
   "outputs": [
    {
     "name": "stdout",
     "output_type": "stream",
     "text": [
      "{'a': 11, 'b': 7}\n",
      "this is my decorator function\n"
     ]
    },
    {
     "data": {
      "text/plain": [
       "{'a': 11, 'b': 7}"
      ]
     },
     "execution_count": 33,
     "metadata": {},
     "output_type": "execute_result"
    }
   ],
   "source": [
    "test9(a= 11, b=7)"
   ]
  },
  {
   "cell_type": "code",
   "execution_count": 34,
   "id": "7376a102",
   "metadata": {},
   "outputs": [],
   "source": [
    "c=lambda a,b : a+b"
   ]
  },
  {
   "cell_type": "code",
   "execution_count": 35,
   "id": "3f027fc9",
   "metadata": {},
   "outputs": [
    {
     "data": {
      "text/plain": [
       "'hereno'"
      ]
     },
     "execution_count": 35,
     "metadata": {},
     "output_type": "execute_result"
    }
   ],
   "source": [
    "c(\"here\",\"no\")"
   ]
  },
  {
   "cell_type": "code",
   "execution_count": 36,
   "id": "0078661f",
   "metadata": {},
   "outputs": [],
   "source": [
    "d = lambda a,b,c : a+b*c"
   ]
  },
  {
   "cell_type": "code",
   "execution_count": 37,
   "id": "556e593b",
   "metadata": {},
   "outputs": [
    {
     "data": {
      "text/plain": [
       "14"
      ]
     },
     "execution_count": 37,
     "metadata": {},
     "output_type": "execute_result"
    }
   ],
   "source": [
    "d(2,3,4)"
   ]
  },
  {
   "cell_type": "code",
   "execution_count": 38,
   "id": "54640b48",
   "metadata": {},
   "outputs": [],
   "source": [
    "e = lambda *args: args"
   ]
  },
  {
   "cell_type": "code",
   "execution_count": 39,
   "id": "21aee803",
   "metadata": {},
   "outputs": [
    {
     "data": {
      "text/plain": [
       "()"
      ]
     },
     "execution_count": 39,
     "metadata": {},
     "output_type": "execute_result"
    }
   ],
   "source": [
    "e()"
   ]
  },
  {
   "cell_type": "code",
   "execution_count": 40,
   "id": "40b7295b",
   "metadata": {},
   "outputs": [
    {
     "data": {
      "text/plain": [
       "(3, 4, 5)"
      ]
     },
     "execution_count": 40,
     "metadata": {},
     "output_type": "execute_result"
    }
   ],
   "source": [
    "e(3,4,5)"
   ]
  },
  {
   "cell_type": "markdown",
   "id": "c4ee7d3f",
   "metadata": {},
   "source": [
    "Map()"
   ]
  },
  {
   "cell_type": "code",
   "execution_count": 41,
   "id": "1b9842e6",
   "metadata": {},
   "outputs": [],
   "source": [
    "l = [1,2,3,4,5,6,7]\n",
    "l1=[]\n",
    "for i in l:\n",
    "    l1.append(i+10)"
   ]
  },
  {
   "cell_type": "code",
   "execution_count": 42,
   "id": "1b5d7cec",
   "metadata": {},
   "outputs": [
    {
     "data": {
      "text/plain": [
       "[11, 12, 13, 14, 15, 16, 17]"
      ]
     },
     "execution_count": 42,
     "metadata": {},
     "output_type": "execute_result"
    }
   ],
   "source": [
    "l1"
   ]
  },
  {
   "cell_type": "code",
   "execution_count": 43,
   "id": "3ac35e64",
   "metadata": {},
   "outputs": [],
   "source": [
    "l = [1,2,3,4,5,6,7]\n",
    "\n",
    "def test10(a):\n",
    "    return a +10\n",
    "\n"
   ]
  },
  {
   "cell_type": "code",
   "execution_count": 44,
   "id": "a3514755",
   "metadata": {},
   "outputs": [
    {
     "data": {
      "text/plain": [
       "[11, 12, 13, 14, 15, 16, 17]"
      ]
     },
     "execution_count": 44,
     "metadata": {},
     "output_type": "execute_result"
    }
   ],
   "source": [
    "list(map(test10,l))"
   ]
  },
  {
   "cell_type": "code",
   "execution_count": 45,
   "id": "d0858a18",
   "metadata": {},
   "outputs": [
    {
     "data": {
      "text/plain": [
       "[11, 12, 13, 14, 15, 16, 17]"
      ]
     },
     "execution_count": 45,
     "metadata": {},
     "output_type": "execute_result"
    }
   ],
   "source": [
    "list(map(lambda a: a+10, l))"
   ]
  },
  {
   "cell_type": "code",
   "execution_count": 46,
   "id": "db681118",
   "metadata": {},
   "outputs": [],
   "source": [
    "n = lambda a: a+10"
   ]
  },
  {
   "cell_type": "code",
   "execution_count": 47,
   "id": "7a4bffc5",
   "metadata": {},
   "outputs": [
    {
     "data": {
      "text/plain": [
       "[11, 12, 13, 14, 15, 16, 17]"
      ]
     },
     "execution_count": 47,
     "metadata": {},
     "output_type": "execute_result"
    }
   ],
   "source": [
    "list(map(n,l))"
   ]
  },
  {
   "cell_type": "code",
   "execution_count": 48,
   "id": "49d4231e",
   "metadata": {},
   "outputs": [
    {
     "data": {
      "text/plain": [
       "[11, 12, 13, 14, 15, 16, 17]"
      ]
     },
     "execution_count": 48,
     "metadata": {},
     "output_type": "execute_result"
    }
   ],
   "source": [
    "list(map(lambda a:a+10, l))"
   ]
  },
  {
   "cell_type": "code",
   "execution_count": 49,
   "id": "46b42a55",
   "metadata": {},
   "outputs": [],
   "source": [
    "l = [\"here\",\"now\",\"some\"]"
   ]
  },
  {
   "cell_type": "code",
   "execution_count": 50,
   "id": "2e13f01c",
   "metadata": {},
   "outputs": [],
   "source": [
    "l1=[]\n",
    "for i in l:\n",
    "    l1.append(i.upper())\n",
    "    "
   ]
  },
  {
   "cell_type": "code",
   "execution_count": 51,
   "id": "d60dc7d3",
   "metadata": {},
   "outputs": [
    {
     "data": {
      "text/plain": [
       "['HERE', 'NOW', 'SOME']"
      ]
     },
     "execution_count": 51,
     "metadata": {},
     "output_type": "execute_result"
    }
   ],
   "source": [
    "l1"
   ]
  },
  {
   "cell_type": "code",
   "execution_count": 52,
   "id": "5afbd8cd",
   "metadata": {},
   "outputs": [
    {
     "data": {
      "text/plain": [
       "['HERE', 'NOW', 'SOME']"
      ]
     },
     "execution_count": 52,
     "metadata": {},
     "output_type": "execute_result"
    }
   ],
   "source": [
    "list(map(lambda a:a.upper(),l))"
   ]
  },
  {
   "cell_type": "code",
   "execution_count": 53,
   "id": "d8cc4801",
   "metadata": {},
   "outputs": [
    {
     "data": {
      "text/plain": [
       "['HERE', 'NOW', 'SOME']"
      ]
     },
     "execution_count": 53,
     "metadata": {},
     "output_type": "execute_result"
    }
   ],
   "source": [
    "list(map(str.upper,l))"
   ]
  },
  {
   "cell_type": "code",
   "execution_count": 54,
   "id": "aadb0833",
   "metadata": {},
   "outputs": [],
   "source": [
    "def up_string(a):\n",
    "    return a.upper()"
   ]
  },
  {
   "cell_type": "code",
   "execution_count": 55,
   "id": "9c85fb02",
   "metadata": {},
   "outputs": [
    {
     "data": {
      "text/plain": [
       "['HERE', 'NOW', 'SOME']"
      ]
     },
     "execution_count": 55,
     "metadata": {},
     "output_type": "execute_result"
    }
   ],
   "source": [
    "list(map(up_string,l))"
   ]
  },
  {
   "cell_type": "code",
   "execution_count": 56,
   "id": "9c52ae1a",
   "metadata": {},
   "outputs": [
    {
     "data": {
      "text/plain": [
       "[4, 3, 4]"
      ]
     },
     "execution_count": 56,
     "metadata": {},
     "output_type": "execute_result"
    }
   ],
   "source": [
    "list(map(len,l))"
   ]
  },
  {
   "cell_type": "code",
   "execution_count": 57,
   "id": "32913cf8",
   "metadata": {},
   "outputs": [
    {
     "data": {
      "text/plain": [
       "[4, 3, 4]"
      ]
     },
     "execution_count": 57,
     "metadata": {},
     "output_type": "execute_result"
    }
   ],
   "source": [
    "list(map(lambda a:len(a),l))"
   ]
  },
  {
   "cell_type": "code",
   "execution_count": 58,
   "id": "f0a056de",
   "metadata": {},
   "outputs": [],
   "source": [
    "def test11(a):\n",
    "    return len(a)"
   ]
  },
  {
   "cell_type": "code",
   "execution_count": 59,
   "id": "ca8b87b1",
   "metadata": {},
   "outputs": [
    {
     "data": {
      "text/plain": [
       "[4, 3, 4]"
      ]
     },
     "execution_count": 59,
     "metadata": {},
     "output_type": "execute_result"
    }
   ],
   "source": [
    "list(map(test11,l))"
   ]
  },
  {
   "cell_type": "code",
   "execution_count": 67,
   "id": "5093b0c6",
   "metadata": {},
   "outputs": [],
   "source": [
    "l = [1,2,3,4,5,6,7,8]\n",
    "l1=[]\n",
    "for i in l:\n",
    "    if i%2 ==0:\n",
    "        l1.append(i)\n",
    "    \n"
   ]
  },
  {
   "cell_type": "code",
   "execution_count": 68,
   "id": "e28a8c3f",
   "metadata": {},
   "outputs": [
    {
     "data": {
      "text/plain": [
       "[2, 4, 6, 8]"
      ]
     },
     "execution_count": 68,
     "metadata": {},
     "output_type": "execute_result"
    }
   ],
   "source": [
    "l1"
   ]
  },
  {
   "cell_type": "code",
   "execution_count": 70,
   "id": "eca189d1",
   "metadata": {},
   "outputs": [
    {
     "data": {
      "text/plain": [
       "[2, 4, 6, 8]"
      ]
     },
     "execution_count": 70,
     "metadata": {},
     "output_type": "execute_result"
    }
   ],
   "source": [
    "[i for i in l if i%2 == 0]"
   ]
  },
  {
   "cell_type": "code",
   "execution_count": 73,
   "id": "f3725ec0",
   "metadata": {},
   "outputs": [],
   "source": [
    "def test13(a):\n",
    "    l=[]\n",
    "    if type(a)== list:\n",
    "        for i in a:\n",
    "            if i%2 == 0:\n",
    "                l.append(i)\n",
    "    return l\n",
    "    "
   ]
  },
  {
   "cell_type": "code",
   "execution_count": 74,
   "id": "97eb285c",
   "metadata": {},
   "outputs": [
    {
     "data": {
      "text/plain": [
       "[2, 4, 6, 8]"
      ]
     },
     "execution_count": 74,
     "metadata": {},
     "output_type": "execute_result"
    }
   ],
   "source": [
    "test13(l)"
   ]
  },
  {
   "cell_type": "code",
   "execution_count": 75,
   "id": "ced8238c",
   "metadata": {},
   "outputs": [],
   "source": [
    "a = lambda a :a if a%2 == 0 else None"
   ]
  },
  {
   "cell_type": "code",
   "execution_count": 76,
   "id": "ecf39303",
   "metadata": {},
   "outputs": [
    {
     "data": {
      "text/plain": [
       "[None, 2, None, 4, None, 6, None, 8]"
      ]
     },
     "execution_count": 76,
     "metadata": {},
     "output_type": "execute_result"
    }
   ],
   "source": [
    "list(map(a,l))"
   ]
  },
  {
   "cell_type": "code",
   "execution_count": 77,
   "id": "550b3f43",
   "metadata": {},
   "outputs": [
    {
     "data": {
      "text/plain": [
       "[2, 4, 6, 8]"
      ]
     },
     "execution_count": 77,
     "metadata": {},
     "output_type": "execute_result"
    }
   ],
   "source": [
    "list(filter(a,l))"
   ]
  },
  {
   "cell_type": "code",
   "execution_count": 83,
   "id": "f9cd6547",
   "metadata": {},
   "outputs": [],
   "source": [
    "def test15(a):\n",
    "    if a%2==0:\n",
    "        return True\n",
    "    else:\n",
    "        return False"
   ]
  },
  {
   "cell_type": "code",
   "execution_count": 84,
   "id": "3c8c303d",
   "metadata": {},
   "outputs": [
    {
     "data": {
      "text/plain": [
       "True"
      ]
     },
     "execution_count": 84,
     "metadata": {},
     "output_type": "execute_result"
    }
   ],
   "source": [
    "test15(2)"
   ]
  },
  {
   "cell_type": "code",
   "execution_count": 85,
   "id": "5507b79b",
   "metadata": {},
   "outputs": [
    {
     "data": {
      "text/plain": [
       "[2, 4, 6, 8]"
      ]
     },
     "execution_count": 85,
     "metadata": {},
     "output_type": "execute_result"
    }
   ],
   "source": [
    "list(filter(test15,l))"
   ]
  },
  {
   "cell_type": "code",
   "execution_count": 86,
   "id": "b63bb18a",
   "metadata": {},
   "outputs": [],
   "source": [
    "def test16(a):\n",
    "    if a%2==0:\n",
    "        return False\n",
    "    else:\n",
    "        return True"
   ]
  },
  {
   "cell_type": "code",
   "execution_count": 87,
   "id": "5095c69e",
   "metadata": {},
   "outputs": [
    {
     "data": {
      "text/plain": [
       "[1, 3, 5, 7]"
      ]
     },
     "execution_count": 87,
     "metadata": {},
     "output_type": "execute_result"
    }
   ],
   "source": [
    "list(filter(test16,l))"
   ]
  },
  {
   "cell_type": "code",
   "execution_count": 88,
   "id": "6e2f4da2",
   "metadata": {},
   "outputs": [
    {
     "data": {
      "text/plain": [
       "36"
      ]
     },
     "execution_count": 88,
     "metadata": {},
     "output_type": "execute_result"
    }
   ],
   "source": [
    "sum(l)"
   ]
  },
  {
   "cell_type": "code",
   "execution_count": 90,
   "id": "7795afb5",
   "metadata": {},
   "outputs": [],
   "source": [
    "from functools import reduce"
   ]
  },
  {
   "cell_type": "code",
   "execution_count": 91,
   "id": "d830580d",
   "metadata": {},
   "outputs": [
    {
     "data": {
      "text/plain": [
       "40320"
      ]
     },
     "execution_count": 91,
     "metadata": {},
     "output_type": "execute_result"
    }
   ],
   "source": [
    "reduce(lambda a,b: a*b,l)"
   ]
  },
  {
   "cell_type": "code",
   "execution_count": 96,
   "id": "e7907cf2",
   "metadata": {},
   "outputs": [
    {
     "data": {
      "text/plain": [
       "3"
      ]
     },
     "execution_count": 96,
     "metadata": {},
     "output_type": "execute_result"
    }
   ],
   "source": [
    "l1 = [3]\n",
    "reduce(lambda a,b: a*b,l1)"
   ]
  },
  {
   "cell_type": "code",
   "execution_count": 107,
   "id": "89d85e4a",
   "metadata": {},
   "outputs": [],
   "source": [
    "def test17(a: int,b: \"function\")->int: \n",
    "    \"'this is my doc string to give a hint to the next programmer'\"\n",
    "    return a+b"
   ]
  },
  {
   "cell_type": "code",
   "execution_count": 108,
   "id": "c1a314ca",
   "metadata": {},
   "outputs": [
    {
     "data": {
      "text/plain": [
       "3"
      ]
     },
     "execution_count": 108,
     "metadata": {},
     "output_type": "execute_result"
    }
   ],
   "source": [
    "test17(1,2)"
   ]
  },
  {
   "cell_type": "code",
   "execution_count": null,
   "id": "6c357664",
   "metadata": {},
   "outputs": [],
   "source": []
  }
 ],
 "metadata": {
  "kernelspec": {
   "display_name": "Python 3 (ipykernel)",
   "language": "python",
   "name": "python3"
  },
  "language_info": {
   "codemirror_mode": {
    "name": "ipython",
    "version": 3
   },
   "file_extension": ".py",
   "mimetype": "text/x-python",
   "name": "python",
   "nbconvert_exporter": "python",
   "pygments_lexer": "ipython3",
   "version": "3.9.12"
  }
 },
 "nbformat": 4,
 "nbformat_minor": 5
}
