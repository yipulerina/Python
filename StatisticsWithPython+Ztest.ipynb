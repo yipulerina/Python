{
 "cells": [
  {
   "cell_type": "code",
   "execution_count": 2,
   "metadata": {},
   "outputs": [],
   "source": [
    "import numpy as np\n",
    "from statistics import mode\n",
    "import warnings\n",
    "\n",
    "warnings.filterwarnings(\"ignore\")"
   ]
  },
  {
   "cell_type": "code",
   "execution_count": 3,
   "metadata": {},
   "outputs": [],
   "source": [
    "population= np.random.randint(10,20,50)"
   ]
  },
  {
   "cell_type": "code",
   "execution_count": 4,
   "metadata": {},
   "outputs": [
    {
     "data": {
      "text/plain": [
       "14.64"
      ]
     },
     "execution_count": 4,
     "metadata": {},
     "output_type": "execute_result"
    }
   ],
   "source": [
    "np.mean(population)"
   ]
  },
  {
   "cell_type": "code",
   "execution_count": 5,
   "metadata": {},
   "outputs": [
    {
     "data": {
      "text/plain": [
       "15.0"
      ]
     },
     "execution_count": 5,
     "metadata": {},
     "output_type": "execute_result"
    }
   ],
   "source": [
    "np.median(population)"
   ]
  },
  {
   "cell_type": "code",
   "execution_count": 6,
   "metadata": {},
   "outputs": [
    {
     "data": {
      "text/plain": [
       "17"
      ]
     },
     "execution_count": 6,
     "metadata": {},
     "output_type": "execute_result"
    }
   ],
   "source": [
    "mode(population)"
   ]
  },
  {
   "cell_type": "code",
   "execution_count": 7,
   "metadata": {},
   "outputs": [
    {
     "name": "stdout",
     "output_type": "stream",
     "text": [
      "mean of the population 14.64\n",
      "median of the population 15.0\n",
      "mode of the population 17\n"
     ]
    }
   ],
   "source": [
    "print(f\"mean of the population {np.mean(population)}\")\n",
    "print(f\"median of the population {np.median(population)}\")\n",
    "print(f\"mode of the population {mode(population)}\")"
   ]
  },
  {
   "cell_type": "code",
   "execution_count": 8,
   "metadata": {},
   "outputs": [],
   "source": [
    "sample = np.random.choice(population,20)"
   ]
  },
  {
   "cell_type": "code",
   "execution_count": 9,
   "metadata": {},
   "outputs": [
    {
     "name": "stdout",
     "output_type": "stream",
     "text": [
      "mean of the population 14.95\n",
      "median of the population 15.0\n",
      "mode of the population 14\n"
     ]
    }
   ],
   "source": [
    "print(f\"mean of the population {np.mean(sample)}\")\n",
    "print(f\"median of the population {np.median(sample)}\")\n",
    "print(f\"mode of the population {mode(sample)}\")"
   ]
  },
  {
   "cell_type": "code",
   "execution_count": 10,
   "metadata": {},
   "outputs": [],
   "source": [
    "sample1 = np.random.choice(population,20)\n",
    "sample2 = np.random.choice(population,20)\n",
    "sample3 = np.random.choice(population,20)\n",
    "sample4 = np.random.choice(population,20)"
   ]
  },
  {
   "cell_type": "code",
   "execution_count": 11,
   "metadata": {},
   "outputs": [
    {
     "name": "stdout",
     "output_type": "stream",
     "text": [
      "[10 10 14 13 17 18 11 12 11 15 16 15 14 12 13 15 14 14 15 17]\n",
      "============================================================\n",
      "[11 10 11 12 17 13 14 13 13 17 15 10 11 15 19 11 11 15 17 14]\n",
      "============================================================\n",
      "[15 17 16 14 16 16 15 18 11 13 12 10 15 10 11 18 17 15 17 14]\n",
      "============================================================\n",
      "[15 18 10 15 11 11 14 15 13 11 17 13 17 10 16 17 10 17 18 11]\n"
     ]
    }
   ],
   "source": [
    "print(sample1)\n",
    "print(60*\"=\")\n",
    "print(sample2)\n",
    "print(60*\"=\")\n",
    "print(sample3)\n",
    "print(60*\"=\")\n",
    "print(sample4)"
   ]
  },
  {
   "cell_type": "code",
   "execution_count": 12,
   "metadata": {},
   "outputs": [],
   "source": [
    "mean_of_samples = []\n",
    "all_sample = [sample1,sample2,sample3,sample4]\n",
    "\n",
    "for sample in all_sample:\n",
    "    mean_of_samples.append(np.mean(sample))"
   ]
  },
  {
   "cell_type": "code",
   "execution_count": 13,
   "metadata": {},
   "outputs": [
    {
     "data": {
      "text/plain": [
       "[13.8, 13.45, 14.5, 13.95]"
      ]
     },
     "execution_count": 13,
     "metadata": {},
     "output_type": "execute_result"
    }
   ],
   "source": [
    "mean_of_samples"
   ]
  },
  {
   "attachments": {},
   "cell_type": "markdown",
   "metadata": {},
   "source": [
    "### Central Limit Theorem\n",
    "\n",
    "The central limit theorem says that the sampling distribution of the mean will always be normally distributed, as long as the sample size is large enough. Regardless of whether the population has a normal, Poisson, binomial, or any other distribution, the sampling distribution of the mean will be normal."
   ]
  },
  {
   "cell_type": "code",
   "execution_count": 14,
   "metadata": {},
   "outputs": [],
   "source": [
    "population = np.random.binomial(10,0.5,10000)"
   ]
  },
  {
   "cell_type": "code",
   "execution_count": 15,
   "metadata": {},
   "outputs": [
    {
     "name": "stdout",
     "output_type": "stream",
     "text": [
      "[4 3 4 ... 4 6 6]\n"
     ]
    }
   ],
   "source": [
    "print(population)"
   ]
  },
  {
   "cell_type": "code",
   "execution_count": 16,
   "metadata": {},
   "outputs": [
    {
     "data": {
      "text/plain": [
       "10000"
      ]
     },
     "execution_count": 16,
     "metadata": {},
     "output_type": "execute_result"
    }
   ],
   "source": [
    "len(population)"
   ]
  },
  {
   "cell_type": "code",
   "execution_count": 17,
   "metadata": {},
   "outputs": [],
   "source": [
    "import seaborn as sns"
   ]
  },
  {
   "cell_type": "code",
   "execution_count": 18,
   "metadata": {},
   "outputs": [
    {
     "data": {
      "text/plain": [
       "<AxesSubplot: ylabel='Density'>"
      ]
     },
     "execution_count": 18,
     "metadata": {},
     "output_type": "execute_result"
    },
    {
     "data": {
      "image/png": "[encoded data removed]",
      "text/plain": [
       "<Figure size 640x480 with 1 Axes>"
      ]
     },
     "metadata": {},
     "output_type": "display_data"
    }
   ],
   "source": [
    "sns.distplot(population)"
   ]
  },
  {
   "cell_type": "code",
   "execution_count": 19,
   "metadata": {},
   "outputs": [
    {
     "data": {
      "text/plain": [
       "3000"
      ]
     },
     "execution_count": 19,
     "metadata": {},
     "output_type": "execute_result"
    }
   ],
   "source": [
    "int(len(population)*.30)"
   ]
  },
  {
   "cell_type": "code",
   "execution_count": 20,
   "metadata": {},
   "outputs": [],
   "source": [
    "# 30% of the popultion size\n",
    "size = int(len(population)*.30)"
   ]
  },
  {
   "cell_type": "code",
   "execution_count": 21,
   "metadata": {},
   "outputs": [],
   "source": [
    "sample_mean = []\n",
    "for i in range(1,31):\n",
    "    sample = np.random.choice(population,size = size)\n",
    "    sample_mean.append(np.mean(sample))\n",
    "    "
   ]
  },
  {
   "cell_type": "code",
   "execution_count": 22,
   "metadata": {},
   "outputs": [
    {
     "data": {
      "text/plain": [
       "[5.027333333333333,\n",
       " 5.006333333333333,\n",
       " 4.999,\n",
       " 5.015666666666666,\n",
       " 4.999333333333333,\n",
       " 5.034666666666666,\n",
       " 5.006666666666667,\n",
       " 5.015666666666666,\n",
       " 4.963666666666667,\n",
       " 5.012,\n",
       " 4.987333333333333,\n",
       " 5.055,\n",
       " 4.988,\n",
       " 5.037,\n",
       " 5.0136666666666665,\n",
       " 5.0376666666666665,\n",
       " 4.992333333333334,\n",
       " 5.002,\n",
       " 4.975666666666666,\n",
       " 4.984666666666667,\n",
       " 5.008333333333334,\n",
       " 4.972,\n",
       " 4.997,\n",
       " 4.991,\n",
       " 5.002,\n",
       " 4.959666666666666,\n",
       " 5.023666666666666,\n",
       " 5.024333333333334,\n",
       " 4.970666666666666,\n",
       " 5.031333333333333]"
      ]
     },
     "execution_count": 22,
     "metadata": {},
     "output_type": "execute_result"
    }
   ],
   "source": [
    "sample_mean"
   ]
  },
  {
   "cell_type": "code",
   "execution_count": 23,
   "metadata": {},
   "outputs": [
    {
     "data": {
      "text/plain": [
       "<AxesSubplot: ylabel='Density'>"
      ]
     },
     "execution_count": 23,
     "metadata": {},
     "output_type": "execute_result"
    },
    {
     "data": {
      "image/png": "[encoded data removed]",
      "text/plain": [
       "<Figure size 640x480 with 1 Axes>"
      ]
     },
     "metadata": {},
     "output_type": "display_data"
    }
   ],
   "source": [
    "sns.distplot(sample_mean)"
   ]
  },
  {
   "cell_type": "code",
   "execution_count": 24,
   "metadata": {},
   "outputs": [],
   "source": [
    "sample_mean = []\n",
    "for i in range(1,501):\n",
    "    sample = np.random.choice(population,size = size)\n",
    "    sample_mean.append(np.mean(sample))\n",
    "    "
   ]
  },
  {
   "cell_type": "code",
   "execution_count": 26,
   "metadata": {},
   "outputs": [
    {
     "data": {
      "text/plain": [
       "<AxesSubplot: ylabel='Density'>"
      ]
     },
     "execution_count": 26,
     "metadata": {},
     "output_type": "execute_result"
    },
    {
     "data": {
      "image/png": "[encoded data removed]",
      "text/plain": [
       "<Figure size 640x480 with 1 Axes>"
      ]
     },
     "metadata": {},
     "output_type": "display_data"
    }
   ],
   "source": [
    "sns.distplot(sample_mean,color=\"red\")"
   ]
  },
  {
   "cell_type": "code",
   "execution_count": 27,
   "metadata": {},
   "outputs": [],
   "source": [
    "sample_mean = []\n",
    "for i in range(1,1000):\n",
    "    sample = np.random.choice(population,size = size)\n",
    "    sample_mean.append(np.mean(sample))"
   ]
  },
  {
   "cell_type": "code",
   "execution_count": 29,
   "metadata": {},
   "outputs": [
    {
     "data": {
      "text/plain": [
       "<AxesSubplot: ylabel='Density'>"
      ]
     },
     "execution_count": 29,
     "metadata": {},
     "output_type": "execute_result"
    },
    {
     "data": {
      "image/png": "[encoded data removed]",
      "text/plain": [
       "<Figure size 640x480 with 1 Axes>"
      ]
     },
     "metadata": {},
     "output_type": "display_data"
    }
   ],
   "source": [
    "sns.distplot(sample_mean,color=\"green\")"
   ]
  },
  {
   "attachments": {},
   "cell_type": "markdown",
   "metadata": {},
   "source": [
    " #### Types of Sampling\n",
    " Random Sampling \\\n",
    " Stratified Sampling \\\n",
    " Cluster Sampling \\\n",
    " Systematic Sampling"
   ]
  },
  {
   "attachments": {},
   "cell_type": "markdown",
   "metadata": {},
   "source": [
    "### Confidence interval and margin of error"
   ]
  },
  {
   "cell_type": "code",
   "execution_count": 30,
   "metadata": {},
   "outputs": [],
   "source": [
    "import scipy.stats as stats"
   ]
  },
  {
   "cell_type": "code",
   "execution_count": 31,
   "metadata": {},
   "outputs": [
    {
     "data": {
      "text/plain": [
       "1.6448536269514722"
      ]
     },
     "execution_count": 31,
     "metadata": {},
     "output_type": "execute_result"
    }
   ],
   "source": [
    "stats.norm.ppf(q = 0.95)"
   ]
  },
  {
   "cell_type": "code",
   "execution_count": 32,
   "metadata": {},
   "outputs": [
    {
     "data": {
      "text/plain": [
       "1.8807936081512509"
      ]
     },
     "execution_count": 32,
     "metadata": {},
     "output_type": "execute_result"
    }
   ],
   "source": [
    "stats.norm.ppf(q = 0.97)"
   ]
  },
  {
   "cell_type": "code",
   "execution_count": 33,
   "metadata": {},
   "outputs": [
    {
     "data": {
      "text/plain": [
       "2.3263478740408408"
      ]
     },
     "execution_count": 33,
     "metadata": {},
     "output_type": "execute_result"
    }
   ],
   "source": [
    "stats.norm.ppf(q = 0.99)"
   ]
  },
  {
   "cell_type": "code",
   "execution_count": 34,
   "metadata": {},
   "outputs": [],
   "source": [
    "z_critical = stats.norm.ppf(q = 0.92)"
   ]
  },
  {
   "cell_type": "code",
   "execution_count": 37,
   "metadata": {},
   "outputs": [],
   "source": [
    "t_critical = stats.t.ppf(q = 0.975, df = 24)"
   ]
  },
  {
   "cell_type": "code",
   "execution_count": 40,
   "metadata": {},
   "outputs": [],
   "source": [
    "margin_of_error = z_critical * (np.std(sample_mean)/np.sqrt(20))"
   ]
  },
  {
   "cell_type": "code",
   "execution_count": 42,
   "metadata": {},
   "outputs": [
    {
     "data": {
      "text/plain": [
       "5.001294616229122"
      ]
     },
     "execution_count": 42,
     "metadata": {},
     "output_type": "execute_result"
    }
   ],
   "source": [
    "np.mean(sample_mean)- margin_of_error"
   ]
  },
  {
   "cell_type": "code",
   "execution_count": 43,
   "metadata": {},
   "outputs": [
    {
     "data": {
      "text/plain": [
       "5.019370715769544"
      ]
     },
     "execution_count": 43,
     "metadata": {},
     "output_type": "execute_result"
    }
   ],
   "source": [
    "np.mean(sample_mean) + margin_of_error"
   ]
  },
  {
   "attachments": {},
   "cell_type": "markdown",
   "metadata": {},
   "source": [
    "#### Z-Test"
   ]
  },
  {
   "cell_type": "code",
   "execution_count": 75,
   "metadata": {},
   "outputs": [],
   "source": [
    "from numpy.random import randn\n",
    "population = randn(100)"
   ]
  },
  {
   "cell_type": "code",
   "execution_count": 76,
   "metadata": {},
   "outputs": [
    {
     "data": {
      "text/plain": [
       "array([-8.85515176e-01,  9.36655842e-03,  5.76130989e-01,  1.23266859e+00,\n",
       "        2.73651902e-01, -2.07988681e+00, -4.33992870e-01, -1.44991952e+00,\n",
       "        1.46875470e-01, -3.11233453e+00,  6.98476059e-01,  9.37428440e-01,\n",
       "       -6.46791011e-01, -8.93281770e-01,  1.36541645e+00,  6.55462710e-01,\n",
       "        1.06706918e-01,  8.52636647e-01, -9.35735438e-01,  1.70652799e-01,\n",
       "        2.61736660e-01, -7.02941605e-01,  6.36766613e-01,  5.42557499e-01,\n",
       "       -6.47961840e-01, -1.63554934e-01,  9.59497630e-01,  7.85569617e-01,\n",
       "       -9.01666779e-01, -1.47745857e-02,  1.23791811e+00,  6.07430870e-01,\n",
       "       -1.15528754e+00,  1.12576639e-01,  8.22761794e-01, -5.37022619e-01,\n",
       "       -2.15976112e-01,  9.66619951e-01, -1.16214401e+00,  8.51201422e-01,\n",
       "       -9.91995694e-01,  3.84943550e-01,  7.44080435e-01, -3.30072600e-03,\n",
       "       -1.76278273e-03, -9.43378958e-01, -6.54738989e-01, -5.88465845e-02,\n",
       "       -7.17594455e-01,  5.19508924e-01, -2.27823345e-01, -1.22817657e+00,\n",
       "        2.78702403e+00,  1.46684146e+00,  2.00668244e-01,  5.76717363e-01,\n",
       "       -3.58432539e-01, -1.14858344e+00,  5.21121607e-01, -4.28115234e-01,\n",
       "        9.07453778e-01, -1.48898990e+00, -2.05840323e+00, -1.22611235e+00,\n",
       "        1.19139604e+00, -6.15428094e-01, -1.17863318e+00, -7.62957656e-01,\n",
       "       -3.15600554e-01,  8.94380229e-01, -9.12276466e-04,  1.93394497e-01,\n",
       "       -2.56197584e-02, -1.37940090e+00,  1.04462162e+00,  5.34431508e-01,\n",
       "       -4.44060075e-01,  1.88486257e+00, -1.73234143e+00,  1.11020288e+00,\n",
       "        5.38025592e-01,  6.49579510e-01,  2.29747288e+00,  5.71362156e-01,\n",
       "        7.95810013e-01, -7.10793554e-01,  3.09666835e+00, -5.54487278e-02,\n",
       "        2.02593058e+00,  3.67714200e-01, -1.32902019e+00,  1.57117016e+00,\n",
       "       -8.68294468e-01,  2.85132109e-01,  1.78894591e+00,  7.24452342e-01,\n",
       "       -1.00100338e+00, -4.51544331e-01, -1.35746199e-01, -1.24184721e+00])"
      ]
     },
     "execution_count": 76,
     "metadata": {},
     "output_type": "execute_result"
    }
   ],
   "source": [
    "population"
   ]
  },
  {
   "cell_type": "code",
   "execution_count": 77,
   "metadata": {},
   "outputs": [
    {
     "data": {
      "text/plain": [
       "<AxesSubplot: ylabel='Density'>"
      ]
     },
     "execution_count": 77,
     "metadata": {},
     "output_type": "execute_result"
    },
    {
     "data": {
      "image/png": "[encoded data removed]",
      "text/plain": [
       "<Figure size 640x480 with 1 Axes>"
      ]
     },
     "metadata": {},
     "output_type": "display_data"
    }
   ],
   "source": [
    "sns.distplot(population)"
   ]
  },
  {
   "cell_type": "code",
   "execution_count": 78,
   "metadata": {},
   "outputs": [
    {
     "name": "stdout",
     "output_type": "stream",
     "text": [
      "mean of the population :0.04760328973541108 std of the population:1.0573851257086124\n"
     ]
    }
   ],
   "source": [
    "print(f\"mean of the population :{np.mean(population)}\", f\"std of the population:{np.std(population)}\")"
   ]
  },
  {
   "cell_type": "code",
   "execution_count": null,
   "metadata": {},
   "outputs": [],
   "source": [
    "P<= 0.05 # reject the null hypothesis\n",
    "P>= 0.05 # Accept the null hypothesis"
   ]
  },
  {
   "cell_type": "code",
   "execution_count": 79,
   "metadata": {},
   "outputs": [],
   "source": [
    "null_mean = 0.047"
   ]
  },
  {
   "cell_type": "code",
   "execution_count": 83,
   "metadata": {},
   "outputs": [],
   "source": [
    "#p_value =0.05\n",
    "ALPHA = 0.05"
   ]
  },
  {
   "cell_type": "code",
   "execution_count": 84,
   "metadata": {},
   "outputs": [],
   "source": [
    "from statsmodels.stats.weightstats import ztest\n",
    "z_score,p_value = ztest(population,value = null_mean, alternative='larger')"
   ]
  },
  {
   "cell_type": "code",
   "execution_count": 87,
   "metadata": {},
   "outputs": [
    {
     "data": {
      "text/plain": [
       "0.4977352614652381"
      ]
     },
     "execution_count": 87,
     "metadata": {},
     "output_type": "execute_result"
    }
   ],
   "source": [
    "p_value"
   ]
  },
  {
   "cell_type": "code",
   "execution_count": 88,
   "metadata": {},
   "outputs": [
    {
     "data": {
      "text/plain": [
       "0.005676888137301243"
      ]
     },
     "execution_count": 88,
     "metadata": {},
     "output_type": "execute_result"
    }
   ],
   "source": [
    "z_score"
   ]
  },
  {
   "cell_type": "code",
   "execution_count": 85,
   "metadata": {},
   "outputs": [
    {
     "name": "stdout",
     "output_type": "stream",
     "text": [
      "We are going to accept the null hypothesis\n"
     ]
    }
   ],
   "source": [
    "if (p_value<ALPHA):\n",
    "    print(\"Reject the null hypothesis\")\n",
    "else:\n",
    "    print(\"We are going to accept the null hypothesis\")"
   ]
  },
  {
   "cell_type": "code",
   "execution_count": null,
   "metadata": {},
   "outputs": [],
   "source": []
  },
  {
   "cell_type": "code",
   "execution_count": null,
   "metadata": {},
   "outputs": [],
   "source": []
  },
  {
   "cell_type": "code",
   "execution_count": null,
   "metadata": {},
   "outputs": [],
   "source": []
  },
  {
   "cell_type": "code",
   "execution_count": null,
   "metadata": {},
   "outputs": [],
   "source": []
  },
  {
   "cell_type": "code",
   "execution_count": null,
   "metadata": {},
   "outputs": [],
   "source": []
  }
 ],
 "metadata": {
  "kernelspec": {
   "display_name": "base",
   "language": "python",
   "name": "python3"
  },
  "language_info": {
   "codemirror_mode": {
    "name": "ipython",
    "version": 3
   },
   "file_extension": ".py",
   "mimetype": "text/x-python",
   "name": "python",
   "nbconvert_exporter": "python",
   "pygments_lexer": "ipython3",
   "version": "3.9.12"
  },
  "orig_nbformat": 4,
  "vscode": {
   "interpreter": {
    "hash": "db5ec057a6124006849df36cd0afa83f3f828f828d2603775e62dbf168f15c5c"
   }
  }
 },
 "nbformat": 4,
 "nbformat_minor": 2
}
