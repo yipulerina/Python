{
 "cells": [
  {
   "cell_type": "code",
   "execution_count": 1,
   "id": "70f98bc7",
   "metadata": {},
   "outputs": [],
   "source": [
    "def test1():\n",
    "    a = 5+6\n",
    "    return a"
   ]
  },
  {
   "cell_type": "code",
   "execution_count": 2,
   "id": "213e88c6",
   "metadata": {},
   "outputs": [
    {
     "data": {
      "text/plain": [
       "11"
      ]
     },
     "execution_count": 2,
     "metadata": {},
     "output_type": "execute_result"
    }
   ],
   "source": [
    "test1()"
   ]
  },
  {
   "cell_type": "code",
   "execution_count": 3,
   "id": "a2149ad9",
   "metadata": {},
   "outputs": [],
   "source": [
    "def test2(a,b):\n",
    "    return a +b"
   ]
  },
  {
   "cell_type": "code",
   "execution_count": 4,
   "id": "2268b7f1",
   "metadata": {},
   "outputs": [
    {
     "data": {
      "text/plain": [
       "3"
      ]
     },
     "execution_count": 4,
     "metadata": {},
     "output_type": "execute_result"
    }
   ],
   "source": [
    "test2(1,2)"
   ]
  },
  {
   "cell_type": "code",
   "execution_count": 5,
   "id": "70e3232c",
   "metadata": {},
   "outputs": [
    {
     "data": {
      "text/plain": [
       "'hereno'"
      ]
     },
     "execution_count": 5,
     "metadata": {},
     "output_type": "execute_result"
    }
   ],
   "source": [
    "test2(\"here\",\"no\")"
   ]
  },
  {
   "cell_type": "code",
   "execution_count": 6,
   "id": "929c4c51",
   "metadata": {},
   "outputs": [
    {
     "data": {
      "text/plain": [
       "'hereno'"
      ]
     },
     "execution_count": 6,
     "metadata": {},
     "output_type": "execute_result"
    }
   ],
   "source": [
    "test2(b=\"no\", a =\"here\")"
   ]
  },
  {
   "cell_type": "code",
   "execution_count": 7,
   "id": "15f80049",
   "metadata": {},
   "outputs": [],
   "source": [
    "def test3(*args):\n",
    "    return args"
   ]
  },
  {
   "cell_type": "code",
   "execution_count": 8,
   "id": "1032f902",
   "metadata": {},
   "outputs": [
    {
     "data": {
      "text/plain": [
       "(1, 2, 3, 'here', 'no')"
      ]
     },
     "execution_count": 8,
     "metadata": {},
     "output_type": "execute_result"
    }
   ],
   "source": [
    "test3(1,2,3,\"here\",\"no\")"
   ]
  },
  {
   "cell_type": "code",
   "execution_count": 9,
   "id": "ee899925",
   "metadata": {},
   "outputs": [
    {
     "data": {
      "text/plain": [
       "tuple"
      ]
     },
     "execution_count": 9,
     "metadata": {},
     "output_type": "execute_result"
    }
   ],
   "source": [
    "type(test3(1,2,3,\"here\",\"no\"))"
   ]
  },
  {
   "cell_type": "code",
   "execution_count": 10,
   "id": "ec33a06d",
   "metadata": {},
   "outputs": [
    {
     "data": {
      "text/plain": [
       "([1, 23, 4, 5], 'here', 'no', (1+3j), (4, 5, 6))"
      ]
     },
     "execution_count": 10,
     "metadata": {},
     "output_type": "execute_result"
    }
   ],
   "source": [
    "test3([1,23,4,5,],\"here\", \"no\", 1+3j,(4,5,6))"
   ]
  },
  {
   "cell_type": "code",
   "execution_count": 11,
   "id": "a8fc3cd3",
   "metadata": {},
   "outputs": [],
   "source": [
    "def test4(*args):\n",
    "    return list(args)"
   ]
  },
  {
   "cell_type": "code",
   "execution_count": 12,
   "id": "06a47820",
   "metadata": {},
   "outputs": [
    {
     "data": {
      "text/plain": [
       "[[1, 23, 4, 5], 'here', 'no', (1+3j), (4, 5, 6)]"
      ]
     },
     "execution_count": 12,
     "metadata": {},
     "output_type": "execute_result"
    }
   ],
   "source": [
    "test4([1,23,4,5,],\"here\", \"no\", 1+3j,(4,5,6))"
   ]
  },
  {
   "cell_type": "code",
   "execution_count": 13,
   "id": "43b1b286",
   "metadata": {},
   "outputs": [
    {
     "data": {
      "text/plain": [
       "list"
      ]
     },
     "execution_count": 13,
     "metadata": {},
     "output_type": "execute_result"
    }
   ],
   "source": [
    "type(test4([1,23,4,5,],\"here\", \"no\", 1+3j,(4,5,6)))"
   ]
  },
  {
   "cell_type": "code",
   "execution_count": 14,
   "id": "8c36df39",
   "metadata": {},
   "outputs": [],
   "source": [
    "def test5(*args):\n",
    "    l = []\n",
    "    for i in args:\n",
    "            l.append(i)\n",
    "    return l"
   ]
  },
  {
   "cell_type": "code",
   "execution_count": 15,
   "id": "da933997",
   "metadata": {},
   "outputs": [
    {
     "data": {
      "text/plain": [
       "list"
      ]
     },
     "execution_count": 15,
     "metadata": {},
     "output_type": "execute_result"
    }
   ],
   "source": [
    "type(test5([1,23,4,5,],\"here\", \"no\", 1+3j,(4,5,6)))"
   ]
  },
  {
   "cell_type": "code",
   "execution_count": 16,
   "id": "85315a76",
   "metadata": {},
   "outputs": [],
   "source": [
    "d1 = {\"key1\": \"here\", \"key2\":[1,2,3,4,5,]}"
   ]
  },
  {
   "cell_type": "code",
   "execution_count": 17,
   "id": "e5830ead",
   "metadata": {},
   "outputs": [
    {
     "data": {
      "text/plain": [
       "{'key1': 'here', 'key2': [1, 2, 3, 4, 5]}"
      ]
     },
     "execution_count": 17,
     "metadata": {},
     "output_type": "execute_result"
    }
   ],
   "source": [
    "d1"
   ]
  },
  {
   "cell_type": "code",
   "execution_count": 18,
   "id": "bb205b6b",
   "metadata": {},
   "outputs": [],
   "source": [
    "d3 = {24536: \"nope\"}"
   ]
  },
  {
   "cell_type": "code",
   "execution_count": 19,
   "id": "d0d2cbdf",
   "metadata": {},
   "outputs": [
    {
     "data": {
      "text/plain": [
       "{24536: 'nope'}"
      ]
     },
     "execution_count": 19,
     "metadata": {},
     "output_type": "execute_result"
    }
   ],
   "source": [
    "d3"
   ]
  },
  {
   "cell_type": "code",
   "execution_count": 20,
   "id": "6951ec83",
   "metadata": {},
   "outputs": [],
   "source": [
    "d4 = {\"$here\": \"nope\"}"
   ]
  },
  {
   "cell_type": "code",
   "execution_count": 21,
   "id": "bfc94eef",
   "metadata": {},
   "outputs": [
    {
     "data": {
      "text/plain": [
       "{'$here': 'nope'}"
      ]
     },
     "execution_count": 21,
     "metadata": {},
     "output_type": "execute_result"
    }
   ],
   "source": [
    "d4"
   ]
  },
  {
   "cell_type": "code",
   "execution_count": 22,
   "id": "44f66a69",
   "metadata": {},
   "outputs": [],
   "source": [
    "d5 = {\"name\":\"here\", \"me\": {\"dfd\":\"people\", \"big\": \"she\"}}"
   ]
  },
  {
   "cell_type": "code",
   "execution_count": 23,
   "id": "91b53367",
   "metadata": {},
   "outputs": [
    {
     "data": {
      "text/plain": [
       "{'name': 'here', 'me': {'dfd': 'people', 'big': 'she'}}"
      ]
     },
     "execution_count": 23,
     "metadata": {},
     "output_type": "execute_result"
    }
   ],
   "source": [
    "d5"
   ]
  },
  {
   "cell_type": "code",
   "execution_count": 24,
   "id": "e0761a5a",
   "metadata": {},
   "outputs": [
    {
     "data": {
      "text/plain": [
       "{'dfd': 'people', 'big': 'she'}"
      ]
     },
     "execution_count": 24,
     "metadata": {},
     "output_type": "execute_result"
    }
   ],
   "source": [
    "d5[\"me\"]"
   ]
  },
  {
   "cell_type": "code",
   "execution_count": 25,
   "id": "3dc9a646",
   "metadata": {},
   "outputs": [
    {
     "data": {
      "text/plain": [
       "'people'"
      ]
     },
     "execution_count": 25,
     "metadata": {},
     "output_type": "execute_result"
    }
   ],
   "source": [
    "d5[\"me\"][\"dfd\"]"
   ]
  },
  {
   "cell_type": "code",
   "execution_count": 26,
   "id": "9bdd6852",
   "metadata": {},
   "outputs": [
    {
     "data": {
      "text/plain": [
       "['name', 'me']"
      ]
     },
     "execution_count": 26,
     "metadata": {},
     "output_type": "execute_result"
    }
   ],
   "source": [
    "list(d5.keys())"
   ]
  },
  {
   "cell_type": "code",
   "execution_count": 27,
   "id": "8c720c9b",
   "metadata": {},
   "outputs": [
    {
     "data": {
      "text/plain": [
       "dict_values(['here', {'dfd': 'people', 'big': 'she'}])"
      ]
     },
     "execution_count": 27,
     "metadata": {},
     "output_type": "execute_result"
    }
   ],
   "source": [
    "d5.values()"
   ]
  },
  {
   "cell_type": "code",
   "execution_count": 28,
   "id": "fcc727a7",
   "metadata": {},
   "outputs": [
    {
     "data": {
      "text/plain": [
       "dict_items([('name', 'here'), ('me', {'dfd': 'people', 'big': 'she'})])"
      ]
     },
     "execution_count": 28,
     "metadata": {},
     "output_type": "execute_result"
    }
   ],
   "source": [
    "d5.items()"
   ]
  },
  {
   "cell_type": "code",
   "execution_count": 29,
   "id": "d421aa4b",
   "metadata": {},
   "outputs": [
    {
     "data": {
      "text/plain": [
       "['people', 'she']"
      ]
     },
     "execution_count": 29,
     "metadata": {},
     "output_type": "execute_result"
    }
   ],
   "source": [
    "list(d5['me'].values())"
   ]
  },
  {
   "cell_type": "code",
   "execution_count": 30,
   "id": "e3ab4aef",
   "metadata": {},
   "outputs": [],
   "source": [
    "l = []\n",
    "for i in d5.keys():\n",
    "    if type(d5[i]) == dict:\n",
    "        l.append(list(d5[i].values()))"
   ]
  },
  {
   "cell_type": "code",
   "execution_count": 31,
   "id": "f7c6a8c6",
   "metadata": {},
   "outputs": [
    {
     "data": {
      "text/plain": [
       "[['people', 'she']]"
      ]
     },
     "execution_count": 31,
     "metadata": {},
     "output_type": "execute_result"
    }
   ],
   "source": [
    "l"
   ]
  },
  {
   "cell_type": "code",
   "execution_count": 32,
   "id": "84872429",
   "metadata": {},
   "outputs": [],
   "source": [
    "d6= {\"name\":\"here\", \"me\": {\"dfd\":\"people\", \"big\": \"she\"}, \"mail\": {\"here\":\"here@gmail.com\", \"now\":\"now@gmail.com\"}}"
   ]
  },
  {
   "cell_type": "code",
   "execution_count": 33,
   "id": "8da073fa",
   "metadata": {},
   "outputs": [
    {
     "data": {
      "text/plain": [
       "{'name': 'here',\n",
       " 'me': {'dfd': 'people', 'big': 'she'},\n",
       " 'mail': {'here': 'here@gmail.com', 'now': 'now@gmail.com'}}"
      ]
     },
     "execution_count": 33,
     "metadata": {},
     "output_type": "execute_result"
    }
   ],
   "source": [
    "d6"
   ]
  },
  {
   "cell_type": "code",
   "execution_count": 34,
   "id": "2b322069",
   "metadata": {},
   "outputs": [],
   "source": [
    "l = []\n",
    "for i in d6.keys():\n",
    "    if type(d6[i]) == dict:\n",
    "        l.append(list(d6[i].values()))"
   ]
  },
  {
   "cell_type": "code",
   "execution_count": 35,
   "id": "e6c24fa8",
   "metadata": {},
   "outputs": [
    {
     "data": {
      "text/plain": [
       "[['people', 'she'], ['here@gmail.com', 'now@gmail.com']]"
      ]
     },
     "execution_count": 35,
     "metadata": {},
     "output_type": "execute_result"
    }
   ],
   "source": [
    "l"
   ]
  },
  {
   "cell_type": "code",
   "execution_count": 36,
   "id": "0dc2fb4b",
   "metadata": {},
   "outputs": [],
   "source": [
    "def test6(d):\n",
    "    l = []\n",
    "    for i in d6.keys():\n",
    "        if type(d6[i]) == dict:\n",
    "            l.append(list(d6[i].values()))\n",
    "    return l"
   ]
  },
  {
   "cell_type": "code",
   "execution_count": 37,
   "id": "986f11bd",
   "metadata": {},
   "outputs": [
    {
     "data": {
      "text/plain": [
       "[['people', 'she'], ['here@gmail.com', 'now@gmail.com']]"
      ]
     },
     "execution_count": 37,
     "metadata": {},
     "output_type": "execute_result"
    }
   ],
   "source": [
    "test6(d6)"
   ]
  },
  {
   "cell_type": "code",
   "execution_count": 38,
   "id": "d0976194",
   "metadata": {},
   "outputs": [],
   "source": [
    "d6[\"new\"]= \"something\""
   ]
  },
  {
   "cell_type": "code",
   "execution_count": 39,
   "id": "af97f27f",
   "metadata": {},
   "outputs": [],
   "source": [
    "d6[\"no\"]= (1,2,3,4,5)"
   ]
  },
  {
   "cell_type": "code",
   "execution_count": 40,
   "id": "cf635828",
   "metadata": {},
   "outputs": [
    {
     "data": {
      "text/plain": [
       "{'name': 'here',\n",
       " 'me': {'dfd': 'people', 'big': 'she'},\n",
       " 'mail': {'here': 'here@gmail.com', 'now': 'now@gmail.com'},\n",
       " 'new': 'something',\n",
       " 'no': (1, 2, 3, 4, 5)}"
      ]
     },
     "execution_count": 40,
     "metadata": {},
     "output_type": "execute_result"
    }
   ],
   "source": [
    "d6"
   ]
  },
  {
   "cell_type": "code",
   "execution_count": 41,
   "id": "ade54158",
   "metadata": {},
   "outputs": [
    {
     "data": {
      "text/plain": [
       "[['people', 'she'], ['here@gmail.com', 'now@gmail.com']]"
      ]
     },
     "execution_count": 41,
     "metadata": {},
     "output_type": "execute_result"
    }
   ],
   "source": [
    "test6(d6)"
   ]
  },
  {
   "cell_type": "code",
   "execution_count": 42,
   "id": "bf6b110d",
   "metadata": {},
   "outputs": [
    {
     "data": {
      "text/plain": [
       "'here'"
      ]
     },
     "execution_count": 42,
     "metadata": {},
     "output_type": "execute_result"
    }
   ],
   "source": [
    "d6.pop('name')"
   ]
  },
  {
   "cell_type": "code",
   "execution_count": 43,
   "id": "6e9ec9e9",
   "metadata": {},
   "outputs": [
    {
     "data": {
      "text/plain": [
       "{'me': {'dfd': 'people', 'big': 'she'},\n",
       " 'mail': {'here': 'here@gmail.com', 'now': 'now@gmail.com'},\n",
       " 'new': 'something',\n",
       " 'no': (1, 2, 3, 4, 5)}"
      ]
     },
     "execution_count": 43,
     "metadata": {},
     "output_type": "execute_result"
    }
   ],
   "source": [
    "d6"
   ]
  },
  {
   "cell_type": "code",
   "execution_count": 44,
   "id": "581bfd94",
   "metadata": {},
   "outputs": [],
   "source": [
    "d6[\"name\"] = \"here\""
   ]
  },
  {
   "cell_type": "code",
   "execution_count": 45,
   "id": "26858785",
   "metadata": {},
   "outputs": [
    {
     "data": {
      "text/plain": [
       "{'me': {'dfd': 'people', 'big': 'she'},\n",
       " 'mail': {'here': 'here@gmail.com', 'now': 'now@gmail.com'},\n",
       " 'new': 'something',\n",
       " 'no': (1, 2, 3, 4, 5),\n",
       " 'name': 'here'}"
      ]
     },
     "execution_count": 45,
     "metadata": {},
     "output_type": "execute_result"
    }
   ],
   "source": [
    "d6"
   ]
  },
  {
   "cell_type": "code",
   "execution_count": 46,
   "id": "38eef2c8",
   "metadata": {},
   "outputs": [],
   "source": [
    "def test7(**kwargs):\n",
    "    return kwargs"
   ]
  },
  {
   "cell_type": "code",
   "execution_count": 47,
   "id": "ed3112d3",
   "metadata": {},
   "outputs": [
    {
     "data": {
      "text/plain": [
       "{'a': 1, 'c': 2, 'b': (1, 2, 3, 4, 5), 'd': 4, 'e': 'adfd'}"
      ]
     },
     "execution_count": 47,
     "metadata": {},
     "output_type": "execute_result"
    }
   ],
   "source": [
    "test7(a=1,c=2, b=(1,2,3,4,5), d=4,e= 'adfd')"
   ]
  },
  {
   "cell_type": "code",
   "execution_count": 48,
   "id": "64c9ffff",
   "metadata": {},
   "outputs": [],
   "source": [
    "def test8(a):\n",
    "    return a \n",
    "\n",
    "def test9(b):\n",
    "    return b \n",
    "\n",
    "def test10(func):\n",
    "    return func(\"here\") "
   ]
  },
  {
   "cell_type": "code",
   "execution_count": 49,
   "id": "3593ed86",
   "metadata": {},
   "outputs": [
    {
     "data": {
      "text/plain": [
       "'here'"
      ]
     },
     "execution_count": 49,
     "metadata": {},
     "output_type": "execute_result"
    }
   ],
   "source": [
    "test10(test8)"
   ]
  },
  {
   "cell_type": "code",
   "execution_count": 50,
   "id": "7caa22a6",
   "metadata": {},
   "outputs": [
    {
     "data": {
      "text/plain": [
       "'here'"
      ]
     },
     "execution_count": 50,
     "metadata": {},
     "output_type": "execute_result"
    }
   ],
   "source": [
    "test10(test9)"
   ]
  },
  {
   "cell_type": "code",
   "execution_count": 51,
   "id": "7b1463e2",
   "metadata": {},
   "outputs": [],
   "source": [
    "def test8(a):\n",
    "    return a \n",
    "\n",
    "def test9(*args):\n",
    "    return \"here\" \n",
    "\n",
    "def test10(func):\n",
    "    return func(\"here\") "
   ]
  },
  {
   "cell_type": "code",
   "execution_count": 52,
   "id": "b8a19586",
   "metadata": {},
   "outputs": [
    {
     "data": {
      "text/plain": [
       "'here'"
      ]
     },
     "execution_count": 52,
     "metadata": {},
     "output_type": "execute_result"
    }
   ],
   "source": [
    "test10(test9)"
   ]
  },
  {
   "cell_type": "code",
   "execution_count": 59,
   "id": "1fc8abd3",
   "metadata": {},
   "outputs": [],
   "source": [
    "def test11(a):\n",
    "    print(\"this is my test11\")\n",
    "    \n",
    "    def test12():\n",
    "        print(\"this is my test12\")\n",
    "    \n",
    "    def test13():\n",
    "        print(\"this is my test13\")\n",
    "\n",
    "    if a == \"here\":\n",
    "        return test12()\n",
    "    elif a == \"no\":\n",
    "        return test13()"
   ]
  },
  {
   "cell_type": "code",
   "execution_count": 57,
   "id": "5a0a7c97",
   "metadata": {},
   "outputs": [
    {
     "name": "stdout",
     "output_type": "stream",
     "text": [
      "this is my test11\n",
      "this is my test12\n"
     ]
    }
   ],
   "source": [
    "test11(\"here\")"
   ]
  },
  {
   "cell_type": "code",
   "execution_count": 60,
   "id": "6507e309",
   "metadata": {},
   "outputs": [
    {
     "ename": "NameError",
     "evalue": "name 'test12' is not defined",
     "output_type": "error",
     "traceback": [
      "\u001b[1;31m---------------------------------------------------------------------------\u001b[0m",
      "\u001b[1;31mNameError\u001b[0m                                 Traceback (most recent call last)",
      "Input \u001b[1;32mIn [60]\u001b[0m, in \u001b[0;36m<cell line: 1>\u001b[1;34m()\u001b[0m\n\u001b[1;32m----> 1\u001b[0m test11(\u001b[43mtest12\u001b[49m)\n",
      "\u001b[1;31mNameError\u001b[0m: name 'test12' is not defined"
     ]
    }
   ],
   "source": [
    "test11(test12)"
   ]
  },
  {
   "cell_type": "code",
   "execution_count": 61,
   "id": "eebe9884",
   "metadata": {},
   "outputs": [
    {
     "name": "stdout",
     "output_type": "stream",
     "text": [
      "this is my test11\n",
      "this is my test12\n"
     ]
    }
   ],
   "source": [
    "test11(\"here\")"
   ]
  },
  {
   "cell_type": "code",
   "execution_count": 62,
   "id": "2d4c6bcb",
   "metadata": {},
   "outputs": [
    {
     "name": "stdout",
     "output_type": "stream",
     "text": [
      "this is my test11\n",
      "this is my test13\n"
     ]
    }
   ],
   "source": [
    "test11(\"no\")"
   ]
  },
  {
   "cell_type": "code",
   "execution_count": 63,
   "id": "8b60e77a",
   "metadata": {},
   "outputs": [],
   "source": [
    "def test9(*args):\n",
    "    print(\"this is return of test9\") "
   ]
  },
  {
   "cell_type": "code",
   "execution_count": 64,
   "id": "f088aad1",
   "metadata": {},
   "outputs": [],
   "source": [
    "def test14(func):\n",
    "    def test15():\n",
    "        print(\"I am here\")\n",
    "        func()\n",
    "    return test15()"
   ]
  },
  {
   "cell_type": "code",
   "execution_count": 65,
   "id": "52e7d68d",
   "metadata": {},
   "outputs": [
    {
     "name": "stdout",
     "output_type": "stream",
     "text": [
      "I am here\n",
      "this is return of test9\n"
     ]
    }
   ],
   "source": [
    "test14(test9)"
   ]
  },
  {
   "cell_type": "code",
   "execution_count": 66,
   "id": "ef206edb",
   "metadata": {},
   "outputs": [],
   "source": [
    "def test14(func):\n",
    "    def test15():\n",
    "        print(\"I am here\")\n",
    "    return test15()"
   ]
  },
  {
   "cell_type": "code",
   "execution_count": 68,
   "id": "578bb7c1",
   "metadata": {},
   "outputs": [],
   "source": [
    "def test13():\n",
    "    print(\"I am test13\")"
   ]
  },
  {
   "cell_type": "code",
   "execution_count": 69,
   "id": "08ccf55a",
   "metadata": {},
   "outputs": [
    {
     "name": "stdout",
     "output_type": "stream",
     "text": [
      "I am here\n"
     ]
    }
   ],
   "source": [
    "test14(test13)"
   ]
  },
  {
   "cell_type": "code",
   "execution_count": 85,
   "id": "c99abbbd",
   "metadata": {},
   "outputs": [],
   "source": [
    "def test14(func):\n",
    "    def test15():\n",
    "        print(\"I am inside test15 and will behave as a devorator to any function that i am going to call\")\n",
    "        func()\n",
    "    return test15"
   ]
  },
  {
   "cell_type": "code",
   "execution_count": 71,
   "id": "58a81d0d",
   "metadata": {},
   "outputs": [],
   "source": [
    "def test16():\n",
    "    print(\"this is test16\")"
   ]
  },
  {
   "cell_type": "code",
   "execution_count": 72,
   "id": "90581dc2",
   "metadata": {},
   "outputs": [
    {
     "name": "stdout",
     "output_type": "stream",
     "text": [
      "this is test16\n"
     ]
    }
   ],
   "source": [
    "test16()"
   ]
  },
  {
   "cell_type": "code",
   "execution_count": 75,
   "id": "f4c1934e",
   "metadata": {},
   "outputs": [
    {
     "name": "stdout",
     "output_type": "stream",
     "text": [
      "I am inside test15 and will behave as a devorator to any function that i am going to call\n",
      "this is test16\n"
     ]
    }
   ],
   "source": [
    "test14(test16)"
   ]
  },
  {
   "cell_type": "code",
   "execution_count": 86,
   "id": "85d4a196",
   "metadata": {},
   "outputs": [],
   "source": [
    "@test14\n",
    "def test16():\n",
    "    print(\"this is test16\")"
   ]
  },
  {
   "cell_type": "code",
   "execution_count": 87,
   "id": "24b10109",
   "metadata": {},
   "outputs": [
    {
     "name": "stdout",
     "output_type": "stream",
     "text": [
      "I am inside test15 and will behave as a devorator to any function that i am going to call\n",
      "this is test16\n"
     ]
    }
   ],
   "source": [
    "test16()"
   ]
  },
  {
   "cell_type": "code",
   "execution_count": 88,
   "id": "0f533b44",
   "metadata": {},
   "outputs": [],
   "source": [
    "import os \n",
    "def test17(func):\n",
    "    def test18():\n",
    "        print(\"I am inside test15 and will behave as a devorator to any function that i am going to call\")\n",
    "        print(os.getcwd())\n",
    "        func()\n",
    "    return test18"
   ]
  },
  {
   "cell_type": "code",
   "execution_count": 93,
   "id": "bbd59496",
   "metadata": {},
   "outputs": [],
   "source": [
    "import os \n",
    "def test19(func):\n",
    "    def test20():\n",
    "        func()\n",
    "        print(os.getcwd())\n",
    "    return test20"
   ]
  },
  {
   "cell_type": "code",
   "execution_count": 98,
   "id": "d996b2aa",
   "metadata": {},
   "outputs": [],
   "source": [
    "@test17\n",
    "@test19\n",
    "def test21():\n",
    "    print(\"this will print inside test21\")"
   ]
  },
  {
   "cell_type": "code",
   "execution_count": 99,
   "id": "f57c495c",
   "metadata": {},
   "outputs": [
    {
     "name": "stdout",
     "output_type": "stream",
     "text": [
      "I am inside test15 and will behave as a devorator to any function that i am going to call\n",
      "C:\\Users\\lerin\n",
      "this will print inside test21\n",
      "C:\\Users\\lerin\n"
     ]
    }
   ],
   "source": [
    "test21()"
   ]
  },
  {
   "cell_type": "code",
   "execution_count": 101,
   "id": "cae3bc08",
   "metadata": {},
   "outputs": [
    {
     "name": "stdout",
     "output_type": "stream",
     "text": [
      "hello\n",
      "0.0\n"
     ]
    }
   ],
   "source": [
    "import time\n",
    "\n",
    "start = time.time()\n",
    "print(\"hello\")\n",
    "end = time.time()\n",
    "print(end - start)"
   ]
  },
  {
   "cell_type": "code",
   "execution_count": 102,
   "id": "a1ec926d",
   "metadata": {},
   "outputs": [
    {
     "data": {
      "text/plain": [
       "1671703935.9345024"
      ]
     },
     "execution_count": 102,
     "metadata": {},
     "output_type": "execute_result"
    }
   ],
   "source": [
    "time.time()"
   ]
  },
  {
   "cell_type": "code",
   "execution_count": 107,
   "id": "f22ca241",
   "metadata": {},
   "outputs": [],
   "source": [
    "def test22(func):\n",
    "    def test23():\n",
    "        print(\"this will give you execution time of a function\")\n",
    "        start = time.time()\n",
    "        func()\n",
    "        print(func())\n",
    "        end = time.time()\n",
    "        print(end - start)\n",
    "    return test23"
   ]
  },
  {
   "cell_type": "code",
   "execution_count": 116,
   "id": "8d610dc2",
   "metadata": {},
   "outputs": [],
   "source": [
    "@test22\n",
    "def test24():\n",
    "    \"\"\"\n",
    "    this is a function for calculating the execution timing of a function\n",
    "    \"\"\"\n",
    "    l = [4,5,6,7,8,9,10]\n",
    "    l1 = []\n",
    "    for i in l:\n",
    "        if type(i) == int:\n",
    "            l.append(i)\n",
    "        return l1"
   ]
  },
  {
   "cell_type": "code",
   "execution_count": 115,
   "id": "95a5a6b7",
   "metadata": {},
   "outputs": [
    {
     "name": "stdout",
     "output_type": "stream",
     "text": [
      "this will give you execution time of a function\n",
      "[]\n",
      "0.0\n"
     ]
    }
   ],
   "source": [
    "\n",
    "test24()"
   ]
  },
  {
   "cell_type": "code",
   "execution_count": null,
   "id": "82f44396",
   "metadata": {},
   "outputs": [],
   "source": []
  }
 ],
 "metadata": {
  "kernelspec": {
   "display_name": "Python 3 (ipykernel)",
   "language": "python",
   "name": "python3"
  },
  "language_info": {
   "codemirror_mode": {
    "name": "ipython",
    "version": 3
   },
   "file_extension": ".py",
   "mimetype": "text/x-python",
   "name": "python",
   "nbconvert_exporter": "python",
   "pygments_lexer": "ipython3",
   "version": "3.9.12"
  }
 },
 "nbformat": 4,
 "nbformat_minor": 5
}
