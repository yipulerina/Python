{
 "cells": [
  {
   "cell_type": "code",
   "execution_count": 1,
   "id": "63e63840",
   "metadata": {},
   "outputs": [
    {
     "name": "stdout",
     "output_type": "stream",
     "text": [
      "enter an integer to start:   1\n",
      "you need to study harder\n"
     ]
    }
   ],
   "source": [
    "s = int(input(\"enter an integer to start:   \"))\n",
    "if s <2 and s> 0.5:\n",
    "    print(\"you need to study harder\")\n",
    "elif s<5 and s>2:\n",
    "    print(\"You can do it!\")\n",
    "elif s<0:\n",
    "    print(\"Stop dreaming\")\n",
    "else: \n",
    "    print(\"Awesome! Rock the world\")"
   ]
  },
  {
   "cell_type": "code",
   "execution_count": 2,
   "id": "923a3390",
   "metadata": {},
   "outputs": [
    {
     "name": "stdout",
     "output_type": "stream",
     "text": [
      "enter a string to start:    dfas\n",
      "enter a hero name:   adfd\n",
      "enter rating:   adf\n",
      "choose your hero\n"
     ]
    }
   ],
   "source": [
    "s = input(\"enter a string to start:    \")\n",
    "you = input(\"enter a hero name:   \")\n",
    "notyou = input(\"enter rating:   \")\n",
    "\n",
    "\n",
    "if s == \"hero\":\n",
    "    if you ==\"Batman\":\n",
    "        print(\"You are my fav hero\")\n",
    "    elif you == \"Superman\":\n",
    "        print(\"I grew up watching you\")\n",
    "    elif you == \"Iron Man\":\n",
    "        print(\"You are a legend\")\n",
    "    else:\n",
    "        print(\"Keep it Heroes\")\n",
    "elif s == \"rating\":\n",
    "    if notyou== \"5\":\n",
    "        print(\"You are very supportive\")\n",
    "    elif notyou == \"4\":\n",
    "        print(\"You are nice\")\n",
    "    else:\n",
    "        print(\"Give feedback\")\n",
    "else:\n",
    "    print(\"choose your hero\")\n",
    "    "
   ]
  },
  {
   "cell_type": "code",
   "execution_count": 22,
   "id": "7af91246",
   "metadata": {},
   "outputs": [
    {
     "name": "stdout",
     "output_type": "stream",
     "text": [
      "1\n",
      "2\n",
      "3\n",
      "4\n",
      "5\n"
     ]
    }
   ],
   "source": [
    "l =[1,2,3,4,5]\n",
    "for i in l:\n",
    "    print(i)"
   ]
  },
  {
   "cell_type": "code",
   "execution_count": 23,
   "id": "4289d1b2",
   "metadata": {},
   "outputs": [
    {
     "name": "stdout",
     "output_type": "stream",
     "text": [
      "this the type of: 1 <class 'int'>\n",
      "this the type of: 4 <class 'int'>\n",
      "this the type of: 5.6 <class 'float'>\n",
      "this the type of: (4+7j) <class 'complex'>\n",
      "this the type of: here <class 'str'>\n"
     ]
    }
   ],
   "source": [
    "l = [1,4,5.6, 4+7j,\"here\"]\n",
    "\n",
    "for i in l:\n",
    "    print(f\"this the type of: {i}\", type(i))"
   ]
  },
  {
   "cell_type": "code",
   "execution_count": 24,
   "id": "69ac6cc9",
   "metadata": {},
   "outputs": [
    {
     "name": "stdout",
     "output_type": "stream",
     "text": [
      "3\n",
      "4\n",
      "5\n",
      "6.5\n"
     ]
    }
   ],
   "source": [
    "l = [1,2,3,4.5]\n",
    "\n",
    "for i in l:\n",
    "    print(i+2)"
   ]
  },
  {
   "cell_type": "code",
   "execution_count": 25,
   "id": "eaa4ff45",
   "metadata": {},
   "outputs": [],
   "source": [
    "l1= []\n",
    "\n",
    "for i in l:\n",
    "    l1.append(i+2)"
   ]
  },
  {
   "cell_type": "code",
   "execution_count": 26,
   "id": "d2f30d59",
   "metadata": {},
   "outputs": [
    {
     "data": {
      "text/plain": [
       "[3, 4, 5, 6.5]"
      ]
     },
     "execution_count": 26,
     "metadata": {},
     "output_type": "execute_result"
    }
   ],
   "source": [
    "l1"
   ]
  },
  {
   "cell_type": "code",
   "execution_count": 27,
   "id": "c5315375",
   "metadata": {},
   "outputs": [
    {
     "name": "stdout",
     "output_type": "stream",
     "text": [
      "1\n",
      "3\n",
      "5\n",
      "not int\n",
      "not int\n"
     ]
    }
   ],
   "source": [
    "l = [1,3,5,\"here\",1+3j]\n",
    "\n",
    "for i in l:\n",
    "    if type(i) == int:\n",
    "        print(i)\n",
    "    else:\n",
    "        print(\"not int\")"
   ]
  },
  {
   "cell_type": "code",
   "execution_count": 28,
   "id": "33d8c692",
   "metadata": {},
   "outputs": [
    {
     "name": "stdout",
     "output_type": "stream",
     "text": [
      "1\n",
      "3\n",
      "5\n",
      "1\n",
      "2\n",
      "3\n",
      "4\n",
      "5\n",
      "4\n"
     ]
    }
   ],
   "source": [
    "l = [1,3,5,\"here\",1+3j,[1,2,3,4,5,4]]\n",
    "\n",
    "for i in l:\n",
    "    if type(i) == int:\n",
    "        print(i)\n",
    "    elif type(i)== list:\n",
    "        for j in i:\n",
    "            if type(j)== int:\n",
    "                print(j)"
   ]
  },
  {
   "cell_type": "code",
   "execution_count": 29,
   "id": "0a0f31c5",
   "metadata": {},
   "outputs": [
    {
     "name": "stdout",
     "output_type": "stream",
     "text": [
      "1\n",
      "3\n",
      "5\n",
      "here\n",
      "(1+3j)\n",
      "[1, 2, 3, 'no']\n"
     ]
    }
   ],
   "source": [
    "l = [1,3,5,\"here\",1+3j,[1,2,3,\"no\"]]\n",
    "\n",
    "for i in l:\n",
    "    print(i)\n"
   ]
  },
  {
   "cell_type": "markdown",
   "id": "48065368",
   "metadata": {},
   "source": [
    "try to print index of all element\n",
    "Try to extract all the list of char if element is string\n",
    "Try to return a list after doing a square of all the int element"
   ]
  },
  {
   "cell_type": "code",
   "execution_count": 30,
   "id": "37fdd9de",
   "metadata": {},
   "outputs": [
    {
     "name": "stdout",
     "output_type": "stream",
     "text": [
      "index 0 for an element 1\n",
      "index 1 for an element 3\n",
      "index 2 for an element 5\n",
      "index 3 for an element here\n",
      "index 4 for an element (1+3j)\n",
      "index 5 for an element [1, 2, 3, 'no']\n"
     ]
    }
   ],
   "source": [
    "l = [1,3,5,\"here\",1+3j,[1,2,3,\"no\"]]\n",
    "\n",
    "for i in range(len(l)):\n",
    "    print(f\"index {i} for an element {l[i]}\" )"
   ]
  },
  {
   "cell_type": "code",
   "execution_count": 31,
   "id": "96e800ae",
   "metadata": {},
   "outputs": [
    {
     "name": "stdout",
     "output_type": "stream",
     "text": [
      "(0, 1)\n",
      "(1, 3)\n",
      "(2, 5)\n",
      "(3, 'here')\n",
      "(4, (1+3j))\n",
      "(5, [1, 2, 3, 'no'])\n"
     ]
    }
   ],
   "source": [
    "for i in enumerate(l):\n",
    "    print(i)"
   ]
  },
  {
   "cell_type": "code",
   "execution_count": 32,
   "id": "16af881a",
   "metadata": {},
   "outputs": [
    {
     "name": "stdout",
     "output_type": "stream",
     "text": [
      "here\n",
      "no\n"
     ]
    }
   ],
   "source": [
    "l = [1,3,5,\"here\",1+3j,[1,2,3,\"no\"]]\n",
    "\n",
    "for i in l:\n",
    "    if type(i)== str:\n",
    "        print(i)\n",
    "    elif type(i)== list:\n",
    "        for j in i:\n",
    "            if type(j)== str:\n",
    "                print(j)"
   ]
  },
  {
   "cell_type": "code",
   "execution_count": 33,
   "id": "d2efeac1",
   "metadata": {},
   "outputs": [
    {
     "name": "stdout",
     "output_type": "stream",
     "text": [
      "['h', 'e', 'r', 'e', 'no']\n"
     ]
    }
   ],
   "source": [
    "l = [1,3,5,\"here\",1+3j,[1,2,3,\"no\"]]\n",
    "\n",
    "for i in l:\n",
    "    if type(i)== str:\n",
    "        l1=[]\n",
    "        for j in i:\n",
    "            l1.append(j)\n",
    "    elif type(i)== list:\n",
    "        for y in i:\n",
    "            if type(y)==str:\n",
    "                l1.append(y)\n",
    "        print(l1)\n"
   ]
  },
  {
   "cell_type": "code",
   "execution_count": 34,
   "id": "a1a10b8a",
   "metadata": {},
   "outputs": [],
   "source": [
    "l = [1,3,5,\"here\",1+3j,[1,2,3,\"no\"]]\n",
    "l1=[]\n",
    "\n",
    "for i in l:\n",
    "    if type(i)== int:\n",
    "        l1.append(i*2)\n",
    "    elif type(i)== list:\n",
    "        for j in i:\n",
    "            if type(j)== int:\n",
    "                l1.append(j*2)\n",
    "\n"
   ]
  },
  {
   "cell_type": "code",
   "execution_count": 35,
   "id": "19710e61",
   "metadata": {},
   "outputs": [
    {
     "name": "stdout",
     "output_type": "stream",
     "text": [
      "name\n",
      "emailid\n"
     ]
    }
   ],
   "source": [
    "l =['name', 'emailid','phone','address']\n",
    "\n",
    "for i in l:\n",
    "    if i == \"phone\":\n",
    "        break\n",
    "    print(i)\n",
    "else:\n",
    "    print(\"check this statement\")"
   ]
  },
  {
   "cell_type": "code",
   "execution_count": 36,
   "id": "cf1cb5c4",
   "metadata": {},
   "outputs": [
    {
     "name": "stdout",
     "output_type": "stream",
     "text": [
      "n\n",
      "o\n",
      "b\n",
      "o\n",
      "d\n"
     ]
    }
   ],
   "source": [
    "s = \"nobody\"\n",
    "\n",
    "for i in s:\n",
    "    if i == \"y\":\n",
    "        break\n",
    "    print(i)\n",
    "else:\n",
    "    print(\"dont execute\")"
   ]
  },
  {
   "cell_type": "code",
   "execution_count": 37,
   "id": "ecbd2ba9",
   "metadata": {},
   "outputs": [
    {
     "name": "stdout",
     "output_type": "stream",
     "text": [
      "1\n",
      "2\n",
      "3\n",
      "4\n",
      "5\n"
     ]
    }
   ],
   "source": [
    "a= 1\n",
    "\n",
    "while a<6:\n",
    "    print(a)\n",
    "    a = a+1"
   ]
  },
  {
   "cell_type": "code",
   "execution_count": 38,
   "id": "f3627eb0",
   "metadata": {},
   "outputs": [
    {
     "name": "stdout",
     "output_type": "stream",
     "text": [
      "1\n",
      "2\n",
      "3\n",
      "4\n"
     ]
    }
   ],
   "source": [
    "a = 1\n",
    "while a < 5:\n",
    "    print(a)\n",
    "    if a == 4:\n",
    "        break\n",
    "    a = a+1"
   ]
  },
  {
   "cell_type": "code",
   "execution_count": 39,
   "id": "e4862670",
   "metadata": {},
   "outputs": [
    {
     "name": "stdout",
     "output_type": "stream",
     "text": [
      "1\n",
      "2\n",
      "3\n",
      "4\n"
     ]
    }
   ],
   "source": [
    "a = 1\n",
    "while a < 5:\n",
    "    print(a)\n",
    "    a= a+1\n",
    "    if a== 3:\n",
    "        continue\n",
    "    "
   ]
  },
  {
   "cell_type": "code",
   "execution_count": 40,
   "id": "22e416ef",
   "metadata": {},
   "outputs": [],
   "source": [
    "while a < 5:\n",
    "    pass"
   ]
  },
  {
   "cell_type": "code",
   "execution_count": 42,
   "id": "7e8ab57e",
   "metadata": {},
   "outputs": [
    {
     "data": {
      "text/plain": [
       "[0, 1, 2, 3, 4, 5]"
      ]
     },
     "execution_count": 42,
     "metadata": {},
     "output_type": "execute_result"
    }
   ],
   "source": [
    "list(range(6))"
   ]
  },
  {
   "cell_type": "code",
   "execution_count": 43,
   "id": "25399a66",
   "metadata": {},
   "outputs": [
    {
     "name": "stdout",
     "output_type": "stream",
     "text": [
      "*\r\n",
      "**\r\n",
      "***\r\n",
      "****\r\n",
      "*****\r\n"
     ]
    }
   ],
   "source": [
    "n = 5\n",
    "for i in range(0,n):\n",
    "    for j in range(0,i+1):\n",
    "        print(\"*\", end = \"\")\n",
    "    print(\"\\r\")"
   ]
  },
  {
   "cell_type": "code",
   "execution_count": null,
   "id": "a44af3cd",
   "metadata": {},
   "outputs": [],
   "source": []
  },
  {
   "cell_type": "code",
   "execution_count": null,
   "id": "4a02299b",
   "metadata": {},
   "outputs": [],
   "source": []
  },
  {
   "cell_type": "code",
   "execution_count": null,
   "id": "aab96710",
   "metadata": {},
   "outputs": [],
   "source": []
  }
 ],
 "metadata": {
  "kernelspec": {
   "display_name": "Python 3 (ipykernel)",
   "language": "python",
   "name": "python3"
  },
  "language_info": {
   "codemirror_mode": {
    "name": "ipython",
    "version": 3
   },
   "file_extension": ".py",
   "mimetype": "text/x-python",
   "name": "python",
   "nbconvert_exporter": "python",
   "pygments_lexer": "ipython3",
   "version": "3.9.12"
  }
 },
 "nbformat": 4,
 "nbformat_minor": 5
}
