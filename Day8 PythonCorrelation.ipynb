{
 "cells": [
  {
   "cell_type": "code",
   "execution_count": 1,
   "id": "ed5d6b88",
   "metadata": {},
   "outputs": [],
   "source": [
    "import numpy as np\n",
    "import pandas as pd\n",
    "import matplotlib.pyplot as plt\n",
    "plt.style.use('ggplot')\n",
    "import matplotlib\n",
    "\n",
    "import seaborn as sns\n",
    "\n",
    "\n",
    "%matplotlib inline\n",
    "matplotlib.rcParams['figure.figsize'] = (12,8)\n"
   ]
  },
  {
   "cell_type": "markdown",
   "id": "a0d9840d",
   "metadata": {},
   "source": [
    "### Importing the dataset"
   ]
  },
  {
   "cell_type": "code",
   "execution_count": 2,
   "id": "249eba52",
   "metadata": {
    "scrolled": false
   },
   "outputs": [
    {
     "data": {
      "text/html": [
       "<div>\n",
       "<style scoped>\n",
       "    .dataframe tbody tr th:only-of-type {\n",
       "        vertical-align: middle;\n",
       "    }\n",
       "\n",
       "    .dataframe tbody tr th {\n",
       "        vertical-align: top;\n",
       "    }\n",
       "\n",
       "    .dataframe thead th {\n",
       "        text-align: right;\n",
       "    }\n",
       "</style>\n",
       "<table border=\"1\" class=\"dataframe\">\n",
       "  <thead>\n",
       "    <tr style=\"text-align: right;\">\n",
       "      <th></th>\n",
       "      <th>name</th>\n",
       "      <th>rating</th>\n",
       "      <th>genre</th>\n",
       "      <th>year</th>\n",
       "      <th>released</th>\n",
       "      <th>score</th>\n",
       "      <th>votes</th>\n",
       "      <th>director</th>\n",
       "      <th>writer</th>\n",
       "      <th>star</th>\n",
       "      <th>country</th>\n",
       "      <th>budget</th>\n",
       "      <th>gross</th>\n",
       "      <th>company</th>\n",
       "      <th>runtime</th>\n",
       "    </tr>\n",
       "  </thead>\n",
       "  <tbody>\n",
       "    <tr>\n",
       "      <th>0</th>\n",
       "      <td>The Shining</td>\n",
       "      <td>R</td>\n",
       "      <td>Drama</td>\n",
       "      <td>1980</td>\n",
       "      <td>June 13, 1980 (United States)</td>\n",
       "      <td>8.4</td>\n",
       "      <td>927000.0</td>\n",
       "      <td>Stanley Kubrick</td>\n",
       "      <td>Stephen King</td>\n",
       "      <td>Jack Nicholson</td>\n",
       "      <td>United Kingdom</td>\n",
       "      <td>19000000.0</td>\n",
       "      <td>46998772.0</td>\n",
       "      <td>Warner Bros.</td>\n",
       "      <td>146.0</td>\n",
       "    </tr>\n",
       "    <tr>\n",
       "      <th>1</th>\n",
       "      <td>The Blue Lagoon</td>\n",
       "      <td>R</td>\n",
       "      <td>Adventure</td>\n",
       "      <td>1980</td>\n",
       "      <td>July 2, 1980 (United States)</td>\n",
       "      <td>5.8</td>\n",
       "      <td>65000.0</td>\n",
       "      <td>Randal Kleiser</td>\n",
       "      <td>Henry De Vere Stacpoole</td>\n",
       "      <td>Brooke Shields</td>\n",
       "      <td>United States</td>\n",
       "      <td>4500000.0</td>\n",
       "      <td>58853106.0</td>\n",
       "      <td>Columbia Pictures</td>\n",
       "      <td>104.0</td>\n",
       "    </tr>\n",
       "    <tr>\n",
       "      <th>2</th>\n",
       "      <td>Star Wars: Episode V - The Empire Strikes Back</td>\n",
       "      <td>PG</td>\n",
       "      <td>Action</td>\n",
       "      <td>1980</td>\n",
       "      <td>June 20, 1980 (United States)</td>\n",
       "      <td>8.7</td>\n",
       "      <td>1200000.0</td>\n",
       "      <td>Irvin Kershner</td>\n",
       "      <td>Leigh Brackett</td>\n",
       "      <td>Mark Hamill</td>\n",
       "      <td>United States</td>\n",
       "      <td>18000000.0</td>\n",
       "      <td>538375067.0</td>\n",
       "      <td>Lucasfilm</td>\n",
       "      <td>124.0</td>\n",
       "    </tr>\n",
       "    <tr>\n",
       "      <th>3</th>\n",
       "      <td>Airplane!</td>\n",
       "      <td>PG</td>\n",
       "      <td>Comedy</td>\n",
       "      <td>1980</td>\n",
       "      <td>July 2, 1980 (United States)</td>\n",
       "      <td>7.7</td>\n",
       "      <td>221000.0</td>\n",
       "      <td>Jim Abrahams</td>\n",
       "      <td>Jim Abrahams</td>\n",
       "      <td>Robert Hays</td>\n",
       "      <td>United States</td>\n",
       "      <td>3500000.0</td>\n",
       "      <td>83453539.0</td>\n",
       "      <td>Paramount Pictures</td>\n",
       "      <td>88.0</td>\n",
       "    </tr>\n",
       "    <tr>\n",
       "      <th>4</th>\n",
       "      <td>Caddyshack</td>\n",
       "      <td>R</td>\n",
       "      <td>Comedy</td>\n",
       "      <td>1980</td>\n",
       "      <td>July 25, 1980 (United States)</td>\n",
       "      <td>7.3</td>\n",
       "      <td>108000.0</td>\n",
       "      <td>Harold Ramis</td>\n",
       "      <td>Brian Doyle-Murray</td>\n",
       "      <td>Chevy Chase</td>\n",
       "      <td>United States</td>\n",
       "      <td>6000000.0</td>\n",
       "      <td>39846344.0</td>\n",
       "      <td>Orion Pictures</td>\n",
       "      <td>98.0</td>\n",
       "    </tr>\n",
       "  </tbody>\n",
       "</table>\n",
       "</div>"
      ],
      "text/plain": [
       "                                             name rating      genre  year  \\\n",
       "0                                     The Shining      R      Drama  1980   \n",
       "1                                 The Blue Lagoon      R  Adventure  1980   \n",
       "2  Star Wars: Episode V - The Empire Strikes Back     PG     Action  1980   \n",
       "3                                       Airplane!     PG     Comedy  1980   \n",
       "4                                      Caddyshack      R     Comedy  1980   \n",
       "\n",
       "                        released  score      votes         director  \\\n",
       "0  June 13, 1980 (United States)    8.4   927000.0  Stanley Kubrick   \n",
       "1   July 2, 1980 (United States)    5.8    65000.0   Randal Kleiser   \n",
       "2  June 20, 1980 (United States)    8.7  1200000.0   Irvin Kershner   \n",
       "3   July 2, 1980 (United States)    7.7   221000.0     Jim Abrahams   \n",
       "4  July 25, 1980 (United States)    7.3   108000.0     Harold Ramis   \n",
       "\n",
       "                    writer            star         country      budget  \\\n",
       "0             Stephen King  Jack Nicholson  United Kingdom  19000000.0   \n",
       "1  Henry De Vere Stacpoole  Brooke Shields   United States   4500000.0   \n",
       "2           Leigh Brackett     Mark Hamill   United States  18000000.0   \n",
       "3             Jim Abrahams     Robert Hays   United States   3500000.0   \n",
       "4       Brian Doyle-Murray     Chevy Chase   United States   6000000.0   \n",
       "\n",
       "         gross             company  runtime  \n",
       "0   46998772.0        Warner Bros.    146.0  \n",
       "1   58853106.0   Columbia Pictures    104.0  \n",
       "2  538375067.0           Lucasfilm    124.0  \n",
       "3   83453539.0  Paramount Pictures     88.0  \n",
       "4   39846344.0      Orion Pictures     98.0  "
      ]
     },
     "execution_count": 2,
     "metadata": {},
     "output_type": "execute_result"
    }
   ],
   "source": [
    "df= pd.read_csv(\"D:\\Projects\\Data-Analyst-Projects\\PythonProject\\movies.csv\")\n",
    "df.head()"
   ]
  },
  {
   "cell_type": "code",
   "execution_count": 3,
   "id": "330f4a3d",
   "metadata": {},
   "outputs": [
    {
     "data": {
      "text/plain": [
       "(7668, 15)"
      ]
     },
     "execution_count": 3,
     "metadata": {},
     "output_type": "execute_result"
    }
   ],
   "source": [
    "#Understanding the Data\n",
    "df.shape"
   ]
  },
  {
   "cell_type": "code",
   "execution_count": 4,
   "id": "2868ba12",
   "metadata": {},
   "outputs": [
    {
     "data": {
      "text/plain": [
       "Index(['name', 'rating', 'genre', 'year', 'released', 'score', 'votes',\n",
       "       'director', 'writer', 'star', 'country', 'budget', 'gross', 'company',\n",
       "       'runtime'],\n",
       "      dtype='object')"
      ]
     },
     "execution_count": 4,
     "metadata": {},
     "output_type": "execute_result"
    }
   ],
   "source": [
    "df.columns"
   ]
  },
  {
   "cell_type": "code",
   "execution_count": 5,
   "id": "e8fcdfc7",
   "metadata": {},
   "outputs": [
    {
     "data": {
      "text/plain": [
       "name         object\n",
       "rating       object\n",
       "genre        object\n",
       "year          int64\n",
       "released     object\n",
       "score       float64\n",
       "votes       float64\n",
       "director     object\n",
       "writer       object\n",
       "star         object\n",
       "country      object\n",
       "budget      float64\n",
       "gross       float64\n",
       "company      object\n",
       "runtime     float64\n",
       "dtype: object"
      ]
     },
     "execution_count": 5,
     "metadata": {},
     "output_type": "execute_result"
    }
   ],
   "source": [
    "df.dtypes"
   ]
  },
  {
   "cell_type": "markdown",
   "id": "94a47243",
   "metadata": {},
   "source": [
    "### Data Cleaning\n",
    "\n"
   ]
  },
  {
   "cell_type": "markdown",
   "id": "95c29ed9",
   "metadata": {},
   "source": [
    "#### Dealing with  null values"
   ]
  },
  {
   "cell_type": "code",
   "execution_count": 6,
   "id": "ad08ff92",
   "metadata": {},
   "outputs": [
    {
     "data": {
      "text/plain": [
       "name           0\n",
       "rating        77\n",
       "genre          0\n",
       "year           0\n",
       "released       2\n",
       "score          3\n",
       "votes          3\n",
       "director       0\n",
       "writer         3\n",
       "star           1\n",
       "country        3\n",
       "budget      2171\n",
       "gross        189\n",
       "company       17\n",
       "runtime        4\n",
       "dtype: int64"
      ]
     },
     "execution_count": 6,
     "metadata": {},
     "output_type": "execute_result"
    }
   ],
   "source": [
    "#Checking null values\n",
    "\n",
    "df.isnull().sum()\n"
   ]
  },
  {
   "cell_type": "code",
   "execution_count": 7,
   "id": "dc86629c",
   "metadata": {},
   "outputs": [
    {
     "data": {
      "text/plain": [
       "(5436, 15)"
      ]
     },
     "execution_count": 7,
     "metadata": {},
     "output_type": "execute_result"
    }
   ],
   "source": [
    "# droping null values\n",
    "\n",
    "df= df.dropna(subset=['gross', 'budget'])\n",
    "df.shape"
   ]
  },
  {
   "cell_type": "markdown",
   "id": "270cf71c",
   "metadata": {},
   "source": [
    "#### Dealing with duplicates"
   ]
  },
  {
   "cell_type": "code",
   "execution_count": 8,
   "id": "9f09d162",
   "metadata": {},
   "outputs": [
    {
     "data": {
      "text/html": [
       "<div>\n",
       "<style scoped>\n",
       "    .dataframe tbody tr th:only-of-type {\n",
       "        vertical-align: middle;\n",
       "    }\n",
       "\n",
       "    .dataframe tbody tr th {\n",
       "        vertical-align: top;\n",
       "    }\n",
       "\n",
       "    .dataframe thead th {\n",
       "        text-align: right;\n",
       "    }\n",
       "</style>\n",
       "<table border=\"1\" class=\"dataframe\">\n",
       "  <thead>\n",
       "    <tr style=\"text-align: right;\">\n",
       "      <th></th>\n",
       "      <th>name</th>\n",
       "      <th>rating</th>\n",
       "      <th>genre</th>\n",
       "      <th>year</th>\n",
       "      <th>released</th>\n",
       "      <th>score</th>\n",
       "      <th>votes</th>\n",
       "      <th>director</th>\n",
       "      <th>writer</th>\n",
       "      <th>star</th>\n",
       "      <th>country</th>\n",
       "      <th>budget</th>\n",
       "      <th>gross</th>\n",
       "      <th>company</th>\n",
       "      <th>runtime</th>\n",
       "    </tr>\n",
       "  </thead>\n",
       "  <tbody>\n",
       "  </tbody>\n",
       "</table>\n",
       "</div>"
      ],
      "text/plain": [
       "Empty DataFrame\n",
       "Columns: [name, rating, genre, year, released, score, votes, director, writer, star, country, budget, gross, company, runtime]\n",
       "Index: []"
      ]
     },
     "execution_count": 8,
     "metadata": {},
     "output_type": "execute_result"
    }
   ],
   "source": [
    "df[df.duplicated()]"
   ]
  },
  {
   "cell_type": "markdown",
   "id": "70af19a8",
   "metadata": {},
   "source": [
    "###### *There are no duplicates"
   ]
  },
  {
   "cell_type": "markdown",
   "id": "47ca6610",
   "metadata": {},
   "source": [
    "#### Changing Data Types\n"
   ]
  },
  {
   "cell_type": "code",
   "execution_count": 9,
   "id": "51b78dd0",
   "metadata": {
    "scrolled": false
   },
   "outputs": [
    {
     "name": "stdout",
     "output_type": "stream",
     "text": [
      "<class 'pandas.core.frame.DataFrame'>\n",
      "Int64Index: 5436 entries, 0 to 7652\n",
      "Data columns (total 15 columns):\n",
      " #   Column    Non-Null Count  Dtype  \n",
      "---  ------    --------------  -----  \n",
      " 0   name      5436 non-null   object \n",
      " 1   rating    5424 non-null   object \n",
      " 2   genre     5436 non-null   object \n",
      " 3   year      5436 non-null   int64  \n",
      " 4   released  5436 non-null   object \n",
      " 5   score     5436 non-null   float64\n",
      " 6   votes     5436 non-null   int64  \n",
      " 7   director  5436 non-null   object \n",
      " 8   writer    5436 non-null   object \n",
      " 9   star      5436 non-null   object \n",
      " 10  country   5435 non-null   object \n",
      " 11  budget    5436 non-null   int64  \n",
      " 12  gross     5436 non-null   int64  \n",
      " 13  company   5434 non-null   object \n",
      " 14  runtime   5435 non-null   float64\n",
      "dtypes: float64(2), int64(4), object(9)\n",
      "memory usage: 679.5+ KB\n"
     ]
    }
   ],
   "source": [
    "df = df.astype({\"budget\" : \"int64\", \"gross\" : \"int64\", \"votes\" : \"int64\"})\n",
    "df.info()\n"
   ]
  },
  {
   "cell_type": "markdown",
   "id": "8f4bb852",
   "metadata": {},
   "source": [
    "#### Statistical Insights"
   ]
  },
  {
   "cell_type": "code",
   "execution_count": 10,
   "id": "cd46796d",
   "metadata": {},
   "outputs": [
    {
     "data": {
      "text/html": [
       "<div>\n",
       "<style scoped>\n",
       "    .dataframe tbody tr th:only-of-type {\n",
       "        vertical-align: middle;\n",
       "    }\n",
       "\n",
       "    .dataframe tbody tr th {\n",
       "        vertical-align: top;\n",
       "    }\n",
       "\n",
       "    .dataframe thead th {\n",
       "        text-align: right;\n",
       "    }\n",
       "</style>\n",
       "<table border=\"1\" class=\"dataframe\">\n",
       "  <thead>\n",
       "    <tr style=\"text-align: right;\">\n",
       "      <th></th>\n",
       "      <th>year</th>\n",
       "      <th>score</th>\n",
       "      <th>votes</th>\n",
       "      <th>budget</th>\n",
       "      <th>gross</th>\n",
       "      <th>runtime</th>\n",
       "    </tr>\n",
       "  </thead>\n",
       "  <tbody>\n",
       "    <tr>\n",
       "      <th>count</th>\n",
       "      <td>5436.0</td>\n",
       "      <td>5436.0</td>\n",
       "      <td>5436.0</td>\n",
       "      <td>5436.0</td>\n",
       "      <td>5436.0</td>\n",
       "      <td>5435.0</td>\n",
       "    </tr>\n",
       "    <tr>\n",
       "      <th>mean</th>\n",
       "      <td>2001.7</td>\n",
       "      <td>6.4</td>\n",
       "      <td>114911.0</td>\n",
       "      <td>35938637.6</td>\n",
       "      <td>103004458.1</td>\n",
       "      <td>108.2</td>\n",
       "    </tr>\n",
       "    <tr>\n",
       "      <th>std</th>\n",
       "      <td>10.5</td>\n",
       "      <td>1.0</td>\n",
       "      <td>184225.5</td>\n",
       "      <td>41547704.9</td>\n",
       "      <td>187105108.7</td>\n",
       "      <td>18.1</td>\n",
       "    </tr>\n",
       "    <tr>\n",
       "      <th>min</th>\n",
       "      <td>1980.0</td>\n",
       "      <td>1.9</td>\n",
       "      <td>195.0</td>\n",
       "      <td>6000.0</td>\n",
       "      <td>309.0</td>\n",
       "      <td>63.0</td>\n",
       "    </tr>\n",
       "    <tr>\n",
       "      <th>25%</th>\n",
       "      <td>1993.0</td>\n",
       "      <td>5.8</td>\n",
       "      <td>19000.0</td>\n",
       "      <td>10000000.0</td>\n",
       "      <td>10674118.8</td>\n",
       "      <td>95.0</td>\n",
       "    </tr>\n",
       "    <tr>\n",
       "      <th>50%</th>\n",
       "      <td>2002.0</td>\n",
       "      <td>6.5</td>\n",
       "      <td>52000.0</td>\n",
       "      <td>21000000.0</td>\n",
       "      <td>36711988.0</td>\n",
       "      <td>105.0</td>\n",
       "    </tr>\n",
       "    <tr>\n",
       "      <th>75%</th>\n",
       "      <td>2011.0</td>\n",
       "      <td>7.1</td>\n",
       "      <td>129000.0</td>\n",
       "      <td>45000000.0</td>\n",
       "      <td>111947847.8</td>\n",
       "      <td>118.0</td>\n",
       "    </tr>\n",
       "    <tr>\n",
       "      <th>max</th>\n",
       "      <td>2020.0</td>\n",
       "      <td>9.3</td>\n",
       "      <td>2400000.0</td>\n",
       "      <td>356000000.0</td>\n",
       "      <td>2847246203.0</td>\n",
       "      <td>271.0</td>\n",
       "    </tr>\n",
       "  </tbody>\n",
       "</table>\n",
       "</div>"
      ],
      "text/plain": [
       "        year  score     votes      budget        gross  runtime\n",
       "count 5436.0 5436.0    5436.0      5436.0       5436.0   5435.0\n",
       "mean  2001.7    6.4  114911.0  35938637.6  103004458.1    108.2\n",
       "std     10.5    1.0  184225.5  41547704.9  187105108.7     18.1\n",
       "min   1980.0    1.9     195.0      6000.0        309.0     63.0\n",
       "25%   1993.0    5.8   19000.0  10000000.0   10674118.8     95.0\n",
       "50%   2002.0    6.5   52000.0  21000000.0   36711988.0    105.0\n",
       "75%   2011.0    7.1  129000.0  45000000.0  111947847.8    118.0\n",
       "max   2020.0    9.3 2400000.0 356000000.0 2847246203.0    271.0"
      ]
     },
     "execution_count": 10,
     "metadata": {},
     "output_type": "execute_result"
    }
   ],
   "source": [
    "#Turning it into readable format\n",
    "pd.options.display.float_format = \"{:.1f}\".format\n",
    "df.describe(include = [np.number]).T\n",
    "\n",
    "df.describe()"
   ]
  },
  {
   "cell_type": "markdown",
   "id": "3fff5aae",
   "metadata": {},
   "source": [
    "#### * The dataset is from the year 1980-2020\n",
    "#### * The highest budget for a movie is 356 million dollars. "
   ]
  },
  {
   "cell_type": "code",
   "execution_count": 11,
   "id": "ebd6c142",
   "metadata": {},
   "outputs": [
    {
     "data": {
      "text/html": [
       "<div>\n",
       "<style scoped>\n",
       "    .dataframe tbody tr th:only-of-type {\n",
       "        vertical-align: middle;\n",
       "    }\n",
       "\n",
       "    .dataframe tbody tr th {\n",
       "        vertical-align: top;\n",
       "    }\n",
       "\n",
       "    .dataframe thead th {\n",
       "        text-align: right;\n",
       "    }\n",
       "</style>\n",
       "<table border=\"1\" class=\"dataframe\">\n",
       "  <thead>\n",
       "    <tr style=\"text-align: right;\">\n",
       "      <th></th>\n",
       "      <th>name</th>\n",
       "      <th>rating</th>\n",
       "      <th>genre</th>\n",
       "      <th>released</th>\n",
       "      <th>director</th>\n",
       "      <th>writer</th>\n",
       "      <th>star</th>\n",
       "      <th>country</th>\n",
       "      <th>company</th>\n",
       "    </tr>\n",
       "  </thead>\n",
       "  <tbody>\n",
       "    <tr>\n",
       "      <th>count</th>\n",
       "      <td>5436</td>\n",
       "      <td>5424</td>\n",
       "      <td>5436</td>\n",
       "      <td>5436</td>\n",
       "      <td>5436</td>\n",
       "      <td>5436</td>\n",
       "      <td>5436</td>\n",
       "      <td>5435</td>\n",
       "      <td>5434</td>\n",
       "    </tr>\n",
       "    <tr>\n",
       "      <th>unique</th>\n",
       "      <td>5351</td>\n",
       "      <td>10</td>\n",
       "      <td>15</td>\n",
       "      <td>2566</td>\n",
       "      <td>2069</td>\n",
       "      <td>3215</td>\n",
       "      <td>1852</td>\n",
       "      <td>50</td>\n",
       "      <td>1481</td>\n",
       "    </tr>\n",
       "    <tr>\n",
       "      <th>top</th>\n",
       "      <td>Hercules</td>\n",
       "      <td>R</td>\n",
       "      <td>Comedy</td>\n",
       "      <td>January 25, 2002 (United States)</td>\n",
       "      <td>Woody Allen</td>\n",
       "      <td>Woody Allen</td>\n",
       "      <td>Nicolas Cage</td>\n",
       "      <td>United States</td>\n",
       "      <td>Universal Pictures</td>\n",
       "    </tr>\n",
       "    <tr>\n",
       "      <th>freq</th>\n",
       "      <td>3</td>\n",
       "      <td>2597</td>\n",
       "      <td>1496</td>\n",
       "      <td>7</td>\n",
       "      <td>33</td>\n",
       "      <td>32</td>\n",
       "      <td>40</td>\n",
       "      <td>4326</td>\n",
       "      <td>330</td>\n",
       "    </tr>\n",
       "  </tbody>\n",
       "</table>\n",
       "</div>"
      ],
      "text/plain": [
       "            name rating   genre                          released  \\\n",
       "count       5436   5424    5436                              5436   \n",
       "unique      5351     10      15                              2566   \n",
       "top     Hercules      R  Comedy  January 25, 2002 (United States)   \n",
       "freq           3   2597    1496                                 7   \n",
       "\n",
       "           director       writer          star        country  \\\n",
       "count          5436         5436          5436           5435   \n",
       "unique         2069         3215          1852             50   \n",
       "top     Woody Allen  Woody Allen  Nicolas Cage  United States   \n",
       "freq             33           32            40           4326   \n",
       "\n",
       "                   company  \n",
       "count                 5434  \n",
       "unique                1481  \n",
       "top     Universal Pictures  \n",
       "freq                   330  "
      ]
     },
     "execution_count": 11,
     "metadata": {},
     "output_type": "execute_result"
    }
   ],
   "source": [
    "df.describe(exclude = \"number\")"
   ]
  },
  {
   "cell_type": "markdown",
   "id": "ee79a9a2",
   "metadata": {},
   "source": [
    "#### * As expected, most of the movies are from USA (4319 movies out of 5421)\n",
    "#### * Most popular genre is Comedy"
   ]
  },
  {
   "cell_type": "markdown",
   "id": "15ec1737",
   "metadata": {},
   "source": [
    "# Correlation"
   ]
  },
  {
   "cell_type": "code",
   "execution_count": 12,
   "id": "c53edb2f",
   "metadata": {},
   "outputs": [
    {
     "data": {
      "text/html": [
       "<div>\n",
       "<style scoped>\n",
       "    .dataframe tbody tr th:only-of-type {\n",
       "        vertical-align: middle;\n",
       "    }\n",
       "\n",
       "    .dataframe tbody tr th {\n",
       "        vertical-align: top;\n",
       "    }\n",
       "\n",
       "    .dataframe thead th {\n",
       "        text-align: right;\n",
       "    }\n",
       "</style>\n",
       "<table border=\"1\" class=\"dataframe\">\n",
       "  <thead>\n",
       "    <tr style=\"text-align: right;\">\n",
       "      <th></th>\n",
       "      <th>year</th>\n",
       "      <th>score</th>\n",
       "      <th>votes</th>\n",
       "      <th>budget</th>\n",
       "      <th>gross</th>\n",
       "      <th>runtime</th>\n",
       "    </tr>\n",
       "  </thead>\n",
       "  <tbody>\n",
       "    <tr>\n",
       "      <th>year</th>\n",
       "      <td>1.0</td>\n",
       "      <td>0.1</td>\n",
       "      <td>0.2</td>\n",
       "      <td>0.3</td>\n",
       "      <td>0.3</td>\n",
       "      <td>0.1</td>\n",
       "    </tr>\n",
       "    <tr>\n",
       "      <th>score</th>\n",
       "      <td>0.1</td>\n",
       "      <td>1.0</td>\n",
       "      <td>0.5</td>\n",
       "      <td>0.1</td>\n",
       "      <td>0.2</td>\n",
       "      <td>0.4</td>\n",
       "    </tr>\n",
       "    <tr>\n",
       "      <th>votes</th>\n",
       "      <td>0.2</td>\n",
       "      <td>0.5</td>\n",
       "      <td>1.0</td>\n",
       "      <td>0.4</td>\n",
       "      <td>0.6</td>\n",
       "      <td>0.4</td>\n",
       "    </tr>\n",
       "    <tr>\n",
       "      <th>budget</th>\n",
       "      <td>0.3</td>\n",
       "      <td>0.1</td>\n",
       "      <td>0.4</td>\n",
       "      <td>1.0</td>\n",
       "      <td>0.7</td>\n",
       "      <td>0.3</td>\n",
       "    </tr>\n",
       "    <tr>\n",
       "      <th>gross</th>\n",
       "      <td>0.3</td>\n",
       "      <td>0.2</td>\n",
       "      <td>0.6</td>\n",
       "      <td>0.7</td>\n",
       "      <td>1.0</td>\n",
       "      <td>0.3</td>\n",
       "    </tr>\n",
       "    <tr>\n",
       "      <th>runtime</th>\n",
       "      <td>0.1</td>\n",
       "      <td>0.4</td>\n",
       "      <td>0.4</td>\n",
       "      <td>0.3</td>\n",
       "      <td>0.3</td>\n",
       "      <td>1.0</td>\n",
       "    </tr>\n",
       "  </tbody>\n",
       "</table>\n",
       "</div>"
      ],
      "text/plain": [
       "         year  score  votes  budget  gross  runtime\n",
       "year      1.0    0.1    0.2     0.3    0.3      0.1\n",
       "score     0.1    1.0    0.5     0.1    0.2      0.4\n",
       "votes     0.2    0.5    1.0     0.4    0.6      0.4\n",
       "budget    0.3    0.1    0.4     1.0    0.7      0.3\n",
       "gross     0.3    0.2    0.6     0.7    1.0      0.3\n",
       "runtime   0.1    0.4    0.4     0.3    0.3      1.0"
      ]
     },
     "execution_count": 12,
     "metadata": {},
     "output_type": "execute_result"
    }
   ],
   "source": [
    "# We will be using pearson's method of correlation\n",
    "df.corr()"
   ]
  },
  {
   "cell_type": "markdown",
   "id": "60032d55",
   "metadata": {},
   "source": [
    "##### * Gross and budget are highly correlated\n",
    "##### * Also, votes shows high correlation with gross"
   ]
  },
  {
   "cell_type": "code",
   "execution_count": 13,
   "id": "6bf300c6",
   "metadata": {},
   "outputs": [
    {
     "data": {
      "image/png": "[encoded data removed]",
      "text/plain": [
       "<Figure size 720x504 with 2 Axes>"
      ]
     },
     "metadata": {
      "needs_background": "light"
     },
     "output_type": "display_data"
    }
   ],
   "source": [
    "# Visualising the correlation with heatmap\n",
    "\n",
    "movies_corr = df.corr()\n",
    "\n",
    "plt.subplots(figsize = (10, 7))\n",
    "sns.heatmap(movies_corr, annot = True, cmap=\"YlGnBu\")\n",
    "plt.title('Correlation Matrix for Numeric Features')\n",
    "plt.show()\n"
   ]
  },
  {
   "cell_type": "code",
   "execution_count": 14,
   "id": "ebfefe7f",
   "metadata": {},
   "outputs": [
    {
     "data": {
      "text/html": [
       "<div>\n",
       "<style scoped>\n",
       "    .dataframe tbody tr th:only-of-type {\n",
       "        vertical-align: middle;\n",
       "    }\n",
       "\n",
       "    .dataframe tbody tr th {\n",
       "        vertical-align: top;\n",
       "    }\n",
       "\n",
       "    .dataframe thead th {\n",
       "        text-align: right;\n",
       "    }\n",
       "</style>\n",
       "<table border=\"1\" class=\"dataframe\">\n",
       "  <thead>\n",
       "    <tr style=\"text-align: right;\">\n",
       "      <th></th>\n",
       "      <th>name</th>\n",
       "      <th>rating</th>\n",
       "      <th>genre</th>\n",
       "      <th>year</th>\n",
       "      <th>released</th>\n",
       "      <th>score</th>\n",
       "      <th>votes</th>\n",
       "      <th>director</th>\n",
       "      <th>writer</th>\n",
       "      <th>star</th>\n",
       "      <th>country</th>\n",
       "      <th>budget</th>\n",
       "      <th>gross</th>\n",
       "      <th>company</th>\n",
       "      <th>runtime</th>\n",
       "    </tr>\n",
       "  </thead>\n",
       "  <tbody>\n",
       "    <tr>\n",
       "      <th>5445</th>\n",
       "      <td>Avatar</td>\n",
       "      <td>PG-13</td>\n",
       "      <td>Action</td>\n",
       "      <td>2009</td>\n",
       "      <td>December 18, 2009 (United States)</td>\n",
       "      <td>7.8</td>\n",
       "      <td>1100000</td>\n",
       "      <td>James Cameron</td>\n",
       "      <td>James Cameron</td>\n",
       "      <td>Sam Worthington</td>\n",
       "      <td>United States</td>\n",
       "      <td>237000000</td>\n",
       "      <td>2847246203</td>\n",
       "      <td>Twentieth Century Fox</td>\n",
       "      <td>162.0</td>\n",
       "    </tr>\n",
       "    <tr>\n",
       "      <th>7445</th>\n",
       "      <td>Avengers: Endgame</td>\n",
       "      <td>PG-13</td>\n",
       "      <td>Action</td>\n",
       "      <td>2019</td>\n",
       "      <td>April 26, 2019 (United States)</td>\n",
       "      <td>8.4</td>\n",
       "      <td>903000</td>\n",
       "      <td>Anthony Russo</td>\n",
       "      <td>Christopher Markus</td>\n",
       "      <td>Robert Downey Jr.</td>\n",
       "      <td>United States</td>\n",
       "      <td>356000000</td>\n",
       "      <td>2797501328</td>\n",
       "      <td>Marvel Studios</td>\n",
       "      <td>181.0</td>\n",
       "    </tr>\n",
       "    <tr>\n",
       "      <th>3045</th>\n",
       "      <td>Titanic</td>\n",
       "      <td>PG-13</td>\n",
       "      <td>Drama</td>\n",
       "      <td>1997</td>\n",
       "      <td>December 19, 1997 (United States)</td>\n",
       "      <td>7.8</td>\n",
       "      <td>1100000</td>\n",
       "      <td>James Cameron</td>\n",
       "      <td>James Cameron</td>\n",
       "      <td>Leonardo DiCaprio</td>\n",
       "      <td>United States</td>\n",
       "      <td>200000000</td>\n",
       "      <td>2201647264</td>\n",
       "      <td>Twentieth Century Fox</td>\n",
       "      <td>194.0</td>\n",
       "    </tr>\n",
       "    <tr>\n",
       "      <th>6663</th>\n",
       "      <td>Star Wars: Episode VII - The Force Awakens</td>\n",
       "      <td>PG-13</td>\n",
       "      <td>Action</td>\n",
       "      <td>2015</td>\n",
       "      <td>December 18, 2015 (United States)</td>\n",
       "      <td>7.8</td>\n",
       "      <td>876000</td>\n",
       "      <td>J.J. Abrams</td>\n",
       "      <td>Lawrence Kasdan</td>\n",
       "      <td>Daisy Ridley</td>\n",
       "      <td>United States</td>\n",
       "      <td>245000000</td>\n",
       "      <td>2069521700</td>\n",
       "      <td>Lucasfilm</td>\n",
       "      <td>138.0</td>\n",
       "    </tr>\n",
       "    <tr>\n",
       "      <th>7244</th>\n",
       "      <td>Avengers: Infinity War</td>\n",
       "      <td>PG-13</td>\n",
       "      <td>Action</td>\n",
       "      <td>2018</td>\n",
       "      <td>April 27, 2018 (United States)</td>\n",
       "      <td>8.4</td>\n",
       "      <td>897000</td>\n",
       "      <td>Anthony Russo</td>\n",
       "      <td>Christopher Markus</td>\n",
       "      <td>Robert Downey Jr.</td>\n",
       "      <td>United States</td>\n",
       "      <td>321000000</td>\n",
       "      <td>2048359754</td>\n",
       "      <td>Marvel Studios</td>\n",
       "      <td>149.0</td>\n",
       "    </tr>\n",
       "    <tr>\n",
       "      <th>7480</th>\n",
       "      <td>The Lion King</td>\n",
       "      <td>PG</td>\n",
       "      <td>Animation</td>\n",
       "      <td>2019</td>\n",
       "      <td>July 19, 2019 (United States)</td>\n",
       "      <td>6.9</td>\n",
       "      <td>222000</td>\n",
       "      <td>Jon Favreau</td>\n",
       "      <td>Jeff Nathanson</td>\n",
       "      <td>Donald Glover</td>\n",
       "      <td>United States</td>\n",
       "      <td>260000000</td>\n",
       "      <td>1670727580</td>\n",
       "      <td>Walt Disney Pictures</td>\n",
       "      <td>118.0</td>\n",
       "    </tr>\n",
       "    <tr>\n",
       "      <th>6653</th>\n",
       "      <td>Jurassic World</td>\n",
       "      <td>PG-13</td>\n",
       "      <td>Action</td>\n",
       "      <td>2015</td>\n",
       "      <td>June 12, 2015 (United States)</td>\n",
       "      <td>7.0</td>\n",
       "      <td>593000</td>\n",
       "      <td>Colin Trevorrow</td>\n",
       "      <td>Rick Jaffa</td>\n",
       "      <td>Chris Pratt</td>\n",
       "      <td>United States</td>\n",
       "      <td>150000000</td>\n",
       "      <td>1670516444</td>\n",
       "      <td>Universal Pictures</td>\n",
       "      <td>124.0</td>\n",
       "    </tr>\n",
       "    <tr>\n",
       "      <th>6043</th>\n",
       "      <td>The Avengers</td>\n",
       "      <td>PG-13</td>\n",
       "      <td>Action</td>\n",
       "      <td>2012</td>\n",
       "      <td>May 4, 2012 (United States)</td>\n",
       "      <td>8.0</td>\n",
       "      <td>1300000</td>\n",
       "      <td>Joss Whedon</td>\n",
       "      <td>Joss Whedon</td>\n",
       "      <td>Robert Downey Jr.</td>\n",
       "      <td>United States</td>\n",
       "      <td>220000000</td>\n",
       "      <td>1518815515</td>\n",
       "      <td>Marvel Studios</td>\n",
       "      <td>143.0</td>\n",
       "    </tr>\n",
       "    <tr>\n",
       "      <th>6646</th>\n",
       "      <td>Furious 7</td>\n",
       "      <td>PG-13</td>\n",
       "      <td>Action</td>\n",
       "      <td>2015</td>\n",
       "      <td>April 3, 2015 (United States)</td>\n",
       "      <td>7.1</td>\n",
       "      <td>370000</td>\n",
       "      <td>James Wan</td>\n",
       "      <td>Chris Morgan</td>\n",
       "      <td>Vin Diesel</td>\n",
       "      <td>United States</td>\n",
       "      <td>190000000</td>\n",
       "      <td>1515341399</td>\n",
       "      <td>Universal Pictures</td>\n",
       "      <td>137.0</td>\n",
       "    </tr>\n",
       "    <tr>\n",
       "      <th>7494</th>\n",
       "      <td>Frozen II</td>\n",
       "      <td>PG</td>\n",
       "      <td>Animation</td>\n",
       "      <td>2019</td>\n",
       "      <td>November 22, 2019 (United States)</td>\n",
       "      <td>6.8</td>\n",
       "      <td>148000</td>\n",
       "      <td>Chris Buck</td>\n",
       "      <td>Jennifer Lee</td>\n",
       "      <td>Kristen Bell</td>\n",
       "      <td>United States</td>\n",
       "      <td>150000000</td>\n",
       "      <td>1450026933</td>\n",
       "      <td>Walt Disney Animation Studios</td>\n",
       "      <td>103.0</td>\n",
       "    </tr>\n",
       "  </tbody>\n",
       "</table>\n",
       "</div>"
      ],
      "text/plain": [
       "                                            name rating      genre  year  \\\n",
       "5445                                      Avatar  PG-13     Action  2009   \n",
       "7445                           Avengers: Endgame  PG-13     Action  2019   \n",
       "3045                                     Titanic  PG-13      Drama  1997   \n",
       "6663  Star Wars: Episode VII - The Force Awakens  PG-13     Action  2015   \n",
       "7244                      Avengers: Infinity War  PG-13     Action  2018   \n",
       "7480                               The Lion King     PG  Animation  2019   \n",
       "6653                              Jurassic World  PG-13     Action  2015   \n",
       "6043                                The Avengers  PG-13     Action  2012   \n",
       "6646                                   Furious 7  PG-13     Action  2015   \n",
       "7494                                   Frozen II     PG  Animation  2019   \n",
       "\n",
       "                               released  score    votes         director  \\\n",
       "5445  December 18, 2009 (United States)    7.8  1100000    James Cameron   \n",
       "7445     April 26, 2019 (United States)    8.4   903000    Anthony Russo   \n",
       "3045  December 19, 1997 (United States)    7.8  1100000    James Cameron   \n",
       "6663  December 18, 2015 (United States)    7.8   876000      J.J. Abrams   \n",
       "7244     April 27, 2018 (United States)    8.4   897000    Anthony Russo   \n",
       "7480      July 19, 2019 (United States)    6.9   222000      Jon Favreau   \n",
       "6653      June 12, 2015 (United States)    7.0   593000  Colin Trevorrow   \n",
       "6043        May 4, 2012 (United States)    8.0  1300000      Joss Whedon   \n",
       "6646      April 3, 2015 (United States)    7.1   370000        James Wan   \n",
       "7494  November 22, 2019 (United States)    6.8   148000       Chris Buck   \n",
       "\n",
       "                  writer               star        country     budget  \\\n",
       "5445       James Cameron    Sam Worthington  United States  237000000   \n",
       "7445  Christopher Markus  Robert Downey Jr.  United States  356000000   \n",
       "3045       James Cameron  Leonardo DiCaprio  United States  200000000   \n",
       "6663     Lawrence Kasdan       Daisy Ridley  United States  245000000   \n",
       "7244  Christopher Markus  Robert Downey Jr.  United States  321000000   \n",
       "7480      Jeff Nathanson      Donald Glover  United States  260000000   \n",
       "6653          Rick Jaffa        Chris Pratt  United States  150000000   \n",
       "6043         Joss Whedon  Robert Downey Jr.  United States  220000000   \n",
       "6646        Chris Morgan         Vin Diesel  United States  190000000   \n",
       "7494        Jennifer Lee       Kristen Bell  United States  150000000   \n",
       "\n",
       "           gross                        company  runtime  \n",
       "5445  2847246203          Twentieth Century Fox    162.0  \n",
       "7445  2797501328                 Marvel Studios    181.0  \n",
       "3045  2201647264          Twentieth Century Fox    194.0  \n",
       "6663  2069521700                      Lucasfilm    138.0  \n",
       "7244  2048359754                 Marvel Studios    149.0  \n",
       "7480  1670727580           Walt Disney Pictures    118.0  \n",
       "6653  1670516444             Universal Pictures    124.0  \n",
       "6043  1518815515                 Marvel Studios    143.0  \n",
       "6646  1515341399             Universal Pictures    137.0  \n",
       "7494  1450026933  Walt Disney Animation Studios    103.0  "
      ]
     },
     "execution_count": 14,
     "metadata": {},
     "output_type": "execute_result"
    }
   ],
   "source": [
    "# Now, let's look at movies with the highest revenue\n",
    "df_sorted = df.sort_values(by=['gross'],inplace = False, ascending = False)\n",
    "df_sorted.head(10)"
   ]
  },
  {
   "cell_type": "markdown",
   "id": "95000ddc",
   "metadata": {},
   "source": [
    "# Data Visualization"
   ]
  },
  {
   "cell_type": "markdown",
   "id": "f23d4daa",
   "metadata": {},
   "source": [
    "#### Budget VS Revenue"
   ]
  },
  {
   "cell_type": "code",
   "execution_count": 15,
   "id": "25539047",
   "metadata": {},
   "outputs": [
    {
     "data": {
      "image/png": "[encoded data removed]",
      "text/plain": [
       "<Figure size 864x576 with 1 Axes>"
      ]
     },
     "metadata": {
      "needs_background": "light"
     },
     "output_type": "display_data"
    }
   ],
   "source": [
    "sns.regplot(x='budget', y='gross', data=df, scatter_kws= {'color' : '#42aaf5'}, line_kws = {'color' : '#f5a742'})\n",
    "\n",
    "plt.title('Movies Budget Vs Revenue')\n",
    "plt.xlabel('Budget')\n",
    "plt.ylabel('Gross Revenue')\n",
    "plt.show()"
   ]
  },
  {
   "cell_type": "markdown",
   "id": "8b83b921",
   "metadata": {},
   "source": [
    "##### * There is a positive relation. As budget increases, revenue also increases"
   ]
  },
  {
   "cell_type": "markdown",
   "id": "147d6697",
   "metadata": {},
   "source": [
    "#### Votes VS Gross Earnings"
   ]
  },
  {
   "cell_type": "code",
   "execution_count": 16,
   "id": "e2ec3292",
   "metadata": {},
   "outputs": [
    {
     "data": {
      "image/png": "[encoded data removed]",
      "text/plain": [
       "<Figure size 864x576 with 1 Axes>"
      ]
     },
     "metadata": {
      "needs_background": "light"
     },
     "output_type": "display_data"
    }
   ],
   "source": [
    "sns.regplot(x='votes', y='gross',data=df ,scatter_kws ={'color':'#42f5a4'}, line_kws={'color':'#f5a742'})\n",
    "plt.title('Votes VS Gross Earnings')\n",
    "\n",
    "plt.show()\n"
   ]
  },
  {
   "cell_type": "code",
   "execution_count": null,
   "id": "d23dbadf",
   "metadata": {},
   "outputs": [],
   "source": []
  },
  {
   "cell_type": "code",
   "execution_count": null,
   "id": "2c628da8",
   "metadata": {},
   "outputs": [],
   "source": []
  },
  {
   "cell_type": "code",
   "execution_count": null,
   "id": "cd9517e8",
   "metadata": {},
   "outputs": [],
   "source": []
  },
  {
   "cell_type": "code",
   "execution_count": null,
   "id": "953e2bae",
   "metadata": {},
   "outputs": [],
   "source": []
  }
 ],
 "metadata": {
  "kernelspec": {
   "display_name": "Python 3 (ipykernel)",
   "language": "python",
   "name": "python3"
  },
  "language_info": {
   "codemirror_mode": {
    "name": "ipython",
    "version": 3
   },
   "file_extension": ".py",
   "mimetype": "text/x-python",
   "name": "python",
   "nbconvert_exporter": "python",
   "pygments_lexer": "ipython3",
   "version": "3.9.12"
  }
 },
 "nbformat": 4,
 "nbformat_minor": 5
}
