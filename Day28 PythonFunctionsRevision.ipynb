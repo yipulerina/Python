{
 "cells": [
  {
   "cell_type": "code",
   "execution_count": 2,
   "id": "99320b63",
   "metadata": {},
   "outputs": [],
   "source": [
    "def test(*args):\n",
    "    return args"
   ]
  },
  {
   "cell_type": "code",
   "execution_count": 4,
   "id": "fb1867ae",
   "metadata": {},
   "outputs": [
    {
     "data": {
      "text/plain": [
       "(45, 34, 54, 'here')"
      ]
     },
     "execution_count": 4,
     "metadata": {},
     "output_type": "execute_result"
    }
   ],
   "source": [
    "test(45,34,54, \"here\")"
   ]
  },
  {
   "cell_type": "code",
   "execution_count": 5,
   "id": "276dfbc3",
   "metadata": {},
   "outputs": [],
   "source": [
    "def test2(*args, a):\n",
    "    return args, a"
   ]
  },
  {
   "cell_type": "code",
   "execution_count": 11,
   "id": "db5b2894",
   "metadata": {},
   "outputs": [
    {
     "data": {
      "text/plain": [
       "((34, 535, 343), 3)"
      ]
     },
     "execution_count": 11,
     "metadata": {},
     "output_type": "execute_result"
    }
   ],
   "source": [
    "test2(34,535,343,a = 3)"
   ]
  },
  {
   "cell_type": "code",
   "execution_count": 25,
   "id": "3b56492c",
   "metadata": {},
   "outputs": [],
   "source": [
    "def test3(*args):\n",
    "    l =[]\n",
    "    for i in args:\n",
    "        if type(i)== list:\n",
    "            l.append(i)\n",
    "    return l"
   ]
  },
  {
   "cell_type": "code",
   "execution_count": 26,
   "id": "e0575742",
   "metadata": {},
   "outputs": [
    {
     "data": {
      "text/plain": [
       "[[335, 46], [3356, 64]]"
      ]
     },
     "execution_count": 26,
     "metadata": {},
     "output_type": "execute_result"
    }
   ],
   "source": [
    "test3(345,56,6,4,[335,46], [3356,64])"
   ]
  },
  {
   "cell_type": "code",
   "execution_count": 28,
   "id": "72a66188",
   "metadata": {},
   "outputs": [],
   "source": [
    "d = { \"a\": [23,3,3,4], 6: [3,5,4]}"
   ]
  },
  {
   "cell_type": "code",
   "execution_count": 29,
   "id": "6cbdf833",
   "metadata": {},
   "outputs": [
    {
     "data": {
      "text/plain": [
       "[23, 3, 3, 4]"
      ]
     },
     "execution_count": 29,
     "metadata": {},
     "output_type": "execute_result"
    }
   ],
   "source": [
    "d[\"a\"]"
   ]
  },
  {
   "cell_type": "code",
   "execution_count": 34,
   "id": "5b941e86",
   "metadata": {},
   "outputs": [],
   "source": [
    "def test4(**kwargs):\n",
    "    return kwargs"
   ]
  },
  {
   "cell_type": "code",
   "execution_count": 39,
   "id": "fecd5f63",
   "metadata": {},
   "outputs": [
    {
     "data": {
      "text/plain": [
       "{'a': [1, 24], 'b': [3545, 657]}"
      ]
     },
     "execution_count": 39,
     "metadata": {},
     "output_type": "execute_result"
    }
   ],
   "source": [
    "test4(a =[1,24] , b= [3545,657])"
   ]
  },
  {
   "cell_type": "code",
   "execution_count": 40,
   "id": "4dc5ddd3",
   "metadata": {},
   "outputs": [
    {
     "data": {
      "text/plain": [
       "{'a': 23}"
      ]
     },
     "execution_count": 40,
     "metadata": {},
     "output_type": "execute_result"
    }
   ],
   "source": [
    "test4(a = 23)"
   ]
  },
  {
   "cell_type": "code",
   "execution_count": 42,
   "id": "3f3acf30",
   "metadata": {},
   "outputs": [],
   "source": [
    "def test5(a, *args, **kwargs):\n",
    "    return a, args, kwargs"
   ]
  },
  {
   "cell_type": "code",
   "execution_count": 44,
   "id": "e837f15b",
   "metadata": {},
   "outputs": [
    {
     "data": {
      "text/plain": [
       "(23, (34, 321, 2, 335, 65), {'g': 356, 'l': 'dhf'})"
      ]
     },
     "execution_count": 44,
     "metadata": {},
     "output_type": "execute_result"
    }
   ],
   "source": [
    "test5(23,34,321,2,335,65,g= 356, l = \"dhf\")"
   ]
  },
  {
   "cell_type": "code",
   "execution_count": 46,
   "id": "8a15c2f8",
   "metadata": {},
   "outputs": [],
   "source": [
    "def test6(a,b):\n",
    "    return a*b"
   ]
  },
  {
   "cell_type": "code",
   "execution_count": 47,
   "id": "3e0612e3",
   "metadata": {},
   "outputs": [
    {
     "data": {
      "text/plain": [
       "12"
      ]
     },
     "execution_count": 47,
     "metadata": {},
     "output_type": "execute_result"
    }
   ],
   "source": [
    "test6(3,4)"
   ]
  },
  {
   "cell_type": "code",
   "execution_count": 49,
   "id": "47b177ad",
   "metadata": {},
   "outputs": [],
   "source": [
    "x = lambda a ,b : a*b"
   ]
  },
  {
   "cell_type": "code",
   "execution_count": 51,
   "id": "bbba8d57",
   "metadata": {},
   "outputs": [
    {
     "data": {
      "text/plain": [
       "20"
      ]
     },
     "execution_count": 51,
     "metadata": {},
     "output_type": "execute_result"
    }
   ],
   "source": [
    "x(4,5)"
   ]
  },
  {
   "cell_type": "code",
   "execution_count": 52,
   "id": "2ee3173f",
   "metadata": {},
   "outputs": [],
   "source": [
    "a = lambda a,b : (a+b, a*b)"
   ]
  },
  {
   "cell_type": "code",
   "execution_count": 53,
   "id": "ba1aecb3",
   "metadata": {},
   "outputs": [
    {
     "data": {
      "text/plain": [
       "(9, 20)"
      ]
     },
     "execution_count": 53,
     "metadata": {},
     "output_type": "execute_result"
    }
   ],
   "source": [
    "a(4,5)"
   ]
  },
  {
   "cell_type": "code",
   "execution_count": 56,
   "id": "58259f6e",
   "metadata": {},
   "outputs": [],
   "source": [
    "x = lambda x: [i for i in x]"
   ]
  },
  {
   "cell_type": "code",
   "execution_count": 55,
   "id": "da589f45",
   "metadata": {},
   "outputs": [
    {
     "name": "stdout",
     "output_type": "stream",
     "text": [
      "4\n",
      "5\n",
      "6\n"
     ]
    },
    {
     "data": {
      "text/plain": [
       "[None, None, None]"
      ]
     },
     "execution_count": 55,
     "metadata": {},
     "output_type": "execute_result"
    }
   ],
   "source": [
    "x([4,5,6])"
   ]
  },
  {
   "cell_type": "code",
   "execution_count": 57,
   "id": "834f7217",
   "metadata": {},
   "outputs": [
    {
     "data": {
      "text/plain": [
       "[34]"
      ]
     },
     "execution_count": 57,
     "metadata": {},
     "output_type": "execute_result"
    }
   ],
   "source": [
    "x([34])"
   ]
  },
  {
   "cell_type": "code",
   "execution_count": 58,
   "id": "0a399a75",
   "metadata": {},
   "outputs": [],
   "source": [
    "a = lambda **kwargs: kwargs"
   ]
  },
  {
   "cell_type": "code",
   "execution_count": 61,
   "id": "9731cca4",
   "metadata": {},
   "outputs": [
    {
     "data": {
      "text/plain": [
       "['a', 'b']"
      ]
     },
     "execution_count": 61,
     "metadata": {},
     "output_type": "execute_result"
    }
   ],
   "source": [
    "list(a(a = 45, b= 45))"
   ]
  },
  {
   "cell_type": "code",
   "execution_count": 62,
   "id": "fdc27d0e",
   "metadata": {},
   "outputs": [],
   "source": [
    "a = 10\n",
    "def test7(c,d):\n",
    "    return c*d"
   ]
  },
  {
   "cell_type": "code",
   "execution_count": 63,
   "id": "d1f5315b",
   "metadata": {},
   "outputs": [
    {
     "data": {
      "text/plain": [
       "500"
      ]
     },
     "execution_count": 63,
     "metadata": {},
     "output_type": "execute_result"
    }
   ],
   "source": [
    "test7(a,50)"
   ]
  },
  {
   "cell_type": "code",
   "execution_count": 64,
   "id": "e08b452e",
   "metadata": {},
   "outputs": [],
   "source": [
    " a = 10\n",
    "def test7(c,d):\n",
    "    a =5\n",
    "    return c*d"
   ]
  },
  {
   "cell_type": "code",
   "execution_count": 65,
   "id": "c9eb8aff",
   "metadata": {},
   "outputs": [
    {
     "data": {
      "text/plain": [
       "500"
      ]
     },
     "execution_count": 65,
     "metadata": {},
     "output_type": "execute_result"
    }
   ],
   "source": [
    "test7(a,50)"
   ]
  },
  {
   "cell_type": "code",
   "execution_count": 66,
   "id": "f275a535",
   "metadata": {},
   "outputs": [],
   "source": [
    " a = 10\n",
    "def test7(c,d):\n",
    "    c =5\n",
    "    return c*d"
   ]
  },
  {
   "cell_type": "code",
   "execution_count": 67,
   "id": "9634ba21",
   "metadata": {},
   "outputs": [
    {
     "data": {
      "text/plain": [
       "250"
      ]
     },
     "execution_count": 67,
     "metadata": {},
     "output_type": "execute_result"
    }
   ],
   "source": [
    "test7(a,50)"
   ]
  },
  {
   "cell_type": "code",
   "execution_count": 68,
   "id": "e0355d4f",
   "metadata": {},
   "outputs": [
    {
     "data": {
      "text/plain": [
       "250"
      ]
     },
     "execution_count": 68,
     "metadata": {},
     "output_type": "execute_result"
    }
   ],
   "source": [
    "test7(10,50)"
   ]
  },
  {
   "cell_type": "code",
   "execution_count": 70,
   "id": "466d5345",
   "metadata": {},
   "outputs": [],
   "source": [
    "l = [1,2,3,4,5,6,7,8]\n",
    "l1=[]\n",
    "for i in l:\n",
    "        l1.append(i+2)"
   ]
  },
  {
   "cell_type": "code",
   "execution_count": 71,
   "id": "eabd5fc2",
   "metadata": {},
   "outputs": [
    {
     "data": {
      "text/plain": [
       "[3, 4, 5, 6, 7, 8, 9, 10]"
      ]
     },
     "execution_count": 71,
     "metadata": {},
     "output_type": "execute_result"
    }
   ],
   "source": [
    "l1"
   ]
  },
  {
   "cell_type": "code",
   "execution_count": 80,
   "id": "fce43a48",
   "metadata": {},
   "outputs": [],
   "source": [
    "def test8(a):\n",
    "    l2=[]\n",
    "    for i in a:\n",
    "        l2.append(i*2)\n",
    "    return l2"
   ]
  },
  {
   "cell_type": "code",
   "execution_count": 81,
   "id": "88fea759",
   "metadata": {},
   "outputs": [
    {
     "data": {
      "text/plain": [
       "[2, 4, 6, 8, 10, 12, 14, 16]"
      ]
     },
     "execution_count": 81,
     "metadata": {},
     "output_type": "execute_result"
    }
   ],
   "source": [
    "l = [1,2,3,4,5,6,7,8]\n",
    "test8(l)"
   ]
  },
  {
   "cell_type": "code",
   "execution_count": 82,
   "id": "6ab05dc5",
   "metadata": {},
   "outputs": [],
   "source": [
    "a = lambda a: [i *2 for i in a]"
   ]
  },
  {
   "cell_type": "code",
   "execution_count": 83,
   "id": "de1b33aa",
   "metadata": {},
   "outputs": [
    {
     "data": {
      "text/plain": [
       "[2, 4, 6, 8, 10, 12, 14, 16]"
      ]
     },
     "execution_count": 83,
     "metadata": {},
     "output_type": "execute_result"
    }
   ],
   "source": [
    "a(l)"
   ]
  },
  {
   "cell_type": "code",
   "execution_count": 89,
   "id": "ae478d29",
   "metadata": {},
   "outputs": [],
   "source": [
    "a = lambda a: [i *2 for i in a if i <4 ]"
   ]
  },
  {
   "cell_type": "code",
   "execution_count": 90,
   "id": "71b6edff",
   "metadata": {},
   "outputs": [
    {
     "data": {
      "text/plain": [
       "[2, 4, 6]"
      ]
     },
     "execution_count": 90,
     "metadata": {},
     "output_type": "execute_result"
    }
   ],
   "source": [
    "a(l)"
   ]
  },
  {
   "cell_type": "code",
   "execution_count": 91,
   "id": "6a89a066",
   "metadata": {},
   "outputs": [],
   "source": [
    "d = {\n",
    "    1:1, 2:4,3:9\n",
    "}"
   ]
  },
  {
   "cell_type": "code",
   "execution_count": 93,
   "id": "7f91aee1",
   "metadata": {},
   "outputs": [
    {
     "data": {
      "text/plain": [
       "{0: 0, 1: 1, 2: 4, 3: 9, 4: 16, 5: 25, 6: 36, 7: 49, 8: 64, 9: 81}"
      ]
     },
     "execution_count": 93,
     "metadata": {},
     "output_type": "execute_result"
    }
   ],
   "source": [
    "{i:i**2 for i in range(10)}"
   ]
  },
  {
   "cell_type": "code",
   "execution_count": 94,
   "id": "c0650a01",
   "metadata": {},
   "outputs": [
    {
     "name": "stdout",
     "output_type": "stream",
     "text": [
      "{0}\n",
      "{1}\n",
      "{2, 4}\n",
      "{9, 3}\n",
      "{16, 4}\n",
      "{25, 5}\n",
      "{36, 6}\n",
      "{49, 7}\n",
      "{8, 64}\n",
      "{81, 9}\n"
     ]
    }
   ],
   "source": [
    "for i in range(10):\n",
    "    print({i,i**2})"
   ]
  },
  {
   "cell_type": "code",
   "execution_count": 95,
   "id": "e04ed1dd",
   "metadata": {},
   "outputs": [],
   "source": [
    "d1={}\n",
    "for i in range(10):\n",
    "    d1[i]=i**2"
   ]
  },
  {
   "cell_type": "code",
   "execution_count": 96,
   "id": "45d885f2",
   "metadata": {},
   "outputs": [
    {
     "data": {
      "text/plain": [
       "{0: 0, 1: 1, 2: 4, 3: 9, 4: 16, 5: 25, 6: 36, 7: 49, 8: 64, 9: 81}"
      ]
     },
     "execution_count": 96,
     "metadata": {},
     "output_type": "execute_result"
    }
   ],
   "source": [
    "d1"
   ]
  },
  {
   "cell_type": "code",
   "execution_count": 98,
   "id": "61634b35",
   "metadata": {},
   "outputs": [
    {
     "data": {
      "text/plain": [
       "(0, 1, 2, 3, 4, 5, 6, 7, 8, 9)"
      ]
     },
     "execution_count": 98,
     "metadata": {},
     "output_type": "execute_result"
    }
   ],
   "source": [
    "tuple(i for i in range(10))"
   ]
  },
  {
   "cell_type": "code",
   "execution_count": 109,
   "id": "49bf7ab1",
   "metadata": {},
   "outputs": [],
   "source": [
    "v = \"here\"\n",
    "\n",
    "b =iter(v)"
   ]
  },
  {
   "cell_type": "code",
   "execution_count": 110,
   "id": "56a4bdd0",
   "metadata": {},
   "outputs": [
    {
     "data": {
      "text/plain": [
       "'h'"
      ]
     },
     "execution_count": 110,
     "metadata": {},
     "output_type": "execute_result"
    }
   ],
   "source": [
    "next(b)"
   ]
  },
  {
   "cell_type": "code",
   "execution_count": null,
   "id": "a783b427",
   "metadata": {},
   "outputs": [],
   "source": []
  },
  {
   "cell_type": "code",
   "execution_count": null,
   "id": "1ceb574f",
   "metadata": {},
   "outputs": [],
   "source": []
  },
  {
   "cell_type": "code",
   "execution_count": null,
   "id": "bf698b04",
   "metadata": {},
   "outputs": [],
   "source": []
  },
  {
   "cell_type": "code",
   "execution_count": null,
   "id": "742e855a",
   "metadata": {},
   "outputs": [],
   "source": []
  },
  {
   "cell_type": "code",
   "execution_count": null,
   "id": "c9cc575c",
   "metadata": {},
   "outputs": [],
   "source": []
  }
 ],
 "metadata": {
  "kernelspec": {
   "display_name": "Python 3 (ipykernel)",
   "language": "python",
   "name": "python3"
  },
  "language_info": {
   "codemirror_mode": {
    "name": "ipython",
    "version": 3
   },
   "file_extension": ".py",
   "mimetype": "text/x-python",
   "name": "python",
   "nbconvert_exporter": "python",
   "pygments_lexer": "ipython3",
   "version": "3.9.12"
  }
 },
 "nbformat": 4,
 "nbformat_minor": 5
}
