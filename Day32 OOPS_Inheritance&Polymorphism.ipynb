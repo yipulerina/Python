{
 "cells": [
  {
   "cell_type": "markdown",
   "id": "5d6d8969",
   "metadata": {},
   "source": [
    "# Inheritance"
   ]
  },
  {
   "cell_type": "code",
   "execution_count": 1,
   "id": "093342fc",
   "metadata": {},
   "outputs": [],
   "source": [
    "class xyz :\n",
    "    def __init__(self,a,b,c ):\n",
    "        self.a = a\n",
    "        self.b = b\n",
    "        self.c = c\n",
    "    \n",
    "    def test(self):\n",
    "        print(\"This is my first test method of xyz class\")\n",
    "    \n",
    "    def test1(self):\n",
    "        print(\"test1 of xyz class\")\n",
    "        \n",
    "    def test2(self):\n",
    "        print(\"test2 of method of xyz class\")"
   ]
  },
  {
   "cell_type": "code",
   "execution_count": 3,
   "id": "7e8c75c8",
   "metadata": {},
   "outputs": [],
   "source": [
    "p = xyz(1,2,3)"
   ]
  },
  {
   "cell_type": "code",
   "execution_count": 4,
   "id": "ee72fea4",
   "metadata": {},
   "outputs": [
    {
     "name": "stdout",
     "output_type": "stream",
     "text": [
      "This is my first test method of xyz class\n"
     ]
    }
   ],
   "source": [
    "p.test()"
   ]
  },
  {
   "cell_type": "code",
   "execution_count": 2,
   "id": "7965d558",
   "metadata": {},
   "outputs": [],
   "source": [
    "class xyz1(xyz) :\n",
    "    pass\n",
    "    \n",
    "    "
   ]
  },
  {
   "cell_type": "code",
   "execution_count": 6,
   "id": "866e169d",
   "metadata": {},
   "outputs": [],
   "source": [
    "q = xyz1(3,4,5)"
   ]
  },
  {
   "cell_type": "code",
   "execution_count": 7,
   "id": "dade01f0",
   "metadata": {},
   "outputs": [
    {
     "name": "stdout",
     "output_type": "stream",
     "text": [
      "test1 of xyz class\n"
     ]
    }
   ],
   "source": [
    "q.test1()"
   ]
  },
  {
   "cell_type": "code",
   "execution_count": 8,
   "id": "99e044c6",
   "metadata": {},
   "outputs": [],
   "source": [
    "class xyz1(xyz):\n",
    "    \n",
    "    def test(self):\n",
    "        print(\"this is a test method available in xyz1\")"
   ]
  },
  {
   "cell_type": "code",
   "execution_count": 9,
   "id": "aa55c5c1",
   "metadata": {},
   "outputs": [],
   "source": [
    "g = xyz1(1,2,3)"
   ]
  },
  {
   "cell_type": "code",
   "execution_count": 10,
   "id": "a2b77b28",
   "metadata": {},
   "outputs": [
    {
     "name": "stdout",
     "output_type": "stream",
     "text": [
      "this is a test method available in xyz1\n"
     ]
    }
   ],
   "source": [
    "g.test()"
   ]
  },
  {
   "cell_type": "code",
   "execution_count": 31,
   "id": "4ba0b52d",
   "metadata": {},
   "outputs": [],
   "source": [
    "class xyz:\n",
    "    def __init__(self,a, b,c):\n",
    "        self.a = a\n",
    "        self.b = b\n",
    "        self.c = c\n",
    "        \n",
    "    def test(self) :\n",
    "        print(\"this is meth of xyz class\")\n",
    "        \n",
    "    \n",
    "class xyz1:\n",
    "    \n",
    "    def __init__(self,p,q,r):\n",
    "        self.p = p\n",
    "        self.q = q\n",
    "        self.r = r\n",
    "        \n",
    "    def test1(self):\n",
    "        print(\"this is meth of xyz1 class\")\n",
    "        \n",
    "class child(xyz, xyz1):\n",
    "    def __init__(self,*args):\n",
    "        xyz.__init__(self,*args)\n",
    "        xyz1.__init__(self,*args)\n",
    "    \n",
    "    \n",
    "    "
   ]
  },
  {
   "cell_type": "code",
   "execution_count": 32,
   "id": "023e59aa",
   "metadata": {},
   "outputs": [],
   "source": [
    "n = child(1,2,3)"
   ]
  },
  {
   "cell_type": "code",
   "execution_count": 33,
   "id": "c5db0df7",
   "metadata": {},
   "outputs": [
    {
     "name": "stdout",
     "output_type": "stream",
     "text": [
      "this is meth of xyz1 class\n"
     ]
    }
   ],
   "source": [
    "n.test1()"
   ]
  },
  {
   "cell_type": "code",
   "execution_count": 34,
   "id": "07d6ba3e",
   "metadata": {},
   "outputs": [
    {
     "name": "stdout",
     "output_type": "stream",
     "text": [
      "this is meth of xyz class\n"
     ]
    }
   ],
   "source": [
    "n.test()"
   ]
  },
  {
   "cell_type": "code",
   "execution_count": 35,
   "id": "1ea37781",
   "metadata": {},
   "outputs": [
    {
     "data": {
      "text/plain": [
       "1"
      ]
     },
     "execution_count": 35,
     "metadata": {},
     "output_type": "execute_result"
    }
   ],
   "source": [
    "n.a"
   ]
  },
  {
   "cell_type": "code",
   "execution_count": 36,
   "id": "a071559b",
   "metadata": {},
   "outputs": [
    {
     "data": {
      "text/plain": [
       "1"
      ]
     },
     "execution_count": 36,
     "metadata": {},
     "output_type": "execute_result"
    }
   ],
   "source": [
    "n.p\n"
   ]
  },
  {
   "cell_type": "code",
   "execution_count": 37,
   "id": "5b24fda2",
   "metadata": {},
   "outputs": [],
   "source": [
    "class xyz:\n",
    "    def __init__(self,a, b,c):\n",
    "        self.a = a\n",
    "        self.b = b\n",
    "        self.c = c\n",
    "        \n",
    "    def test(self) :\n",
    "        print(\"this is meth of xyz class\")\n",
    "        \n",
    "    \n",
    "class xyz1:\n",
    "    \n",
    "    def __init__(self,p,q,r):\n",
    "        self.p = p\n",
    "        self.q = q\n",
    "        self.r = r\n",
    "        \n",
    "    def test1(self):\n",
    "        print(\"this is meth of xyz1 class\")\n",
    "        \n",
    "class child(xyz, xyz1):\n",
    "    def __init__(self,*args,**kwargs):\n",
    "        xyz.__init__(self,*args)\n",
    "        xyz1.__init__(self,**kwargs)\n",
    "    "
   ]
  },
  {
   "cell_type": "code",
   "execution_count": 38,
   "id": "5455f330",
   "metadata": {},
   "outputs": [],
   "source": [
    "n= child(4,5,6,p=3,q=4,r = 5)"
   ]
  },
  {
   "cell_type": "code",
   "execution_count": 44,
   "id": "cfbfdc04",
   "metadata": {},
   "outputs": [],
   "source": [
    "class xyz:\n",
    "    def __init__(self,a, b,c):\n",
    "        self.a = a\n",
    "        self.b = b\n",
    "        self.c = c\n",
    "        \n",
    "    def test(self) :\n",
    "        print(\"this is meth of xyz class\")\n",
    "        \n",
    "    \n",
    "class xyz1(xyz):\n",
    "        \n",
    "    def test1(self):\n",
    "        print(\"this is meth of xyz1 class\")\n",
    "        \n",
    "class xyz2(xyz1):\n",
    "    \n",
    "    def test2(self):\n",
    "        print(\"this is meth from xyz2\")\n",
    "\n",
    "        \n",
    "class xyz3(xyz2):\n",
    "    \n",
    "    def test3(self):\n",
    "        print(\"this is meth from xyz3\")\n",
    "    "
   ]
  },
  {
   "cell_type": "code",
   "execution_count": 45,
   "id": "12547cbd",
   "metadata": {},
   "outputs": [],
   "source": [
    "v = xyz2(1,2,3)"
   ]
  },
  {
   "cell_type": "code",
   "execution_count": 46,
   "id": "b943ef98",
   "metadata": {},
   "outputs": [
    {
     "name": "stdout",
     "output_type": "stream",
     "text": [
      "this is meth of xyz class\n"
     ]
    }
   ],
   "source": [
    "v.test()"
   ]
  },
  {
   "cell_type": "markdown",
   "id": "b1a709cc",
   "metadata": {},
   "source": [
    "1. Create a file class for reading data from a respective file with a method name read and write.\n",
    "2. try to inherit read and write method from parent class to child class to perform read and write operation."
   ]
  },
  {
   "cell_type": "code",
   "execution_count": 56,
   "id": "d99f5350",
   "metadata": {},
   "outputs": [
    {
     "data": {
      "text/plain": [
       "'hello, this is my child class'"
      ]
     },
     "execution_count": 56,
     "metadata": {},
     "output_type": "execute_result"
    }
   ],
   "source": [
    "import logging\n",
    "\n",
    "logging.basicConfig(filename = 'list.log', level = logging.DEBUG,format = \"%(asctime)s %(levelname)s %(message)s\", filemode ='w')\n",
    "\n",
    "class file_func:\n",
    "    def __init__(self,filename):\n",
    "        logging.info(\"Creating file instance variable\")\n",
    "        self.file = filename\n",
    "    \n",
    "    def read(self):\n",
    "        logging.info('executing read method')\n",
    "        try:\n",
    "            with open(f\"{self.file}.txt\",'r') as f:\n",
    "                data = f.read()\n",
    "                return data\n",
    "        except FileNotFoundError as e:\n",
    "            logging.error(\"Error occured while opening the file\")\n",
    "            logging.exception(f\"Error is {e}\")\n",
    "            \n",
    "        \n",
    "    def write(self,data):\n",
    "        logging.info('executing write method')\n",
    "        try:\n",
    "            with open(f\"{self.file}.txt\",'w') as f:\n",
    "                data = f.write(data)\n",
    "            \n",
    "        except FileNotFoundError as e:\n",
    "            logging.error(\"Check your code, might have made some silly mistakes\")\n",
    "            \n",
    "    \n",
    "class file_func1(file_func):\n",
    "    def child(self):\n",
    "        print(\"inheritance of file_func class\")\n",
    "            \n",
    "obj =file_func1(\"abc\")\n",
    "obj.write('hello, this is my child class')\n",
    "obj.read()\n"
   ]
  },
  {
   "cell_type": "code",
   "execution_count": 52,
   "id": "6b272b28",
   "metadata": {},
   "outputs": [
    {
     "name": "stdout",
     "output_type": "stream",
     "text": [
      "Inserted lines....\n"
     ]
    }
   ],
   "source": [
    "class readfile:\n",
    "    \n",
    "    def __init__(self,fileobj,lines):\n",
    "        self.file = fileobj\n",
    "        self.lines = lines\n",
    "        \n",
    "    def readfile(self):\n",
    "        file1 = open(self.file,'r')\n",
    "        line = file1.readline()\n",
    "        while(line != \"\"):\n",
    "            print(line)\n",
    "            line = file1.readline()\n",
    "    \n",
    "    def writefile(self):\n",
    "        content_write = open(self.file,'w')\n",
    "        content_write.writelines(lines)\n",
    "        content_write.close()\n",
    "    \n",
    "class readfile1(readfile):\n",
    "    def readfile1(self):\n",
    "        print(\"inheritance of Readfile class\")\n",
    "\n",
    "file2 = r'test.txt'\n",
    "lines = \"Inserted lines....\"\n",
    "\n",
    "read_write= readfile1(file2,lines)\n",
    "read_write.writefile()\n",
    "read_write.readfile()"
   ]
  },
  {
   "cell_type": "code",
   "execution_count": 2,
   "id": "d21ccf6c",
   "metadata": {},
   "outputs": [],
   "source": [
    "class test:\n",
    "    def __init__(self):\n",
    "        self.a = 4\n",
    "class test1(test):\n",
    "    def __init__(self):\n",
    "        self.a = 7\n",
    "\n",
    "u = test()"
   ]
  },
  {
   "cell_type": "code",
   "execution_count": 3,
   "id": "1b014da2",
   "metadata": {},
   "outputs": [
    {
     "data": {
      "text/plain": [
       "4"
      ]
     },
     "execution_count": 3,
     "metadata": {},
     "output_type": "execute_result"
    }
   ],
   "source": [
    "u.a\n"
   ]
  },
  {
   "cell_type": "code",
   "execution_count": 4,
   "id": "c8ab5054",
   "metadata": {},
   "outputs": [
    {
     "data": {
      "text/plain": [
       "7"
      ]
     },
     "execution_count": 4,
     "metadata": {},
     "output_type": "execute_result"
    }
   ],
   "source": [
    "v = test1()\n",
    "v.a"
   ]
  },
  {
   "cell_type": "code",
   "execution_count": 5,
   "id": "0436bc4d",
   "metadata": {},
   "outputs": [],
   "source": [
    "class test:\n",
    "    def __init__(self):\n",
    "        self.a = 4\n",
    "        \n",
    "class test1(test):\n",
    "    def __init__(self):\n",
    "        test.__init__(self)\n",
    "        self.a = 7\n",
    "        #self.a = 7\n",
    "\n",
    "u = test()"
   ]
  },
  {
   "cell_type": "code",
   "execution_count": 6,
   "id": "90c2df2f",
   "metadata": {},
   "outputs": [
    {
     "data": {
      "text/plain": [
       "4"
      ]
     },
     "execution_count": 6,
     "metadata": {},
     "output_type": "execute_result"
    }
   ],
   "source": [
    "u.a"
   ]
  },
  {
   "cell_type": "code",
   "execution_count": 7,
   "id": "e945883f",
   "metadata": {},
   "outputs": [],
   "source": [
    "v = test1()"
   ]
  },
  {
   "cell_type": "code",
   "execution_count": 8,
   "id": "c163bfce",
   "metadata": {},
   "outputs": [
    {
     "data": {
      "text/plain": [
       "7"
      ]
     },
     "execution_count": 8,
     "metadata": {},
     "output_type": "execute_result"
    }
   ],
   "source": [
    "v.a"
   ]
  },
  {
   "cell_type": "code",
   "execution_count": 12,
   "id": "21cb2c15",
   "metadata": {},
   "outputs": [],
   "source": [
    "class test:\n",
    "    def __init__(self):\n",
    "        # '_' -> protected\n",
    "        self._a = 4\n",
    "        \n",
    "class test1(test):\n",
    "    def __init__(self):\n",
    "        self._a = 7\n",
    "\n",
    "u = test()"
   ]
  },
  {
   "cell_type": "code",
   "execution_count": 14,
   "id": "ccee0773",
   "metadata": {},
   "outputs": [
    {
     "data": {
      "text/plain": [
       "4"
      ]
     },
     "execution_count": 14,
     "metadata": {},
     "output_type": "execute_result"
    }
   ],
   "source": [
    "u._a"
   ]
  },
  {
   "cell_type": "code",
   "execution_count": 16,
   "id": "8c0defd2",
   "metadata": {},
   "outputs": [
    {
     "data": {
      "text/plain": [
       "7"
      ]
     },
     "execution_count": 16,
     "metadata": {},
     "output_type": "execute_result"
    }
   ],
   "source": [
    "v = test1()\n",
    "v._a"
   ]
  },
  {
   "cell_type": "code",
   "execution_count": 21,
   "id": "4ce9830a",
   "metadata": {},
   "outputs": [],
   "source": [
    "class test:\n",
    "    def __init__(self,a,b,c):\n",
    "        #protected\n",
    "        self._a = a\n",
    "        # Private\n",
    "        self.__b = b\n",
    "        # Public\n",
    "        self.c = c\n",
    "\n",
    "class test1(test):\n",
    "    pass\n",
    "\n",
    "v = test(4,5,6)"
   ]
  },
  {
   "cell_type": "code",
   "execution_count": 22,
   "id": "a858658b",
   "metadata": {},
   "outputs": [
    {
     "data": {
      "text/plain": [
       "4"
      ]
     },
     "execution_count": 22,
     "metadata": {},
     "output_type": "execute_result"
    }
   ],
   "source": [
    "v._a"
   ]
  },
  {
   "cell_type": "code",
   "execution_count": 23,
   "id": "708d2729",
   "metadata": {},
   "outputs": [
    {
     "data": {
      "text/plain": [
       "5"
      ]
     },
     "execution_count": 23,
     "metadata": {},
     "output_type": "execute_result"
    }
   ],
   "source": [
    "v._test__b"
   ]
  },
  {
   "cell_type": "code",
   "execution_count": 25,
   "id": "301fd48c",
   "metadata": {},
   "outputs": [],
   "source": [
    "u = test1(3,4,5)"
   ]
  },
  {
   "cell_type": "code",
   "execution_count": 26,
   "id": "19e8f4bb",
   "metadata": {},
   "outputs": [
    {
     "data": {
      "text/plain": [
       "5"
      ]
     },
     "execution_count": 26,
     "metadata": {},
     "output_type": "execute_result"
    }
   ],
   "source": [
    "u.c"
   ]
  },
  {
   "cell_type": "code",
   "execution_count": 32,
   "id": "0f9bacec",
   "metadata": {},
   "outputs": [
    {
     "data": {
      "text/plain": [
       "3"
      ]
     },
     "execution_count": 32,
     "metadata": {},
     "output_type": "execute_result"
    }
   ],
   "source": [
    "# protected\n",
    "u._a"
   ]
  },
  {
   "cell_type": "code",
   "execution_count": 33,
   "id": "db793d9f",
   "metadata": {},
   "outputs": [
    {
     "data": {
      "text/plain": [
       "4"
      ]
     },
     "execution_count": 33,
     "metadata": {},
     "output_type": "execute_result"
    }
   ],
   "source": [
    "# Private -> notion that it is inheriting from parent class should be given. Here -> _test_\n",
    "u._test__b"
   ]
  },
  {
   "cell_type": "code",
   "execution_count": 56,
   "id": "6a50c7fd",
   "metadata": {},
   "outputs": [],
   "source": [
    "class bonuscalculator:\n",
    "    def __init__(self,empid,empidrating):\n",
    "        self.empid = empid\n",
    "        self.empidrating = empidrating\n",
    "        self.__bonusforratingA = \"70%\"\n",
    "        self.__bonusforratingB = \"60%\"\n",
    "        self.__bonusforratingC =\"40%\"\n",
    "        \n",
    "    def bonuscalculator(self):\n",
    "        if self.empidrating == \"A\":\n",
    "            bonus = self.__bonusforratingA\n",
    "            return bonus\n",
    "        elif self.empidrating ==\"B\":\n",
    "            bonus = self.__bonusforratingB\n",
    "            return bonus\n",
    "        else:\n",
    "            bonus = self.__bonusforratingC\n",
    "            return bonus\n",
    "        \n",
    "        "
   ]
  },
  {
   "cell_type": "code",
   "execution_count": 57,
   "id": "83c47c30",
   "metadata": {},
   "outputs": [],
   "source": [
    "emp1 = bonuscalculator(101,\"A\")\n",
    "emp2 = bonuscalculator(102,\"B\")\n",
    "emp3 = bonuscalculator(103,\"C\")"
   ]
  },
  {
   "cell_type": "code",
   "execution_count": 36,
   "id": "3d7d3144",
   "metadata": {},
   "outputs": [
    {
     "data": {
      "text/plain": [
       "'70%'"
      ]
     },
     "execution_count": 36,
     "metadata": {},
     "output_type": "execute_result"
    }
   ],
   "source": [
    "emp1.bonuscalculator()"
   ]
  },
  {
   "cell_type": "code",
   "execution_count": 37,
   "id": "4d655317",
   "metadata": {},
   "outputs": [
    {
     "data": {
      "text/plain": [
       "'60%'"
      ]
     },
     "execution_count": 37,
     "metadata": {},
     "output_type": "execute_result"
    }
   ],
   "source": [
    "emp2.bonuscalculator()"
   ]
  },
  {
   "cell_type": "code",
   "execution_count": 38,
   "id": "88e66874",
   "metadata": {},
   "outputs": [
    {
     "data": {
      "text/plain": [
       "'40%'"
      ]
     },
     "execution_count": 38,
     "metadata": {},
     "output_type": "execute_result"
    }
   ],
   "source": [
    "emp3.bonuscalculator()"
   ]
  },
  {
   "cell_type": "code",
   "execution_count": 39,
   "id": "873fa8d8",
   "metadata": {},
   "outputs": [],
   "source": [
    "emp1.empid = 104"
   ]
  },
  {
   "cell_type": "code",
   "execution_count": 41,
   "id": "a71bdff5",
   "metadata": {},
   "outputs": [
    {
     "data": {
      "text/plain": [
       "104"
      ]
     },
     "execution_count": 41,
     "metadata": {},
     "output_type": "execute_result"
    }
   ],
   "source": [
    "emp1.empid"
   ]
  },
  {
   "cell_type": "code",
   "execution_count": 42,
   "id": "1dc2068a",
   "metadata": {},
   "outputs": [],
   "source": [
    "emp1.empidrating = \"B\"\n"
   ]
  },
  {
   "cell_type": "code",
   "execution_count": 43,
   "id": "89409aaf",
   "metadata": {},
   "outputs": [
    {
     "data": {
      "text/plain": [
       "'60%'"
      ]
     },
     "execution_count": 43,
     "metadata": {},
     "output_type": "execute_result"
    }
   ],
   "source": [
    "emp1.bonuscalculator()"
   ]
  },
  {
   "cell_type": "code",
   "execution_count": 47,
   "id": "c065dd3e",
   "metadata": {},
   "outputs": [],
   "source": [
    "# unable to change the private variable\n",
    "emp1.__bonusforratingB =\"90%\""
   ]
  },
  {
   "cell_type": "code",
   "execution_count": 48,
   "id": "5dcadf3d",
   "metadata": {},
   "outputs": [
    {
     "data": {
      "text/plain": [
       "'60%'"
      ]
     },
     "execution_count": 48,
     "metadata": {},
     "output_type": "execute_result"
    }
   ],
   "source": [
    "emp1.bonuscalculator()"
   ]
  },
  {
   "cell_type": "code",
   "execution_count": 49,
   "id": "55b47301",
   "metadata": {},
   "outputs": [
    {
     "data": {
      "text/plain": [
       "'60%'"
      ]
     },
     "execution_count": 49,
     "metadata": {},
     "output_type": "execute_result"
    }
   ],
   "source": [
    "emp2.bonuscalculator()"
   ]
  },
  {
   "cell_type": "code",
   "execution_count": 50,
   "id": "bf51595f",
   "metadata": {},
   "outputs": [],
   "source": [
    "emp2.__bonusforratingB = \"60%\""
   ]
  },
  {
   "cell_type": "code",
   "execution_count": 51,
   "id": "848a0cea",
   "metadata": {},
   "outputs": [
    {
     "data": {
      "text/plain": [
       "'60%'"
      ]
     },
     "execution_count": 51,
     "metadata": {},
     "output_type": "execute_result"
    }
   ],
   "source": [
    "emp2.bonuscalculator()"
   ]
  },
  {
   "cell_type": "code",
   "execution_count": 52,
   "id": "697350f9",
   "metadata": {},
   "outputs": [],
   "source": [
    "# Changing the private variable by using class function\n",
    "emp2._bonuscalculator__bonusforratingB =\"90%\""
   ]
  },
  {
   "cell_type": "code",
   "execution_count": 53,
   "id": "e3abfb7f",
   "metadata": {},
   "outputs": [
    {
     "data": {
      "text/plain": [
       "'90%'"
      ]
     },
     "execution_count": 53,
     "metadata": {},
     "output_type": "execute_result"
    }
   ],
   "source": [
    "emp2.bonuscalculator()"
   ]
  },
  {
   "cell_type": "code",
   "execution_count": null,
   "id": "414d3dbb",
   "metadata": {},
   "outputs": [],
   "source": []
  }
 ],
 "metadata": {
  "kernelspec": {
   "display_name": "Python 3 (ipykernel)",
   "language": "python",
   "name": "python3"
  },
  "language_info": {
   "codemirror_mode": {
    "name": "ipython",
    "version": 3
   },
   "file_extension": ".py",
   "mimetype": "text/x-python",
   "name": "python",
   "nbconvert_exporter": "python",
   "pygments_lexer": "ipython3",
   "version": "3.9.12"
  }
 },
 "nbformat": 4,
 "nbformat_minor": 5
}
