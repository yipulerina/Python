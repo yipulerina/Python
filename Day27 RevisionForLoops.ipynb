{
 "cells": [
  {
   "cell_type": "code",
   "execution_count": 1,
   "id": "5e040134",
   "metadata": {},
   "outputs": [
    {
     "data": {
      "text/plain": [
       "16"
      ]
     },
     "execution_count": 1,
     "metadata": {},
     "output_type": "execute_result"
    }
   ],
   "source": [
    "s = \"sjhfeal ajga agr\"\n",
    "len(s)"
   ]
  },
  {
   "cell_type": "code",
   "execution_count": 2,
   "id": "49a188c0",
   "metadata": {},
   "outputs": [
    {
     "name": "stdout",
     "output_type": "stream",
     "text": [
      "16\n"
     ]
    }
   ],
   "source": [
    "count = 0\n",
    "for i in s:\n",
    "        count+=1\n",
    "print(count)\n"
   ]
  },
  {
   "cell_type": "code",
   "execution_count": 3,
   "id": "f21b02af",
   "metadata": {},
   "outputs": [
    {
     "name": "stdout",
     "output_type": "stream",
     "text": [
      "15 r\n",
      "14 g\n",
      "13 a\n",
      "12  \n",
      "11 a\n",
      "10 g\n",
      "9 j\n",
      "8 a\n",
      "7  \n",
      "6 l\n",
      "5 a\n",
      "4 e\n",
      "3 f\n",
      "2 h\n",
      "1 j\n",
      "0 s\n"
     ]
    }
   ],
   "source": [
    "for i in range(len(s)-1, -1,-1):\n",
    "    print(i, s[i])"
   ]
  },
  {
   "cell_type": "code",
   "execution_count": 4,
   "id": "e3016262",
   "metadata": {},
   "outputs": [
    {
     "name": "stdout",
     "output_type": "stream",
     "text": [
      "r g a   a g j a   l a e f h j s "
     ]
    }
   ],
   "source": [
    "i = len(s)-1\n",
    "\n",
    "while (i>=0):\n",
    "    print(s[i], end=\" \")\n",
    "    i = i-1"
   ]
  },
  {
   "cell_type": "code",
   "execution_count": 5,
   "id": "a04f0ca3",
   "metadata": {},
   "outputs": [
    {
     "name": "stdout",
     "output_type": "stream",
     "text": [
      "s is not a vowel\n",
      "o is a vowel\n",
      "m is not a vowel\n",
      "e is a vowel\n",
      "b is not a vowel\n",
      "o is a vowel\n",
      "d is not a vowel\n",
      "y is not a vowel\n",
      "i is a vowel\n",
      "s is not a vowel\n",
      "m is not a vowel\n",
      "e is a vowel\n"
     ]
    }
   ],
   "source": [
    "s = \"somebodyisme\"\n",
    "v = \"aAeEiIoOuU\"\n",
    "\n",
    "for i in s:\n",
    "    if i in v:\n",
    "        print(f\"{i} is a vowel\")\n",
    "    else:\n",
    "        print(f\"{i} is not a vowel\")"
   ]
  },
  {
   "cell_type": "code",
   "execution_count": 6,
   "id": "3fad1f93",
   "metadata": {},
   "outputs": [
    {
     "name": "stdout",
     "output_type": "stream",
     "text": [
      "eye\n",
      "not a palyndrome\n"
     ]
    }
   ],
   "source": [
    "y = input()\n",
    "v == y[::-1]\n",
    "if y == v:\n",
    "    print( \"palindrome\")\n",
    "else:\n",
    "    print(\"not a palyndrome\")\n",
    "    "
   ]
  },
  {
   "cell_type": "code",
   "execution_count": 7,
   "id": "0e1c95a3",
   "metadata": {},
   "outputs": [
    {
     "name": "stdout",
     "output_type": "stream",
     "text": [
      "eye\n",
      "palindrome\n"
     ]
    }
   ],
   "source": [
    "s = input()\n",
    "f = \"\"\n",
    "i = len(s)-1\n",
    "\n",
    "while (i>=0):\n",
    "    f = f +s[i]\n",
    "    i = i-1\n",
    "if (s==f):\n",
    "    print(\"palindrome\")\n",
    "else:\n",
    "    print(\"not palindrome\")"
   ]
  },
  {
   "cell_type": "code",
   "execution_count": 8,
   "id": "f605c643",
   "metadata": {},
   "outputs": [
    {
     "name": "stdout",
     "output_type": "stream",
     "text": [
      "palindrome\n",
      "palindrome\n",
      "palindrome\n"
     ]
    }
   ],
   "source": [
    "w = \"eye\"\n",
    "\n",
    "for i in range(len(w)):\n",
    "    if w[i]!= w[len(w)-i-1]:\n",
    "        print(\"not palindrome\")\n",
    "        break\n",
    "    else:\n",
    "        print('palindrome')\n",
    "    "
   ]
  },
  {
   "cell_type": "code",
   "execution_count": 9,
   "id": "0b8c90d4",
   "metadata": {},
   "outputs": [
    {
     "name": "stdout",
     "output_type": "stream",
     "text": [
      "no\n"
     ]
    }
   ],
   "source": [
    "x =\"no\"\n",
    "\n",
    "w = \"\"\n",
    "\n",
    "for i in x:\n",
    "    w = i+w\n",
    "\n",
    "if (x==w):\n",
    "    print(\"yes\")\n",
    "else:\n",
    "    print(\"no\")"
   ]
  },
  {
   "cell_type": "code",
   "execution_count": 10,
   "id": "af05e544",
   "metadata": {},
   "outputs": [],
   "source": [
    "d =  {\"india\" : \"IN\",\n",
    "    \"canada\": \"CA\",\n",
    "    \"china\": \"CH\",\n",
    "     \"united states\": \"US\"\n",
    "}"
   ]
  },
  {
   "cell_type": "code",
   "execution_count": 11,
   "id": "5b52dab3",
   "metadata": {},
   "outputs": [],
   "source": [
    "l_big =[]\n",
    "l_small = []\n",
    "\n",
    "for i in d:\n",
    "    if len(i)<= 5:\n",
    "        l_small.append(i)\n",
    "    else:\n",
    "        l_big.append(i)"
   ]
  },
  {
   "cell_type": "code",
   "execution_count": 12,
   "id": "18feb3ef",
   "metadata": {},
   "outputs": [
    {
     "data": {
      "text/plain": [
       "['canada', 'united states']"
      ]
     },
     "execution_count": 12,
     "metadata": {},
     "output_type": "execute_result"
    }
   ],
   "source": [
    "l_big"
   ]
  },
  {
   "cell_type": "code",
   "execution_count": 13,
   "id": "0a6d0396",
   "metadata": {},
   "outputs": [
    {
     "data": {
      "text/plain": [
       "['india', 'china']"
      ]
     },
     "execution_count": 13,
     "metadata": {},
     "output_type": "execute_result"
    }
   ],
   "source": [
    "l_small"
   ]
  },
  {
   "cell_type": "code",
   "execution_count": 14,
   "id": "af119179",
   "metadata": {},
   "outputs": [],
   "source": [
    "d_1 = {\"here\": {\n",
    "                    \"a\":11,\n",
    "                    \"b\":12,\n",
    "                    \"c\":13,    \n",
    "                },\n",
    "       \n",
    "       \"none\": {\n",
    "           \"d\":14,\n",
    "           \"e\":15,\n",
    "           \"f\":16\n",
    "       }\n",
    "\n",
    "}"
   ]
  },
  {
   "cell_type": "code",
   "execution_count": 15,
   "id": "a774d8a3",
   "metadata": {},
   "outputs": [
    {
     "data": {
      "text/plain": [
       "{'here': {'a': 11, 'b': 12, 'c': 13}, 'none': {'d': 14, 'e': 15, 'f': 16}}"
      ]
     },
     "execution_count": 15,
     "metadata": {},
     "output_type": "execute_result"
    }
   ],
   "source": [
    "d_1"
   ]
  },
  {
   "cell_type": "code",
   "execution_count": 16,
   "id": "0e9c0522",
   "metadata": {},
   "outputs": [
    {
     "name": "stdout",
     "output_type": "stream",
     "text": [
      "13\n",
      "16\n"
     ]
    }
   ],
   "source": [
    "\n",
    "\n",
    "for i in d_1.values():\n",
    "    print(max(i.values()))\n",
    "   \n",
    "    "
   ]
  },
  {
   "cell_type": "code",
   "execution_count": 17,
   "id": "0a5a600f",
   "metadata": {},
   "outputs": [
    {
     "name": "stdout",
     "output_type": "stream",
     "text": [
      "13\n",
      "16\n"
     ]
    }
   ],
   "source": [
    "l=[]\n",
    "\n",
    "for i in d_1.values():\n",
    "    for j in i.values():\n",
    "        l.append(j)\n",
    "    print(max(l))"
   ]
  },
  {
   "cell_type": "code",
   "execution_count": 18,
   "id": "6bb74fd2",
   "metadata": {
    "scrolled": true
   },
   "outputs": [
    {
     "name": "stdout",
     "output_type": "stream",
     "text": [
      "13\n",
      "16\n"
     ]
    }
   ],
   "source": [
    "for i in d_1.values():\n",
    "    mx=0\n",
    "    for j in i.values():\n",
    "        if mx < j:\n",
    "            mx = j\n",
    "    print(mx)"
   ]
  },
  {
   "cell_type": "code",
   "execution_count": 25,
   "id": "6b858d8f",
   "metadata": {},
   "outputs": [
    {
     "name": "stdout",
     "output_type": "stream",
     "text": [
      "13\n",
      "16\n"
     ]
    }
   ],
   "source": [
    "for i in d_1.keys():\n",
    "    print(max(d_1[i].values()))"
   ]
  },
  {
   "cell_type": "code",
   "execution_count": 45,
   "id": "1046e5d3",
   "metadata": {},
   "outputs": [],
   "source": [
    "d1 = {\"here\": {\"a\":11,\"b\":12, \"c\":13 },\n",
    "       \"none\": {\"d\":14,\"e\":15,\"f\":16},\n",
    "       \"g\": 4+7j,\n",
    "       \"k\":[12,34,54,65],\n",
    "       \"i\": (1,2,3,4),\n",
    "       \"k\":\"phew\"\n",
    "}"
   ]
  },
  {
   "cell_type": "code",
   "execution_count": 47,
   "id": "40086079",
   "metadata": {},
   "outputs": [
    {
     "data": {
      "text/plain": [
       "16"
      ]
     },
     "execution_count": 47,
     "metadata": {},
     "output_type": "execute_result"
    }
   ],
   "source": [
    "\n",
    "l = []\n",
    "\n",
    "for i in d1.values():\n",
    "    if type(i)!= str and type(i)!= complex:\n",
    "        if type(i)== list or type(i)== tuple or type(i)== set or type(i)== int:\n",
    "            l.extend(list(i))\n",
    "        elif type(i)== dict:\n",
    "            for j in i.values():\n",
    "                l.append(j)\n",
    "                \n",
    "max(l)\n",
    "\n",
    "\n",
    "    \n",
    "\n"
   ]
  },
  {
   "cell_type": "code",
   "execution_count": 50,
   "id": "29baa2d1",
   "metadata": {},
   "outputs": [
    {
     "name": "stdout",
     "output_type": "stream",
     "text": [
      "16\n"
     ]
    }
   ],
   "source": [
    "out =[]\n",
    "for k, v in d1.items():\n",
    "        if type(v)== dict:\n",
    "            out.extend(list(v. values()))\n",
    "        elif type(v)== int:\n",
    "            out.append(v)\n",
    "        elif type(v)== list:\n",
    "            out.append(max(v))\n",
    "        elif type(v)==tuple:\n",
    "            out.append(max(v))\n",
    "        else:\n",
    "            pass\n",
    "print (max(out))"
   ]
  },
  {
   "cell_type": "code",
   "execution_count": 52,
   "id": "d264e885",
   "metadata": {},
   "outputs": [],
   "source": [
    "def test(a):\n",
    "    n=[]\n",
    "    if type(a)== list:\n",
    "        for i in a:\n",
    "            if type(i)== int:\n",
    "                n.append(i)\n",
    "            elif type(i) == list:\n",
    "                for j in i:\n",
    "                    if type(j)== int:\n",
    "                        n.append(j)\n",
    "    return n\n",
    "        "
   ]
  },
  {
   "cell_type": "code",
   "execution_count": 51,
   "id": "a3f28985",
   "metadata": {},
   "outputs": [],
   "source": [
    "l= [1,2,3,\"here\",[1,2,34], [12,\"no\"]]"
   ]
  },
  {
   "cell_type": "code",
   "execution_count": 53,
   "id": "112cb677",
   "metadata": {},
   "outputs": [
    {
     "data": {
      "text/plain": [
       "[1, 2, 3, 1, 2, 34, 12]"
      ]
     },
     "execution_count": 53,
     "metadata": {},
     "output_type": "execute_result"
    }
   ],
   "source": [
    "test(l)"
   ]
  },
  {
   "cell_type": "code",
   "execution_count": 54,
   "id": "a94e51dc",
   "metadata": {},
   "outputs": [],
   "source": [
    "def test1(a):\n",
    "    if type(a)==dict:\n",
    "        return a.keys()\n",
    "    else:\n",
    "        print(\"you have not passed a dict\")"
   ]
  },
  {
   "cell_type": "code",
   "execution_count": 55,
   "id": "ed7890cc",
   "metadata": {},
   "outputs": [
    {
     "name": "stdout",
     "output_type": "stream",
     "text": [
      "you have not passed a dict\n"
     ]
    }
   ],
   "source": [
    "test1(l)"
   ]
  },
  {
   "cell_type": "code",
   "execution_count": 56,
   "id": "d1ed4351",
   "metadata": {},
   "outputs": [
    {
     "data": {
      "text/plain": [
       "dict_keys(['here', 'none', 'g', 'k', 'i'])"
      ]
     },
     "execution_count": 56,
     "metadata": {},
     "output_type": "execute_result"
    }
   ],
   "source": [
    "test1(d1)"
   ]
  },
  {
   "cell_type": "code",
   "execution_count": 58,
   "id": "ee13de14",
   "metadata": {},
   "outputs": [],
   "source": [
    "def test2(a,b):\n",
    "    if type(a)== list and type(b)== list:\n",
    "        return a.extend(b)\n",
    "    else:\n",
    "        return \"either of your data is not a list\""
   ]
  },
  {
   "cell_type": "code",
   "execution_count": 60,
   "id": "e4d5cf37",
   "metadata": {},
   "outputs": [
    {
     "data": {
      "text/plain": [
       "'either of your data is not a list'"
      ]
     },
     "execution_count": 60,
     "metadata": {},
     "output_type": "execute_result"
    }
   ],
   "source": [
    "test2(1234, 234)"
   ]
  },
  {
   "cell_type": "code",
   "execution_count": 64,
   "id": "164f1cb0",
   "metadata": {},
   "outputs": [
    {
     "data": {
      "text/plain": [
       "[1, 23, 3, 2, 35, 5]"
      ]
     },
     "execution_count": 64,
     "metadata": {},
     "output_type": "execute_result"
    }
   ],
   "source": [
    "a = [1,23,3]\n",
    "b=[2,35,5]\n",
    "\n",
    "test2(a,b)\n",
    "a"
   ]
  },
  {
   "cell_type": "code",
   "execution_count": 65,
   "id": "c7af8216",
   "metadata": {},
   "outputs": [],
   "source": [
    "def test2(a,b):\n",
    "    if type(a)== list and type(b)== list:\n",
    "        a.extend(b)\n",
    "        return a\n",
    "    else:\n",
    "        return \"either of your data is not a list\""
   ]
  },
  {
   "cell_type": "code",
   "execution_count": 66,
   "id": "75c82924",
   "metadata": {},
   "outputs": [
    {
     "data": {
      "text/plain": [
       "[1, 23, 3, 2, 35, 5, 2, 35, 5]"
      ]
     },
     "execution_count": 66,
     "metadata": {},
     "output_type": "execute_result"
    }
   ],
   "source": [
    "test2(a,b)"
   ]
  },
  {
   "cell_type": "code",
   "execution_count": 67,
   "id": "c17c3736",
   "metadata": {},
   "outputs": [
    {
     "data": {
      "text/plain": [
       "[1, 2, 3, 4, 234, 56]"
      ]
     },
     "execution_count": 67,
     "metadata": {},
     "output_type": "execute_result"
    }
   ],
   "source": [
    "test2([1,2,3,4],[234,56])"
   ]
  },
  {
   "cell_type": "code",
   "execution_count": 70,
   "id": "42290593",
   "metadata": {},
   "outputs": [],
   "source": [
    "def test3(n):\n",
    "    for i in range(0,n):\n",
    "        for j in range(0,i+1):\n",
    "            print(\"*\", end=\"\")\n",
    "        print(\"\\r\")"
   ]
  },
  {
   "cell_type": "code",
   "execution_count": 71,
   "id": "0290fe89",
   "metadata": {},
   "outputs": [
    {
     "name": "stdout",
     "output_type": "stream",
     "text": [
      "*\r\n",
      "**\r\n",
      "***\r\n",
      "****\r\n"
     ]
    }
   ],
   "source": [
    "test3(4)"
   ]
  },
  {
   "cell_type": "code",
   "execution_count": 95,
   "id": "88a21c42",
   "metadata": {},
   "outputs": [],
   "source": [
    "def triangle(n):\n",
    "    \"\"\" this is function to have fun and create a triangle and most importantly waste your time\"\"\"\n",
    "    k = n-1\n",
    "    \n",
    "    for i in range(0,n):\n",
    "        \n",
    "        for j in range(0,k):\n",
    "            print(end=\" \")\n",
    "        \n",
    "        k = k-1\n",
    "        \n",
    "        for j in range(0,i+1):\n",
    "            print(\"* \", end=\"\")\n",
    "            \n",
    "        print(\"\\n\")"
   ]
  },
  {
   "cell_type": "code",
   "execution_count": 96,
   "id": "d7f6bd52",
   "metadata": {},
   "outputs": [
    {
     "name": "stdout",
     "output_type": "stream",
     "text": [
      "         * \n",
      "\n",
      "        * * \n",
      "\n",
      "       * * * \n",
      "\n",
      "      * * * * \n",
      "\n",
      "     * * * * * \n",
      "\n",
      "    * * * * * * \n",
      "\n",
      "   * * * * * * * \n",
      "\n",
      "  * * * * * * * * \n",
      "\n",
      " * * * * * * * * * \n",
      "\n",
      "* * * * * * * * * * \n",
      "\n"
     ]
    }
   ],
   "source": [
    "triangle(10)"
   ]
  },
  {
   "cell_type": "code",
   "execution_count": 100,
   "id": "7fe5604f",
   "metadata": {},
   "outputs": [
    {
     "data": {
      "text/plain": [
       "'\\nJust do it!\\n\\n'"
      ]
     },
     "execution_count": 100,
     "metadata": {},
     "output_type": "execute_result"
    }
   ],
   "source": [
    "\"\"\"\n",
    "Just do it!\n",
    "\n",
    "\"\"\""
   ]
  },
  {
   "cell_type": "code",
   "execution_count": null,
   "id": "b257ecc1",
   "metadata": {},
   "outputs": [],
   "source": []
  },
  {
   "cell_type": "code",
   "execution_count": null,
   "id": "10bebbf9",
   "metadata": {},
   "outputs": [],
   "source": []
  },
  {
   "cell_type": "code",
   "execution_count": null,
   "id": "8577b1f8",
   "metadata": {},
   "outputs": [],
   "source": []
  },
  {
   "cell_type": "code",
   "execution_count": null,
   "id": "e7c61479",
   "metadata": {},
   "outputs": [],
   "source": []
  }
 ],
 "metadata": {
  "kernelspec": {
   "display_name": "Python 3 (ipykernel)",
   "language": "python",
   "name": "python3"
  },
  "language_info": {
   "codemirror_mode": {
    "name": "ipython",
    "version": 3
   },
   "file_extension": ".py",
   "mimetype": "text/x-python",
   "name": "python",
   "nbconvert_exporter": "python",
   "pygments_lexer": "ipython3",
   "version": "3.9.12"
  }
 },
 "nbformat": 4,
 "nbformat_minor": 5
}
