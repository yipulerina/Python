{
 "cells": [
  {
   "cell_type": "markdown",
   "id": "7cc75a60",
   "metadata": {},
   "source": [
    "### Tuples"
   ]
  },
  {
   "cell_type": "code",
   "execution_count": 1,
   "id": "b7c9c03b",
   "metadata": {},
   "outputs": [],
   "source": [
    "t= (1,2,3,4,5)"
   ]
  },
  {
   "cell_type": "code",
   "execution_count": 2,
   "id": "f46d2808",
   "metadata": {},
   "outputs": [
    {
     "data": {
      "text/plain": [
       "tuple"
      ]
     },
     "execution_count": 2,
     "metadata": {},
     "output_type": "execute_result"
    }
   ],
   "source": [
    "type(t)"
   ]
  },
  {
   "cell_type": "code",
   "execution_count": 4,
   "id": "c159c366",
   "metadata": {},
   "outputs": [],
   "source": [
    "t1= (\"human\", 345, 45+4j, 54.5, True)"
   ]
  },
  {
   "cell_type": "code",
   "execution_count": 5,
   "id": "5646698e",
   "metadata": {},
   "outputs": [],
   "source": [
    "f= [\"human\", 345, 45+4j, 54.5, True]"
   ]
  },
  {
   "cell_type": "code",
   "execution_count": 6,
   "id": "6628c339",
   "metadata": {},
   "outputs": [
    {
     "data": {
      "text/plain": [
       "tuple"
      ]
     },
     "execution_count": 6,
     "metadata": {},
     "output_type": "execute_result"
    }
   ],
   "source": [
    "type(t1)"
   ]
  },
  {
   "cell_type": "code",
   "execution_count": 7,
   "id": "ca4f73fa",
   "metadata": {},
   "outputs": [
    {
     "data": {
      "text/plain": [
       "list"
      ]
     },
     "execution_count": 7,
     "metadata": {},
     "output_type": "execute_result"
    }
   ],
   "source": [
    "type(f)"
   ]
  },
  {
   "cell_type": "markdown",
   "id": "023405c0",
   "metadata": {},
   "source": [
    "slicing functions are same in both tuple and list"
   ]
  },
  {
   "cell_type": "code",
   "execution_count": 8,
   "id": "d10464ec",
   "metadata": {},
   "outputs": [
    {
     "data": {
      "text/plain": [
       "('human', 345)"
      ]
     },
     "execution_count": 8,
     "metadata": {},
     "output_type": "execute_result"
    }
   ],
   "source": [
    "t1[0:2]"
   ]
  },
  {
   "cell_type": "code",
   "execution_count": 9,
   "id": "5a05779d",
   "metadata": {},
   "outputs": [
    {
     "data": {
      "text/plain": [
       "['human', 345]"
      ]
     },
     "execution_count": 9,
     "metadata": {},
     "output_type": "execute_result"
    }
   ],
   "source": [
    "f[0:2]"
   ]
  },
  {
   "cell_type": "code",
   "execution_count": 10,
   "id": "09430678",
   "metadata": {},
   "outputs": [
    {
     "data": {
      "text/plain": [
       "(True, 54.5, (45+4j), 345, 'human')"
      ]
     },
     "execution_count": 10,
     "metadata": {},
     "output_type": "execute_result"
    }
   ],
   "source": [
    "t1[::-1]"
   ]
  },
  {
   "cell_type": "code",
   "execution_count": 11,
   "id": "01e5977b",
   "metadata": {},
   "outputs": [
    {
     "data": {
      "text/plain": [
       "[True, 54.5, (45+4j), 345, 'human']"
      ]
     },
     "execution_count": 11,
     "metadata": {},
     "output_type": "execute_result"
    }
   ],
   "source": [
    "f[::-1]"
   ]
  },
  {
   "cell_type": "code",
   "execution_count": 12,
   "id": "1329a155",
   "metadata": {},
   "outputs": [
    {
     "data": {
      "text/plain": [
       "True"
      ]
     },
     "execution_count": 12,
     "metadata": {},
     "output_type": "execute_result"
    }
   ],
   "source": [
    "f[-1]"
   ]
  },
  {
   "cell_type": "code",
   "execution_count": 13,
   "id": "3c89649c",
   "metadata": {},
   "outputs": [
    {
     "data": {
      "text/plain": [
       "'human'"
      ]
     },
     "execution_count": 13,
     "metadata": {},
     "output_type": "execute_result"
    }
   ],
   "source": [
    "t1[0]"
   ]
  },
  {
   "cell_type": "markdown",
   "id": "cb5ba2ac",
   "metadata": {},
   "source": [
    "Tuples are immutable"
   ]
  },
  {
   "cell_type": "code",
   "execution_count": 15,
   "id": "3090ee14",
   "metadata": {},
   "outputs": [
    {
     "ename": "TypeError",
     "evalue": "'tuple' object does not support item assignment",
     "output_type": "error",
     "traceback": [
      "\u001b[1;31m---------------------------------------------------------------------------\u001b[0m",
      "\u001b[1;31mTypeError\u001b[0m                                 Traceback (most recent call last)",
      "Input \u001b[1;32mIn [15]\u001b[0m, in \u001b[0;36m<cell line: 1>\u001b[1;34m()\u001b[0m\n\u001b[1;32m----> 1\u001b[0m t1[\u001b[38;5;241m0\u001b[39m]\u001b[38;5;241m=\u001b[39m\u001b[38;5;124m\"\u001b[39m\u001b[38;5;124mnobody\u001b[39m\u001b[38;5;124m\"\u001b[39m\n",
      "\u001b[1;31mTypeError\u001b[0m: 'tuple' object does not support item assignment"
     ]
    }
   ],
   "source": [
    "t1[0]=\"nobody\""
   ]
  },
  {
   "cell_type": "code",
   "execution_count": 16,
   "id": "ad045a2e",
   "metadata": {},
   "outputs": [],
   "source": [
    "f[0]= \"nobody\""
   ]
  },
  {
   "cell_type": "code",
   "execution_count": 17,
   "id": "74deabe5",
   "metadata": {},
   "outputs": [
    {
     "data": {
      "text/plain": [
       "('human', 345, (45+4j), 54.5, True)"
      ]
     },
     "execution_count": 17,
     "metadata": {},
     "output_type": "execute_result"
    }
   ],
   "source": [
    "t1"
   ]
  },
  {
   "cell_type": "code",
   "execution_count": 18,
   "id": "e5ee9c66",
   "metadata": {},
   "outputs": [
    {
     "data": {
      "text/plain": [
       "['nobody', 345, (45+4j), 54.5, True]"
      ]
     },
     "execution_count": 18,
     "metadata": {},
     "output_type": "execute_result"
    }
   ],
   "source": [
    "f"
   ]
  },
  {
   "cell_type": "markdown",
   "id": "f162647b",
   "metadata": {},
   "source": [
    "Appending works with tuples"
   ]
  },
  {
   "cell_type": "code",
   "execution_count": 19,
   "id": "4fd5095b",
   "metadata": {},
   "outputs": [],
   "source": [
    "t2 = (1,2,3,4,5)"
   ]
  },
  {
   "cell_type": "code",
   "execution_count": 20,
   "id": "150094c7",
   "metadata": {},
   "outputs": [
    {
     "data": {
      "text/plain": [
       "('human', 345, (45+4j), 54.5, True, 1, 2, 3, 4, 5)"
      ]
     },
     "execution_count": 20,
     "metadata": {},
     "output_type": "execute_result"
    }
   ],
   "source": [
    "t1+t2"
   ]
  },
  {
   "cell_type": "code",
   "execution_count": 21,
   "id": "9309506d",
   "metadata": {},
   "outputs": [
    {
     "data": {
      "text/plain": [
       "('human', 345, (45+4j), 54.5, True, 'human', 345, (45+4j), 54.5, True)"
      ]
     },
     "execution_count": 21,
     "metadata": {},
     "output_type": "execute_result"
    }
   ],
   "source": [
    "t1*2"
   ]
  },
  {
   "cell_type": "markdown",
   "id": "c5a88dd3",
   "metadata": {},
   "source": [
    "Only a few functions works with tuple i.e, count and index"
   ]
  },
  {
   "cell_type": "code",
   "execution_count": 22,
   "id": "5c6a4a95",
   "metadata": {},
   "outputs": [
    {
     "data": {
      "text/plain": [
       "('human', 345, (45+4j), 54.5, True)"
      ]
     },
     "execution_count": 22,
     "metadata": {},
     "output_type": "execute_result"
    }
   ],
   "source": [
    "t1"
   ]
  },
  {
   "cell_type": "code",
   "execution_count": 24,
   "id": "71d7ad10",
   "metadata": {},
   "outputs": [
    {
     "data": {
      "text/plain": [
       "1"
      ]
     },
     "execution_count": 24,
     "metadata": {},
     "output_type": "execute_result"
    }
   ],
   "source": [
    "t1.count(\"human\")"
   ]
  },
  {
   "cell_type": "code",
   "execution_count": 25,
   "id": "49129b44",
   "metadata": {},
   "outputs": [
    {
     "data": {
      "text/plain": [
       "0"
      ]
     },
     "execution_count": 25,
     "metadata": {},
     "output_type": "execute_result"
    }
   ],
   "source": [
    "t1.index('human')"
   ]
  },
  {
   "cell_type": "code",
   "execution_count": 26,
   "id": "af89d6a8",
   "metadata": {},
   "outputs": [],
   "source": [
    "t = (1,2,3,4,5,(1,2,3),(\"you\"))"
   ]
  },
  {
   "cell_type": "code",
   "execution_count": 27,
   "id": "9816c979",
   "metadata": {},
   "outputs": [
    {
     "data": {
      "text/plain": [
       "(1, 2, 3, 4, 5, (1, 2, 3), 'you')"
      ]
     },
     "execution_count": 27,
     "metadata": {},
     "output_type": "execute_result"
    }
   ],
   "source": [
    "t"
   ]
  },
  {
   "cell_type": "code",
   "execution_count": 28,
   "id": "408f0338",
   "metadata": {},
   "outputs": [],
   "source": [
    "t1 = ([3,4,5,6],(\"s\",54,453),\"no\")"
   ]
  },
  {
   "cell_type": "code",
   "execution_count": 29,
   "id": "96e8b9e0",
   "metadata": {},
   "outputs": [
    {
     "data": {
      "text/plain": [
       "([3, 4, 5, 6], ('s', 54, 453), 'no')"
      ]
     },
     "execution_count": 29,
     "metadata": {},
     "output_type": "execute_result"
    }
   ],
   "source": [
    "t1"
   ]
  },
  {
   "cell_type": "markdown",
   "id": "a06d607a",
   "metadata": {},
   "source": [
    "Item reassignment is possible inside tuple with an element that supports mutability"
   ]
  },
  {
   "cell_type": "code",
   "execution_count": 32,
   "id": "1790e8da",
   "metadata": {},
   "outputs": [],
   "source": [
    "t1[0][2]=\"no\""
   ]
  },
  {
   "cell_type": "code",
   "execution_count": 33,
   "id": "a29c2f8d",
   "metadata": {},
   "outputs": [
    {
     "data": {
      "text/plain": [
       "([3, 4, 'no', 6], ('s', 54, 453), 'no')"
      ]
     },
     "execution_count": 33,
     "metadata": {},
     "output_type": "execute_result"
    }
   ],
   "source": [
    "t1"
   ]
  },
  {
   "cell_type": "code",
   "execution_count": 34,
   "id": "43d5d172",
   "metadata": {},
   "outputs": [],
   "source": [
    "t2 = (0,[54,6,6,7])"
   ]
  },
  {
   "cell_type": "code",
   "execution_count": 35,
   "id": "eb13eb36",
   "metadata": {},
   "outputs": [
    {
     "data": {
      "text/plain": [
       "([3, 4, 'no', 6], ('s', 54, 453), 'no', 0, [54, 6, 6, 7])"
      ]
     },
     "execution_count": 35,
     "metadata": {},
     "output_type": "execute_result"
    }
   ],
   "source": [
    "t1+t2"
   ]
  },
  {
   "cell_type": "code",
   "execution_count": 36,
   "id": "f8313197",
   "metadata": {},
   "outputs": [
    {
     "data": {
      "text/plain": [
       "([3, 4, 'no', 6], ('s', 54, 453), 'no')"
      ]
     },
     "execution_count": 36,
     "metadata": {},
     "output_type": "execute_result"
    }
   ],
   "source": [
    "tuple(t1)"
   ]
  },
  {
   "cell_type": "markdown",
   "id": "0ace6811",
   "metadata": {},
   "source": [
    "### Set"
   ]
  },
  {
   "cell_type": "code",
   "execution_count": 37,
   "id": "fcf059d6",
   "metadata": {},
   "outputs": [],
   "source": [
    "l = [1,2,3,4,5,1,2,3,4,5,6,1,3,2,4,5]"
   ]
  },
  {
   "cell_type": "code",
   "execution_count": 39,
   "id": "3f997858",
   "metadata": {},
   "outputs": [
    {
     "data": {
      "text/plain": [
       "{1, 2, 3, 4, 5, 6}"
      ]
     },
     "execution_count": 39,
     "metadata": {},
     "output_type": "execute_result"
    }
   ],
   "source": [
    "set(l)"
   ]
  },
  {
   "cell_type": "code",
   "execution_count": 40,
   "id": "ead68eaa",
   "metadata": {},
   "outputs": [],
   "source": [
    "s={}"
   ]
  },
  {
   "cell_type": "code",
   "execution_count": 41,
   "id": "e14db645",
   "metadata": {},
   "outputs": [
    {
     "data": {
      "text/plain": [
       "dict"
      ]
     },
     "execution_count": 41,
     "metadata": {},
     "output_type": "execute_result"
    }
   ],
   "source": [
    "type(s)"
   ]
  },
  {
   "cell_type": "code",
   "execution_count": 42,
   "id": "e231f02c",
   "metadata": {},
   "outputs": [],
   "source": [
    "s1= {2,3,4}"
   ]
  },
  {
   "cell_type": "code",
   "execution_count": 43,
   "id": "50e8f703",
   "metadata": {},
   "outputs": [
    {
     "data": {
      "text/plain": [
       "set"
      ]
     },
     "execution_count": 43,
     "metadata": {},
     "output_type": "execute_result"
    }
   ],
   "source": [
    "type(s1)"
   ]
  },
  {
   "cell_type": "code",
   "execution_count": 44,
   "id": "1945d04f",
   "metadata": {},
   "outputs": [],
   "source": [
    "s2 = {1,2,3,1,1,1,2,2,2,3,3,6,6,5,5,4,4,4,5}"
   ]
  },
  {
   "cell_type": "code",
   "execution_count": 45,
   "id": "80445b28",
   "metadata": {},
   "outputs": [
    {
     "data": {
      "text/plain": [
       "{1, 2, 3, 4, 5, 6}"
      ]
     },
     "execution_count": 45,
     "metadata": {},
     "output_type": "execute_result"
    }
   ],
   "source": [
    "s2"
   ]
  },
  {
   "cell_type": "code",
   "execution_count": 46,
   "id": "4f1c9691",
   "metadata": {},
   "outputs": [
    {
     "ename": "TypeError",
     "evalue": "'set' object is not subscriptable",
     "output_type": "error",
     "traceback": [
      "\u001b[1;31m---------------------------------------------------------------------------\u001b[0m",
      "\u001b[1;31mTypeError\u001b[0m                                 Traceback (most recent call last)",
      "Input \u001b[1;32mIn [46]\u001b[0m, in \u001b[0;36m<cell line: 1>\u001b[1;34m()\u001b[0m\n\u001b[1;32m----> 1\u001b[0m \u001b[43ms2\u001b[49m\u001b[43m[\u001b[49m\u001b[38;5;241;43m0\u001b[39;49m\u001b[43m]\u001b[49m\n",
      "\u001b[1;31mTypeError\u001b[0m: 'set' object is not subscriptable"
     ]
    }
   ],
   "source": [
    "s2[0]"
   ]
  },
  {
   "cell_type": "code",
   "execution_count": 47,
   "id": "5324c745",
   "metadata": {},
   "outputs": [
    {
     "data": {
      "text/plain": [
       "[1, 2, 3, 4, 5, 6]"
      ]
     },
     "execution_count": 47,
     "metadata": {},
     "output_type": "execute_result"
    }
   ],
   "source": [
    "list(s2)"
   ]
  },
  {
   "cell_type": "code",
   "execution_count": 50,
   "id": "9c5baeba",
   "metadata": {},
   "outputs": [],
   "source": [
    "s2.add(123456)"
   ]
  },
  {
   "cell_type": "code",
   "execution_count": 51,
   "id": "b0fb1032",
   "metadata": {},
   "outputs": [
    {
     "data": {
      "text/plain": [
       "{1, 2, 3, 4, 5, 6, 123456}"
      ]
     },
     "execution_count": 51,
     "metadata": {},
     "output_type": "execute_result"
    }
   ],
   "source": [
    "s2"
   ]
  },
  {
   "cell_type": "markdown",
   "id": "c6d1d48d",
   "metadata": {},
   "source": [
    "set is an unordered collection"
   ]
  },
  {
   "cell_type": "code",
   "execution_count": 53,
   "id": "35c1b184",
   "metadata": {},
   "outputs": [
    {
     "ename": "TypeError",
     "evalue": "set.add() takes exactly one argument (2 given)",
     "output_type": "error",
     "traceback": [
      "\u001b[1;31m---------------------------------------------------------------------------\u001b[0m",
      "\u001b[1;31mTypeError\u001b[0m                                 Traceback (most recent call last)",
      "Input \u001b[1;32mIn [53]\u001b[0m, in \u001b[0;36m<cell line: 1>\u001b[1;34m()\u001b[0m\n\u001b[1;32m----> 1\u001b[0m \u001b[43ms2\u001b[49m\u001b[38;5;241;43m.\u001b[39;49m\u001b[43madd\u001b[49m\u001b[43m(\u001b[49m\u001b[38;5;241;43m12\u001b[39;49m\u001b[43m,\u001b[49m\u001b[43m[\u001b[49m\u001b[38;5;241;43m1\u001b[39;49m\u001b[43m,\u001b[49m\u001b[38;5;241;43m2\u001b[39;49m\u001b[43m,\u001b[49m\u001b[38;5;241;43m3\u001b[39;49m\u001b[43m,\u001b[49m\u001b[38;5;241;43m4\u001b[39;49m\u001b[43m]\u001b[49m\u001b[43m)\u001b[49m\n",
      "\u001b[1;31mTypeError\u001b[0m: set.add() takes exactly one argument (2 given)"
     ]
    }
   ],
   "source": [
    "s2.add(12,[1,2,3,4])"
   ]
  },
  {
   "cell_type": "code",
   "execution_count": 56,
   "id": "6ae9ac0a",
   "metadata": {},
   "outputs": [],
   "source": [
    "s= {(3,4,5,6),3,4,5}"
   ]
  },
  {
   "cell_type": "code",
   "execution_count": 55,
   "id": "b1f59646",
   "metadata": {},
   "outputs": [
    {
     "data": {
      "text/plain": [
       "{(3, 4, 5, 6), 3, 4, 5}"
      ]
     },
     "execution_count": 55,
     "metadata": {},
     "output_type": "execute_result"
    }
   ],
   "source": [
    "{(3,4,5,6),(3,4,5,6),3,4,5}"
   ]
  },
  {
   "cell_type": "code",
   "execution_count": 57,
   "id": "bc62e338",
   "metadata": {},
   "outputs": [
    {
     "data": {
      "text/plain": [
       "{(3, 4, 5, 6), 3, 4, 5}"
      ]
     },
     "execution_count": 57,
     "metadata": {},
     "output_type": "execute_result"
    }
   ],
   "source": [
    "s"
   ]
  },
  {
   "cell_type": "code",
   "execution_count": 58,
   "id": "25406fe8",
   "metadata": {},
   "outputs": [],
   "source": [
    "s.remove(4)"
   ]
  },
  {
   "cell_type": "code",
   "execution_count": 59,
   "id": "50f3d9fd",
   "metadata": {},
   "outputs": [
    {
     "data": {
      "text/plain": [
       "{(3, 4, 5, 6), 3, 5}"
      ]
     },
     "execution_count": 59,
     "metadata": {},
     "output_type": "execute_result"
    }
   ],
   "source": [
    "s"
   ]
  },
  {
   "cell_type": "code",
   "execution_count": 60,
   "id": "a7583907",
   "metadata": {},
   "outputs": [],
   "source": [
    "s.discard(5)"
   ]
  },
  {
   "cell_type": "code",
   "execution_count": 61,
   "id": "09902603",
   "metadata": {},
   "outputs": [
    {
     "data": {
      "text/plain": [
       "{(3, 4, 5, 6), 3}"
      ]
     },
     "execution_count": 61,
     "metadata": {},
     "output_type": "execute_result"
    }
   ],
   "source": [
    "s"
   ]
  },
  {
   "cell_type": "code",
   "execution_count": 62,
   "id": "e86816ee",
   "metadata": {},
   "outputs": [
    {
     "ename": "KeyError",
     "evalue": "45",
     "output_type": "error",
     "traceback": [
      "\u001b[1;31m---------------------------------------------------------------------------\u001b[0m",
      "\u001b[1;31mKeyError\u001b[0m                                  Traceback (most recent call last)",
      "Input \u001b[1;32mIn [62]\u001b[0m, in \u001b[0;36m<cell line: 1>\u001b[1;34m()\u001b[0m\n\u001b[1;32m----> 1\u001b[0m \u001b[43ms\u001b[49m\u001b[38;5;241;43m.\u001b[39;49m\u001b[43mremove\u001b[49m\u001b[43m(\u001b[49m\u001b[38;5;241;43m45\u001b[39;49m\u001b[43m)\u001b[49m\n",
      "\u001b[1;31mKeyError\u001b[0m: 45"
     ]
    }
   ],
   "source": [
    "s.remove(45)"
   ]
  },
  {
   "cell_type": "code",
   "execution_count": 63,
   "id": "64831b29",
   "metadata": {},
   "outputs": [],
   "source": [
    "s.discard(45)"
   ]
  },
  {
   "cell_type": "code",
   "execution_count": 64,
   "id": "a400b49b",
   "metadata": {},
   "outputs": [
    {
     "data": {
      "text/plain": [
       "{(3, 4, 5, 6), 3}"
      ]
     },
     "execution_count": 64,
     "metadata": {},
     "output_type": "execute_result"
    }
   ],
   "source": [
    "s"
   ]
  },
  {
   "cell_type": "markdown",
   "id": "4cb7ba6b",
   "metadata": {},
   "source": [
    "Set is case sensitive"
   ]
  },
  {
   "cell_type": "code",
   "execution_count": 65,
   "id": "6bf584e8",
   "metadata": {},
   "outputs": [
    {
     "data": {
      "text/plain": [
       "{'you'}"
      ]
     },
     "execution_count": 65,
     "metadata": {},
     "output_type": "execute_result"
    }
   ],
   "source": [
    "{\"you\",\"you\"}"
   ]
  },
  {
   "cell_type": "code",
   "execution_count": 66,
   "id": "442b6810",
   "metadata": {},
   "outputs": [
    {
     "data": {
      "text/plain": [
       "{'You', 'you'}"
      ]
     },
     "execution_count": 66,
     "metadata": {},
     "output_type": "execute_result"
    }
   ],
   "source": [
    "{\"you\",\"You\"}"
   ]
  },
  {
   "cell_type": "markdown",
   "id": "b5c09c2e",
   "metadata": {},
   "source": [
    "### Dictionary"
   ]
  },
  {
   "cell_type": "code",
   "execution_count": 67,
   "id": "e43cb78e",
   "metadata": {},
   "outputs": [],
   "source": [
    "d={3,4}"
   ]
  },
  {
   "cell_type": "code",
   "execution_count": 68,
   "id": "84995dc9",
   "metadata": {},
   "outputs": [
    {
     "data": {
      "text/plain": [
       "set"
      ]
     },
     "execution_count": 68,
     "metadata": {},
     "output_type": "execute_result"
    }
   ],
   "source": [
    "type(d)"
   ]
  },
  {
   "cell_type": "code",
   "execution_count": 69,
   "id": "9f9f1ace",
   "metadata": {},
   "outputs": [],
   "source": [
    "d= {4:\"you\"}"
   ]
  },
  {
   "cell_type": "code",
   "execution_count": 70,
   "id": "5aeb6077",
   "metadata": {},
   "outputs": [],
   "source": [
    "d1 = {\"key1\": 568990, \"key2\" : \"you\",1: [3,4,5,6] }"
   ]
  },
  {
   "cell_type": "code",
   "execution_count": 71,
   "id": "80852035",
   "metadata": {},
   "outputs": [
    {
     "data": {
      "text/plain": [
       "{'key1': 568990, 'key2': 'you', 1: [3, 4, 5, 6]}"
      ]
     },
     "execution_count": 71,
     "metadata": {},
     "output_type": "execute_result"
    }
   ],
   "source": [
    "d1"
   ]
  },
  {
   "cell_type": "code",
   "execution_count": 72,
   "id": "6e37b6bf",
   "metadata": {},
   "outputs": [
    {
     "data": {
      "text/plain": [
       "568990"
      ]
     },
     "execution_count": 72,
     "metadata": {},
     "output_type": "execute_result"
    }
   ],
   "source": [
    "d1[\"key1\"]"
   ]
  },
  {
   "cell_type": "code",
   "execution_count": 75,
   "id": "1fd53a54",
   "metadata": {},
   "outputs": [
    {
     "data": {
      "text/plain": [
       "[3, 4, 5, 6]"
      ]
     },
     "execution_count": 75,
     "metadata": {},
     "output_type": "execute_result"
    }
   ],
   "source": [
    "d1[1]"
   ]
  },
  {
   "cell_type": "code",
   "execution_count": 76,
   "id": "aeb9415a",
   "metadata": {},
   "outputs": [],
   "source": [
    "d= {3: [\"sfd\", \"sfds\", 4,5,67,7,]}"
   ]
  },
  {
   "cell_type": "markdown",
   "id": "446fdd37",
   "metadata": {},
   "source": [
    "Special case characters do not work as a key"
   ]
  },
  {
   "cell_type": "code",
   "execution_count": 77,
   "id": "f7f9bd96",
   "metadata": {},
   "outputs": [
    {
     "ename": "SyntaxError",
     "evalue": "unexpected EOF while parsing (5235066.py, line 1)",
     "output_type": "error",
     "traceback": [
      "\u001b[1;36m  Input \u001b[1;32mIn [77]\u001b[1;36m\u001b[0m\n\u001b[1;33m    d= {#: [\"sfd\", \"sfds\", 4,5,67,7,]}\u001b[0m\n\u001b[1;37m                                      ^\u001b[0m\n\u001b[1;31mSyntaxError\u001b[0m\u001b[1;31m:\u001b[0m unexpected EOF while parsing\n"
     ]
    }
   ],
   "source": [
    "d= {#: [\"sfd\", \"sfds\", 4,5,67,7,]}"
   ]
  },
  {
   "cell_type": "code",
   "execution_count": 78,
   "id": "de3b3576",
   "metadata": {},
   "outputs": [
    {
     "ename": "NameError",
     "evalue": "name '_4' is not defined",
     "output_type": "error",
     "traceback": [
      "\u001b[1;31m---------------------------------------------------------------------------\u001b[0m",
      "\u001b[1;31mNameError\u001b[0m                                 Traceback (most recent call last)",
      "Input \u001b[1;32mIn [78]\u001b[0m, in \u001b[0;36m<cell line: 1>\u001b[1;34m()\u001b[0m\n\u001b[1;32m----> 1\u001b[0m d\u001b[38;5;241m=\u001b[39m {\u001b[43m_4\u001b[49m: [\u001b[38;5;124m\"\u001b[39m\u001b[38;5;124msfd\u001b[39m\u001b[38;5;124m\"\u001b[39m, \u001b[38;5;124m\"\u001b[39m\u001b[38;5;124msfds\u001b[39m\u001b[38;5;124m\"\u001b[39m, \u001b[38;5;241m4\u001b[39m,\u001b[38;5;241m5\u001b[39m,\u001b[38;5;241m67\u001b[39m,\u001b[38;5;241m7\u001b[39m,]}\n",
      "\u001b[1;31mNameError\u001b[0m: name '_4' is not defined"
     ]
    }
   ],
   "source": [
    "d= {_4: [\"sfd\", \"sfds\", 4,5,67,7,]}"
   ]
  },
  {
   "cell_type": "markdown",
   "id": "564fee63",
   "metadata": {},
   "source": [
    "decimals work as keys ex: .4"
   ]
  },
  {
   "cell_type": "code",
   "execution_count": 80,
   "id": "cc9816cb",
   "metadata": {},
   "outputs": [],
   "source": [
    "d= {.4:[\"sfd\", \"sfds\", 4,5,67,7,]}"
   ]
  },
  {
   "cell_type": "code",
   "execution_count": 83,
   "id": "9020a88b",
   "metadata": {},
   "outputs": [],
   "source": [
    "d= {\"Key\": {\"sfd\", \"sfds\", 4,5,67,7}}"
   ]
  },
  {
   "cell_type": "markdown",
   "id": "04c4c9fa",
   "metadata": {},
   "source": [
    "Key has to be unique"
   ]
  },
  {
   "cell_type": "code",
   "execution_count": 88,
   "id": "37d27df7",
   "metadata": {},
   "outputs": [],
   "source": [
    "d1 = {\"key1\": 568990, \"key2\" : 1231, \"key1\": [3,4,5,6] }"
   ]
  },
  {
   "cell_type": "code",
   "execution_count": 89,
   "id": "1c19ca28",
   "metadata": {},
   "outputs": [
    {
     "data": {
      "text/plain": [
       "[3, 4, 5, 6]"
      ]
     },
     "execution_count": 89,
     "metadata": {},
     "output_type": "execute_result"
    }
   ],
   "source": [
    "d1[\"key1\"]"
   ]
  },
  {
   "cell_type": "code",
   "execution_count": 90,
   "id": "6e2607ec",
   "metadata": {},
   "outputs": [],
   "source": [
    "d3= {\"++#@\": \"no\"}"
   ]
  },
  {
   "cell_type": "code",
   "execution_count": 91,
   "id": "d05c310d",
   "metadata": {},
   "outputs": [],
   "source": [
    "d4= {\"key1\": \"ahde@ke\", 123: \"email@gjaoe\", \"key2\": {1,2,3,4,5,6,3,3,2,2,}, \"key4\":[1,2,3,4,2,2,]}"
   ]
  },
  {
   "cell_type": "code",
   "execution_count": 92,
   "id": "831ee7cc",
   "metadata": {},
   "outputs": [
    {
     "data": {
      "text/plain": [
       "{'key1': 'ahde@ke',\n",
       " 123: 'email@gjaoe',\n",
       " 'key2': {1, 2, 3, 4, 5, 6},\n",
       " 'key4': [1, 2, 3, 4, 2, 2]}"
      ]
     },
     "execution_count": 92,
     "metadata": {},
     "output_type": "execute_result"
    }
   ],
   "source": [
    "d4"
   ]
  },
  {
   "cell_type": "code",
   "execution_count": 94,
   "id": "2ad3b5b0",
   "metadata": {},
   "outputs": [
    {
     "data": {
      "text/plain": [
       "2"
      ]
     },
     "execution_count": 94,
     "metadata": {},
     "output_type": "execute_result"
    }
   ],
   "source": [
    "d4[\"key4\"][4]"
   ]
  },
  {
   "cell_type": "code",
   "execution_count": 95,
   "id": "842435f7",
   "metadata": {},
   "outputs": [
    {
     "data": {
      "text/plain": [
       "dict_keys(['key1', 123, 'key2', 'key4'])"
      ]
     },
     "execution_count": 95,
     "metadata": {},
     "output_type": "execute_result"
    }
   ],
   "source": [
    "d4.keys()"
   ]
  },
  {
   "cell_type": "code",
   "execution_count": 97,
   "id": "3a2d6733",
   "metadata": {},
   "outputs": [
    {
     "data": {
      "text/plain": [
       "dict_values([{67, 4, 5, 'sfds', 7, 'sfd'}])"
      ]
     },
     "execution_count": 97,
     "metadata": {},
     "output_type": "execute_result"
    }
   ],
   "source": [
    "d.values()"
   ]
  },
  {
   "cell_type": "code",
   "execution_count": 98,
   "id": "fb7869b7",
   "metadata": {},
   "outputs": [
    {
     "data": {
      "text/plain": [
       "dict_items([('key1', 'ahde@ke'), (123, 'email@gjaoe'), ('key2', {1, 2, 3, 4, 5, 6}), ('key4', [1, 2, 3, 4, 2, 2])])"
      ]
     },
     "execution_count": 98,
     "metadata": {},
     "output_type": "execute_result"
    }
   ],
   "source": [
    "d4.items()"
   ]
  },
  {
   "cell_type": "code",
   "execution_count": 101,
   "id": "d1e8bb15",
   "metadata": {},
   "outputs": [],
   "source": [
    "d4[\"key3\"]= \"now\""
   ]
  },
  {
   "cell_type": "code",
   "execution_count": 102,
   "id": "7db046ce",
   "metadata": {},
   "outputs": [
    {
     "data": {
      "text/plain": [
       "{'key1': 'ahde@ke',\n",
       " 123: 'email@gjaoe',\n",
       " 'key2': {1, 2, 3, 4, 5, 6},\n",
       " 'key4': [1, 2, 3, 4, 2, 2],\n",
       " 'key3': 'now'}"
      ]
     },
     "execution_count": 102,
     "metadata": {},
     "output_type": "execute_result"
    }
   ],
   "source": [
    "d4"
   ]
  },
  {
   "cell_type": "code",
   "execution_count": 103,
   "id": "c863bed0",
   "metadata": {},
   "outputs": [],
   "source": [
    "d4[1] = [1,2,3,4,5]"
   ]
  },
  {
   "cell_type": "code",
   "execution_count": 104,
   "id": "07d5f3cd",
   "metadata": {},
   "outputs": [
    {
     "data": {
      "text/plain": [
       "{'key1': 'ahde@ke',\n",
       " 123: 'email@gjaoe',\n",
       " 'key2': {1, 2, 3, 4, 5, 6},\n",
       " 'key4': [1, 2, 3, 4, 2, 2],\n",
       " 'key3': 'now',\n",
       " 1: [1, 2, 3, 4, 5]}"
      ]
     },
     "execution_count": 104,
     "metadata": {},
     "output_type": "execute_result"
    }
   ],
   "source": [
    "d4"
   ]
  },
  {
   "cell_type": "code",
   "execution_count": 105,
   "id": "c49b2a8d",
   "metadata": {},
   "outputs": [],
   "source": [
    "d4[1]= \"jaljf\""
   ]
  },
  {
   "cell_type": "code",
   "execution_count": 106,
   "id": "4b52e65d",
   "metadata": {},
   "outputs": [
    {
     "data": {
      "text/plain": [
       "{'key1': 'ahde@ke',\n",
       " 123: 'email@gjaoe',\n",
       " 'key2': {1, 2, 3, 4, 5, 6},\n",
       " 'key4': [1, 2, 3, 4, 2, 2],\n",
       " 'key3': 'now',\n",
       " 1: 'jaljf'}"
      ]
     },
     "execution_count": 106,
     "metadata": {},
     "output_type": "execute_result"
    }
   ],
   "source": [
    "d4"
   ]
  },
  {
   "cell_type": "code",
   "execution_count": 107,
   "id": "5520343a",
   "metadata": {},
   "outputs": [],
   "source": [
    "del d4[1]"
   ]
  },
  {
   "cell_type": "code",
   "execution_count": 108,
   "id": "1c125c2c",
   "metadata": {},
   "outputs": [
    {
     "data": {
      "text/plain": [
       "{'key1': 'ahde@ke',\n",
       " 123: 'email@gjaoe',\n",
       " 'key2': {1, 2, 3, 4, 5, 6},\n",
       " 'key4': [1, 2, 3, 4, 2, 2],\n",
       " 'key3': 'now'}"
      ]
     },
     "execution_count": 108,
     "metadata": {},
     "output_type": "execute_result"
    }
   ],
   "source": [
    "d4"
   ]
  },
  {
   "cell_type": "code",
   "execution_count": 109,
   "id": "54f3830d",
   "metadata": {},
   "outputs": [],
   "source": [
    "del d4"
   ]
  },
  {
   "cell_type": "code",
   "execution_count": 110,
   "id": "edb4ae07",
   "metadata": {},
   "outputs": [
    {
     "ename": "NameError",
     "evalue": "name 'd4' is not defined",
     "output_type": "error",
     "traceback": [
      "\u001b[1;31m---------------------------------------------------------------------------\u001b[0m",
      "\u001b[1;31mNameError\u001b[0m                                 Traceback (most recent call last)",
      "Input \u001b[1;32mIn [110]\u001b[0m, in \u001b[0;36m<cell line: 1>\u001b[1;34m()\u001b[0m\n\u001b[1;32m----> 1\u001b[0m \u001b[43md4\u001b[49m\n",
      "\u001b[1;31mNameError\u001b[0m: name 'd4' is not defined"
     ]
    }
   ],
   "source": [
    "d4"
   ]
  },
  {
   "cell_type": "markdown",
   "id": "20d6688e",
   "metadata": {},
   "source": [
    "Tuples can be used as keys but not lists"
   ]
  },
  {
   "cell_type": "code",
   "execution_count": 113,
   "id": "3cc6df12",
   "metadata": {},
   "outputs": [],
   "source": [
    "d1 = {'Key1': {4, 5, 67, 7, 'sfd', 'sfds'}, 'key3': 'now'}"
   ]
  },
  {
   "cell_type": "code",
   "execution_count": 114,
   "id": "9c06af3f",
   "metadata": {},
   "outputs": [],
   "source": [
    "d1[1,2,3] =[1,2,3,4,5]"
   ]
  },
  {
   "cell_type": "code",
   "execution_count": 115,
   "id": "b82ee56f",
   "metadata": {},
   "outputs": [
    {
     "data": {
      "text/plain": [
       "{'Key1': {4, 5, 67, 7, 'sfd', 'sfds'},\n",
       " 'key3': 'now',\n",
       " (1, 2, 3): [1, 2, 3, 4, 5]}"
      ]
     },
     "execution_count": 115,
     "metadata": {},
     "output_type": "execute_result"
    }
   ],
   "source": [
    "d1"
   ]
  },
  {
   "cell_type": "code",
   "execution_count": 116,
   "id": "369c1324",
   "metadata": {},
   "outputs": [
    {
     "ename": "SyntaxError",
     "evalue": "cannot assign to function call (1989018999.py, line 1)",
     "output_type": "error",
     "traceback": [
      "\u001b[1;36m  Input \u001b[1;32mIn [116]\u001b[1;36m\u001b[0m\n\u001b[1;33m    d1(1,2,3,3) = [1,2,3]\u001b[0m\n\u001b[1;37m    ^\u001b[0m\n\u001b[1;31mSyntaxError\u001b[0m\u001b[1;31m:\u001b[0m cannot assign to function call\n"
     ]
    }
   ],
   "source": [
    "d1(1,2,3,3) = [1,2,3]"
   ]
  },
  {
   "cell_type": "code",
   "execution_count": 117,
   "id": "28ee75dc",
   "metadata": {},
   "outputs": [],
   "source": [
    "d1[(1,2,3,4)]= [1,2,3,3]"
   ]
  },
  {
   "cell_type": "code",
   "execution_count": 118,
   "id": "53b22d79",
   "metadata": {},
   "outputs": [
    {
     "data": {
      "text/plain": [
       "{'Key1': {4, 5, 67, 7, 'sfd', 'sfds'},\n",
       " 'key3': 'now',\n",
       " (1, 2, 3): [1, 2, 3, 4, 5],\n",
       " (1, 2, 3, 4): [1, 2, 3, 3]}"
      ]
     },
     "execution_count": 118,
     "metadata": {},
     "output_type": "execute_result"
    }
   ],
   "source": [
    "d1"
   ]
  },
  {
   "cell_type": "code",
   "execution_count": 119,
   "id": "ef9fbaba",
   "metadata": {},
   "outputs": [],
   "source": [
    "d1.get(\"adjf\")"
   ]
  },
  {
   "cell_type": "code",
   "execution_count": 121,
   "id": "448f5d94",
   "metadata": {},
   "outputs": [
    {
     "data": {
      "text/plain": [
       "'now'"
      ]
     },
     "execution_count": 121,
     "metadata": {},
     "output_type": "execute_result"
    }
   ],
   "source": [
    "d1.get(\"key3\")"
   ]
  },
  {
   "cell_type": "code",
   "execution_count": 122,
   "id": "f30c5736",
   "metadata": {},
   "outputs": [],
   "source": [
    "d2 = {\"key1\": [1,3,4,4], \"key7\": 123}"
   ]
  },
  {
   "cell_type": "code",
   "execution_count": 123,
   "id": "9229e923",
   "metadata": {},
   "outputs": [],
   "source": [
    "d1.update(d2)"
   ]
  },
  {
   "cell_type": "code",
   "execution_count": 124,
   "id": "72694a47",
   "metadata": {},
   "outputs": [
    {
     "data": {
      "text/plain": [
       "{'Key1': {4, 5, 67, 7, 'sfd', 'sfds'},\n",
       " 'key3': 'now',\n",
       " (1, 2, 3): [1, 2, 3, 4, 5],\n",
       " (1, 2, 3, 4): [1, 2, 3, 3],\n",
       " 'key1': [1, 3, 4, 4],\n",
       " 'key7': 123}"
      ]
     },
     "execution_count": 124,
     "metadata": {},
     "output_type": "execute_result"
    }
   ],
   "source": [
    "d1"
   ]
  },
  {
   "cell_type": "code",
   "execution_count": 125,
   "id": "02529c90",
   "metadata": {},
   "outputs": [
    {
     "ename": "TypeError",
     "evalue": "unsupported operand type(s) for +: 'dict' and 'dict'",
     "output_type": "error",
     "traceback": [
      "\u001b[1;31m---------------------------------------------------------------------------\u001b[0m",
      "\u001b[1;31mTypeError\u001b[0m                                 Traceback (most recent call last)",
      "Input \u001b[1;32mIn [125]\u001b[0m, in \u001b[0;36m<cell line: 1>\u001b[1;34m()\u001b[0m\n\u001b[1;32m----> 1\u001b[0m \u001b[43md1\u001b[49m\u001b[38;5;241;43m+\u001b[39;49m\u001b[43md2\u001b[49m\n",
      "\u001b[1;31mTypeError\u001b[0m: unsupported operand type(s) for +: 'dict' and 'dict'"
     ]
    }
   ],
   "source": [
    "d1+d2"
   ]
  },
  {
   "cell_type": "code",
   "execution_count": 127,
   "id": "9d2a5ad2",
   "metadata": {},
   "outputs": [],
   "source": [
    "key= (\"name\",\"here\",123)\n",
    "vale= \"same\"\n",
    "here= 1234"
   ]
  },
  {
   "cell_type": "code",
   "execution_count": 136,
   "id": "a837a69e",
   "metadata": {},
   "outputs": [],
   "source": [
    "d= d.fromkeys(key,vale)"
   ]
  },
  {
   "cell_type": "code",
   "execution_count": 137,
   "id": "277674f0",
   "metadata": {},
   "outputs": [
    {
     "data": {
      "text/plain": [
       "{'name': 'same', 'here': 'same', 123: 'same'}"
      ]
     },
     "execution_count": 137,
     "metadata": {},
     "output_type": "execute_result"
    }
   ],
   "source": [
    "d"
   ]
  },
  {
   "cell_type": "code",
   "execution_count": null,
   "id": "bee9d4a7",
   "metadata": {},
   "outputs": [],
   "source": []
  }
 ],
 "metadata": {
  "kernelspec": {
   "display_name": "Python 3 (ipykernel)",
   "language": "python",
   "name": "python3"
  },
  "language_info": {
   "codemirror_mode": {
    "name": "ipython",
    "version": 3
   },
   "file_extension": ".py",
   "mimetype": "text/x-python",
   "name": "python",
   "nbconvert_exporter": "python",
   "pygments_lexer": "ipython3",
   "version": "3.9.12"
  }
 },
 "nbformat": 4,
 "nbformat_minor": 5
}
